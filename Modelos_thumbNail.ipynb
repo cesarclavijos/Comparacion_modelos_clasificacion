{
 "cells": [
  {
   "cell_type": "markdown",
   "id": "3d654488",
   "metadata": {},
   "source": [
    "# Importe librerias "
   ]
  },
  {
   "cell_type": "code",
   "execution_count": 1,
   "id": "978b5630",
   "metadata": {},
   "outputs": [],
   "source": [
    "import pandas as pd\n",
    "import numpy as np\n",
    "import matplotlib.pyplot as plt\n",
    "import seaborn as sns\n",
    "import warnings\n",
    "from sklearn.model_selection import train_test_split\n",
    "from sklearn.model_selection import cross_val_predict\n",
    "from sklearn.metrics import accuracy_score, classification_report, confusion_matrix\n",
    "from sklearn.metrics import recall_score\n",
    "from seaborn import heatmap\n",
    "from sklearn.model_selection import GridSearchCV \n",
    "from sklearn.tree import DecisionTreeClassifier\n",
    "from sklearn.decomposition import PCA\n",
    "from sklearn.preprocessing import StandardScaler\n",
    "warnings.filterwarnings('ignore')\n",
    "%matplotlib inline"
   ]
  },
  {
   "cell_type": "markdown",
   "id": "44ac5087",
   "metadata": {},
   "source": [
    "# Funciones "
   ]
  },
  {
   "cell_type": "markdown",
   "id": "2c46cd7b",
   "metadata": {},
   "source": [
    "## Entrenamiento"
   ]
  },
  {
   "cell_type": "code",
   "execution_count": 2,
   "id": "6147489c",
   "metadata": {},
   "outputs": [],
   "source": [
    "def entrenamiento_and_report_simple(data_entrenamiento,objetivo,cv,modelo):\n",
    "    predict_list = cross_val_predict(modelo,data_entrenamiento,objetivo, cv=cv)\n",
    "    confution = confusion_matrix( y.tolist(),  predict_list.tolist())\n",
    "    matriz_confusion = confusion_matrix(predict_list, objetivo)\n",
    "    heatmap(matriz_confusion, annot=True, fmt=\"g\",cmap=\"YlGnBu\", yticklabels=[\"Healthy\", \"Diabetes tipo 2\"] ,xticklabels=[\"Healthy\", \"Diabetes tipo 2\"])\n",
    "    plt.title(\"Confusion matrix\")\n",
    "    plt.xlabel(\"Predicted\")\n",
    "    plt.ylabel(\"Expected\")\n",
    "    plt.figure()\n",
    "    print(f\"Classification report:\\n{classification_report(predict_list, objetivo)}\")"
   ]
  },
  {
   "cell_type": "code",
   "execution_count": 3,
   "id": "db3b1ffe",
   "metadata": {},
   "outputs": [],
   "source": [
    "def entrenamiento_and_report_red_neuronal(data_entrenamiento,objetivo,cv,modelo):\n",
    "    predict_list = cross_val_predict(modelo,data_entrenamiento,objetivo, cv=cv)\n",
    "    confution = confusion_matrix( y.tolist(),  predict_list.tolist())\n",
    "    matriz_confusion = confusion_matrix(predict_list, objetivo)\n",
    "    heatmap(matriz_confusion, annot=True, fmt=\"g\",cmap=\"YlGnBu\", yticklabels=[\"Healthy\", \"Diabetes tipo 2\"] ,xticklabels=[\"Healthy\", \"Diabetes tipo 2\"])\n",
    "    plt.title(\"Confusion matrix\")\n",
    "    plt.xlabel(\"Predicted\")\n",
    "    plt.ylabel(\"Expected\")\n",
    "    plt.figure()\n",
    "    print(f\"Classification report:\\n{classification_report(predict_list, objetivo)}\")"
   ]
  },
  {
   "cell_type": "markdown",
   "id": "2c4432de",
   "metadata": {},
   "source": [
    "## Optimizacion de parametros"
   ]
  },
  {
   "cell_type": "code",
   "execution_count": 4,
   "id": "40ca35a9",
   "metadata": {},
   "outputs": [],
   "source": [
    "def Optimizacion_parametros(param_grid,Modelo,data_entrenamiento,objetivo,cv):\n",
    "    grid_search = GridSearchCV(Modelo, param_grid, cv=cv,\n",
    "                           scoring='precision', \n",
    "                           return_train_score=True)\n",
    "    grid_search.fit(data_entrenamiento, objetivo)\n",
    "    a = pd.DataFrame(grid_search.cv_results_['params'])\n",
    "    a = pd.DataFrame(grid_search.cv_results_['params'])\n",
    "    a['mean_train_score'] = grid_search.cv_results_['mean_train_score']\n",
    "    a['mean_test_score'] = grid_search.cv_results_['mean_test_score']\n",
    "    a['std_train_score'] = grid_search.cv_results_['std_train_score']\n",
    "    a['std_test_score'] = grid_search.cv_results_['std_test_score']\n",
    "    print('Mejor resultado' +''+ str(grid_search.best_score_)  )     \n",
    "    print('Mejor parametro' +''+ str(grid_search.best_estimator_)) \n",
    "    minv = grid_search.best_score_\n",
    "    return a, a[(a.mean_test_score == minv)],grid_search.best_estimator_,grid_search.best_score_\n",
    "\n"
   ]
  },
  {
   "cell_type": "markdown",
   "id": "63ac5260",
   "metadata": {},
   "source": [
    "# Funcion PCA"
   ]
  },
  {
   "cell_type": "code",
   "execution_count": 5,
   "id": "786b1779",
   "metadata": {},
   "outputs": [],
   "source": [
    "def PCA_conversion(datos,Numero_parametros, nombre_variable):\n",
    "    scaler=StandardScaler()#normalizamos los datos\n",
    "    scaler.fit(datos) # calculo la media para poder hacer la transformacion\n",
    "    X_scaled=scaler.transform(datos)# Ahora si, escalo los datos y los normalizo\n",
    "    pca=PCA(n_components=Numero_parametros) # Otra opción es instanciar pca sólo con dimensiones nuevas hasta obtener un mínimo \"explicado\" ej.: pca=PCA(.85)\n",
    "    pca.fit(X_scaled) # obtener los componentes principales\n",
    "    ear2_pca=pca.transform(X_scaled) # convertimos nuestros datos con las nuevas dimensiones de PC\n",
    "    \n",
    "    print(\"shape of X_pca\", ear2_pca.shape)\n",
    "    expl = pca.explained_variance_ratio_\n",
    "    print(expl)\n",
    "    print('suma:',sum(expl[0:5]))\n",
    "    print(\"shape of X_pca\", ear2_pca.shape)\n",
    "    expl = pca.explained_variance_ratio_\n",
    "    print(expl)\n",
    "    \n",
    "    print('suma:',sum(expl[0:1000]))\n",
    "    plt.plot(np.cumsum(pca.explained_variance_ratio_))\n",
    "    plt.xlabel('number of components')\n",
    "    plt.ylabel('cumulative explained variance')\n",
    "    plt.show()\n",
    "    \n",
    "    \n",
    "    x = range(1, Numero_parametros + 1)\n",
    "    new_columns = []\n",
    "    for n in x:\n",
    "        name = 'nombre_variable' +  str(n)\n",
    "        new_columns.append(name)\n",
    "\n",
    "    bm = pd.DataFrame(data = ear2_pca, columns = new_columns)\n",
    "    bm.index = np.arange(1,len(bm)+1)\n",
    "    return bm"
   ]
  },
  {
   "cell_type": "markdown",
   "id": "b98b9906",
   "metadata": {},
   "source": [
    "## Carga de datos"
   ]
  },
  {
   "cell_type": "code",
   "execution_count": 6,
   "id": "f42a1b3b",
   "metadata": {},
   "outputs": [],
   "source": [
    "path_dataset = 'archive/thumbNail.csv'\n",
    "ear = pd.read_csv(path_dataset)\n",
    "ear = ear.iloc[1:]\n",
    "y = ear['has_DM2']\n",
    "path_dataset = 'archive/thumbNailData.csv'\n",
    "ear2 = pd.read_csv(path_dataset)\n",
    "ear2= (ear2.T.reset_index().T.reset_index(drop=True)\n",
    "            .set_axis([f'Q1.{i+1}' for i in range(ear2.shape[1])], axis=1))\n",
    "ear2= ear2.apply(pd.to_numeric, errors='coerce')"
   ]
  },
  {
   "cell_type": "code",
   "execution_count": 7,
   "id": "35eb8ea7",
   "metadata": {},
   "outputs": [
    {
     "data": {
      "text/html": [
       "<div>\n",
       "<style scoped>\n",
       "    .dataframe tbody tr th:only-of-type {\n",
       "        vertical-align: middle;\n",
       "    }\n",
       "\n",
       "    .dataframe tbody tr th {\n",
       "        vertical-align: top;\n",
       "    }\n",
       "\n",
       "    .dataframe thead th {\n",
       "        text-align: right;\n",
       "    }\n",
       "</style>\n",
       "<table border=\"1\" class=\"dataframe\">\n",
       "  <thead>\n",
       "    <tr style=\"text-align: right;\">\n",
       "      <th></th>\n",
       "      <th>Q1.1</th>\n",
       "      <th>Q1.2</th>\n",
       "      <th>Q1.3</th>\n",
       "      <th>Q1.4</th>\n",
       "      <th>Q1.5</th>\n",
       "      <th>Q1.6</th>\n",
       "      <th>Q1.7</th>\n",
       "      <th>Q1.8</th>\n",
       "      <th>Q1.9</th>\n",
       "      <th>Q1.10</th>\n",
       "      <th>...</th>\n",
       "      <th>Q1.992</th>\n",
       "      <th>Q1.993</th>\n",
       "      <th>Q1.994</th>\n",
       "      <th>Q1.995</th>\n",
       "      <th>Q1.996</th>\n",
       "      <th>Q1.997</th>\n",
       "      <th>Q1.998</th>\n",
       "      <th>Q1.999</th>\n",
       "      <th>Q1.1000</th>\n",
       "      <th>Q1.1001</th>\n",
       "    </tr>\n",
       "  </thead>\n",
       "  <tbody>\n",
       "    <tr>\n",
       "      <th>0</th>\n",
       "      <td>1.677736</td>\n",
       "      <td>1.669674</td>\n",
       "      <td>1.606302</td>\n",
       "      <td>1.496170</td>\n",
       "      <td>1.463465</td>\n",
       "      <td>1.614183</td>\n",
       "      <td>1.735656</td>\n",
       "      <td>1.606203</td>\n",
       "      <td>1.468621</td>\n",
       "      <td>1.533758</td>\n",
       "      <td>...</td>\n",
       "      <td>1.605564</td>\n",
       "      <td>1.645869</td>\n",
       "      <td>1.541921</td>\n",
       "      <td>1.197973</td>\n",
       "      <td>0.937006</td>\n",
       "      <td>0.932809</td>\n",
       "      <td>1.227277</td>\n",
       "      <td>1.563040</td>\n",
       "      <td>1.642934</td>\n",
       "      <td>1.652746</td>\n",
       "    </tr>\n",
       "    <tr>\n",
       "      <th>1</th>\n",
       "      <td>0.235689</td>\n",
       "      <td>0.240345</td>\n",
       "      <td>0.292589</td>\n",
       "      <td>0.386042</td>\n",
       "      <td>0.436600</td>\n",
       "      <td>0.389936</td>\n",
       "      <td>0.338474</td>\n",
       "      <td>0.325031</td>\n",
       "      <td>0.309292</td>\n",
       "      <td>0.287488</td>\n",
       "      <td>...</td>\n",
       "      <td>0.161836</td>\n",
       "      <td>0.016110</td>\n",
       "      <td>-0.011179</td>\n",
       "      <td>0.203094</td>\n",
       "      <td>0.413085</td>\n",
       "      <td>0.608225</td>\n",
       "      <td>0.504505</td>\n",
       "      <td>0.278435</td>\n",
       "      <td>0.374016</td>\n",
       "      <td>0.393350</td>\n",
       "    </tr>\n",
       "    <tr>\n",
       "      <th>2</th>\n",
       "      <td>0.168231</td>\n",
       "      <td>0.114523</td>\n",
       "      <td>0.113897</td>\n",
       "      <td>0.157141</td>\n",
       "      <td>0.178047</td>\n",
       "      <td>0.147686</td>\n",
       "      <td>0.117067</td>\n",
       "      <td>0.130889</td>\n",
       "      <td>0.142806</td>\n",
       "      <td>0.132925</td>\n",
       "      <td>...</td>\n",
       "      <td>0.459647</td>\n",
       "      <td>0.379738</td>\n",
       "      <td>0.126242</td>\n",
       "      <td>0.080256</td>\n",
       "      <td>0.101409</td>\n",
       "      <td>0.265919</td>\n",
       "      <td>0.427977</td>\n",
       "      <td>0.528234</td>\n",
       "      <td>0.102636</td>\n",
       "      <td>-0.061460</td>\n",
       "    </tr>\n",
       "    <tr>\n",
       "      <th>3</th>\n",
       "      <td>-0.704767</td>\n",
       "      <td>-0.762771</td>\n",
       "      <td>-0.778928</td>\n",
       "      <td>-0.761571</td>\n",
       "      <td>-0.750068</td>\n",
       "      <td>-0.751793</td>\n",
       "      <td>-0.743217</td>\n",
       "      <td>-0.716970</td>\n",
       "      <td>-0.685486</td>\n",
       "      <td>-0.677061</td>\n",
       "      <td>...</td>\n",
       "      <td>-0.347216</td>\n",
       "      <td>-0.267086</td>\n",
       "      <td>-0.316296</td>\n",
       "      <td>-0.331078</td>\n",
       "      <td>-0.269639</td>\n",
       "      <td>-0.016180</td>\n",
       "      <td>-0.121840</td>\n",
       "      <td>-0.362882</td>\n",
       "      <td>-0.220088</td>\n",
       "      <td>-0.169237</td>\n",
       "    </tr>\n",
       "    <tr>\n",
       "      <th>4</th>\n",
       "      <td>-0.338623</td>\n",
       "      <td>-0.359667</td>\n",
       "      <td>-0.363924</td>\n",
       "      <td>-0.354695</td>\n",
       "      <td>-0.351301</td>\n",
       "      <td>-0.361765</td>\n",
       "      <td>-0.369353</td>\n",
       "      <td>-0.385928</td>\n",
       "      <td>-0.398118</td>\n",
       "      <td>-0.392057</td>\n",
       "      <td>...</td>\n",
       "      <td>-0.218462</td>\n",
       "      <td>-0.251049</td>\n",
       "      <td>-0.085131</td>\n",
       "      <td>-0.007146</td>\n",
       "      <td>0.031783</td>\n",
       "      <td>-0.009119</td>\n",
       "      <td>-0.027721</td>\n",
       "      <td>-0.033101</td>\n",
       "      <td>-0.132912</td>\n",
       "      <td>-0.079910</td>\n",
       "    </tr>\n",
       "    <tr>\n",
       "      <th>5</th>\n",
       "      <td>-1.171388</td>\n",
       "      <td>-1.292579</td>\n",
       "      <td>-1.385461</td>\n",
       "      <td>-1.458947</td>\n",
       "      <td>-1.448328</td>\n",
       "      <td>-1.235063</td>\n",
       "      <td>-1.026185</td>\n",
       "      <td>-1.235088</td>\n",
       "      <td>-1.422003</td>\n",
       "      <td>-1.379832</td>\n",
       "      <td>...</td>\n",
       "      <td>-1.851578</td>\n",
       "      <td>-1.818759</td>\n",
       "      <td>-1.620034</td>\n",
       "      <td>-1.915608</td>\n",
       "      <td>-1.983379</td>\n",
       "      <td>-1.438491</td>\n",
       "      <td>-1.546496</td>\n",
       "      <td>-1.896045</td>\n",
       "      <td>-1.750341</td>\n",
       "      <td>-1.664888</td>\n",
       "    </tr>\n",
       "    <tr>\n",
       "      <th>6</th>\n",
       "      <td>-0.668255</td>\n",
       "      <td>-0.685612</td>\n",
       "      <td>-0.659782</td>\n",
       "      <td>-0.597857</td>\n",
       "      <td>-0.569529</td>\n",
       "      <td>-0.619162</td>\n",
       "      <td>-0.659048</td>\n",
       "      <td>-0.627802</td>\n",
       "      <td>-0.592392</td>\n",
       "      <td>-0.603603</td>\n",
       "      <td>...</td>\n",
       "      <td>-0.775673</td>\n",
       "      <td>-0.821618</td>\n",
       "      <td>-0.786735</td>\n",
       "      <td>-0.434924</td>\n",
       "      <td>-0.285694</td>\n",
       "      <td>-0.713130</td>\n",
       "      <td>-0.682220</td>\n",
       "      <td>-0.434849</td>\n",
       "      <td>-0.639346</td>\n",
       "      <td>-0.696834</td>\n",
       "    </tr>\n",
       "    <tr>\n",
       "      <th>7</th>\n",
       "      <td>-1.216443</td>\n",
       "      <td>-1.108641</td>\n",
       "      <td>-1.079212</td>\n",
       "      <td>-1.114174</td>\n",
       "      <td>-1.153317</td>\n",
       "      <td>-1.207615</td>\n",
       "      <td>-1.244404</td>\n",
       "      <td>-1.197124</td>\n",
       "      <td>-1.141274</td>\n",
       "      <td>-1.145944</td>\n",
       "      <td>...</td>\n",
       "      <td>-0.957545</td>\n",
       "      <td>-0.831606</td>\n",
       "      <td>-1.027120</td>\n",
       "      <td>-1.007134</td>\n",
       "      <td>-1.029398</td>\n",
       "      <td>-1.237292</td>\n",
       "      <td>-1.203088</td>\n",
       "      <td>-1.032953</td>\n",
       "      <td>-0.824892</td>\n",
       "      <td>-0.735110</td>\n",
       "    </tr>\n",
       "    <tr>\n",
       "      <th>8</th>\n",
       "      <td>-0.789861</td>\n",
       "      <td>-0.643684</td>\n",
       "      <td>-0.577171</td>\n",
       "      <td>-0.574563</td>\n",
       "      <td>-0.592840</td>\n",
       "      <td>-0.663770</td>\n",
       "      <td>-0.718660</td>\n",
       "      <td>-0.613208</td>\n",
       "      <td>-0.507510</td>\n",
       "      <td>-0.553606</td>\n",
       "      <td>...</td>\n",
       "      <td>-0.295628</td>\n",
       "      <td>-0.362499</td>\n",
       "      <td>-0.509178</td>\n",
       "      <td>-0.591534</td>\n",
       "      <td>-0.695087</td>\n",
       "      <td>-0.901480</td>\n",
       "      <td>-0.737247</td>\n",
       "      <td>-0.427174</td>\n",
       "      <td>-0.519488</td>\n",
       "      <td>-0.617319</td>\n",
       "    </tr>\n",
       "    <tr>\n",
       "      <th>9</th>\n",
       "      <td>0.159050</td>\n",
       "      <td>0.136424</td>\n",
       "      <td>0.138859</td>\n",
       "      <td>0.162151</td>\n",
       "      <td>0.163463</td>\n",
       "      <td>0.112148</td>\n",
       "      <td>0.062059</td>\n",
       "      <td>0.087291</td>\n",
       "      <td>0.110434</td>\n",
       "      <td>0.140871</td>\n",
       "      <td>...</td>\n",
       "      <td>0.090557</td>\n",
       "      <td>0.061886</td>\n",
       "      <td>-0.065913</td>\n",
       "      <td>0.098013</td>\n",
       "      <td>0.255765</td>\n",
       "      <td>0.372738</td>\n",
       "      <td>0.330697</td>\n",
       "      <td>0.217208</td>\n",
       "      <td>0.200165</td>\n",
       "      <td>0.151868</td>\n",
       "    </tr>\n",
       "    <tr>\n",
       "      <th>10</th>\n",
       "      <td>0.327552</td>\n",
       "      <td>0.438573</td>\n",
       "      <td>0.510950</td>\n",
       "      <td>0.554165</td>\n",
       "      <td>0.535552</td>\n",
       "      <td>0.366439</td>\n",
       "      <td>0.204491</td>\n",
       "      <td>0.328876</td>\n",
       "      <td>0.443898</td>\n",
       "      <td>0.412735</td>\n",
       "      <td>...</td>\n",
       "      <td>0.632202</td>\n",
       "      <td>0.584378</td>\n",
       "      <td>0.498466</td>\n",
       "      <td>0.393061</td>\n",
       "      <td>0.403309</td>\n",
       "      <td>0.733352</td>\n",
       "      <td>0.875375</td>\n",
       "      <td>0.869180</td>\n",
       "      <td>0.647167</td>\n",
       "      <td>0.502550</td>\n",
       "    </tr>\n",
       "    <tr>\n",
       "      <th>11</th>\n",
       "      <td>6.388709</td>\n",
       "      <td>6.309721</td>\n",
       "      <td>6.225705</td>\n",
       "      <td>6.136241</td>\n",
       "      <td>6.125910</td>\n",
       "      <td>6.306121</td>\n",
       "      <td>6.452575</td>\n",
       "      <td>6.393578</td>\n",
       "      <td>6.314133</td>\n",
       "      <td>6.353770</td>\n",
       "      <td>...</td>\n",
       "      <td>5.698162</td>\n",
       "      <td>5.909051</td>\n",
       "      <td>6.278554</td>\n",
       "      <td>6.032821</td>\n",
       "      <td>5.868689</td>\n",
       "      <td>6.074021</td>\n",
       "      <td>5.853247</td>\n",
       "      <td>5.459850</td>\n",
       "      <td>6.055022</td>\n",
       "      <td>6.284482</td>\n",
       "    </tr>\n",
       "    <tr>\n",
       "      <th>12</th>\n",
       "      <td>3.886560</td>\n",
       "      <td>3.930108</td>\n",
       "      <td>3.955773</td>\n",
       "      <td>3.967607</td>\n",
       "      <td>3.946010</td>\n",
       "      <td>3.841623</td>\n",
       "      <td>3.741109</td>\n",
       "      <td>3.777914</td>\n",
       "      <td>3.813378</td>\n",
       "      <td>3.833531</td>\n",
       "      <td>...</td>\n",
       "      <td>3.856471</td>\n",
       "      <td>3.900804</td>\n",
       "      <td>3.857015</td>\n",
       "      <td>4.035134</td>\n",
       "      <td>4.104604</td>\n",
       "      <td>3.867459</td>\n",
       "      <td>3.795764</td>\n",
       "      <td>3.823207</td>\n",
       "      <td>3.933091</td>\n",
       "      <td>3.980409</td>\n",
       "    </tr>\n",
       "    <tr>\n",
       "      <th>13</th>\n",
       "      <td>3.933159</td>\n",
       "      <td>3.950104</td>\n",
       "      <td>3.916530</td>\n",
       "      <td>3.840183</td>\n",
       "      <td>3.792320</td>\n",
       "      <td>3.807546</td>\n",
       "      <td>3.827276</td>\n",
       "      <td>3.885393</td>\n",
       "      <td>3.940097</td>\n",
       "      <td>3.877875</td>\n",
       "      <td>...</td>\n",
       "      <td>3.880181</td>\n",
       "      <td>3.842249</td>\n",
       "      <td>3.711954</td>\n",
       "      <td>3.796890</td>\n",
       "      <td>3.855730</td>\n",
       "      <td>3.815341</td>\n",
       "      <td>3.831022</td>\n",
       "      <td>3.870545</td>\n",
       "      <td>3.927010</td>\n",
       "      <td>3.880024</td>\n",
       "    </tr>\n",
       "    <tr>\n",
       "      <th>14</th>\n",
       "      <td>3.273343</td>\n",
       "      <td>3.364490</td>\n",
       "      <td>3.369830</td>\n",
       "      <td>3.304222</td>\n",
       "      <td>3.257999</td>\n",
       "      <td>3.252847</td>\n",
       "      <td>3.260654</td>\n",
       "      <td>3.346669</td>\n",
       "      <td>3.432789</td>\n",
       "      <td>3.398883</td>\n",
       "      <td>...</td>\n",
       "      <td>3.412548</td>\n",
       "      <td>3.417411</td>\n",
       "      <td>3.669081</td>\n",
       "      <td>3.489835</td>\n",
       "      <td>3.356941</td>\n",
       "      <td>3.391204</td>\n",
       "      <td>3.237122</td>\n",
       "      <td>3.053378</td>\n",
       "      <td>3.326709</td>\n",
       "      <td>3.463236</td>\n",
       "    </tr>\n",
       "    <tr>\n",
       "      <th>15</th>\n",
       "      <td>2.301942</td>\n",
       "      <td>2.129341</td>\n",
       "      <td>2.026647</td>\n",
       "      <td>1.977092</td>\n",
       "      <td>2.003888</td>\n",
       "      <td>2.216276</td>\n",
       "      <td>2.425339</td>\n",
       "      <td>2.173627</td>\n",
       "      <td>1.950010</td>\n",
       "      <td>2.032861</td>\n",
       "      <td>...</td>\n",
       "      <td>1.661625</td>\n",
       "      <td>1.744570</td>\n",
       "      <td>2.098948</td>\n",
       "      <td>1.892506</td>\n",
       "      <td>1.804608</td>\n",
       "      <td>2.052103</td>\n",
       "      <td>1.948340</td>\n",
       "      <td>1.750019</td>\n",
       "      <td>1.873086</td>\n",
       "      <td>1.966913</td>\n",
       "    </tr>\n",
       "    <tr>\n",
       "      <th>16</th>\n",
       "      <td>3.595726</td>\n",
       "      <td>3.652150</td>\n",
       "      <td>3.735927</td>\n",
       "      <td>3.845015</td>\n",
       "      <td>3.889871</td>\n",
       "      <td>3.785310</td>\n",
       "      <td>3.690384</td>\n",
       "      <td>3.795753</td>\n",
       "      <td>3.896119</td>\n",
       "      <td>3.840307</td>\n",
       "      <td>...</td>\n",
       "      <td>3.646132</td>\n",
       "      <td>3.756102</td>\n",
       "      <td>3.761811</td>\n",
       "      <td>3.811787</td>\n",
       "      <td>3.791566</td>\n",
       "      <td>3.575913</td>\n",
       "      <td>3.652055</td>\n",
       "      <td>3.845174</td>\n",
       "      <td>3.665790</td>\n",
       "      <td>3.594768</td>\n",
       "    </tr>\n",
       "    <tr>\n",
       "      <th>17</th>\n",
       "      <td>3.718314</td>\n",
       "      <td>3.719208</td>\n",
       "      <td>3.709201</td>\n",
       "      <td>3.689783</td>\n",
       "      <td>3.667885</td>\n",
       "      <td>3.637449</td>\n",
       "      <td>3.614766</td>\n",
       "      <td>3.684283</td>\n",
       "      <td>3.751649</td>\n",
       "      <td>3.736804</td>\n",
       "      <td>...</td>\n",
       "      <td>4.205716</td>\n",
       "      <td>3.999811</td>\n",
       "      <td>3.565778</td>\n",
       "      <td>3.718594</td>\n",
       "      <td>3.683936</td>\n",
       "      <td>3.043148</td>\n",
       "      <td>3.130806</td>\n",
       "      <td>3.546287</td>\n",
       "      <td>3.287977</td>\n",
       "      <td>3.249236</td>\n",
       "    </tr>\n",
       "    <tr>\n",
       "      <th>18</th>\n",
       "      <td>4.927263</td>\n",
       "      <td>4.902241</td>\n",
       "      <td>4.904294</td>\n",
       "      <td>4.929440</td>\n",
       "      <td>4.957060</td>\n",
       "      <td>4.994411</td>\n",
       "      <td>5.016015</td>\n",
       "      <td>4.982383</td>\n",
       "      <td>4.939956</td>\n",
       "      <td>4.928923</td>\n",
       "      <td>...</td>\n",
       "      <td>4.977413</td>\n",
       "      <td>5.005725</td>\n",
       "      <td>5.262795</td>\n",
       "      <td>5.468326</td>\n",
       "      <td>5.506908</td>\n",
       "      <td>5.177650</td>\n",
       "      <td>4.954665</td>\n",
       "      <td>4.813279</td>\n",
       "      <td>4.808043</td>\n",
       "      <td>4.810769</td>\n",
       "    </tr>\n",
       "    <tr>\n",
       "      <th>19</th>\n",
       "      <td>4.824198</td>\n",
       "      <td>4.824189</td>\n",
       "      <td>4.866109</td>\n",
       "      <td>4.944689</td>\n",
       "      <td>4.975450</td>\n",
       "      <td>4.895329</td>\n",
       "      <td>4.803138</td>\n",
       "      <td>4.786366</td>\n",
       "      <td>4.761736</td>\n",
       "      <td>4.769504</td>\n",
       "      <td>...</td>\n",
       "      <td>4.686185</td>\n",
       "      <td>4.617049</td>\n",
       "      <td>4.577156</td>\n",
       "      <td>4.597269</td>\n",
       "      <td>4.675996</td>\n",
       "      <td>4.933947</td>\n",
       "      <td>5.077894</td>\n",
       "      <td>5.097304</td>\n",
       "      <td>4.771557</td>\n",
       "      <td>4.622541</td>\n",
       "    </tr>\n",
       "  </tbody>\n",
       "</table>\n",
       "<p>20 rows × 1001 columns</p>\n",
       "</div>"
      ],
      "text/plain": [
       "        Q1.1      Q1.2      Q1.3      Q1.4      Q1.5      Q1.6      Q1.7  \\\n",
       "0   1.677736  1.669674  1.606302  1.496170  1.463465  1.614183  1.735656   \n",
       "1   0.235689  0.240345  0.292589  0.386042  0.436600  0.389936  0.338474   \n",
       "2   0.168231  0.114523  0.113897  0.157141  0.178047  0.147686  0.117067   \n",
       "3  -0.704767 -0.762771 -0.778928 -0.761571 -0.750068 -0.751793 -0.743217   \n",
       "4  -0.338623 -0.359667 -0.363924 -0.354695 -0.351301 -0.361765 -0.369353   \n",
       "5  -1.171388 -1.292579 -1.385461 -1.458947 -1.448328 -1.235063 -1.026185   \n",
       "6  -0.668255 -0.685612 -0.659782 -0.597857 -0.569529 -0.619162 -0.659048   \n",
       "7  -1.216443 -1.108641 -1.079212 -1.114174 -1.153317 -1.207615 -1.244404   \n",
       "8  -0.789861 -0.643684 -0.577171 -0.574563 -0.592840 -0.663770 -0.718660   \n",
       "9   0.159050  0.136424  0.138859  0.162151  0.163463  0.112148  0.062059   \n",
       "10  0.327552  0.438573  0.510950  0.554165  0.535552  0.366439  0.204491   \n",
       "11  6.388709  6.309721  6.225705  6.136241  6.125910  6.306121  6.452575   \n",
       "12  3.886560  3.930108  3.955773  3.967607  3.946010  3.841623  3.741109   \n",
       "13  3.933159  3.950104  3.916530  3.840183  3.792320  3.807546  3.827276   \n",
       "14  3.273343  3.364490  3.369830  3.304222  3.257999  3.252847  3.260654   \n",
       "15  2.301942  2.129341  2.026647  1.977092  2.003888  2.216276  2.425339   \n",
       "16  3.595726  3.652150  3.735927  3.845015  3.889871  3.785310  3.690384   \n",
       "17  3.718314  3.719208  3.709201  3.689783  3.667885  3.637449  3.614766   \n",
       "18  4.927263  4.902241  4.904294  4.929440  4.957060  4.994411  5.016015   \n",
       "19  4.824198  4.824189  4.866109  4.944689  4.975450  4.895329  4.803138   \n",
       "\n",
       "        Q1.8      Q1.9     Q1.10  ...    Q1.992    Q1.993    Q1.994    Q1.995  \\\n",
       "0   1.606203  1.468621  1.533758  ...  1.605564  1.645869  1.541921  1.197973   \n",
       "1   0.325031  0.309292  0.287488  ...  0.161836  0.016110 -0.011179  0.203094   \n",
       "2   0.130889  0.142806  0.132925  ...  0.459647  0.379738  0.126242  0.080256   \n",
       "3  -0.716970 -0.685486 -0.677061  ... -0.347216 -0.267086 -0.316296 -0.331078   \n",
       "4  -0.385928 -0.398118 -0.392057  ... -0.218462 -0.251049 -0.085131 -0.007146   \n",
       "5  -1.235088 -1.422003 -1.379832  ... -1.851578 -1.818759 -1.620034 -1.915608   \n",
       "6  -0.627802 -0.592392 -0.603603  ... -0.775673 -0.821618 -0.786735 -0.434924   \n",
       "7  -1.197124 -1.141274 -1.145944  ... -0.957545 -0.831606 -1.027120 -1.007134   \n",
       "8  -0.613208 -0.507510 -0.553606  ... -0.295628 -0.362499 -0.509178 -0.591534   \n",
       "9   0.087291  0.110434  0.140871  ...  0.090557  0.061886 -0.065913  0.098013   \n",
       "10  0.328876  0.443898  0.412735  ...  0.632202  0.584378  0.498466  0.393061   \n",
       "11  6.393578  6.314133  6.353770  ...  5.698162  5.909051  6.278554  6.032821   \n",
       "12  3.777914  3.813378  3.833531  ...  3.856471  3.900804  3.857015  4.035134   \n",
       "13  3.885393  3.940097  3.877875  ...  3.880181  3.842249  3.711954  3.796890   \n",
       "14  3.346669  3.432789  3.398883  ...  3.412548  3.417411  3.669081  3.489835   \n",
       "15  2.173627  1.950010  2.032861  ...  1.661625  1.744570  2.098948  1.892506   \n",
       "16  3.795753  3.896119  3.840307  ...  3.646132  3.756102  3.761811  3.811787   \n",
       "17  3.684283  3.751649  3.736804  ...  4.205716  3.999811  3.565778  3.718594   \n",
       "18  4.982383  4.939956  4.928923  ...  4.977413  5.005725  5.262795  5.468326   \n",
       "19  4.786366  4.761736  4.769504  ...  4.686185  4.617049  4.577156  4.597269   \n",
       "\n",
       "      Q1.996    Q1.997    Q1.998    Q1.999   Q1.1000   Q1.1001  \n",
       "0   0.937006  0.932809  1.227277  1.563040  1.642934  1.652746  \n",
       "1   0.413085  0.608225  0.504505  0.278435  0.374016  0.393350  \n",
       "2   0.101409  0.265919  0.427977  0.528234  0.102636 -0.061460  \n",
       "3  -0.269639 -0.016180 -0.121840 -0.362882 -0.220088 -0.169237  \n",
       "4   0.031783 -0.009119 -0.027721 -0.033101 -0.132912 -0.079910  \n",
       "5  -1.983379 -1.438491 -1.546496 -1.896045 -1.750341 -1.664888  \n",
       "6  -0.285694 -0.713130 -0.682220 -0.434849 -0.639346 -0.696834  \n",
       "7  -1.029398 -1.237292 -1.203088 -1.032953 -0.824892 -0.735110  \n",
       "8  -0.695087 -0.901480 -0.737247 -0.427174 -0.519488 -0.617319  \n",
       "9   0.255765  0.372738  0.330697  0.217208  0.200165  0.151868  \n",
       "10  0.403309  0.733352  0.875375  0.869180  0.647167  0.502550  \n",
       "11  5.868689  6.074021  5.853247  5.459850  6.055022  6.284482  \n",
       "12  4.104604  3.867459  3.795764  3.823207  3.933091  3.980409  \n",
       "13  3.855730  3.815341  3.831022  3.870545  3.927010  3.880024  \n",
       "14  3.356941  3.391204  3.237122  3.053378  3.326709  3.463236  \n",
       "15  1.804608  2.052103  1.948340  1.750019  1.873086  1.966913  \n",
       "16  3.791566  3.575913  3.652055  3.845174  3.665790  3.594768  \n",
       "17  3.683936  3.043148  3.130806  3.546287  3.287977  3.249236  \n",
       "18  5.506908  5.177650  4.954665  4.813279  4.808043  4.810769  \n",
       "19  4.675996  4.933947  5.077894  5.097304  4.771557  4.622541  \n",
       "\n",
       "[20 rows x 1001 columns]"
      ]
     },
     "execution_count": 7,
     "metadata": {},
     "output_type": "execute_result"
    }
   ],
   "source": [
    "ear2"
   ]
  },
  {
   "cell_type": "markdown",
   "id": "d231f3b9",
   "metadata": {},
   "source": [
    "# Optimizacion de modelo"
   ]
  },
  {
   "cell_type": "markdown",
   "id": "13c92c00",
   "metadata": {},
   "source": [
    "## XGBClassifier"
   ]
  },
  {
   "cell_type": "code",
   "execution_count": 8,
   "id": "01439b72",
   "metadata": {},
   "outputs": [],
   "source": [
    "from xgboost import XGBClassifier"
   ]
  },
  {
   "cell_type": "code",
   "execution_count": 9,
   "id": "7c8c662b",
   "metadata": {},
   "outputs": [],
   "source": [
    "param_grid = {\n",
    " 'max_depth':range(3,10,2),\n",
    " 'min_child_weight':range(1,6,2)\n",
    "}"
   ]
  },
  {
   "cell_type": "code",
   "execution_count": 10,
   "id": "9e978991",
   "metadata": {},
   "outputs": [],
   "source": [
    "XGBClassifier = XGBClassifier(\n",
    " learning_rate =0.1,\n",
    " n_estimators=1000,\n",
    " max_depth=5,\n",
    " min_child_weight=1,\n",
    " gamma=0,\n",
    " subsample=0.8,\n",
    " colsample_bytree=0.8,\n",
    " objective= 'binary:logistic',\n",
    " nthread=4,\n",
    " scale_pos_weight=1,\n",
    " seed=27)"
   ]
  },
  {
   "cell_type": "code",
   "execution_count": 11,
   "id": "6ca0aee1",
   "metadata": {},
   "outputs": [
    {
     "name": "stdout",
     "output_type": "stream",
     "text": [
      "[21:24:46] WARNING: C:/Users/Administrator/workspace/xgboost-win64_release_1.4.0/src/learner.cc:1095: Starting in XGBoost 1.3.0, the default evaluation metric used with the objective 'binary:logistic' was changed from 'error' to 'logloss'. Explicitly set eval_metric if you'd like to restore the old behavior.\n",
      "[21:24:48] WARNING: C:/Users/Administrator/workspace/xgboost-win64_release_1.4.0/src/learner.cc:1095: Starting in XGBoost 1.3.0, the default evaluation metric used with the objective 'binary:logistic' was changed from 'error' to 'logloss'. Explicitly set eval_metric if you'd like to restore the old behavior.\n",
      "[21:24:50] WARNING: C:/Users/Administrator/workspace/xgboost-win64_release_1.4.0/src/learner.cc:1095: Starting in XGBoost 1.3.0, the default evaluation metric used with the objective 'binary:logistic' was changed from 'error' to 'logloss'. Explicitly set eval_metric if you'd like to restore the old behavior.\n",
      "[21:24:52] WARNING: C:/Users/Administrator/workspace/xgboost-win64_release_1.4.0/src/learner.cc:1095: Starting in XGBoost 1.3.0, the default evaluation metric used with the objective 'binary:logistic' was changed from 'error' to 'logloss'. Explicitly set eval_metric if you'd like to restore the old behavior.\n",
      "[21:24:54] WARNING: C:/Users/Administrator/workspace/xgboost-win64_release_1.4.0/src/learner.cc:1095: Starting in XGBoost 1.3.0, the default evaluation metric used with the objective 'binary:logistic' was changed from 'error' to 'logloss'. Explicitly set eval_metric if you'd like to restore the old behavior.\n",
      "[21:24:56] WARNING: C:/Users/Administrator/workspace/xgboost-win64_release_1.4.0/src/learner.cc:1095: Starting in XGBoost 1.3.0, the default evaluation metric used with the objective 'binary:logistic' was changed from 'error' to 'logloss'. Explicitly set eval_metric if you'd like to restore the old behavior.\n",
      "[21:24:58] WARNING: C:/Users/Administrator/workspace/xgboost-win64_release_1.4.0/src/learner.cc:1095: Starting in XGBoost 1.3.0, the default evaluation metric used with the objective 'binary:logistic' was changed from 'error' to 'logloss'. Explicitly set eval_metric if you'd like to restore the old behavior.\n",
      "[21:25:00] WARNING: C:/Users/Administrator/workspace/xgboost-win64_release_1.4.0/src/learner.cc:1095: Starting in XGBoost 1.3.0, the default evaluation metric used with the objective 'binary:logistic' was changed from 'error' to 'logloss'. Explicitly set eval_metric if you'd like to restore the old behavior.\n",
      "[21:25:02] WARNING: C:/Users/Administrator/workspace/xgboost-win64_release_1.4.0/src/learner.cc:1095: Starting in XGBoost 1.3.0, the default evaluation metric used with the objective 'binary:logistic' was changed from 'error' to 'logloss'. Explicitly set eval_metric if you'd like to restore the old behavior.\n",
      "[21:25:04] WARNING: C:/Users/Administrator/workspace/xgboost-win64_release_1.4.0/src/learner.cc:1095: Starting in XGBoost 1.3.0, the default evaluation metric used with the objective 'binary:logistic' was changed from 'error' to 'logloss'. Explicitly set eval_metric if you'd like to restore the old behavior.\n",
      "[21:25:06] WARNING: C:/Users/Administrator/workspace/xgboost-win64_release_1.4.0/src/learner.cc:1095: Starting in XGBoost 1.3.0, the default evaluation metric used with the objective 'binary:logistic' was changed from 'error' to 'logloss'. Explicitly set eval_metric if you'd like to restore the old behavior.\n",
      "[21:25:08] WARNING: C:/Users/Administrator/workspace/xgboost-win64_release_1.4.0/src/learner.cc:1095: Starting in XGBoost 1.3.0, the default evaluation metric used with the objective 'binary:logistic' was changed from 'error' to 'logloss'. Explicitly set eval_metric if you'd like to restore the old behavior.\n",
      "[21:25:10] WARNING: C:/Users/Administrator/workspace/xgboost-win64_release_1.4.0/src/learner.cc:1095: Starting in XGBoost 1.3.0, the default evaluation metric used with the objective 'binary:logistic' was changed from 'error' to 'logloss'. Explicitly set eval_metric if you'd like to restore the old behavior.\n",
      "[21:25:12] WARNING: C:/Users/Administrator/workspace/xgboost-win64_release_1.4.0/src/learner.cc:1095: Starting in XGBoost 1.3.0, the default evaluation metric used with the objective 'binary:logistic' was changed from 'error' to 'logloss'. Explicitly set eval_metric if you'd like to restore the old behavior.\n",
      "[21:25:14] WARNING: C:/Users/Administrator/workspace/xgboost-win64_release_1.4.0/src/learner.cc:1095: Starting in XGBoost 1.3.0, the default evaluation metric used with the objective 'binary:logistic' was changed from 'error' to 'logloss'. Explicitly set eval_metric if you'd like to restore the old behavior.\n",
      "[21:25:16] WARNING: C:/Users/Administrator/workspace/xgboost-win64_release_1.4.0/src/learner.cc:1095: Starting in XGBoost 1.3.0, the default evaluation metric used with the objective 'binary:logistic' was changed from 'error' to 'logloss'. Explicitly set eval_metric if you'd like to restore the old behavior.\n",
      "[21:25:18] WARNING: C:/Users/Administrator/workspace/xgboost-win64_release_1.4.0/src/learner.cc:1095: Starting in XGBoost 1.3.0, the default evaluation metric used with the objective 'binary:logistic' was changed from 'error' to 'logloss'. Explicitly set eval_metric if you'd like to restore the old behavior.\n",
      "[21:25:20] WARNING: C:/Users/Administrator/workspace/xgboost-win64_release_1.4.0/src/learner.cc:1095: Starting in XGBoost 1.3.0, the default evaluation metric used with the objective 'binary:logistic' was changed from 'error' to 'logloss'. Explicitly set eval_metric if you'd like to restore the old behavior.\n",
      "[21:25:22] WARNING: C:/Users/Administrator/workspace/xgboost-win64_release_1.4.0/src/learner.cc:1095: Starting in XGBoost 1.3.0, the default evaluation metric used with the objective 'binary:logistic' was changed from 'error' to 'logloss'. Explicitly set eval_metric if you'd like to restore the old behavior.\n",
      "[21:25:24] WARNING: C:/Users/Administrator/workspace/xgboost-win64_release_1.4.0/src/learner.cc:1095: Starting in XGBoost 1.3.0, the default evaluation metric used with the objective 'binary:logistic' was changed from 'error' to 'logloss'. Explicitly set eval_metric if you'd like to restore the old behavior.\n",
      "[21:25:26] WARNING: C:/Users/Administrator/workspace/xgboost-win64_release_1.4.0/src/learner.cc:1095: Starting in XGBoost 1.3.0, the default evaluation metric used with the objective 'binary:logistic' was changed from 'error' to 'logloss'. Explicitly set eval_metric if you'd like to restore the old behavior.\n",
      "[21:25:28] WARNING: C:/Users/Administrator/workspace/xgboost-win64_release_1.4.0/src/learner.cc:1095: Starting in XGBoost 1.3.0, the default evaluation metric used with the objective 'binary:logistic' was changed from 'error' to 'logloss'. Explicitly set eval_metric if you'd like to restore the old behavior.\n",
      "[21:25:30] WARNING: C:/Users/Administrator/workspace/xgboost-win64_release_1.4.0/src/learner.cc:1095: Starting in XGBoost 1.3.0, the default evaluation metric used with the objective 'binary:logistic' was changed from 'error' to 'logloss'. Explicitly set eval_metric if you'd like to restore the old behavior.\n",
      "[21:25:32] WARNING: C:/Users/Administrator/workspace/xgboost-win64_release_1.4.0/src/learner.cc:1095: Starting in XGBoost 1.3.0, the default evaluation metric used with the objective 'binary:logistic' was changed from 'error' to 'logloss'. Explicitly set eval_metric if you'd like to restore the old behavior.\n",
      "[21:25:34] WARNING: C:/Users/Administrator/workspace/xgboost-win64_release_1.4.0/src/learner.cc:1095: Starting in XGBoost 1.3.0, the default evaluation metric used with the objective 'binary:logistic' was changed from 'error' to 'logloss'. Explicitly set eval_metric if you'd like to restore the old behavior.\n",
      "[21:25:36] WARNING: C:/Users/Administrator/workspace/xgboost-win64_release_1.4.0/src/learner.cc:1095: Starting in XGBoost 1.3.0, the default evaluation metric used with the objective 'binary:logistic' was changed from 'error' to 'logloss'. Explicitly set eval_metric if you'd like to restore the old behavior.\n",
      "[21:25:38] WARNING: C:/Users/Administrator/workspace/xgboost-win64_release_1.4.0/src/learner.cc:1095: Starting in XGBoost 1.3.0, the default evaluation metric used with the objective 'binary:logistic' was changed from 'error' to 'logloss'. Explicitly set eval_metric if you'd like to restore the old behavior.\n",
      "[21:25:40] WARNING: C:/Users/Administrator/workspace/xgboost-win64_release_1.4.0/src/learner.cc:1095: Starting in XGBoost 1.3.0, the default evaluation metric used with the objective 'binary:logistic' was changed from 'error' to 'logloss'. Explicitly set eval_metric if you'd like to restore the old behavior.\n",
      "[21:25:42] WARNING: C:/Users/Administrator/workspace/xgboost-win64_release_1.4.0/src/learner.cc:1095: Starting in XGBoost 1.3.0, the default evaluation metric used with the objective 'binary:logistic' was changed from 'error' to 'logloss'. Explicitly set eval_metric if you'd like to restore the old behavior.\n",
      "[21:25:44] WARNING: C:/Users/Administrator/workspace/xgboost-win64_release_1.4.0/src/learner.cc:1095: Starting in XGBoost 1.3.0, the default evaluation metric used with the objective 'binary:logistic' was changed from 'error' to 'logloss'. Explicitly set eval_metric if you'd like to restore the old behavior.\n",
      "[21:25:46] WARNING: C:/Users/Administrator/workspace/xgboost-win64_release_1.4.0/src/learner.cc:1095: Starting in XGBoost 1.3.0, the default evaluation metric used with the objective 'binary:logistic' was changed from 'error' to 'logloss'. Explicitly set eval_metric if you'd like to restore the old behavior.\n",
      "[21:25:48] WARNING: C:/Users/Administrator/workspace/xgboost-win64_release_1.4.0/src/learner.cc:1095: Starting in XGBoost 1.3.0, the default evaluation metric used with the objective 'binary:logistic' was changed from 'error' to 'logloss'. Explicitly set eval_metric if you'd like to restore the old behavior.\n",
      "[21:25:50] WARNING: C:/Users/Administrator/workspace/xgboost-win64_release_1.4.0/src/learner.cc:1095: Starting in XGBoost 1.3.0, the default evaluation metric used with the objective 'binary:logistic' was changed from 'error' to 'logloss'. Explicitly set eval_metric if you'd like to restore the old behavior.\n",
      "[21:25:52] WARNING: C:/Users/Administrator/workspace/xgboost-win64_release_1.4.0/src/learner.cc:1095: Starting in XGBoost 1.3.0, the default evaluation metric used with the objective 'binary:logistic' was changed from 'error' to 'logloss'. Explicitly set eval_metric if you'd like to restore the old behavior.\n",
      "[21:25:54] WARNING: C:/Users/Administrator/workspace/xgboost-win64_release_1.4.0/src/learner.cc:1095: Starting in XGBoost 1.3.0, the default evaluation metric used with the objective 'binary:logistic' was changed from 'error' to 'logloss'. Explicitly set eval_metric if you'd like to restore the old behavior.\n",
      "[21:25:56] WARNING: C:/Users/Administrator/workspace/xgboost-win64_release_1.4.0/src/learner.cc:1095: Starting in XGBoost 1.3.0, the default evaluation metric used with the objective 'binary:logistic' was changed from 'error' to 'logloss'. Explicitly set eval_metric if you'd like to restore the old behavior.\n",
      "[21:25:58] WARNING: C:/Users/Administrator/workspace/xgboost-win64_release_1.4.0/src/learner.cc:1095: Starting in XGBoost 1.3.0, the default evaluation metric used with the objective 'binary:logistic' was changed from 'error' to 'logloss'. Explicitly set eval_metric if you'd like to restore the old behavior.\n",
      "[21:26:00] WARNING: C:/Users/Administrator/workspace/xgboost-win64_release_1.4.0/src/learner.cc:1095: Starting in XGBoost 1.3.0, the default evaluation metric used with the objective 'binary:logistic' was changed from 'error' to 'logloss'. Explicitly set eval_metric if you'd like to restore the old behavior.\n",
      "[21:26:02] WARNING: C:/Users/Administrator/workspace/xgboost-win64_release_1.4.0/src/learner.cc:1095: Starting in XGBoost 1.3.0, the default evaluation metric used with the objective 'binary:logistic' was changed from 'error' to 'logloss'. Explicitly set eval_metric if you'd like to restore the old behavior.\n",
      "[21:26:04] WARNING: C:/Users/Administrator/workspace/xgboost-win64_release_1.4.0/src/learner.cc:1095: Starting in XGBoost 1.3.0, the default evaluation metric used with the objective 'binary:logistic' was changed from 'error' to 'logloss'. Explicitly set eval_metric if you'd like to restore the old behavior.\n",
      "[21:26:06] WARNING: C:/Users/Administrator/workspace/xgboost-win64_release_1.4.0/src/learner.cc:1095: Starting in XGBoost 1.3.0, the default evaluation metric used with the objective 'binary:logistic' was changed from 'error' to 'logloss'. Explicitly set eval_metric if you'd like to restore the old behavior.\n",
      "[21:26:08] WARNING: C:/Users/Administrator/workspace/xgboost-win64_release_1.4.0/src/learner.cc:1095: Starting in XGBoost 1.3.0, the default evaluation metric used with the objective 'binary:logistic' was changed from 'error' to 'logloss'. Explicitly set eval_metric if you'd like to restore the old behavior.\n",
      "[21:26:10] WARNING: C:/Users/Administrator/workspace/xgboost-win64_release_1.4.0/src/learner.cc:1095: Starting in XGBoost 1.3.0, the default evaluation metric used with the objective 'binary:logistic' was changed from 'error' to 'logloss'. Explicitly set eval_metric if you'd like to restore the old behavior.\n",
      "[21:26:12] WARNING: C:/Users/Administrator/workspace/xgboost-win64_release_1.4.0/src/learner.cc:1095: Starting in XGBoost 1.3.0, the default evaluation metric used with the objective 'binary:logistic' was changed from 'error' to 'logloss'. Explicitly set eval_metric if you'd like to restore the old behavior.\n",
      "[21:26:14] WARNING: C:/Users/Administrator/workspace/xgboost-win64_release_1.4.0/src/learner.cc:1095: Starting in XGBoost 1.3.0, the default evaluation metric used with the objective 'binary:logistic' was changed from 'error' to 'logloss'. Explicitly set eval_metric if you'd like to restore the old behavior.\n",
      "[21:26:16] WARNING: C:/Users/Administrator/workspace/xgboost-win64_release_1.4.0/src/learner.cc:1095: Starting in XGBoost 1.3.0, the default evaluation metric used with the objective 'binary:logistic' was changed from 'error' to 'logloss'. Explicitly set eval_metric if you'd like to restore the old behavior.\n",
      "[21:26:18] WARNING: C:/Users/Administrator/workspace/xgboost-win64_release_1.4.0/src/learner.cc:1095: Starting in XGBoost 1.3.0, the default evaluation metric used with the objective 'binary:logistic' was changed from 'error' to 'logloss'. Explicitly set eval_metric if you'd like to restore the old behavior.\n",
      "[21:26:20] WARNING: C:/Users/Administrator/workspace/xgboost-win64_release_1.4.0/src/learner.cc:1095: Starting in XGBoost 1.3.0, the default evaluation metric used with the objective 'binary:logistic' was changed from 'error' to 'logloss'. Explicitly set eval_metric if you'd like to restore the old behavior.\n",
      "[21:26:22] WARNING: C:/Users/Administrator/workspace/xgboost-win64_release_1.4.0/src/learner.cc:1095: Starting in XGBoost 1.3.0, the default evaluation metric used with the objective 'binary:logistic' was changed from 'error' to 'logloss'. Explicitly set eval_metric if you'd like to restore the old behavior.\n",
      "[21:26:24] WARNING: C:/Users/Administrator/workspace/xgboost-win64_release_1.4.0/src/learner.cc:1095: Starting in XGBoost 1.3.0, the default evaluation metric used with the objective 'binary:logistic' was changed from 'error' to 'logloss'. Explicitly set eval_metric if you'd like to restore the old behavior.\n",
      "[21:26:26] WARNING: C:/Users/Administrator/workspace/xgboost-win64_release_1.4.0/src/learner.cc:1095: Starting in XGBoost 1.3.0, the default evaluation metric used with the objective 'binary:logistic' was changed from 'error' to 'logloss'. Explicitly set eval_metric if you'd like to restore the old behavior.\n",
      "[21:26:27] WARNING: C:/Users/Administrator/workspace/xgboost-win64_release_1.4.0/src/learner.cc:1095: Starting in XGBoost 1.3.0, the default evaluation metric used with the objective 'binary:logistic' was changed from 'error' to 'logloss'. Explicitly set eval_metric if you'd like to restore the old behavior.\n",
      "[21:26:29] WARNING: C:/Users/Administrator/workspace/xgboost-win64_release_1.4.0/src/learner.cc:1095: Starting in XGBoost 1.3.0, the default evaluation metric used with the objective 'binary:logistic' was changed from 'error' to 'logloss'. Explicitly set eval_metric if you'd like to restore the old behavior.\n",
      "[21:26:31] WARNING: C:/Users/Administrator/workspace/xgboost-win64_release_1.4.0/src/learner.cc:1095: Starting in XGBoost 1.3.0, the default evaluation metric used with the objective 'binary:logistic' was changed from 'error' to 'logloss'. Explicitly set eval_metric if you'd like to restore the old behavior.\n",
      "[21:26:33] WARNING: C:/Users/Administrator/workspace/xgboost-win64_release_1.4.0/src/learner.cc:1095: Starting in XGBoost 1.3.0, the default evaluation metric used with the objective 'binary:logistic' was changed from 'error' to 'logloss'. Explicitly set eval_metric if you'd like to restore the old behavior.\n",
      "[21:26:35] WARNING: C:/Users/Administrator/workspace/xgboost-win64_release_1.4.0/src/learner.cc:1095: Starting in XGBoost 1.3.0, the default evaluation metric used with the objective 'binary:logistic' was changed from 'error' to 'logloss'. Explicitly set eval_metric if you'd like to restore the old behavior.\n",
      "[21:26:37] WARNING: C:/Users/Administrator/workspace/xgboost-win64_release_1.4.0/src/learner.cc:1095: Starting in XGBoost 1.3.0, the default evaluation metric used with the objective 'binary:logistic' was changed from 'error' to 'logloss'. Explicitly set eval_metric if you'd like to restore the old behavior.\n",
      "[21:26:39] WARNING: C:/Users/Administrator/workspace/xgboost-win64_release_1.4.0/src/learner.cc:1095: Starting in XGBoost 1.3.0, the default evaluation metric used with the objective 'binary:logistic' was changed from 'error' to 'logloss'. Explicitly set eval_metric if you'd like to restore the old behavior.\n",
      "[21:26:41] WARNING: C:/Users/Administrator/workspace/xgboost-win64_release_1.4.0/src/learner.cc:1095: Starting in XGBoost 1.3.0, the default evaluation metric used with the objective 'binary:logistic' was changed from 'error' to 'logloss'. Explicitly set eval_metric if you'd like to restore the old behavior.\n",
      "[21:26:43] WARNING: C:/Users/Administrator/workspace/xgboost-win64_release_1.4.0/src/learner.cc:1095: Starting in XGBoost 1.3.0, the default evaluation metric used with the objective 'binary:logistic' was changed from 'error' to 'logloss'. Explicitly set eval_metric if you'd like to restore the old behavior.\n",
      "[21:26:45] WARNING: C:/Users/Administrator/workspace/xgboost-win64_release_1.4.0/src/learner.cc:1095: Starting in XGBoost 1.3.0, the default evaluation metric used with the objective 'binary:logistic' was changed from 'error' to 'logloss'. Explicitly set eval_metric if you'd like to restore the old behavior.\n",
      "Mejor resultado0.9333333333333332\n",
      "Mejor parametroXGBClassifier(base_score=0.5, booster='gbtree', colsample_bylevel=1,\n",
      "              colsample_bynode=1, colsample_bytree=0.8, gamma=0, gpu_id=-1,\n",
      "              importance_type='gain', interaction_constraints='',\n",
      "              learning_rate=0.1, max_delta_step=0, max_depth=3,\n",
      "              min_child_weight=1, missing=nan, monotone_constraints='()',\n",
      "              n_estimators=1000, n_jobs=4, nthread=4, num_parallel_tree=1,\n",
      "              random_state=27, reg_alpha=0, reg_lambda=1, scale_pos_weight=1,\n",
      "              seed=27, subsample=0.8, tree_method='exact',\n",
      "              validate_parameters=1, verbosity=None)\n"
     ]
    }
   ],
   "source": [
    "total_parametros, mejores_parametros,best_stimator,best_score = Optimizacion_parametros(param_grid,XGBClassifier,ear2,y,5)"
   ]
  },
  {
   "cell_type": "code",
   "execution_count": 12,
   "id": "43d810b1",
   "metadata": {},
   "outputs": [
    {
     "data": {
      "text/plain": [
       "0.9333333333333332"
      ]
     },
     "execution_count": 12,
     "metadata": {},
     "output_type": "execute_result"
    }
   ],
   "source": [
    "best_score"
   ]
  },
  {
   "cell_type": "code",
   "execution_count": 13,
   "id": "30b2c781",
   "metadata": {},
   "outputs": [
    {
     "data": {
      "text/plain": [
       "XGBClassifier(base_score=0.5, booster='gbtree', colsample_bylevel=1,\n",
       "              colsample_bynode=1, colsample_bytree=0.8, gamma=0, gpu_id=-1,\n",
       "              importance_type='gain', interaction_constraints='',\n",
       "              learning_rate=0.1, max_delta_step=0, max_depth=3,\n",
       "              min_child_weight=1, missing=nan, monotone_constraints='()',\n",
       "              n_estimators=1000, n_jobs=4, nthread=4, num_parallel_tree=1,\n",
       "              random_state=27, reg_alpha=0, reg_lambda=1, scale_pos_weight=1,\n",
       "              seed=27, subsample=0.8, tree_method='exact',\n",
       "              validate_parameters=1, verbosity=None)"
      ]
     },
     "execution_count": 13,
     "metadata": {},
     "output_type": "execute_result"
    }
   ],
   "source": [
    "best_stimator"
   ]
  },
  {
   "cell_type": "code",
   "execution_count": 14,
   "id": "07af357b",
   "metadata": {},
   "outputs": [
    {
     "data": {
      "text/html": [
       "<div>\n",
       "<style scoped>\n",
       "    .dataframe tbody tr th:only-of-type {\n",
       "        vertical-align: middle;\n",
       "    }\n",
       "\n",
       "    .dataframe tbody tr th {\n",
       "        vertical-align: top;\n",
       "    }\n",
       "\n",
       "    .dataframe thead th {\n",
       "        text-align: right;\n",
       "    }\n",
       "</style>\n",
       "<table border=\"1\" class=\"dataframe\">\n",
       "  <thead>\n",
       "    <tr style=\"text-align: right;\">\n",
       "      <th></th>\n",
       "      <th>max_depth</th>\n",
       "      <th>min_child_weight</th>\n",
       "      <th>mean_train_score</th>\n",
       "      <th>mean_test_score</th>\n",
       "      <th>std_train_score</th>\n",
       "      <th>std_test_score</th>\n",
       "    </tr>\n",
       "  </thead>\n",
       "  <tbody>\n",
       "    <tr>\n",
       "      <th>0</th>\n",
       "      <td>3</td>\n",
       "      <td>1</td>\n",
       "      <td>1.00</td>\n",
       "      <td>0.933333</td>\n",
       "      <td>0.000</td>\n",
       "      <td>0.133333</td>\n",
       "    </tr>\n",
       "    <tr>\n",
       "      <th>1</th>\n",
       "      <td>3</td>\n",
       "      <td>3</td>\n",
       "      <td>0.45</td>\n",
       "      <td>0.400000</td>\n",
       "      <td>0.225</td>\n",
       "      <td>0.200000</td>\n",
       "    </tr>\n",
       "    <tr>\n",
       "      <th>2</th>\n",
       "      <td>3</td>\n",
       "      <td>5</td>\n",
       "      <td>0.00</td>\n",
       "      <td>0.000000</td>\n",
       "      <td>0.000</td>\n",
       "      <td>0.000000</td>\n",
       "    </tr>\n",
       "    <tr>\n",
       "      <th>3</th>\n",
       "      <td>5</td>\n",
       "      <td>1</td>\n",
       "      <td>1.00</td>\n",
       "      <td>0.933333</td>\n",
       "      <td>0.000</td>\n",
       "      <td>0.133333</td>\n",
       "    </tr>\n",
       "    <tr>\n",
       "      <th>4</th>\n",
       "      <td>5</td>\n",
       "      <td>3</td>\n",
       "      <td>0.45</td>\n",
       "      <td>0.400000</td>\n",
       "      <td>0.225</td>\n",
       "      <td>0.200000</td>\n",
       "    </tr>\n",
       "    <tr>\n",
       "      <th>5</th>\n",
       "      <td>5</td>\n",
       "      <td>5</td>\n",
       "      <td>0.00</td>\n",
       "      <td>0.000000</td>\n",
       "      <td>0.000</td>\n",
       "      <td>0.000000</td>\n",
       "    </tr>\n",
       "    <tr>\n",
       "      <th>6</th>\n",
       "      <td>7</td>\n",
       "      <td>1</td>\n",
       "      <td>1.00</td>\n",
       "      <td>0.933333</td>\n",
       "      <td>0.000</td>\n",
       "      <td>0.133333</td>\n",
       "    </tr>\n",
       "    <tr>\n",
       "      <th>7</th>\n",
       "      <td>7</td>\n",
       "      <td>3</td>\n",
       "      <td>0.45</td>\n",
       "      <td>0.400000</td>\n",
       "      <td>0.225</td>\n",
       "      <td>0.200000</td>\n",
       "    </tr>\n",
       "    <tr>\n",
       "      <th>8</th>\n",
       "      <td>7</td>\n",
       "      <td>5</td>\n",
       "      <td>0.00</td>\n",
       "      <td>0.000000</td>\n",
       "      <td>0.000</td>\n",
       "      <td>0.000000</td>\n",
       "    </tr>\n",
       "    <tr>\n",
       "      <th>9</th>\n",
       "      <td>9</td>\n",
       "      <td>1</td>\n",
       "      <td>1.00</td>\n",
       "      <td>0.933333</td>\n",
       "      <td>0.000</td>\n",
       "      <td>0.133333</td>\n",
       "    </tr>\n",
       "    <tr>\n",
       "      <th>10</th>\n",
       "      <td>9</td>\n",
       "      <td>3</td>\n",
       "      <td>0.45</td>\n",
       "      <td>0.400000</td>\n",
       "      <td>0.225</td>\n",
       "      <td>0.200000</td>\n",
       "    </tr>\n",
       "    <tr>\n",
       "      <th>11</th>\n",
       "      <td>9</td>\n",
       "      <td>5</td>\n",
       "      <td>0.00</td>\n",
       "      <td>0.000000</td>\n",
       "      <td>0.000</td>\n",
       "      <td>0.000000</td>\n",
       "    </tr>\n",
       "  </tbody>\n",
       "</table>\n",
       "</div>"
      ],
      "text/plain": [
       "    max_depth  min_child_weight  mean_train_score  mean_test_score  \\\n",
       "0           3                 1              1.00         0.933333   \n",
       "1           3                 3              0.45         0.400000   \n",
       "2           3                 5              0.00         0.000000   \n",
       "3           5                 1              1.00         0.933333   \n",
       "4           5                 3              0.45         0.400000   \n",
       "5           5                 5              0.00         0.000000   \n",
       "6           7                 1              1.00         0.933333   \n",
       "7           7                 3              0.45         0.400000   \n",
       "8           7                 5              0.00         0.000000   \n",
       "9           9                 1              1.00         0.933333   \n",
       "10          9                 3              0.45         0.400000   \n",
       "11          9                 5              0.00         0.000000   \n",
       "\n",
       "    std_train_score  std_test_score  \n",
       "0             0.000        0.133333  \n",
       "1             0.225        0.200000  \n",
       "2             0.000        0.000000  \n",
       "3             0.000        0.133333  \n",
       "4             0.225        0.200000  \n",
       "5             0.000        0.000000  \n",
       "6             0.000        0.133333  \n",
       "7             0.225        0.200000  \n",
       "8             0.000        0.000000  \n",
       "9             0.000        0.133333  \n",
       "10            0.225        0.200000  \n",
       "11            0.000        0.000000  "
      ]
     },
     "execution_count": 14,
     "metadata": {},
     "output_type": "execute_result"
    }
   ],
   "source": [
    "total_parametros"
   ]
  },
  {
   "cell_type": "code",
   "execution_count": 15,
   "id": "4d1776a7",
   "metadata": {},
   "outputs": [
    {
     "data": {
      "text/html": [
       "<div>\n",
       "<style scoped>\n",
       "    .dataframe tbody tr th:only-of-type {\n",
       "        vertical-align: middle;\n",
       "    }\n",
       "\n",
       "    .dataframe tbody tr th {\n",
       "        vertical-align: top;\n",
       "    }\n",
       "\n",
       "    .dataframe thead th {\n",
       "        text-align: right;\n",
       "    }\n",
       "</style>\n",
       "<table border=\"1\" class=\"dataframe\">\n",
       "  <thead>\n",
       "    <tr style=\"text-align: right;\">\n",
       "      <th></th>\n",
       "      <th>max_depth</th>\n",
       "      <th>min_child_weight</th>\n",
       "      <th>mean_train_score</th>\n",
       "      <th>mean_test_score</th>\n",
       "      <th>std_train_score</th>\n",
       "      <th>std_test_score</th>\n",
       "    </tr>\n",
       "  </thead>\n",
       "  <tbody>\n",
       "    <tr>\n",
       "      <th>0</th>\n",
       "      <td>3</td>\n",
       "      <td>1</td>\n",
       "      <td>1.0</td>\n",
       "      <td>0.933333</td>\n",
       "      <td>0.0</td>\n",
       "      <td>0.133333</td>\n",
       "    </tr>\n",
       "    <tr>\n",
       "      <th>3</th>\n",
       "      <td>5</td>\n",
       "      <td>1</td>\n",
       "      <td>1.0</td>\n",
       "      <td>0.933333</td>\n",
       "      <td>0.0</td>\n",
       "      <td>0.133333</td>\n",
       "    </tr>\n",
       "    <tr>\n",
       "      <th>6</th>\n",
       "      <td>7</td>\n",
       "      <td>1</td>\n",
       "      <td>1.0</td>\n",
       "      <td>0.933333</td>\n",
       "      <td>0.0</td>\n",
       "      <td>0.133333</td>\n",
       "    </tr>\n",
       "    <tr>\n",
       "      <th>9</th>\n",
       "      <td>9</td>\n",
       "      <td>1</td>\n",
       "      <td>1.0</td>\n",
       "      <td>0.933333</td>\n",
       "      <td>0.0</td>\n",
       "      <td>0.133333</td>\n",
       "    </tr>\n",
       "  </tbody>\n",
       "</table>\n",
       "</div>"
      ],
      "text/plain": [
       "   max_depth  min_child_weight  mean_train_score  mean_test_score  \\\n",
       "0          3                 1               1.0         0.933333   \n",
       "3          5                 1               1.0         0.933333   \n",
       "6          7                 1               1.0         0.933333   \n",
       "9          9                 1               1.0         0.933333   \n",
       "\n",
       "   std_train_score  std_test_score  \n",
       "0              0.0        0.133333  \n",
       "3              0.0        0.133333  \n",
       "6              0.0        0.133333  \n",
       "9              0.0        0.133333  "
      ]
     },
     "execution_count": 15,
     "metadata": {},
     "output_type": "execute_result"
    }
   ],
   "source": [
    "mejores_parametros"
   ]
  },
  {
   "cell_type": "markdown",
   "id": "0874c7f3",
   "metadata": {},
   "source": [
    "## Adabost"
   ]
  },
  {
   "cell_type": "code",
   "execution_count": 16,
   "id": "46e2fc05",
   "metadata": {},
   "outputs": [],
   "source": [
    "from sklearn.tree import DecisionTreeClassifier\n",
    "from sklearn.ensemble import AdaBoostClassifier\n"
   ]
  },
  {
   "cell_type": "code",
   "execution_count": 17,
   "id": "7f82989c",
   "metadata": {},
   "outputs": [],
   "source": [
    "param_grid = {'base_estimator__max_depth':[i for i in range(2,11,2)],\n",
    "              'base_estimator__min_samples_leaf':[5,10],\n",
    "              'n_estimators':[10,50,250,1000],\n",
    "              'learning_rate':[0.01,0.1]}"
   ]
  },
  {
   "cell_type": "code",
   "execution_count": 18,
   "id": "984cf7e7",
   "metadata": {},
   "outputs": [],
   "source": [
    "ada_clf = AdaBoostClassifier(base_estimator=DecisionTreeClassifier())"
   ]
  },
  {
   "cell_type": "code",
   "execution_count": 19,
   "id": "0e4f6bfd",
   "metadata": {},
   "outputs": [
    {
     "name": "stdout",
     "output_type": "stream",
     "text": [
      "Mejor resultado0.9333333333333332\n",
      "Mejor parametroAdaBoostClassifier(base_estimator=DecisionTreeClassifier(max_depth=2,\n",
      "                                                         min_samples_leaf=5),\n",
      "                   learning_rate=0.01, n_estimators=10)\n"
     ]
    }
   ],
   "source": [
    "total_parametros, mejores_parametros,best_stimator,best_score = Optimizacion_parametros(param_grid,ada_clf,ear2,y,5)"
   ]
  },
  {
   "cell_type": "code",
   "execution_count": 20,
   "id": "d626f187",
   "metadata": {},
   "outputs": [
    {
     "data": {
      "text/plain": [
       "0.9333333333333332"
      ]
     },
     "execution_count": 20,
     "metadata": {},
     "output_type": "execute_result"
    }
   ],
   "source": [
    "best_score"
   ]
  },
  {
   "cell_type": "code",
   "execution_count": 21,
   "id": "1fe8e231",
   "metadata": {},
   "outputs": [
    {
     "data": {
      "text/plain": [
       "AdaBoostClassifier(base_estimator=DecisionTreeClassifier(max_depth=2,\n",
       "                                                         min_samples_leaf=5),\n",
       "                   learning_rate=0.01, n_estimators=10)"
      ]
     },
     "execution_count": 21,
     "metadata": {},
     "output_type": "execute_result"
    }
   ],
   "source": [
    "best_stimator"
   ]
  },
  {
   "cell_type": "code",
   "execution_count": 22,
   "id": "9f660fc0",
   "metadata": {},
   "outputs": [
    {
     "data": {
      "text/html": [
       "<div>\n",
       "<style scoped>\n",
       "    .dataframe tbody tr th:only-of-type {\n",
       "        vertical-align: middle;\n",
       "    }\n",
       "\n",
       "    .dataframe tbody tr th {\n",
       "        vertical-align: top;\n",
       "    }\n",
       "\n",
       "    .dataframe thead th {\n",
       "        text-align: right;\n",
       "    }\n",
       "</style>\n",
       "<table border=\"1\" class=\"dataframe\">\n",
       "  <thead>\n",
       "    <tr style=\"text-align: right;\">\n",
       "      <th></th>\n",
       "      <th>base_estimator__max_depth</th>\n",
       "      <th>base_estimator__min_samples_leaf</th>\n",
       "      <th>learning_rate</th>\n",
       "      <th>n_estimators</th>\n",
       "      <th>mean_train_score</th>\n",
       "      <th>mean_test_score</th>\n",
       "      <th>std_train_score</th>\n",
       "      <th>std_test_score</th>\n",
       "    </tr>\n",
       "  </thead>\n",
       "  <tbody>\n",
       "    <tr>\n",
       "      <th>0</th>\n",
       "      <td>2</td>\n",
       "      <td>5</td>\n",
       "      <td>0.01</td>\n",
       "      <td>10</td>\n",
       "      <td>1.00</td>\n",
       "      <td>0.933333</td>\n",
       "      <td>0.000</td>\n",
       "      <td>0.133333</td>\n",
       "    </tr>\n",
       "    <tr>\n",
       "      <th>1</th>\n",
       "      <td>2</td>\n",
       "      <td>5</td>\n",
       "      <td>0.01</td>\n",
       "      <td>50</td>\n",
       "      <td>1.00</td>\n",
       "      <td>0.933333</td>\n",
       "      <td>0.000</td>\n",
       "      <td>0.133333</td>\n",
       "    </tr>\n",
       "    <tr>\n",
       "      <th>2</th>\n",
       "      <td>2</td>\n",
       "      <td>5</td>\n",
       "      <td>0.01</td>\n",
       "      <td>250</td>\n",
       "      <td>1.00</td>\n",
       "      <td>0.933333</td>\n",
       "      <td>0.000</td>\n",
       "      <td>0.133333</td>\n",
       "    </tr>\n",
       "    <tr>\n",
       "      <th>3</th>\n",
       "      <td>2</td>\n",
       "      <td>5</td>\n",
       "      <td>0.01</td>\n",
       "      <td>1000</td>\n",
       "      <td>1.00</td>\n",
       "      <td>0.933333</td>\n",
       "      <td>0.000</td>\n",
       "      <td>0.133333</td>\n",
       "    </tr>\n",
       "    <tr>\n",
       "      <th>4</th>\n",
       "      <td>2</td>\n",
       "      <td>5</td>\n",
       "      <td>0.10</td>\n",
       "      <td>10</td>\n",
       "      <td>1.00</td>\n",
       "      <td>0.933333</td>\n",
       "      <td>0.000</td>\n",
       "      <td>0.133333</td>\n",
       "    </tr>\n",
       "    <tr>\n",
       "      <th>...</th>\n",
       "      <td>...</td>\n",
       "      <td>...</td>\n",
       "      <td>...</td>\n",
       "      <td>...</td>\n",
       "      <td>...</td>\n",
       "      <td>...</td>\n",
       "      <td>...</td>\n",
       "      <td>...</td>\n",
       "    </tr>\n",
       "    <tr>\n",
       "      <th>75</th>\n",
       "      <td>10</td>\n",
       "      <td>10</td>\n",
       "      <td>0.01</td>\n",
       "      <td>1000</td>\n",
       "      <td>0.45</td>\n",
       "      <td>0.400000</td>\n",
       "      <td>0.225</td>\n",
       "      <td>0.200000</td>\n",
       "    </tr>\n",
       "    <tr>\n",
       "      <th>76</th>\n",
       "      <td>10</td>\n",
       "      <td>10</td>\n",
       "      <td>0.10</td>\n",
       "      <td>10</td>\n",
       "      <td>0.45</td>\n",
       "      <td>0.400000</td>\n",
       "      <td>0.225</td>\n",
       "      <td>0.200000</td>\n",
       "    </tr>\n",
       "    <tr>\n",
       "      <th>77</th>\n",
       "      <td>10</td>\n",
       "      <td>10</td>\n",
       "      <td>0.10</td>\n",
       "      <td>50</td>\n",
       "      <td>0.45</td>\n",
       "      <td>0.400000</td>\n",
       "      <td>0.225</td>\n",
       "      <td>0.200000</td>\n",
       "    </tr>\n",
       "    <tr>\n",
       "      <th>78</th>\n",
       "      <td>10</td>\n",
       "      <td>10</td>\n",
       "      <td>0.10</td>\n",
       "      <td>250</td>\n",
       "      <td>0.45</td>\n",
       "      <td>0.400000</td>\n",
       "      <td>0.225</td>\n",
       "      <td>0.200000</td>\n",
       "    </tr>\n",
       "    <tr>\n",
       "      <th>79</th>\n",
       "      <td>10</td>\n",
       "      <td>10</td>\n",
       "      <td>0.10</td>\n",
       "      <td>1000</td>\n",
       "      <td>0.45</td>\n",
       "      <td>0.400000</td>\n",
       "      <td>0.225</td>\n",
       "      <td>0.200000</td>\n",
       "    </tr>\n",
       "  </tbody>\n",
       "</table>\n",
       "<p>80 rows × 8 columns</p>\n",
       "</div>"
      ],
      "text/plain": [
       "    base_estimator__max_depth  base_estimator__min_samples_leaf  \\\n",
       "0                           2                                 5   \n",
       "1                           2                                 5   \n",
       "2                           2                                 5   \n",
       "3                           2                                 5   \n",
       "4                           2                                 5   \n",
       "..                        ...                               ...   \n",
       "75                         10                                10   \n",
       "76                         10                                10   \n",
       "77                         10                                10   \n",
       "78                         10                                10   \n",
       "79                         10                                10   \n",
       "\n",
       "    learning_rate  n_estimators  mean_train_score  mean_test_score  \\\n",
       "0            0.01            10              1.00         0.933333   \n",
       "1            0.01            50              1.00         0.933333   \n",
       "2            0.01           250              1.00         0.933333   \n",
       "3            0.01          1000              1.00         0.933333   \n",
       "4            0.10            10              1.00         0.933333   \n",
       "..            ...           ...               ...              ...   \n",
       "75           0.01          1000              0.45         0.400000   \n",
       "76           0.10            10              0.45         0.400000   \n",
       "77           0.10            50              0.45         0.400000   \n",
       "78           0.10           250              0.45         0.400000   \n",
       "79           0.10          1000              0.45         0.400000   \n",
       "\n",
       "    std_train_score  std_test_score  \n",
       "0             0.000        0.133333  \n",
       "1             0.000        0.133333  \n",
       "2             0.000        0.133333  \n",
       "3             0.000        0.133333  \n",
       "4             0.000        0.133333  \n",
       "..              ...             ...  \n",
       "75            0.225        0.200000  \n",
       "76            0.225        0.200000  \n",
       "77            0.225        0.200000  \n",
       "78            0.225        0.200000  \n",
       "79            0.225        0.200000  \n",
       "\n",
       "[80 rows x 8 columns]"
      ]
     },
     "execution_count": 22,
     "metadata": {},
     "output_type": "execute_result"
    }
   ],
   "source": [
    "total_parametros"
   ]
  },
  {
   "cell_type": "markdown",
   "id": "d3c82a97",
   "metadata": {},
   "source": [
    "## Random Forest"
   ]
  },
  {
   "cell_type": "code",
   "execution_count": 23,
   "id": "d408102e",
   "metadata": {},
   "outputs": [],
   "source": [
    "from sklearn.ensemble import RandomForestClassifier"
   ]
  },
  {
   "cell_type": "code",
   "execution_count": 24,
   "id": "8ca375d9",
   "metadata": {},
   "outputs": [],
   "source": [
    "param_grid ={'bootstrap': [True, False],\n",
    " 'max_depth': [10, 20],\n",
    " 'max_features': ['auto', 'sqrt'],\n",
    " 'min_samples_leaf': [2, 4],\n",
    " 'min_samples_split': [2, 5],\n",
    " 'n_estimators': [200, 400, 600, 800]}"
   ]
  },
  {
   "cell_type": "code",
   "execution_count": 25,
   "id": "efa962d7",
   "metadata": {},
   "outputs": [],
   "source": [
    "RandomForestClassifier = RandomForestClassifier()"
   ]
  },
  {
   "cell_type": "code",
   "execution_count": 26,
   "id": "828eae66",
   "metadata": {},
   "outputs": [
    {
     "name": "stdout",
     "output_type": "stream",
     "text": [
      "Mejor resultado0.9333333333333332\n",
      "Mejor parametroRandomForestClassifier(max_depth=10, min_samples_leaf=2, n_estimators=200)\n"
     ]
    }
   ],
   "source": [
    "total_parametros, mejores_parametros,best_stimator,best_score = Optimizacion_parametros(param_grid,RandomForestClassifier,ear2,y,5)"
   ]
  },
  {
   "cell_type": "code",
   "execution_count": 27,
   "id": "3fc76b6a",
   "metadata": {},
   "outputs": [
    {
     "data": {
      "text/plain": [
       "0.9333333333333332"
      ]
     },
     "execution_count": 27,
     "metadata": {},
     "output_type": "execute_result"
    }
   ],
   "source": [
    "best_score"
   ]
  },
  {
   "cell_type": "code",
   "execution_count": 28,
   "id": "3d805682",
   "metadata": {},
   "outputs": [
    {
     "data": {
      "text/plain": [
       "RandomForestClassifier(max_depth=10, min_samples_leaf=2, n_estimators=200)"
      ]
     },
     "execution_count": 28,
     "metadata": {},
     "output_type": "execute_result"
    }
   ],
   "source": [
    "best_stimator"
   ]
  },
  {
   "cell_type": "code",
   "execution_count": 29,
   "id": "aa149647",
   "metadata": {},
   "outputs": [
    {
     "data": {
      "text/html": [
       "<div>\n",
       "<style scoped>\n",
       "    .dataframe tbody tr th:only-of-type {\n",
       "        vertical-align: middle;\n",
       "    }\n",
       "\n",
       "    .dataframe tbody tr th {\n",
       "        vertical-align: top;\n",
       "    }\n",
       "\n",
       "    .dataframe thead th {\n",
       "        text-align: right;\n",
       "    }\n",
       "</style>\n",
       "<table border=\"1\" class=\"dataframe\">\n",
       "  <thead>\n",
       "    <tr style=\"text-align: right;\">\n",
       "      <th></th>\n",
       "      <th>bootstrap</th>\n",
       "      <th>max_depth</th>\n",
       "      <th>max_features</th>\n",
       "      <th>min_samples_leaf</th>\n",
       "      <th>min_samples_split</th>\n",
       "      <th>n_estimators</th>\n",
       "      <th>mean_train_score</th>\n",
       "      <th>mean_test_score</th>\n",
       "      <th>std_train_score</th>\n",
       "      <th>std_test_score</th>\n",
       "    </tr>\n",
       "  </thead>\n",
       "  <tbody>\n",
       "    <tr>\n",
       "      <th>0</th>\n",
       "      <td>True</td>\n",
       "      <td>10</td>\n",
       "      <td>auto</td>\n",
       "      <td>2</td>\n",
       "      <td>2</td>\n",
       "      <td>200</td>\n",
       "      <td>1.0</td>\n",
       "      <td>0.933333</td>\n",
       "      <td>0.0</td>\n",
       "      <td>0.133333</td>\n",
       "    </tr>\n",
       "    <tr>\n",
       "      <th>1</th>\n",
       "      <td>True</td>\n",
       "      <td>10</td>\n",
       "      <td>auto</td>\n",
       "      <td>2</td>\n",
       "      <td>2</td>\n",
       "      <td>400</td>\n",
       "      <td>1.0</td>\n",
       "      <td>0.933333</td>\n",
       "      <td>0.0</td>\n",
       "      <td>0.133333</td>\n",
       "    </tr>\n",
       "    <tr>\n",
       "      <th>2</th>\n",
       "      <td>True</td>\n",
       "      <td>10</td>\n",
       "      <td>auto</td>\n",
       "      <td>2</td>\n",
       "      <td>2</td>\n",
       "      <td>600</td>\n",
       "      <td>1.0</td>\n",
       "      <td>0.933333</td>\n",
       "      <td>0.0</td>\n",
       "      <td>0.133333</td>\n",
       "    </tr>\n",
       "    <tr>\n",
       "      <th>3</th>\n",
       "      <td>True</td>\n",
       "      <td>10</td>\n",
       "      <td>auto</td>\n",
       "      <td>2</td>\n",
       "      <td>2</td>\n",
       "      <td>800</td>\n",
       "      <td>1.0</td>\n",
       "      <td>0.933333</td>\n",
       "      <td>0.0</td>\n",
       "      <td>0.133333</td>\n",
       "    </tr>\n",
       "    <tr>\n",
       "      <th>4</th>\n",
       "      <td>True</td>\n",
       "      <td>10</td>\n",
       "      <td>auto</td>\n",
       "      <td>2</td>\n",
       "      <td>5</td>\n",
       "      <td>200</td>\n",
       "      <td>1.0</td>\n",
       "      <td>0.933333</td>\n",
       "      <td>0.0</td>\n",
       "      <td>0.133333</td>\n",
       "    </tr>\n",
       "    <tr>\n",
       "      <th>...</th>\n",
       "      <td>...</td>\n",
       "      <td>...</td>\n",
       "      <td>...</td>\n",
       "      <td>...</td>\n",
       "      <td>...</td>\n",
       "      <td>...</td>\n",
       "      <td>...</td>\n",
       "      <td>...</td>\n",
       "      <td>...</td>\n",
       "      <td>...</td>\n",
       "    </tr>\n",
       "    <tr>\n",
       "      <th>123</th>\n",
       "      <td>False</td>\n",
       "      <td>20</td>\n",
       "      <td>sqrt</td>\n",
       "      <td>4</td>\n",
       "      <td>2</td>\n",
       "      <td>800</td>\n",
       "      <td>1.0</td>\n",
       "      <td>0.933333</td>\n",
       "      <td>0.0</td>\n",
       "      <td>0.133333</td>\n",
       "    </tr>\n",
       "    <tr>\n",
       "      <th>124</th>\n",
       "      <td>False</td>\n",
       "      <td>20</td>\n",
       "      <td>sqrt</td>\n",
       "      <td>4</td>\n",
       "      <td>5</td>\n",
       "      <td>200</td>\n",
       "      <td>1.0</td>\n",
       "      <td>0.933333</td>\n",
       "      <td>0.0</td>\n",
       "      <td>0.133333</td>\n",
       "    </tr>\n",
       "    <tr>\n",
       "      <th>125</th>\n",
       "      <td>False</td>\n",
       "      <td>20</td>\n",
       "      <td>sqrt</td>\n",
       "      <td>4</td>\n",
       "      <td>5</td>\n",
       "      <td>400</td>\n",
       "      <td>1.0</td>\n",
       "      <td>0.933333</td>\n",
       "      <td>0.0</td>\n",
       "      <td>0.133333</td>\n",
       "    </tr>\n",
       "    <tr>\n",
       "      <th>126</th>\n",
       "      <td>False</td>\n",
       "      <td>20</td>\n",
       "      <td>sqrt</td>\n",
       "      <td>4</td>\n",
       "      <td>5</td>\n",
       "      <td>600</td>\n",
       "      <td>1.0</td>\n",
       "      <td>0.933333</td>\n",
       "      <td>0.0</td>\n",
       "      <td>0.133333</td>\n",
       "    </tr>\n",
       "    <tr>\n",
       "      <th>127</th>\n",
       "      <td>False</td>\n",
       "      <td>20</td>\n",
       "      <td>sqrt</td>\n",
       "      <td>4</td>\n",
       "      <td>5</td>\n",
       "      <td>800</td>\n",
       "      <td>1.0</td>\n",
       "      <td>0.933333</td>\n",
       "      <td>0.0</td>\n",
       "      <td>0.133333</td>\n",
       "    </tr>\n",
       "  </tbody>\n",
       "</table>\n",
       "<p>128 rows × 10 columns</p>\n",
       "</div>"
      ],
      "text/plain": [
       "     bootstrap  max_depth max_features  min_samples_leaf  min_samples_split  \\\n",
       "0         True         10         auto                 2                  2   \n",
       "1         True         10         auto                 2                  2   \n",
       "2         True         10         auto                 2                  2   \n",
       "3         True         10         auto                 2                  2   \n",
       "4         True         10         auto                 2                  5   \n",
       "..         ...        ...          ...               ...                ...   \n",
       "123      False         20         sqrt                 4                  2   \n",
       "124      False         20         sqrt                 4                  5   \n",
       "125      False         20         sqrt                 4                  5   \n",
       "126      False         20         sqrt                 4                  5   \n",
       "127      False         20         sqrt                 4                  5   \n",
       "\n",
       "     n_estimators  mean_train_score  mean_test_score  std_train_score  \\\n",
       "0             200               1.0         0.933333              0.0   \n",
       "1             400               1.0         0.933333              0.0   \n",
       "2             600               1.0         0.933333              0.0   \n",
       "3             800               1.0         0.933333              0.0   \n",
       "4             200               1.0         0.933333              0.0   \n",
       "..            ...               ...              ...              ...   \n",
       "123           800               1.0         0.933333              0.0   \n",
       "124           200               1.0         0.933333              0.0   \n",
       "125           400               1.0         0.933333              0.0   \n",
       "126           600               1.0         0.933333              0.0   \n",
       "127           800               1.0         0.933333              0.0   \n",
       "\n",
       "     std_test_score  \n",
       "0          0.133333  \n",
       "1          0.133333  \n",
       "2          0.133333  \n",
       "3          0.133333  \n",
       "4          0.133333  \n",
       "..              ...  \n",
       "123        0.133333  \n",
       "124        0.133333  \n",
       "125        0.133333  \n",
       "126        0.133333  \n",
       "127        0.133333  \n",
       "\n",
       "[128 rows x 10 columns]"
      ]
     },
     "execution_count": 29,
     "metadata": {},
     "output_type": "execute_result"
    }
   ],
   "source": [
    "total_parametros"
   ]
  },
  {
   "cell_type": "markdown",
   "id": "714e37f0",
   "metadata": {},
   "source": [
    "## SVM"
   ]
  },
  {
   "cell_type": "code",
   "execution_count": 30,
   "id": "9d9a61ef",
   "metadata": {},
   "outputs": [],
   "source": [
    "from sklearn.svm import SVC"
   ]
  },
  {
   "cell_type": "code",
   "execution_count": 31,
   "id": "08ca02c0",
   "metadata": {},
   "outputs": [],
   "source": [
    "param_grid = [{'kernel': ['rbf'], 'gamma': [1e-3, 1e-4],\n",
    "                     'C': [1, 10, 100, 1000]},\n",
    "                    {'kernel': ['linear'], 'C': [1, 10, 100, 1000]}]"
   ]
  },
  {
   "cell_type": "code",
   "execution_count": 32,
   "id": "e1cb9439",
   "metadata": {},
   "outputs": [],
   "source": [
    "svc = SVC()"
   ]
  },
  {
   "cell_type": "code",
   "execution_count": 33,
   "id": "a4d75756",
   "metadata": {},
   "outputs": [
    {
     "name": "stdout",
     "output_type": "stream",
     "text": [
      "Mejor resultado0.9333333333333332\n",
      "Mejor parametroSVC(C=1, gamma=0.001)\n"
     ]
    }
   ],
   "source": [
    "total_parametros, mejores_parametros,best_stimator,best_score = Optimizacion_parametros(param_grid,svc,ear2,y,5)"
   ]
  },
  {
   "cell_type": "code",
   "execution_count": 34,
   "id": "5b2432ce",
   "metadata": {},
   "outputs": [
    {
     "data": {
      "text/plain": [
       "0.9333333333333332"
      ]
     },
     "execution_count": 34,
     "metadata": {},
     "output_type": "execute_result"
    }
   ],
   "source": [
    "best_score"
   ]
  },
  {
   "cell_type": "code",
   "execution_count": 35,
   "id": "15ea4c6b",
   "metadata": {},
   "outputs": [
    {
     "data": {
      "text/plain": [
       "SVC(C=1, gamma=0.001)"
      ]
     },
     "execution_count": 35,
     "metadata": {},
     "output_type": "execute_result"
    }
   ],
   "source": [
    "best_stimator"
   ]
  },
  {
   "cell_type": "code",
   "execution_count": 36,
   "id": "02c8ff75",
   "metadata": {},
   "outputs": [
    {
     "data": {
      "text/html": [
       "<div>\n",
       "<style scoped>\n",
       "    .dataframe tbody tr th:only-of-type {\n",
       "        vertical-align: middle;\n",
       "    }\n",
       "\n",
       "    .dataframe tbody tr th {\n",
       "        vertical-align: top;\n",
       "    }\n",
       "\n",
       "    .dataframe thead th {\n",
       "        text-align: right;\n",
       "    }\n",
       "</style>\n",
       "<table border=\"1\" class=\"dataframe\">\n",
       "  <thead>\n",
       "    <tr style=\"text-align: right;\">\n",
       "      <th></th>\n",
       "      <th>C</th>\n",
       "      <th>gamma</th>\n",
       "      <th>kernel</th>\n",
       "      <th>mean_train_score</th>\n",
       "      <th>mean_test_score</th>\n",
       "      <th>std_train_score</th>\n",
       "      <th>std_test_score</th>\n",
       "    </tr>\n",
       "  </thead>\n",
       "  <tbody>\n",
       "    <tr>\n",
       "      <th>0</th>\n",
       "      <td>1</td>\n",
       "      <td>0.0010</td>\n",
       "      <td>rbf</td>\n",
       "      <td>1.0</td>\n",
       "      <td>0.933333</td>\n",
       "      <td>0.0</td>\n",
       "      <td>0.133333</td>\n",
       "    </tr>\n",
       "    <tr>\n",
       "      <th>1</th>\n",
       "      <td>1</td>\n",
       "      <td>0.0001</td>\n",
       "      <td>rbf</td>\n",
       "      <td>1.0</td>\n",
       "      <td>0.933333</td>\n",
       "      <td>0.0</td>\n",
       "      <td>0.133333</td>\n",
       "    </tr>\n",
       "    <tr>\n",
       "      <th>2</th>\n",
       "      <td>10</td>\n",
       "      <td>0.0010</td>\n",
       "      <td>rbf</td>\n",
       "      <td>1.0</td>\n",
       "      <td>0.933333</td>\n",
       "      <td>0.0</td>\n",
       "      <td>0.133333</td>\n",
       "    </tr>\n",
       "    <tr>\n",
       "      <th>3</th>\n",
       "      <td>10</td>\n",
       "      <td>0.0001</td>\n",
       "      <td>rbf</td>\n",
       "      <td>1.0</td>\n",
       "      <td>0.933333</td>\n",
       "      <td>0.0</td>\n",
       "      <td>0.133333</td>\n",
       "    </tr>\n",
       "    <tr>\n",
       "      <th>4</th>\n",
       "      <td>100</td>\n",
       "      <td>0.0010</td>\n",
       "      <td>rbf</td>\n",
       "      <td>1.0</td>\n",
       "      <td>0.933333</td>\n",
       "      <td>0.0</td>\n",
       "      <td>0.133333</td>\n",
       "    </tr>\n",
       "    <tr>\n",
       "      <th>5</th>\n",
       "      <td>100</td>\n",
       "      <td>0.0001</td>\n",
       "      <td>rbf</td>\n",
       "      <td>1.0</td>\n",
       "      <td>0.933333</td>\n",
       "      <td>0.0</td>\n",
       "      <td>0.133333</td>\n",
       "    </tr>\n",
       "    <tr>\n",
       "      <th>6</th>\n",
       "      <td>1000</td>\n",
       "      <td>0.0010</td>\n",
       "      <td>rbf</td>\n",
       "      <td>1.0</td>\n",
       "      <td>0.933333</td>\n",
       "      <td>0.0</td>\n",
       "      <td>0.133333</td>\n",
       "    </tr>\n",
       "    <tr>\n",
       "      <th>7</th>\n",
       "      <td>1000</td>\n",
       "      <td>0.0001</td>\n",
       "      <td>rbf</td>\n",
       "      <td>1.0</td>\n",
       "      <td>0.933333</td>\n",
       "      <td>0.0</td>\n",
       "      <td>0.133333</td>\n",
       "    </tr>\n",
       "    <tr>\n",
       "      <th>8</th>\n",
       "      <td>1</td>\n",
       "      <td>NaN</td>\n",
       "      <td>linear</td>\n",
       "      <td>1.0</td>\n",
       "      <td>0.933333</td>\n",
       "      <td>0.0</td>\n",
       "      <td>0.133333</td>\n",
       "    </tr>\n",
       "    <tr>\n",
       "      <th>9</th>\n",
       "      <td>10</td>\n",
       "      <td>NaN</td>\n",
       "      <td>linear</td>\n",
       "      <td>1.0</td>\n",
       "      <td>0.933333</td>\n",
       "      <td>0.0</td>\n",
       "      <td>0.133333</td>\n",
       "    </tr>\n",
       "    <tr>\n",
       "      <th>10</th>\n",
       "      <td>100</td>\n",
       "      <td>NaN</td>\n",
       "      <td>linear</td>\n",
       "      <td>1.0</td>\n",
       "      <td>0.933333</td>\n",
       "      <td>0.0</td>\n",
       "      <td>0.133333</td>\n",
       "    </tr>\n",
       "    <tr>\n",
       "      <th>11</th>\n",
       "      <td>1000</td>\n",
       "      <td>NaN</td>\n",
       "      <td>linear</td>\n",
       "      <td>1.0</td>\n",
       "      <td>0.933333</td>\n",
       "      <td>0.0</td>\n",
       "      <td>0.133333</td>\n",
       "    </tr>\n",
       "  </tbody>\n",
       "</table>\n",
       "</div>"
      ],
      "text/plain": [
       "       C   gamma  kernel  mean_train_score  mean_test_score  std_train_score  \\\n",
       "0      1  0.0010     rbf               1.0         0.933333              0.0   \n",
       "1      1  0.0001     rbf               1.0         0.933333              0.0   \n",
       "2     10  0.0010     rbf               1.0         0.933333              0.0   \n",
       "3     10  0.0001     rbf               1.0         0.933333              0.0   \n",
       "4    100  0.0010     rbf               1.0         0.933333              0.0   \n",
       "5    100  0.0001     rbf               1.0         0.933333              0.0   \n",
       "6   1000  0.0010     rbf               1.0         0.933333              0.0   \n",
       "7   1000  0.0001     rbf               1.0         0.933333              0.0   \n",
       "8      1     NaN  linear               1.0         0.933333              0.0   \n",
       "9     10     NaN  linear               1.0         0.933333              0.0   \n",
       "10   100     NaN  linear               1.0         0.933333              0.0   \n",
       "11  1000     NaN  linear               1.0         0.933333              0.0   \n",
       "\n",
       "    std_test_score  \n",
       "0         0.133333  \n",
       "1         0.133333  \n",
       "2         0.133333  \n",
       "3         0.133333  \n",
       "4         0.133333  \n",
       "5         0.133333  \n",
       "6         0.133333  \n",
       "7         0.133333  \n",
       "8         0.133333  \n",
       "9         0.133333  \n",
       "10        0.133333  \n",
       "11        0.133333  "
      ]
     },
     "execution_count": 36,
     "metadata": {},
     "output_type": "execute_result"
    }
   ],
   "source": [
    "total_parametros"
   ]
  },
  {
   "cell_type": "markdown",
   "id": "7143cfbb",
   "metadata": {},
   "source": [
    "# Creacion de modelos"
   ]
  },
  {
   "cell_type": "markdown",
   "id": "31be916a",
   "metadata": {},
   "source": [
    "## XGBClassifier "
   ]
  },
  {
   "cell_type": "code",
   "execution_count": 37,
   "id": "11a22efd",
   "metadata": {},
   "outputs": [],
   "source": [
    "from xgboost import XGBClassifier\n",
    "XGBClassifier = XGBClassifier(base_score=0.5, booster='gbtree', colsample_bylevel=1,\n",
    "              colsample_bynode=1, colsample_bytree=0.8, gamma=0, gpu_id=-1,\n",
    "              importance_type='gain', interaction_constraints='',\n",
    "              learning_rate=0.1, max_delta_step=0, max_depth=3,\n",
    "              min_child_weight=1, monotone_constraints='()',\n",
    "              n_estimators=1000, n_jobs=4, nthread=4, num_parallel_tree=1,\n",
    "              random_state=27, reg_alpha=0, reg_lambda=1, scale_pos_weight=1,\n",
    "              seed=27, subsample=0.8, tree_method='exact',\n",
    "              validate_parameters=1, verbosity=None)"
   ]
  },
  {
   "cell_type": "markdown",
   "id": "d9f4c53a",
   "metadata": {},
   "source": [
    "## Adabost"
   ]
  },
  {
   "cell_type": "code",
   "execution_count": 38,
   "id": "6b69d776",
   "metadata": {},
   "outputs": [],
   "source": [
    "from sklearn.tree import DecisionTreeClassifier\n",
    "from sklearn.ensemble import AdaBoostClassifier\n",
    "ada_clf = AdaBoostClassifier(base_estimator=DecisionTreeClassifier(max_depth=2,\n",
    "                                                         min_samples_leaf=5),\n",
    "                   learning_rate=0.01, n_estimators=10)"
   ]
  },
  {
   "cell_type": "markdown",
   "id": "11256c33",
   "metadata": {},
   "source": [
    "## Random Forest"
   ]
  },
  {
   "cell_type": "code",
   "execution_count": 39,
   "id": "e311fe19",
   "metadata": {},
   "outputs": [],
   "source": [
    "from sklearn.ensemble import RandomForestClassifier\n",
    "RandomForestClassifier = RandomForestClassifier(max_depth=10, min_samples_leaf=2, n_estimators=200)"
   ]
  },
  {
   "cell_type": "markdown",
   "id": "837f7413",
   "metadata": {},
   "source": [
    "## SVM"
   ]
  },
  {
   "cell_type": "code",
   "execution_count": 40,
   "id": "e3728f96",
   "metadata": {},
   "outputs": [],
   "source": [
    "from sklearn.svm import SVC\n",
    "svc = SVC(C=1, gamma=0.0001)"
   ]
  },
  {
   "cell_type": "markdown",
   "id": "3ed3c87b",
   "metadata": {},
   "source": [
    "## Red neuronal"
   ]
  },
  {
   "cell_type": "code",
   "execution_count": 41,
   "id": "261f5714",
   "metadata": {},
   "outputs": [
    {
     "name": "stdout",
     "output_type": "stream",
     "text": [
      "Model: \"sequential\"\n",
      "_________________________________________________________________\n",
      "Layer (type)                 Output Shape              Param #   \n",
      "=================================================================\n",
      "dense (Dense)                (None, 16)                16032     \n",
      "_________________________________________________________________\n",
      "dense_1 (Dense)              (None, 16)                272       \n",
      "_________________________________________________________________\n",
      "dense_2 (Dense)              (None, 1)                 17        \n",
      "=================================================================\n",
      "Total params: 16,321\n",
      "Trainable params: 16,321\n",
      "Non-trainable params: 0\n",
      "_________________________________________________________________\n"
     ]
    }
   ],
   "source": [
    "from keras.models import Sequential\n",
    "from keras import layers\n",
    "\n",
    "max_features = ear2.shape[1]\n",
    "\n",
    "model = Sequential()\n",
    "model.add(layers.Dense(16, activation='relu', input_shape=(max_features,)))\n",
    "model.add(layers.Dense(16, activation='relu'))\n",
    "model.add(layers.Dense(1, activation='sigmoid'))\n",
    "model.summary()\n",
    "model.compile(loss='binary_crossentropy', # Cross-entropy\n",
    "                    optimizer='rmsprop', # Root Mean Square Propagation\n",
    "                    metrics=['accuracy'])\n"
   ]
  },
  {
   "cell_type": "markdown",
   "id": "ef400605",
   "metadata": {},
   "source": [
    "# Spectograma despues del Filtro vancouver"
   ]
  },
  {
   "cell_type": "code",
   "execution_count": 42,
   "id": "d7405f65",
   "metadata": {},
   "outputs": [],
   "source": [
    "path_dataset = 'archive/thumbNailData.csv'\n",
    "eardata = pd.read_csv(path_dataset)\n",
    "eardata= (eardata.T.reset_index().T.reset_index(drop=True)\n",
    "            .set_axis([f'Q1.{i+1}' for i in range(eardata.shape[1])], axis=1))\n",
    "eardata= eardata.apply(pd.to_numeric, errors='coerce')"
   ]
  },
  {
   "cell_type": "markdown",
   "id": "4a18ec76",
   "metadata": {},
   "source": [
    "## XGBClassifier "
   ]
  },
  {
   "cell_type": "code",
   "execution_count": 43,
   "id": "beee1e7b",
   "metadata": {},
   "outputs": [
    {
     "name": "stdout",
     "output_type": "stream",
     "text": [
      "[21:32:48] WARNING: C:/Users/Administrator/workspace/xgboost-win64_release_1.4.0/src/learner.cc:1095: Starting in XGBoost 1.3.0, the default evaluation metric used with the objective 'binary:logistic' was changed from 'error' to 'logloss'. Explicitly set eval_metric if you'd like to restore the old behavior.\n",
      "[21:32:50] WARNING: C:/Users/Administrator/workspace/xgboost-win64_release_1.4.0/src/learner.cc:1095: Starting in XGBoost 1.3.0, the default evaluation metric used with the objective 'binary:logistic' was changed from 'error' to 'logloss'. Explicitly set eval_metric if you'd like to restore the old behavior.\n",
      "[21:32:52] WARNING: C:/Users/Administrator/workspace/xgboost-win64_release_1.4.0/src/learner.cc:1095: Starting in XGBoost 1.3.0, the default evaluation metric used with the objective 'binary:logistic' was changed from 'error' to 'logloss'. Explicitly set eval_metric if you'd like to restore the old behavior.\n",
      "[21:32:54] WARNING: C:/Users/Administrator/workspace/xgboost-win64_release_1.4.0/src/learner.cc:1095: Starting in XGBoost 1.3.0, the default evaluation metric used with the objective 'binary:logistic' was changed from 'error' to 'logloss'. Explicitly set eval_metric if you'd like to restore the old behavior.\n",
      "[21:32:56] WARNING: C:/Users/Administrator/workspace/xgboost-win64_release_1.4.0/src/learner.cc:1095: Starting in XGBoost 1.3.0, the default evaluation metric used with the objective 'binary:logistic' was changed from 'error' to 'logloss'. Explicitly set eval_metric if you'd like to restore the old behavior.\n",
      "Classification report:\n",
      "              precision    recall  f1-score   support\n",
      "\n",
      "         0.0       0.89      0.89      0.89         9\n",
      "         1.0       0.91      0.91      0.91        11\n",
      "\n",
      "    accuracy                           0.90        20\n",
      "   macro avg       0.90      0.90      0.90        20\n",
      "weighted avg       0.90      0.90      0.90        20\n",
      "\n"
     ]
    },
    {
     "data": {
      "image/png": "[encoded data removed]",
      "text/plain": [
       "<Figure size 432x288 with 2 Axes>"
      ]
     },
     "metadata": {
      "needs_background": "light"
     },
     "output_type": "display_data"
    },
    {
     "data": {
      "text/plain": [
       "<Figure size 432x288 with 0 Axes>"
      ]
     },
     "metadata": {},
     "output_type": "display_data"
    }
   ],
   "source": [
    "entrenamiento_and_report_simple(eardata,y,5,XGBClassifier)"
   ]
  },
  {
   "cell_type": "markdown",
   "id": "ae2d2dd1",
   "metadata": {},
   "source": [
    "## Adabost"
   ]
  },
  {
   "cell_type": "code",
   "execution_count": 44,
   "id": "a59c5d24",
   "metadata": {},
   "outputs": [
    {
     "name": "stdout",
     "output_type": "stream",
     "text": [
      "Classification report:\n",
      "              precision    recall  f1-score   support\n",
      "\n",
      "         0.0       0.89      1.00      0.94         8\n",
      "         1.0       1.00      0.92      0.96        12\n",
      "\n",
      "    accuracy                           0.95        20\n",
      "   macro avg       0.94      0.96      0.95        20\n",
      "weighted avg       0.96      0.95      0.95        20\n",
      "\n"
     ]
    },
    {
     "data": {
      "image/png": "[encoded data removed]",
      "text/plain": [
       "<Figure size 432x288 with 2 Axes>"
      ]
     },
     "metadata": {
      "needs_background": "light"
     },
     "output_type": "display_data"
    },
    {
     "data": {
      "text/plain": [
       "<Figure size 432x288 with 0 Axes>"
      ]
     },
     "metadata": {},
     "output_type": "display_data"
    }
   ],
   "source": [
    "entrenamiento_and_report_simple(eardata,y,5,ada_clf)"
   ]
  },
  {
   "cell_type": "markdown",
   "id": "9cb19105",
   "metadata": {},
   "source": [
    "## Random Forest"
   ]
  },
  {
   "cell_type": "code",
   "execution_count": 45,
   "id": "ca19fed9",
   "metadata": {},
   "outputs": [
    {
     "name": "stdout",
     "output_type": "stream",
     "text": [
      "Classification report:\n",
      "              precision    recall  f1-score   support\n",
      "\n",
      "         0.0       0.89      0.89      0.89         9\n",
      "         1.0       0.91      0.91      0.91        11\n",
      "\n",
      "    accuracy                           0.90        20\n",
      "   macro avg       0.90      0.90      0.90        20\n",
      "weighted avg       0.90      0.90      0.90        20\n",
      "\n"
     ]
    },
    {
     "data": {
      "image/png": "[encoded data removed]",
      "text/plain": [
       "<Figure size 432x288 with 2 Axes>"
      ]
     },
     "metadata": {
      "needs_background": "light"
     },
     "output_type": "display_data"
    },
    {
     "data": {
      "text/plain": [
       "<Figure size 432x288 with 0 Axes>"
      ]
     },
     "metadata": {},
     "output_type": "display_data"
    }
   ],
   "source": [
    "entrenamiento_and_report_simple(eardata,y,5,RandomForestClassifier)"
   ]
  },
  {
   "cell_type": "markdown",
   "id": "5380918c",
   "metadata": {},
   "source": [
    "## SVM"
   ]
  },
  {
   "cell_type": "code",
   "execution_count": 46,
   "id": "c3d8b1a5",
   "metadata": {},
   "outputs": [
    {
     "name": "stdout",
     "output_type": "stream",
     "text": [
      "Classification report:\n",
      "              precision    recall  f1-score   support\n",
      "\n",
      "         0.0       0.89      1.00      0.94         8\n",
      "         1.0       1.00      0.92      0.96        12\n",
      "\n",
      "    accuracy                           0.95        20\n",
      "   macro avg       0.94      0.96      0.95        20\n",
      "weighted avg       0.96      0.95      0.95        20\n",
      "\n"
     ]
    },
    {
     "data": {
      "image/png": "[encoded data removed]",
      "text/plain": [
       "<Figure size 432x288 with 2 Axes>"
      ]
     },
     "metadata": {
      "needs_background": "light"
     },
     "output_type": "display_data"
    },
    {
     "data": {
      "text/plain": [
       "<Figure size 432x288 with 0 Axes>"
      ]
     },
     "metadata": {},
     "output_type": "display_data"
    }
   ],
   "source": [
    "entrenamiento_and_report_simple(eardata,y,5,svc)"
   ]
  },
  {
   "cell_type": "markdown",
   "id": "0d4c3c13",
   "metadata": {},
   "source": [
    "## Red neuronal"
   ]
  },
  {
   "cell_type": "code",
   "execution_count": 47,
   "id": "718f1c43",
   "metadata": {},
   "outputs": [
    {
     "name": "stdout",
     "output_type": "stream",
     "text": [
      "[0, 0, 0, 0]\n",
      "Classification report:\n",
      "              precision    recall  f1-score   support\n",
      "\n",
      "         0.0       1.00      0.50      0.67         4\n",
      "         1.0       0.00      0.00      0.00         0\n",
      "\n",
      "    accuracy                           0.50         4\n",
      "   macro avg       0.50      0.25      0.33         4\n",
      "weighted avg       1.00      0.50      0.67         4\n",
      "\n"
     ]
    },
    {
     "data": {
      "image/png": "[encoded data removed]",
      "text/plain": [
       "<Figure size 432x288 with 2 Axes>"
      ]
     },
     "metadata": {
      "needs_background": "light"
     },
     "output_type": "display_data"
    },
    {
     "data": {
      "text/plain": [
       "<Figure size 432x288 with 0 Axes>"
      ]
     },
     "metadata": {},
     "output_type": "display_data"
    }
   ],
   "source": [
    "import tensorflow as tf\n",
    "from numpy import argmax\n",
    "from keras.utils.np_utils import to_categorical\n",
    "\n",
    "X_train, X_Test, y_train, y_test = train_test_split(eardata,y, test_size = 0.2,random_state=42)\n",
    "model.fit(X_train,\n",
    "          y_train,batch_size=512,\n",
    "          epochs=200,\n",
    "          verbose=0,\n",
    "          validation_split=0.2)\n",
    "\n",
    "\n",
    "predict_list=model.predict(X_Test)\n",
    "objetivo = argmax(predict_list, axis=-1).astype('int')\n",
    "y_classes = [np.argmax(y, axis=None, out=None) for y in predict_list]\n",
    "print(y_classes)\n",
    "\n",
    "\n",
    "\n",
    "matriz_confusion = confusion_matrix(y_test, objetivo)\n",
    "heatmap(matriz_confusion, annot=True, fmt=\"g\",cmap=\"YlGnBu\", yticklabels=[\"Healthy\", \"Diabetes tipo 2\"] ,xticklabels=[\"Healthy\", \"Diabetes tipo 2\"])\n",
    "plt.title(\"Confusion matrix\")\n",
    "plt.xlabel(\"Predicted\")\n",
    "plt.ylabel(\"Expected\")\n",
    "plt.figure()\n",
    "print(f\"Classification report:\\n{classification_report(objetivo, y_test)}\")"
   ]
  },
  {
   "cell_type": "code",
   "execution_count": 48,
   "id": "2d1ae89a",
   "metadata": {},
   "outputs": [
    {
     "data": {
      "text/plain": [
       "1     1.0\n",
       "18    0.0\n",
       "16    0.0\n",
       "2     1.0\n",
       "Name: has_DM2, dtype: float64"
      ]
     },
     "execution_count": 48,
     "metadata": {},
     "output_type": "execute_result"
    }
   ],
   "source": [
    "y_test"
   ]
  },
  {
   "cell_type": "markdown",
   "id": "d7062e17",
   "metadata": {},
   "source": [
    "# Spectograma despues del Filtro vancouver con PCA"
   ]
  },
  {
   "cell_type": "code",
   "execution_count": 49,
   "id": "e9c1e78d",
   "metadata": {},
   "outputs": [
    {
     "name": "stdout",
     "output_type": "stream",
     "text": [
      "shape of X_pca (20, 5)\n",
      "[9.94717700e-01 2.29358147e-03 7.16875638e-04 3.28976147e-04\n",
      " 2.65193249e-04]\n",
      "suma: 0.9983223265232373\n",
      "shape of X_pca (20, 5)\n",
      "[9.94717700e-01 2.29358147e-03 7.16875638e-04 3.28976147e-04\n",
      " 2.65193249e-04]\n",
      "suma: 0.9983223265232373\n"
     ]
    },
    {
     "data": {
      "image/png": "[encoded data removed]",
      "text/plain": [
       "<Figure size 432x288 with 1 Axes>"
      ]
     },
     "metadata": {
      "needs_background": "light"
     },
     "output_type": "display_data"
    }
   ],
   "source": [
    "eardata = PCA_conversion(eardata,5,\"thumbNail\")"
   ]
  },
  {
   "cell_type": "markdown",
   "id": "400ca8d4",
   "metadata": {},
   "source": [
    "## XGBClassifier"
   ]
  },
  {
   "cell_type": "code",
   "execution_count": 50,
   "id": "f3f49c41",
   "metadata": {},
   "outputs": [
    {
     "name": "stdout",
     "output_type": "stream",
     "text": [
      "[21:33:08] WARNING: C:/Users/Administrator/workspace/xgboost-win64_release_1.4.0/src/learner.cc:1095: Starting in XGBoost 1.3.0, the default evaluation metric used with the objective 'binary:logistic' was changed from 'error' to 'logloss'. Explicitly set eval_metric if you'd like to restore the old behavior.\n",
      "[21:33:08] WARNING: C:/Users/Administrator/workspace/xgboost-win64_release_1.4.0/src/learner.cc:1095: Starting in XGBoost 1.3.0, the default evaluation metric used with the objective 'binary:logistic' was changed from 'error' to 'logloss'. Explicitly set eval_metric if you'd like to restore the old behavior.\n",
      "[21:33:08] WARNING: C:/Users/Administrator/workspace/xgboost-win64_release_1.4.0/src/learner.cc:1095: Starting in XGBoost 1.3.0, the default evaluation metric used with the objective 'binary:logistic' was changed from 'error' to 'logloss'. Explicitly set eval_metric if you'd like to restore the old behavior.\n",
      "[21:33:08] WARNING: C:/Users/Administrator/workspace/xgboost-win64_release_1.4.0/src/learner.cc:1095: Starting in XGBoost 1.3.0, the default evaluation metric used with the objective 'binary:logistic' was changed from 'error' to 'logloss'. Explicitly set eval_metric if you'd like to restore the old behavior.\n",
      "[21:33:08] WARNING: C:/Users/Administrator/workspace/xgboost-win64_release_1.4.0/src/learner.cc:1095: Starting in XGBoost 1.3.0, the default evaluation metric used with the objective 'binary:logistic' was changed from 'error' to 'logloss'. Explicitly set eval_metric if you'd like to restore the old behavior.\n",
      "Classification report:\n",
      "              precision    recall  f1-score   support\n",
      "\n",
      "         0.0       0.89      0.89      0.89         9\n",
      "         1.0       0.91      0.91      0.91        11\n",
      "\n",
      "    accuracy                           0.90        20\n",
      "   macro avg       0.90      0.90      0.90        20\n",
      "weighted avg       0.90      0.90      0.90        20\n",
      "\n"
     ]
    },
    {
     "data": {
      "image/png": "[encoded data removed]",
      "text/plain": [
       "<Figure size 432x288 with 2 Axes>"
      ]
     },
     "metadata": {
      "needs_background": "light"
     },
     "output_type": "display_data"
    },
    {
     "data": {
      "text/plain": [
       "<Figure size 432x288 with 0 Axes>"
      ]
     },
     "metadata": {},
     "output_type": "display_data"
    }
   ],
   "source": [
    "entrenamiento_and_report_simple(eardata,y,5,XGBClassifier)"
   ]
  },
  {
   "cell_type": "markdown",
   "id": "09c7f50e",
   "metadata": {},
   "source": [
    "## Adabost"
   ]
  },
  {
   "cell_type": "code",
   "execution_count": 51,
   "id": "05667e22",
   "metadata": {},
   "outputs": [
    {
     "name": "stdout",
     "output_type": "stream",
     "text": [
      "Classification report:\n",
      "              precision    recall  f1-score   support\n",
      "\n",
      "         0.0       0.89      0.89      0.89         9\n",
      "         1.0       0.91      0.91      0.91        11\n",
      "\n",
      "    accuracy                           0.90        20\n",
      "   macro avg       0.90      0.90      0.90        20\n",
      "weighted avg       0.90      0.90      0.90        20\n",
      "\n"
     ]
    },
    {
     "data": {
      "image/png": "[encoded data removed]",
      "text/plain": [
       "<Figure size 432x288 with 2 Axes>"
      ]
     },
     "metadata": {
      "needs_background": "light"
     },
     "output_type": "display_data"
    },
    {
     "data": {
      "text/plain": [
       "<Figure size 432x288 with 0 Axes>"
      ]
     },
     "metadata": {},
     "output_type": "display_data"
    }
   ],
   "source": [
    "entrenamiento_and_report_simple(eardata,y,5,ada_clf)"
   ]
  },
  {
   "cell_type": "markdown",
   "id": "08823f67",
   "metadata": {},
   "source": [
    "## Random Forest"
   ]
  },
  {
   "cell_type": "code",
   "execution_count": 52,
   "id": "6cd82e15",
   "metadata": {},
   "outputs": [
    {
     "name": "stdout",
     "output_type": "stream",
     "text": [
      "Classification report:\n",
      "              precision    recall  f1-score   support\n",
      "\n",
      "         0.0       0.89      0.89      0.89         9\n",
      "         1.0       0.91      0.91      0.91        11\n",
      "\n",
      "    accuracy                           0.90        20\n",
      "   macro avg       0.90      0.90      0.90        20\n",
      "weighted avg       0.90      0.90      0.90        20\n",
      "\n"
     ]
    },
    {
     "data": {
      "image/png": "[encoded data removed]",
      "text/plain": [
       "<Figure size 432x288 with 2 Axes>"
      ]
     },
     "metadata": {
      "needs_background": "light"
     },
     "output_type": "display_data"
    },
    {
     "data": {
      "text/plain": [
       "<Figure size 432x288 with 0 Axes>"
      ]
     },
     "metadata": {},
     "output_type": "display_data"
    }
   ],
   "source": [
    "entrenamiento_and_report_simple(eardata,y,5,RandomForestClassifier)"
   ]
  },
  {
   "cell_type": "markdown",
   "id": "3a25ae94",
   "metadata": {},
   "source": [
    "## SVM"
   ]
  },
  {
   "cell_type": "code",
   "execution_count": 53,
   "id": "e763ae9e",
   "metadata": {},
   "outputs": [
    {
     "name": "stdout",
     "output_type": "stream",
     "text": [
      "Classification report:\n",
      "              precision    recall  f1-score   support\n",
      "\n",
      "         0.0       0.89      1.00      0.94         8\n",
      "         1.0       1.00      0.92      0.96        12\n",
      "\n",
      "    accuracy                           0.95        20\n",
      "   macro avg       0.94      0.96      0.95        20\n",
      "weighted avg       0.96      0.95      0.95        20\n",
      "\n"
     ]
    },
    {
     "data": {
      "image/png": "[encoded data removed]",
      "text/plain": [
       "<Figure size 432x288 with 2 Axes>"
      ]
     },
     "metadata": {
      "needs_background": "light"
     },
     "output_type": "display_data"
    },
    {
     "data": {
      "text/plain": [
       "<Figure size 432x288 with 0 Axes>"
      ]
     },
     "metadata": {},
     "output_type": "display_data"
    }
   ],
   "source": [
    "entrenamiento_and_report_simple(eardata,y,5,svc)"
   ]
  },
  {
   "cell_type": "markdown",
   "id": "7d52049f",
   "metadata": {},
   "source": [
    "## Red neuronal"
   ]
  },
  {
   "cell_type": "code",
   "execution_count": 54,
   "id": "b0c308f9",
   "metadata": {},
   "outputs": [
    {
     "name": "stdout",
     "output_type": "stream",
     "text": [
      "Model: \"sequential_1\"\n",
      "_________________________________________________________________\n",
      "Layer (type)                 Output Shape              Param #   \n",
      "=================================================================\n",
      "dense_3 (Dense)              (None, 16)                96        \n",
      "_________________________________________________________________\n",
      "dense_4 (Dense)              (None, 16)                272       \n",
      "_________________________________________________________________\n",
      "dense_5 (Dense)              (None, 1)                 17        \n",
      "=================================================================\n",
      "Total params: 385\n",
      "Trainable params: 385\n",
      "Non-trainable params: 0\n",
      "_________________________________________________________________\n",
      "[0, 0, 0, 0]\n",
      "Classification report:\n",
      "              precision    recall  f1-score   support\n",
      "\n",
      "         0.0       1.00      0.50      0.67         4\n",
      "         1.0       0.00      0.00      0.00         0\n",
      "\n",
      "    accuracy                           0.50         4\n",
      "   macro avg       0.50      0.25      0.33         4\n",
      "weighted avg       1.00      0.50      0.67         4\n",
      "\n"
     ]
    },
    {
     "data": {
      "image/png": "[encoded data removed]",
      "text/plain": [
       "<Figure size 432x288 with 2 Axes>"
      ]
     },
     "metadata": {
      "needs_background": "light"
     },
     "output_type": "display_data"
    },
    {
     "data": {
      "text/plain": [
       "<Figure size 432x288 with 0 Axes>"
      ]
     },
     "metadata": {},
     "output_type": "display_data"
    }
   ],
   "source": [
    "import tensorflow as tf\n",
    "from numpy import argmax\n",
    "from keras.utils.np_utils import to_categorical\n",
    "from keras.models import Sequential\n",
    "from keras import layers\n",
    "\n",
    "max_features = eardata.shape[1]\n",
    "\n",
    "model = Sequential()\n",
    "model.add(layers.Dense(16, activation='relu', input_shape=(max_features,)))\n",
    "model.add(layers.Dense(16, activation='relu'))\n",
    "model.add(layers.Dense(1, activation='sigmoid'))\n",
    "model.summary()\n",
    "model.compile(loss='binary_crossentropy', # Cross-entropy\n",
    "                    optimizer='rmsprop', # Root Mean Square Propagation\n",
    "                    metrics=['accuracy'])\n",
    "\n",
    "\n",
    "X_train, X_Test, y_train, y_test = train_test_split(eardata,y, test_size = 0.2,random_state=42)\n",
    "model.fit(X_train,\n",
    "          y_train,batch_size=512,\n",
    "          epochs=200,\n",
    "          verbose=0,\n",
    "          validation_split=0.2)\n",
    "\n",
    "\n",
    "predict_list=model.predict(X_Test)\n",
    "objetivo = argmax(predict_list, axis=-1).astype('int')\n",
    "y_classes = [np.argmax(y, axis=None, out=None) for y in predict_list]\n",
    "print(y_classes)\n",
    "\n",
    "\n",
    "\n",
    "matriz_confusion = confusion_matrix(y_test, objetivo)\n",
    "heatmap(matriz_confusion, annot=True, fmt=\"g\",cmap=\"YlGnBu\", yticklabels=[\"Healthy\", \"Diabetes tipo 2\"] ,xticklabels=[\"Healthy\", \"Diabetes tipo 2\"])\n",
    "plt.title(\"Confusion matrix\")\n",
    "plt.xlabel(\"Predicted\")\n",
    "plt.ylabel(\"Expected\")\n",
    "plt.figure()\n",
    "print(f\"Classification report:\\n{classification_report(objetivo, y_test)}\")"
   ]
  },
  {
   "cell_type": "markdown",
   "id": "c9d677e3",
   "metadata": {},
   "source": [
    "# Spectograma sin Filtro vancouver"
   ]
  },
  {
   "cell_type": "code",
   "execution_count": 55,
   "id": "4cbd90cb",
   "metadata": {},
   "outputs": [],
   "source": [
    "path_dataset = 'archive/thumbNail.csv'\n",
    "eardata = pd.read_csv(path_dataset)\n",
    "eardata = ear.iloc[0:]\n",
    "y = eardata['has_DM2']\n",
    "eardata = eardata.drop('patientID', axis=1)\n",
    "eardata = eardata.drop('has_DM2', axis=1)"
   ]
  },
  {
   "cell_type": "markdown",
   "id": "f7acf16b",
   "metadata": {},
   "source": [
    "## XGBClassifier"
   ]
  },
  {
   "cell_type": "code",
   "execution_count": 56,
   "id": "b021b3d6",
   "metadata": {},
   "outputs": [
    {
     "name": "stdout",
     "output_type": "stream",
     "text": [
      "[21:33:17] WARNING: C:/Users/Administrator/workspace/xgboost-win64_release_1.4.0/src/learner.cc:1095: Starting in XGBoost 1.3.0, the default evaluation metric used with the objective 'binary:logistic' was changed from 'error' to 'logloss'. Explicitly set eval_metric if you'd like to restore the old behavior.\n",
      "[21:33:22] WARNING: C:/Users/Administrator/workspace/xgboost-win64_release_1.4.0/src/learner.cc:1095: Starting in XGBoost 1.3.0, the default evaluation metric used with the objective 'binary:logistic' was changed from 'error' to 'logloss'. Explicitly set eval_metric if you'd like to restore the old behavior.\n",
      "[21:33:28] WARNING: C:/Users/Administrator/workspace/xgboost-win64_release_1.4.0/src/learner.cc:1095: Starting in XGBoost 1.3.0, the default evaluation metric used with the objective 'binary:logistic' was changed from 'error' to 'logloss'. Explicitly set eval_metric if you'd like to restore the old behavior.\n",
      "[21:33:34] WARNING: C:/Users/Administrator/workspace/xgboost-win64_release_1.4.0/src/learner.cc:1095: Starting in XGBoost 1.3.0, the default evaluation metric used with the objective 'binary:logistic' was changed from 'error' to 'logloss'. Explicitly set eval_metric if you'd like to restore the old behavior.\n",
      "[21:33:40] WARNING: C:/Users/Administrator/workspace/xgboost-win64_release_1.4.0/src/learner.cc:1095: Starting in XGBoost 1.3.0, the default evaluation metric used with the objective 'binary:logistic' was changed from 'error' to 'logloss'. Explicitly set eval_metric if you'd like to restore the old behavior.\n",
      "Classification report:\n",
      "              precision    recall  f1-score   support\n",
      "\n",
      "         0.0       0.22      0.40      0.29         5\n",
      "         1.0       0.73      0.53      0.62        15\n",
      "\n",
      "    accuracy                           0.50        20\n",
      "   macro avg       0.47      0.47      0.45        20\n",
      "weighted avg       0.60      0.50      0.53        20\n",
      "\n"
     ]
    },
    {
     "data": {
      "image/png": "[encoded data removed]",
      "text/plain": [
       "<Figure size 432x288 with 2 Axes>"
      ]
     },
     "metadata": {
      "needs_background": "light"
     },
     "output_type": "display_data"
    },
    {
     "data": {
      "text/plain": [
       "<Figure size 432x288 with 0 Axes>"
      ]
     },
     "metadata": {},
     "output_type": "display_data"
    }
   ],
   "source": [
    "entrenamiento_and_report_simple(eardata,y,5,XGBClassifier)"
   ]
  },
  {
   "cell_type": "markdown",
   "id": "ed363399",
   "metadata": {},
   "source": [
    "## Adabost"
   ]
  },
  {
   "cell_type": "code",
   "execution_count": 57,
   "id": "89513908",
   "metadata": {},
   "outputs": [
    {
     "name": "stdout",
     "output_type": "stream",
     "text": [
      "Classification report:\n",
      "              precision    recall  f1-score   support\n",
      "\n",
      "         0.0       0.44      0.44      0.44         9\n",
      "         1.0       0.55      0.55      0.55        11\n",
      "\n",
      "    accuracy                           0.50        20\n",
      "   macro avg       0.49      0.49      0.49        20\n",
      "weighted avg       0.50      0.50      0.50        20\n",
      "\n"
     ]
    },
    {
     "data": {
      "image/png": "[encoded data removed]",
      "text/plain": [
       "<Figure size 432x288 with 2 Axes>"
      ]
     },
     "metadata": {
      "needs_background": "light"
     },
     "output_type": "display_data"
    },
    {
     "data": {
      "text/plain": [
       "<Figure size 432x288 with 0 Axes>"
      ]
     },
     "metadata": {},
     "output_type": "display_data"
    }
   ],
   "source": [
    "entrenamiento_and_report_simple(eardata,y,5,ada_clf)"
   ]
  },
  {
   "cell_type": "markdown",
   "id": "70993860",
   "metadata": {},
   "source": [
    "## Random Forest"
   ]
  },
  {
   "cell_type": "code",
   "execution_count": 58,
   "id": "2b0367da",
   "metadata": {},
   "outputs": [
    {
     "name": "stdout",
     "output_type": "stream",
     "text": [
      "Classification report:\n",
      "              precision    recall  f1-score   support\n",
      "\n",
      "         0.0       0.22      0.33      0.27         6\n",
      "         1.0       0.64      0.50      0.56        14\n",
      "\n",
      "    accuracy                           0.45        20\n",
      "   macro avg       0.43      0.42      0.41        20\n",
      "weighted avg       0.51      0.45      0.47        20\n",
      "\n"
     ]
    },
    {
     "data": {
      "image/png": "[encoded data removed]",
      "text/plain": [
       "<Figure size 432x288 with 2 Axes>"
      ]
     },
     "metadata": {
      "needs_background": "light"
     },
     "output_type": "display_data"
    },
    {
     "data": {
      "text/plain": [
       "<Figure size 432x288 with 0 Axes>"
      ]
     },
     "metadata": {},
     "output_type": "display_data"
    }
   ],
   "source": [
    "entrenamiento_and_report_simple(eardata,y,5,RandomForestClassifier)"
   ]
  },
  {
   "cell_type": "markdown",
   "id": "f823aa20",
   "metadata": {},
   "source": [
    "## SVM"
   ]
  },
  {
   "cell_type": "code",
   "execution_count": 59,
   "id": "1e4f79a5",
   "metadata": {},
   "outputs": [
    {
     "name": "stdout",
     "output_type": "stream",
     "text": [
      "Classification report:\n",
      "              precision    recall  f1-score   support\n",
      "\n",
      "         0.0       0.00      0.00      0.00         0\n",
      "         1.0       1.00      0.55      0.71        20\n",
      "\n",
      "    accuracy                           0.55        20\n",
      "   macro avg       0.50      0.28      0.35        20\n",
      "weighted avg       1.00      0.55      0.71        20\n",
      "\n"
     ]
    },
    {
     "data": {
      "image/png": "[encoded data removed]",
      "text/plain": [
       "<Figure size 432x288 with 2 Axes>"
      ]
     },
     "metadata": {
      "needs_background": "light"
     },
     "output_type": "display_data"
    },
    {
     "data": {
      "text/plain": [
       "<Figure size 432x288 with 0 Axes>"
      ]
     },
     "metadata": {},
     "output_type": "display_data"
    }
   ],
   "source": [
    "entrenamiento_and_report_simple(eardata,y,5,svc)"
   ]
  },
  {
   "cell_type": "markdown",
   "id": "d194f623",
   "metadata": {},
   "source": [
    "## Red neuronal"
   ]
  },
  {
   "cell_type": "code",
   "execution_count": 60,
   "id": "0821606f",
   "metadata": {},
   "outputs": [
    {
     "name": "stdout",
     "output_type": "stream",
     "text": [
      "Model: \"sequential_2\"\n",
      "_________________________________________________________________\n",
      "Layer (type)                 Output Shape              Param #   \n",
      "=================================================================\n",
      "dense_6 (Dense)              (None, 16)                50576     \n",
      "_________________________________________________________________\n",
      "dense_7 (Dense)              (None, 16)                272       \n",
      "_________________________________________________________________\n",
      "dense_8 (Dense)              (None, 1)                 17        \n",
      "=================================================================\n",
      "Total params: 50,865\n",
      "Trainable params: 50,865\n",
      "Non-trainable params: 0\n",
      "_________________________________________________________________\n",
      "[0, 0, 0, 0]\n",
      "Classification report:\n",
      "              precision    recall  f1-score   support\n",
      "\n",
      "         0.0       1.00      0.50      0.67         4\n",
      "         1.0       0.00      0.00      0.00         0\n",
      "\n",
      "    accuracy                           0.50         4\n",
      "   macro avg       0.50      0.25      0.33         4\n",
      "weighted avg       1.00      0.50      0.67         4\n",
      "\n"
     ]
    },
    {
     "data": {
      "image/png": "[encoded data removed]",
      "text/plain": [
       "<Figure size 432x288 with 2 Axes>"
      ]
     },
     "metadata": {
      "needs_background": "light"
     },
     "output_type": "display_data"
    },
    {
     "data": {
      "text/plain": [
       "<Figure size 432x288 with 0 Axes>"
      ]
     },
     "metadata": {},
     "output_type": "display_data"
    }
   ],
   "source": [
    "import tensorflow as tf\n",
    "from numpy import argmax\n",
    "from keras.utils.np_utils import to_categorical\n",
    "from keras.models import Sequential\n",
    "from keras import layers\n",
    "\n",
    "max_features = eardata.shape[1]\n",
    "\n",
    "model = Sequential()\n",
    "model.add(layers.Dense(16, activation='relu', input_shape=(max_features,)))\n",
    "model.add(layers.Dense(16, activation='relu'))\n",
    "model.add(layers.Dense(1, activation='sigmoid'))\n",
    "model.summary()\n",
    "model.compile(loss='binary_crossentropy', # Cross-entropy\n",
    "                    optimizer='rmsprop', # Root Mean Square Propagation\n",
    "                    metrics=['accuracy'])\n",
    "\n",
    "X_train, X_Test, y_train, y_test = train_test_split(eardata,y, test_size = 0.2,random_state=42)\n",
    "model.fit(X_train,\n",
    "          y_train,batch_size=512,\n",
    "          epochs=200,\n",
    "          verbose=0,\n",
    "          validation_split=0.2)\n",
    "\n",
    "\n",
    "predict_list=model.predict(X_Test)\n",
    "objetivo = argmax(predict_list, axis=-1).astype('int')\n",
    "y_classes = [np.argmax(y, axis=None, out=None) for y in predict_list]\n",
    "print(y_classes)\n",
    "\n",
    "\n",
    "\n",
    "matriz_confusion = confusion_matrix(y_test, objetivo)\n",
    "heatmap(matriz_confusion, annot=True, fmt=\"g\",cmap=\"YlGnBu\", yticklabels=[\"Healthy\", \"Diabetes tipo 2\"] ,xticklabels=[\"Healthy\", \"Diabetes tipo 2\"])\n",
    "plt.title(\"Confusion matrix\")\n",
    "plt.xlabel(\"Predicted\")\n",
    "plt.ylabel(\"Expected\")\n",
    "plt.figure()\n",
    "print(f\"Classification report:\\n{classification_report(objetivo, y_test)}\")"
   ]
  },
  {
   "cell_type": "markdown",
   "id": "11239ee8",
   "metadata": {},
   "source": [
    "# Spectograma sin Filtro vancouver con PCA"
   ]
  },
  {
   "cell_type": "code",
   "execution_count": 61,
   "id": "8e87be47",
   "metadata": {},
   "outputs": [
    {
     "name": "stdout",
     "output_type": "stream",
     "text": [
      "shape of X_pca (20, 5)\n",
      "[0.83775836 0.11097886 0.00935474 0.00653265 0.00480287]\n",
      "suma: 0.9694274840228274\n",
      "shape of X_pca (20, 5)\n",
      "[0.83775836 0.11097886 0.00935474 0.00653265 0.00480287]\n",
      "suma: 0.9694274840228274\n"
     ]
    },
    {
     "data": {
      "image/png": "[encoded data removed]",
      "text/plain": [
       "<Figure size 432x288 with 1 Axes>"
      ]
     },
     "metadata": {
      "needs_background": "light"
     },
     "output_type": "display_data"
    }
   ],
   "source": [
    "eardata = PCA_conversion(eardata,5,\"thumbNail\")"
   ]
  },
  {
   "cell_type": "markdown",
   "id": "66747648",
   "metadata": {},
   "source": [
    "## XGBClassifier"
   ]
  },
  {
   "cell_type": "code",
   "execution_count": 62,
   "id": "ecd7e2a5",
   "metadata": {},
   "outputs": [
    {
     "name": "stdout",
     "output_type": "stream",
     "text": [
      "[21:33:53] WARNING: C:/Users/Administrator/workspace/xgboost-win64_release_1.4.0/src/learner.cc:1095: Starting in XGBoost 1.3.0, the default evaluation metric used with the objective 'binary:logistic' was changed from 'error' to 'logloss'. Explicitly set eval_metric if you'd like to restore the old behavior.\n",
      "[21:33:53] WARNING: C:/Users/Administrator/workspace/xgboost-win64_release_1.4.0/src/learner.cc:1095: Starting in XGBoost 1.3.0, the default evaluation metric used with the objective 'binary:logistic' was changed from 'error' to 'logloss'. Explicitly set eval_metric if you'd like to restore the old behavior.\n",
      "[21:33:53] WARNING: C:/Users/Administrator/workspace/xgboost-win64_release_1.4.0/src/learner.cc:1095: Starting in XGBoost 1.3.0, the default evaluation metric used with the objective 'binary:logistic' was changed from 'error' to 'logloss'. Explicitly set eval_metric if you'd like to restore the old behavior.\n",
      "[21:33:54] WARNING: C:/Users/Administrator/workspace/xgboost-win64_release_1.4.0/src/learner.cc:1095: Starting in XGBoost 1.3.0, the default evaluation metric used with the objective 'binary:logistic' was changed from 'error' to 'logloss'. Explicitly set eval_metric if you'd like to restore the old behavior.\n",
      "[21:33:54] WARNING: C:/Users/Administrator/workspace/xgboost-win64_release_1.4.0/src/learner.cc:1095: Starting in XGBoost 1.3.0, the default evaluation metric used with the objective 'binary:logistic' was changed from 'error' to 'logloss'. Explicitly set eval_metric if you'd like to restore the old behavior.\n",
      "Classification report:\n",
      "              precision    recall  f1-score   support\n",
      "\n",
      "         0.0       0.56      0.36      0.43        14\n",
      "         1.0       0.18      0.33      0.24         6\n",
      "\n",
      "    accuracy                           0.35        20\n",
      "   macro avg       0.37      0.35      0.34        20\n",
      "weighted avg       0.44      0.35      0.37        20\n",
      "\n"
     ]
    },
    {
     "data": {
      "image/png": "[encoded data removed]",
      "text/plain": [
       "<Figure size 432x288 with 2 Axes>"
      ]
     },
     "metadata": {
      "needs_background": "light"
     },
     "output_type": "display_data"
    },
    {
     "data": {
      "text/plain": [
       "<Figure size 432x288 with 0 Axes>"
      ]
     },
     "metadata": {},
     "output_type": "display_data"
    }
   ],
   "source": [
    "entrenamiento_and_report_simple(eardata,y,5,XGBClassifier)"
   ]
  },
  {
   "cell_type": "markdown",
   "id": "601ed37b",
   "metadata": {},
   "source": [
    "## Adabost"
   ]
  },
  {
   "cell_type": "code",
   "execution_count": 63,
   "id": "03e58643",
   "metadata": {},
   "outputs": [
    {
     "name": "stdout",
     "output_type": "stream",
     "text": [
      "Classification report:\n",
      "              precision    recall  f1-score   support\n",
      "\n",
      "         0.0       0.33      0.33      0.33         9\n",
      "         1.0       0.45      0.45      0.45        11\n",
      "\n",
      "    accuracy                           0.40        20\n",
      "   macro avg       0.39      0.39      0.39        20\n",
      "weighted avg       0.40      0.40      0.40        20\n",
      "\n"
     ]
    },
    {
     "data": {
      "image/png": "[encoded data removed]",
      "text/plain": [
       "<Figure size 432x288 with 2 Axes>"
      ]
     },
     "metadata": {
      "needs_background": "light"
     },
     "output_type": "display_data"
    },
    {
     "data": {
      "text/plain": [
       "<Figure size 432x288 with 0 Axes>"
      ]
     },
     "metadata": {},
     "output_type": "display_data"
    }
   ],
   "source": [
    "entrenamiento_and_report_simple(eardata,y,5,ada_clf)"
   ]
  },
  {
   "cell_type": "markdown",
   "id": "92125cb2",
   "metadata": {},
   "source": [
    "## Random Forest"
   ]
  },
  {
   "cell_type": "code",
   "execution_count": 64,
   "id": "ee34bc26",
   "metadata": {},
   "outputs": [
    {
     "name": "stdout",
     "output_type": "stream",
     "text": [
      "Classification report:\n",
      "              precision    recall  f1-score   support\n",
      "\n",
      "         0.0       0.33      0.33      0.33         9\n",
      "         1.0       0.45      0.45      0.45        11\n",
      "\n",
      "    accuracy                           0.40        20\n",
      "   macro avg       0.39      0.39      0.39        20\n",
      "weighted avg       0.40      0.40      0.40        20\n",
      "\n"
     ]
    },
    {
     "data": {
      "image/png": "[encoded data removed]",
      "text/plain": [
       "<Figure size 432x288 with 2 Axes>"
      ]
     },
     "metadata": {
      "needs_background": "light"
     },
     "output_type": "display_data"
    },
    {
     "data": {
      "text/plain": [
       "<Figure size 432x288 with 0 Axes>"
      ]
     },
     "metadata": {},
     "output_type": "display_data"
    }
   ],
   "source": [
    "entrenamiento_and_report_simple(eardata,y,5,RandomForestClassifier)"
   ]
  },
  {
   "cell_type": "markdown",
   "id": "6b2eed75",
   "metadata": {},
   "source": [
    "## SVM"
   ]
  },
  {
   "cell_type": "code",
   "execution_count": 65,
   "id": "11a65483",
   "metadata": {},
   "outputs": [
    {
     "name": "stdout",
     "output_type": "stream",
     "text": [
      "Classification report:\n",
      "              precision    recall  f1-score   support\n",
      "\n",
      "         0.0       0.11      0.25      0.15         4\n",
      "         1.0       0.73      0.50      0.59        16\n",
      "\n",
      "    accuracy                           0.45        20\n",
      "   macro avg       0.42      0.38      0.37        20\n",
      "weighted avg       0.60      0.45      0.50        20\n",
      "\n"
     ]
    },
    {
     "data": {
      "image/png": "[encoded data removed]",
      "text/plain": [
       "<Figure size 432x288 with 2 Axes>"
      ]
     },
     "metadata": {
      "needs_background": "light"
     },
     "output_type": "display_data"
    },
    {
     "data": {
      "text/plain": [
       "<Figure size 432x288 with 0 Axes>"
      ]
     },
     "metadata": {},
     "output_type": "display_data"
    }
   ],
   "source": [
    "entrenamiento_and_report_simple(eardata,y,5,svc)"
   ]
  },
  {
   "cell_type": "markdown",
   "id": "67b0fe49",
   "metadata": {},
   "source": [
    "## Red neuronal"
   ]
  },
  {
   "cell_type": "code",
   "execution_count": 66,
   "id": "d48fded0",
   "metadata": {},
   "outputs": [
    {
     "name": "stdout",
     "output_type": "stream",
     "text": [
      "Model: \"sequential_3\"\n",
      "_________________________________________________________________\n",
      "Layer (type)                 Output Shape              Param #   \n",
      "=================================================================\n",
      "dense_9 (Dense)              (None, 16)                96        \n",
      "_________________________________________________________________\n",
      "dense_10 (Dense)             (None, 16)                272       \n",
      "_________________________________________________________________\n",
      "dense_11 (Dense)             (None, 1)                 17        \n",
      "=================================================================\n",
      "Total params: 385\n",
      "Trainable params: 385\n",
      "Non-trainable params: 0\n",
      "_________________________________________________________________\n",
      "[0, 0, 0, 0]\n",
      "Classification report:\n",
      "              precision    recall  f1-score   support\n",
      "\n",
      "         0.0       1.00      0.50      0.67         4\n",
      "         1.0       0.00      0.00      0.00         0\n",
      "\n",
      "    accuracy                           0.50         4\n",
      "   macro avg       0.50      0.25      0.33         4\n",
      "weighted avg       1.00      0.50      0.67         4\n",
      "\n"
     ]
    },
    {
     "data": {
      "image/png": "[encoded data removed]",
      "text/plain": [
       "<Figure size 432x288 with 2 Axes>"
      ]
     },
     "metadata": {
      "needs_background": "light"
     },
     "output_type": "display_data"
    },
    {
     "data": {
      "text/plain": [
       "<Figure size 432x288 with 0 Axes>"
      ]
     },
     "metadata": {},
     "output_type": "display_data"
    }
   ],
   "source": [
    "import tensorflow as tf\n",
    "from numpy import argmax\n",
    "from keras.utils.np_utils import to_categorical\n",
    "from keras.models import Sequential\n",
    "from keras import layers\n",
    "\n",
    "max_features = eardata.shape[1]\n",
    "\n",
    "model = Sequential()\n",
    "model.add(layers.Dense(16, activation='relu', input_shape=(max_features,)))\n",
    "model.add(layers.Dense(16, activation='relu'))\n",
    "model.add(layers.Dense(1, activation='sigmoid'))\n",
    "model.summary()\n",
    "model.compile(loss='binary_crossentropy', # Cross-entropy\n",
    "                    optimizer='rmsprop', # Root Mean Square Propagation\n",
    "                    metrics=['accuracy'])\n",
    "\n",
    "X_train, X_Test, y_train, y_test = train_test_split(eardata,y, test_size = 0.2,random_state=42)\n",
    "model.fit(X_train,\n",
    "          y_train,batch_size=512,\n",
    "          epochs=200,\n",
    "          verbose=0,\n",
    "          validation_split=0.2)\n",
    "\n",
    "\n",
    "predict_list=model.predict(X_Test)\n",
    "objetivo = argmax(predict_list, axis=-1).astype('int')\n",
    "y_classes = [np.argmax(y, axis=None, out=None) for y in predict_list]\n",
    "print(y_classes)\n",
    "\n",
    "\n",
    "\n",
    "matriz_confusion = confusion_matrix(y_test, objetivo)\n",
    "heatmap(matriz_confusion, annot=True, fmt=\"g\",cmap=\"YlGnBu\", yticklabels=[\"Healthy\", \"Diabetes tipo 2\"] ,xticklabels=[\"Healthy\", \"Diabetes tipo 2\"])\n",
    "plt.title(\"Confusion matrix\")\n",
    "plt.xlabel(\"Predicted\")\n",
    "plt.ylabel(\"Expected\")\n",
    "plt.figure()\n",
    "print(f\"Classification report:\\n{classification_report(objetivo, y_test)}\")"
   ]
  },
  {
   "cell_type": "markdown",
   "id": "f93d625e",
   "metadata": {},
   "source": [
    "# Spectograma recortado sin Filtro vancouver  "
   ]
  },
  {
   "cell_type": "code",
   "execution_count": 67,
   "id": "9f356c0a",
   "metadata": {},
   "outputs": [],
   "source": [
    "path_dataset = 'archive/thumbNail.csv'\n",
    "eardata = pd.read_csv(path_dataset)\n",
    "eardata = ear.iloc[0:]\n",
    "y = eardata['has_DM2']\n",
    "eardata = eardata.drop('patientID', axis=1)\n",
    "eardata = eardata.drop('has_DM2', axis=1)\n",
    "eardata = eardata.iloc[: , 800:]\n",
    "eardata = eardata.iloc[: , :1000]"
   ]
  },
  {
   "cell_type": "markdown",
   "id": "f332b790",
   "metadata": {},
   "source": [
    "## XGBClassifier"
   ]
  },
  {
   "cell_type": "code",
   "execution_count": 68,
   "id": "5654fac2",
   "metadata": {},
   "outputs": [
    {
     "name": "stdout",
     "output_type": "stream",
     "text": [
      "[21:34:02] WARNING: C:/Users/Administrator/workspace/xgboost-win64_release_1.4.0/src/learner.cc:1095: Starting in XGBoost 1.3.0, the default evaluation metric used with the objective 'binary:logistic' was changed from 'error' to 'logloss'. Explicitly set eval_metric if you'd like to restore the old behavior.\n",
      "[21:34:04] WARNING: C:/Users/Administrator/workspace/xgboost-win64_release_1.4.0/src/learner.cc:1095: Starting in XGBoost 1.3.0, the default evaluation metric used with the objective 'binary:logistic' was changed from 'error' to 'logloss'. Explicitly set eval_metric if you'd like to restore the old behavior.\n",
      "[21:34:05] WARNING: C:/Users/Administrator/workspace/xgboost-win64_release_1.4.0/src/learner.cc:1095: Starting in XGBoost 1.3.0, the default evaluation metric used with the objective 'binary:logistic' was changed from 'error' to 'logloss'. Explicitly set eval_metric if you'd like to restore the old behavior.\n",
      "[21:34:07] WARNING: C:/Users/Administrator/workspace/xgboost-win64_release_1.4.0/src/learner.cc:1095: Starting in XGBoost 1.3.0, the default evaluation metric used with the objective 'binary:logistic' was changed from 'error' to 'logloss'. Explicitly set eval_metric if you'd like to restore the old behavior.\n",
      "[21:34:09] WARNING: C:/Users/Administrator/workspace/xgboost-win64_release_1.4.0/src/learner.cc:1095: Starting in XGBoost 1.3.0, the default evaluation metric used with the objective 'binary:logistic' was changed from 'error' to 'logloss'. Explicitly set eval_metric if you'd like to restore the old behavior.\n",
      "Classification report:\n",
      "              precision    recall  f1-score   support\n",
      "\n",
      "         0.0       0.22      0.33      0.27         6\n",
      "         1.0       0.64      0.50      0.56        14\n",
      "\n",
      "    accuracy                           0.45        20\n",
      "   macro avg       0.43      0.42      0.41        20\n",
      "weighted avg       0.51      0.45      0.47        20\n",
      "\n"
     ]
    },
    {
     "data": {
      "image/png": "[encoded data removed]",
      "text/plain": [
       "<Figure size 432x288 with 2 Axes>"
      ]
     },
     "metadata": {
      "needs_background": "light"
     },
     "output_type": "display_data"
    },
    {
     "data": {
      "text/plain": [
       "<Figure size 432x288 with 0 Axes>"
      ]
     },
     "metadata": {},
     "output_type": "display_data"
    }
   ],
   "source": [
    "entrenamiento_and_report_simple(eardata,y,5,XGBClassifier)"
   ]
  },
  {
   "cell_type": "markdown",
   "id": "05c3084c",
   "metadata": {},
   "source": [
    "## Adabost"
   ]
  },
  {
   "cell_type": "code",
   "execution_count": 69,
   "id": "5ddf451a",
   "metadata": {},
   "outputs": [
    {
     "name": "stdout",
     "output_type": "stream",
     "text": [
      "Classification report:\n",
      "              precision    recall  f1-score   support\n",
      "\n",
      "         0.0       0.33      0.43      0.38         7\n",
      "         1.0       0.64      0.54      0.58        13\n",
      "\n",
      "    accuracy                           0.50        20\n",
      "   macro avg       0.48      0.48      0.48        20\n",
      "weighted avg       0.53      0.50      0.51        20\n",
      "\n"
     ]
    },
    {
     "data": {
      "image/png": "[encoded data removed]",
      "text/plain": [
       "<Figure size 432x288 with 2 Axes>"
      ]
     },
     "metadata": {
      "needs_background": "light"
     },
     "output_type": "display_data"
    },
    {
     "data": {
      "text/plain": [
       "<Figure size 432x288 with 0 Axes>"
      ]
     },
     "metadata": {},
     "output_type": "display_data"
    }
   ],
   "source": [
    "entrenamiento_and_report_simple(eardata,y,5,ada_clf)"
   ]
  },
  {
   "cell_type": "markdown",
   "id": "88ad8752",
   "metadata": {},
   "source": [
    "## Random Forest"
   ]
  },
  {
   "cell_type": "code",
   "execution_count": 70,
   "id": "fd618680",
   "metadata": {},
   "outputs": [
    {
     "name": "stdout",
     "output_type": "stream",
     "text": [
      "Classification report:\n",
      "              precision    recall  f1-score   support\n",
      "\n",
      "         0.0       0.11      0.20      0.14         5\n",
      "         1.0       0.64      0.47      0.54        15\n",
      "\n",
      "    accuracy                           0.40        20\n",
      "   macro avg       0.37      0.33      0.34        20\n",
      "weighted avg       0.51      0.40      0.44        20\n",
      "\n"
     ]
    },
    {
     "data": {
      "image/png": "[encoded data removed]",
      "text/plain": [
       "<Figure size 432x288 with 2 Axes>"
      ]
     },
     "metadata": {
      "needs_background": "light"
     },
     "output_type": "display_data"
    },
    {
     "data": {
      "text/plain": [
       "<Figure size 432x288 with 0 Axes>"
      ]
     },
     "metadata": {},
     "output_type": "display_data"
    }
   ],
   "source": [
    "entrenamiento_and_report_simple(eardata,y,5,RandomForestClassifier)"
   ]
  },
  {
   "cell_type": "markdown",
   "id": "e8582c2d",
   "metadata": {},
   "source": [
    "## SVM"
   ]
  },
  {
   "cell_type": "code",
   "execution_count": 71,
   "id": "3971f5f0",
   "metadata": {},
   "outputs": [
    {
     "name": "stdout",
     "output_type": "stream",
     "text": [
      "Classification report:\n",
      "              precision    recall  f1-score   support\n",
      "\n",
      "         0.0       0.11      0.25      0.15         4\n",
      "         1.0       0.73      0.50      0.59        16\n",
      "\n",
      "    accuracy                           0.45        20\n",
      "   macro avg       0.42      0.38      0.37        20\n",
      "weighted avg       0.60      0.45      0.50        20\n",
      "\n"
     ]
    },
    {
     "data": {
      "image/png": "[encoded data removed]",
      "text/plain": [
       "<Figure size 432x288 with 2 Axes>"
      ]
     },
     "metadata": {
      "needs_background": "light"
     },
     "output_type": "display_data"
    },
    {
     "data": {
      "text/plain": [
       "<Figure size 432x288 with 0 Axes>"
      ]
     },
     "metadata": {},
     "output_type": "display_data"
    }
   ],
   "source": [
    "entrenamiento_and_report_simple(eardata,y,5,svc)"
   ]
  },
  {
   "cell_type": "markdown",
   "id": "5d625575",
   "metadata": {},
   "source": [
    "## Red neuronal"
   ]
  },
  {
   "cell_type": "code",
   "execution_count": 72,
   "id": "1f8318cb",
   "metadata": {},
   "outputs": [
    {
     "name": "stdout",
     "output_type": "stream",
     "text": [
      "Model: \"sequential_4\"\n",
      "_________________________________________________________________\n",
      "Layer (type)                 Output Shape              Param #   \n",
      "=================================================================\n",
      "dense_12 (Dense)             (None, 16)                16016     \n",
      "_________________________________________________________________\n",
      "dense_13 (Dense)             (None, 16)                272       \n",
      "_________________________________________________________________\n",
      "dense_14 (Dense)             (None, 1)                 17        \n",
      "=================================================================\n",
      "Total params: 16,305\n",
      "Trainable params: 16,305\n",
      "Non-trainable params: 0\n",
      "_________________________________________________________________\n",
      "WARNING:tensorflow:5 out of the last 5 calls to <function Model.make_predict_function.<locals>.predict_function at 0x00000238BF2868B0> triggered tf.function retracing. Tracing is expensive and the excessive number of tracings could be due to (1) creating @tf.function repeatedly in a loop, (2) passing tensors with different shapes, (3) passing Python objects instead of tensors. For (1), please define your @tf.function outside of the loop. For (2), @tf.function has experimental_relax_shapes=True option that relaxes argument shapes that can avoid unnecessary retracing. For (3), please refer to https://www.tensorflow.org/guide/function#controlling_retracing and https://www.tensorflow.org/api_docs/python/tf/function for  more details.\n",
      "[0, 0, 0, 0]\n",
      "Classification report:\n",
      "              precision    recall  f1-score   support\n",
      "\n",
      "         0.0       1.00      0.50      0.67         4\n",
      "         1.0       0.00      0.00      0.00         0\n",
      "\n",
      "    accuracy                           0.50         4\n",
      "   macro avg       0.50      0.25      0.33         4\n",
      "weighted avg       1.00      0.50      0.67         4\n",
      "\n"
     ]
    },
    {
     "data": {
      "image/png": "[encoded data removed]",
      "text/plain": [
       "<Figure size 432x288 with 2 Axes>"
      ]
     },
     "metadata": {
      "needs_background": "light"
     },
     "output_type": "display_data"
    },
    {
     "data": {
      "text/plain": [
       "<Figure size 432x288 with 0 Axes>"
      ]
     },
     "metadata": {},
     "output_type": "display_data"
    }
   ],
   "source": [
    "import tensorflow as tf\n",
    "from numpy import argmax\n",
    "from keras.utils.np_utils import to_categorical\n",
    "from keras.models import Sequential\n",
    "from keras import layers\n",
    "\n",
    "max_features = eardata.shape[1]\n",
    "\n",
    "model = Sequential()\n",
    "model.add(layers.Dense(16, activation='relu', input_shape=(max_features,)))\n",
    "model.add(layers.Dense(16, activation='relu'))\n",
    "model.add(layers.Dense(1, activation='sigmoid'))\n",
    "model.summary()\n",
    "model.compile(loss='binary_crossentropy', # Cross-entropy\n",
    "                    optimizer='rmsprop', # Root Mean Square Propagation\n",
    "                    metrics=['accuracy'])\n",
    "\n",
    "X_train, X_Test, y_train, y_test = train_test_split(eardata,y, test_size = 0.2,random_state=42)\n",
    "model.fit(X_train,\n",
    "          y_train,batch_size=512,\n",
    "          epochs=200,\n",
    "          verbose=0,\n",
    "          validation_split=0.2)\n",
    "\n",
    "\n",
    "predict_list=model.predict(X_Test)\n",
    "objetivo = argmax(predict_list, axis=-1).astype('int')\n",
    "y_classes = [np.argmax(y, axis=None, out=None) for y in predict_list]\n",
    "print(y_classes)\n",
    "\n",
    "\n",
    "\n",
    "matriz_confusion = confusion_matrix(y_test, objetivo)\n",
    "heatmap(matriz_confusion, annot=True, fmt=\"g\",cmap=\"YlGnBu\", yticklabels=[\"Healthy\", \"Diabetes tipo 2\"] ,xticklabels=[\"Healthy\", \"Diabetes tipo 2\"])\n",
    "plt.title(\"Confusion matrix\")\n",
    "plt.xlabel(\"Predicted\")\n",
    "plt.ylabel(\"Expected\")\n",
    "plt.figure()\n",
    "print(f\"Classification report:\\n{classification_report(objetivo, y_test)}\")"
   ]
  },
  {
   "cell_type": "markdown",
   "id": "3f0b3445",
   "metadata": {},
   "source": [
    "# Spectograma recortado sin Filtro vancouver   con PCA"
   ]
  },
  {
   "cell_type": "code",
   "execution_count": 73,
   "id": "53ada1d1",
   "metadata": {},
   "outputs": [
    {
     "name": "stdout",
     "output_type": "stream",
     "text": [
      "shape of X_pca (20, 5)\n",
      "[0.96982081 0.01329064 0.00391548 0.00182688 0.00150615]\n",
      "suma: 0.9903599698618932\n",
      "shape of X_pca (20, 5)\n",
      "[0.96982081 0.01329064 0.00391548 0.00182688 0.00150615]\n",
      "suma: 0.9903599698618932\n"
     ]
    },
    {
     "data": {
      "image/png": "[encoded data removed]",
      "text/plain": [
       "<Figure size 432x288 with 1 Axes>"
      ]
     },
     "metadata": {
      "needs_background": "light"
     },
     "output_type": "display_data"
    }
   ],
   "source": [
    "eardata = PCA_conversion(eardata,5,\"thumbNail\")"
   ]
  },
  {
   "cell_type": "markdown",
   "id": "a0d92b24",
   "metadata": {},
   "source": [
    "## XGBClassifier"
   ]
  },
  {
   "cell_type": "code",
   "execution_count": 74,
   "id": "9b98a5d2",
   "metadata": {},
   "outputs": [
    {
     "name": "stdout",
     "output_type": "stream",
     "text": [
      "[21:34:18] WARNING: C:/Users/Administrator/workspace/xgboost-win64_release_1.4.0/src/learner.cc:1095: Starting in XGBoost 1.3.0, the default evaluation metric used with the objective 'binary:logistic' was changed from 'error' to 'logloss'. Explicitly set eval_metric if you'd like to restore the old behavior.\n",
      "[21:34:18] WARNING: C:/Users/Administrator/workspace/xgboost-win64_release_1.4.0/src/learner.cc:1095: Starting in XGBoost 1.3.0, the default evaluation metric used with the objective 'binary:logistic' was changed from 'error' to 'logloss'. Explicitly set eval_metric if you'd like to restore the old behavior.\n",
      "[21:34:19] WARNING: C:/Users/Administrator/workspace/xgboost-win64_release_1.4.0/src/learner.cc:1095: Starting in XGBoost 1.3.0, the default evaluation metric used with the objective 'binary:logistic' was changed from 'error' to 'logloss'. Explicitly set eval_metric if you'd like to restore the old behavior.\n",
      "[21:34:19] WARNING: C:/Users/Administrator/workspace/xgboost-win64_release_1.4.0/src/learner.cc:1095: Starting in XGBoost 1.3.0, the default evaluation metric used with the objective 'binary:logistic' was changed from 'error' to 'logloss'. Explicitly set eval_metric if you'd like to restore the old behavior.\n",
      "[21:34:19] WARNING: C:/Users/Administrator/workspace/xgboost-win64_release_1.4.0/src/learner.cc:1095: Starting in XGBoost 1.3.0, the default evaluation metric used with the objective 'binary:logistic' was changed from 'error' to 'logloss'. Explicitly set eval_metric if you'd like to restore the old behavior.\n",
      "Classification report:\n",
      "              precision    recall  f1-score   support\n",
      "\n",
      "         0.0       0.22      0.22      0.22         9\n",
      "         1.0       0.36      0.36      0.36        11\n",
      "\n",
      "    accuracy                           0.30        20\n",
      "   macro avg       0.29      0.29      0.29        20\n",
      "weighted avg       0.30      0.30      0.30        20\n",
      "\n"
     ]
    },
    {
     "data": {
      "image/png": "[encoded data removed]",
      "text/plain": [
       "<Figure size 432x288 with 2 Axes>"
      ]
     },
     "metadata": {
      "needs_background": "light"
     },
     "output_type": "display_data"
    },
    {
     "data": {
      "text/plain": [
       "<Figure size 432x288 with 0 Axes>"
      ]
     },
     "metadata": {},
     "output_type": "display_data"
    }
   ],
   "source": [
    "entrenamiento_and_report_simple(eardata,y,5,XGBClassifier)"
   ]
  },
  {
   "cell_type": "markdown",
   "id": "9c5280b4",
   "metadata": {},
   "source": [
    "## Adabost"
   ]
  },
  {
   "cell_type": "code",
   "execution_count": 75,
   "id": "5800490c",
   "metadata": {},
   "outputs": [
    {
     "name": "stdout",
     "output_type": "stream",
     "text": [
      "Classification report:\n",
      "              precision    recall  f1-score   support\n",
      "\n",
      "         0.0       0.44      0.36      0.40        11\n",
      "         1.0       0.36      0.44      0.40         9\n",
      "\n",
      "    accuracy                           0.40        20\n",
      "   macro avg       0.40      0.40      0.40        20\n",
      "weighted avg       0.41      0.40      0.40        20\n",
      "\n"
     ]
    },
    {
     "data": {
      "image/png": "[encoded data removed]",
      "text/plain": [
       "<Figure size 432x288 with 2 Axes>"
      ]
     },
     "metadata": {
      "needs_background": "light"
     },
     "output_type": "display_data"
    },
    {
     "data": {
      "text/plain": [
       "<Figure size 432x288 with 0 Axes>"
      ]
     },
     "metadata": {},
     "output_type": "display_data"
    }
   ],
   "source": [
    "entrenamiento_and_report_simple(eardata,y,5,ada_clf)"
   ]
  },
  {
   "cell_type": "markdown",
   "id": "0f45b7ed",
   "metadata": {},
   "source": [
    "## Random Forest"
   ]
  },
  {
   "cell_type": "code",
   "execution_count": 76,
   "id": "c92c2103",
   "metadata": {},
   "outputs": [
    {
     "name": "stdout",
     "output_type": "stream",
     "text": [
      "Classification report:\n",
      "              precision    recall  f1-score   support\n",
      "\n",
      "         0.0       0.33      0.38      0.35         8\n",
      "         1.0       0.55      0.50      0.52        12\n",
      "\n",
      "    accuracy                           0.45        20\n",
      "   macro avg       0.44      0.44      0.44        20\n",
      "weighted avg       0.46      0.45      0.45        20\n",
      "\n"
     ]
    },
    {
     "data": {
      "image/png": "[encoded data removed]",
      "text/plain": [
       "<Figure size 432x288 with 2 Axes>"
      ]
     },
     "metadata": {
      "needs_background": "light"
     },
     "output_type": "display_data"
    },
    {
     "data": {
      "text/plain": [
       "<Figure size 432x288 with 0 Axes>"
      ]
     },
     "metadata": {},
     "output_type": "display_data"
    }
   ],
   "source": [
    "entrenamiento_and_report_simple(eardata,y,5,RandomForestClassifier)"
   ]
  },
  {
   "cell_type": "markdown",
   "id": "d4b42073",
   "metadata": {},
   "source": [
    "## SVM"
   ]
  },
  {
   "cell_type": "code",
   "execution_count": 77,
   "id": "498f9c31",
   "metadata": {},
   "outputs": [
    {
     "name": "stdout",
     "output_type": "stream",
     "text": [
      "Classification report:\n",
      "              precision    recall  f1-score   support\n",
      "\n",
      "         0.0       0.11      0.25      0.15         4\n",
      "         1.0       0.73      0.50      0.59        16\n",
      "\n",
      "    accuracy                           0.45        20\n",
      "   macro avg       0.42      0.38      0.37        20\n",
      "weighted avg       0.60      0.45      0.50        20\n",
      "\n"
     ]
    },
    {
     "data": {
      "image/png": "[encoded data removed]",
      "text/plain": [
       "<Figure size 432x288 with 2 Axes>"
      ]
     },
     "metadata": {
      "needs_background": "light"
     },
     "output_type": "display_data"
    },
    {
     "data": {
      "text/plain": [
       "<Figure size 432x288 with 0 Axes>"
      ]
     },
     "metadata": {},
     "output_type": "display_data"
    }
   ],
   "source": [
    "entrenamiento_and_report_simple(eardata,y,5,svc)"
   ]
  },
  {
   "cell_type": "markdown",
   "id": "20831614",
   "metadata": {},
   "source": [
    "## Red neuronal"
   ]
  },
  {
   "cell_type": "code",
   "execution_count": 78,
   "id": "83185f41",
   "metadata": {},
   "outputs": [
    {
     "name": "stdout",
     "output_type": "stream",
     "text": [
      "Model: \"sequential_5\"\n",
      "_________________________________________________________________\n",
      "Layer (type)                 Output Shape              Param #   \n",
      "=================================================================\n",
      "dense_15 (Dense)             (None, 16)                96        \n",
      "_________________________________________________________________\n",
      "dense_16 (Dense)             (None, 16)                272       \n",
      "_________________________________________________________________\n",
      "dense_17 (Dense)             (None, 1)                 17        \n",
      "=================================================================\n",
      "Total params: 385\n",
      "Trainable params: 385\n",
      "Non-trainable params: 0\n",
      "_________________________________________________________________\n",
      "WARNING:tensorflow:6 out of the last 6 calls to <function Model.make_predict_function.<locals>.predict_function at 0x00000238BF2861F0> triggered tf.function retracing. Tracing is expensive and the excessive number of tracings could be due to (1) creating @tf.function repeatedly in a loop, (2) passing tensors with different shapes, (3) passing Python objects instead of tensors. For (1), please define your @tf.function outside of the loop. For (2), @tf.function has experimental_relax_shapes=True option that relaxes argument shapes that can avoid unnecessary retracing. For (3), please refer to https://www.tensorflow.org/guide/function#controlling_retracing and https://www.tensorflow.org/api_docs/python/tf/function for  more details.\n",
      "[0, 0, 0, 0]\n",
      "Classification report:\n",
      "              precision    recall  f1-score   support\n",
      "\n",
      "         0.0       1.00      0.50      0.67         4\n",
      "         1.0       0.00      0.00      0.00         0\n",
      "\n",
      "    accuracy                           0.50         4\n",
      "   macro avg       0.50      0.25      0.33         4\n",
      "weighted avg       1.00      0.50      0.67         4\n",
      "\n"
     ]
    },
    {
     "data": {
      "image/png": "[encoded data removed]",
      "text/plain": [
       "<Figure size 432x288 with 2 Axes>"
      ]
     },
     "metadata": {
      "needs_background": "light"
     },
     "output_type": "display_data"
    },
    {
     "data": {
      "text/plain": [
       "<Figure size 432x288 with 0 Axes>"
      ]
     },
     "metadata": {},
     "output_type": "display_data"
    }
   ],
   "source": [
    "import tensorflow as tf\n",
    "from numpy import argmax\n",
    "from keras.utils.np_utils import to_categorical\n",
    "from keras.models import Sequential\n",
    "from keras import layers\n",
    "\n",
    "max_features = eardata.shape[1]\n",
    "\n",
    "model = Sequential()\n",
    "model.add(layers.Dense(16, activation='relu', input_shape=(max_features,)))\n",
    "model.add(layers.Dense(16, activation='relu'))\n",
    "model.add(layers.Dense(1, activation='sigmoid'))\n",
    "model.summary()\n",
    "model.compile(loss='binary_crossentropy', # Cross-entropy\n",
    "                    optimizer='rmsprop', # Root Mean Square Propagation\n",
    "                    metrics=['accuracy'])\n",
    "\n",
    "X_train, X_Test, y_train, y_test = train_test_split(eardata,y, test_size = 0.2,random_state=42)\n",
    "model.fit(X_train,\n",
    "          y_train,batch_size=512,\n",
    "          epochs=200,\n",
    "          verbose=0,\n",
    "          validation_split=0.2)\n",
    "\n",
    "\n",
    "predict_list=model.predict(X_Test)\n",
    "objetivo = argmax(predict_list, axis=-1).astype('int')\n",
    "y_classes = [np.argmax(y, axis=None, out=None) for y in predict_list]\n",
    "print(y_classes)\n",
    "\n",
    "\n",
    "\n",
    "matriz_confusion = confusion_matrix(y_test, objetivo)\n",
    "heatmap(matriz_confusion, annot=True, fmt=\"g\",cmap=\"YlGnBu\", yticklabels=[\"Healthy\", \"Diabetes tipo 2\"] ,xticklabels=[\"Healthy\", \"Diabetes tipo 2\"])\n",
    "plt.title(\"Confusion matrix\")\n",
    "plt.xlabel(\"Predicted\")\n",
    "plt.ylabel(\"Expected\")\n",
    "plt.figure()\n",
    "print(f\"Classification report:\\n{classification_report(objetivo, y_test)}\")"
   ]
  }
 ],
 "metadata": {
  "kernelspec": {
   "display_name": "Python 3",
   "language": "python",
   "name": "python3"
  },
  "language_info": {
   "codemirror_mode": {
    "name": "ipython",
    "version": 3
   },
   "file_extension": ".py",
   "mimetype": "text/x-python",
   "name": "python",
   "nbconvert_exporter": "python",
   "pygments_lexer": "ipython3",
   "version": "3.8.5"
  }
 },
 "nbformat": 4,
 "nbformat_minor": 5
}
