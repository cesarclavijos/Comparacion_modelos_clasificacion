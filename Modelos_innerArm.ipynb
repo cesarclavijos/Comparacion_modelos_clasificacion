{
 "cells": [
  {
   "cell_type": "markdown",
   "id": "76df1aa8",
   "metadata": {},
   "source": [
    "# Importe librerias "
   ]
  },
  {
   "cell_type": "code",
   "execution_count": 1,
   "id": "d4cc2266",
   "metadata": {},
   "outputs": [],
   "source": [
    "import pandas as pd\n",
    "import numpy as np\n",
    "import matplotlib.pyplot as plt\n",
    "import seaborn as sns\n",
    "import warnings\n",
    "from sklearn.model_selection import train_test_split\n",
    "from sklearn.model_selection import cross_val_predict\n",
    "from sklearn.metrics import accuracy_score, classification_report, confusion_matrix\n",
    "from sklearn.metrics import recall_score\n",
    "from seaborn import heatmap\n",
    "from sklearn.model_selection import GridSearchCV \n",
    "from sklearn.tree import DecisionTreeClassifier\n",
    "from sklearn.decomposition import PCA\n",
    "from sklearn.preprocessing import StandardScaler\n",
    "warnings.filterwarnings('ignore')\n",
    "%matplotlib inline"
   ]
  },
  {
   "cell_type": "markdown",
   "id": "d167eaa9",
   "metadata": {},
   "source": [
    "# Funciones "
   ]
  },
  {
   "cell_type": "markdown",
   "id": "2b472394",
   "metadata": {},
   "source": [
    "## Entrenamiento"
   ]
  },
  {
   "cell_type": "code",
   "execution_count": 2,
   "id": "bc69aab2",
   "metadata": {},
   "outputs": [],
   "source": [
    "def entrenamiento_and_report_simple(data_entrenamiento,objetivo,cv,modelo):\n",
    "    predict_list = cross_val_predict(modelo,data_entrenamiento,objetivo, cv=cv)\n",
    "    confution = confusion_matrix( y.tolist(),  predict_list.tolist())\n",
    "    matriz_confusion = confusion_matrix(predict_list, objetivo)\n",
    "    heatmap(matriz_confusion, annot=True, fmt=\"g\",cmap=\"YlGnBu\", yticklabels=[\"Healthy\", \"Diabetes tipo 2\"] ,xticklabels=[\"Healthy\", \"Diabetes tipo 2\"])\n",
    "    plt.title(\"Confusion matrix\")\n",
    "    plt.xlabel(\"Predicted\")\n",
    "    plt.ylabel(\"Expected\")\n",
    "    plt.figure()\n",
    "    print(f\"Classification report:\\n{classification_report(predict_list, objetivo)}\")"
   ]
  },
  {
   "cell_type": "code",
   "execution_count": 3,
   "id": "3bdef399",
   "metadata": {},
   "outputs": [],
   "source": [
    "def entrenamiento_and_report_red_neuronal(data_entrenamiento,objetivo,cv,modelo):\n",
    "    predict_list = cross_val_predict(modelo,data_entrenamiento,objetivo, cv=cv)\n",
    "    confution = confusion_matrix( y.tolist(),  predict_list.tolist())\n",
    "    matriz_confusion = confusion_matrix(predict_list, objetivo)\n",
    "    heatmap(matriz_confusion, annot=True, fmt=\"g\",cmap=\"YlGnBu\", yticklabels=[\"Healthy\", \"Diabetes tipo 2\"] ,xticklabels=[\"Healthy\", \"Diabetes tipo 2\"])\n",
    "    plt.title(\"Confusion matrix\")\n",
    "    plt.xlabel(\"Predicted\")\n",
    "    plt.ylabel(\"Expected\")\n",
    "    plt.figure()\n",
    "    print(f\"Classification report:\\n{classification_report(predict_list, objetivo)}\")"
   ]
  },
  {
   "cell_type": "markdown",
   "id": "18299427",
   "metadata": {},
   "source": [
    "## Optimizacion de parametros"
   ]
  },
  {
   "cell_type": "code",
   "execution_count": 4,
   "id": "d520bf94",
   "metadata": {},
   "outputs": [],
   "source": [
    "def Optimizacion_parametros(param_grid,Modelo,data_entrenamiento,objetivo,cv):\n",
    "    grid_search = GridSearchCV(Modelo, param_grid, cv=cv,\n",
    "                           scoring='precision', \n",
    "                           return_train_score=True)\n",
    "    grid_search.fit(data_entrenamiento, objetivo)\n",
    "    a = pd.DataFrame(grid_search.cv_results_['params'])\n",
    "    a = pd.DataFrame(grid_search.cv_results_['params'])\n",
    "    a['mean_train_score'] = grid_search.cv_results_['mean_train_score']\n",
    "    a['mean_test_score'] = grid_search.cv_results_['mean_test_score']\n",
    "    a['std_train_score'] = grid_search.cv_results_['std_train_score']\n",
    "    a['std_test_score'] = grid_search.cv_results_['std_test_score']\n",
    "    print('Mejor resultado' +''+ str(grid_search.best_score_)  )     \n",
    "    print('Mejor parametro' +''+ str(grid_search.best_estimator_)) \n",
    "    minv = grid_search.best_score_\n",
    "    return a, a[(a.mean_test_score == minv)],grid_search.best_estimator_,grid_search.best_score_\n",
    "\n"
   ]
  },
  {
   "cell_type": "markdown",
   "id": "50156e9a",
   "metadata": {},
   "source": [
    "# Funcion PCA"
   ]
  },
  {
   "cell_type": "code",
   "execution_count": 5,
   "id": "5c0d9117",
   "metadata": {},
   "outputs": [],
   "source": [
    "def PCA_conversion(datos,Numero_parametros, nombre_variable):\n",
    "    scaler=StandardScaler()#normalizamos los datos\n",
    "    scaler.fit(datos) # calculo la media para poder hacer la transformacion\n",
    "    X_scaled=scaler.transform(datos)# Ahora si, escalo los datos y los normalizo\n",
    "    pca=PCA(n_components=Numero_parametros) # Otra opción es instanciar pca sólo con dimensiones nuevas hasta obtener un mínimo \"explicado\" ej.: pca=PCA(.85)\n",
    "    pca.fit(X_scaled) # obtener los componentes principales\n",
    "    ear2_pca=pca.transform(X_scaled) # convertimos nuestros datos con las nuevas dimensiones de PC\n",
    "    \n",
    "    print(\"shape of X_pca\", ear2_pca.shape)\n",
    "    expl = pca.explained_variance_ratio_\n",
    "    print(expl)\n",
    "    print('suma:',sum(expl[0:5]))\n",
    "    print(\"shape of X_pca\", ear2_pca.shape)\n",
    "    expl = pca.explained_variance_ratio_\n",
    "    print(expl)\n",
    "    \n",
    "    print('suma:',sum(expl[0:1000]))\n",
    "    plt.plot(np.cumsum(pca.explained_variance_ratio_))\n",
    "    plt.xlabel('number of components')\n",
    "    plt.ylabel('cumulative explained variance')\n",
    "    plt.show()\n",
    "    \n",
    "    \n",
    "    x = range(1, Numero_parametros + 1)\n",
    "    new_columns = []\n",
    "    for n in x:\n",
    "        name = 'nombre_variable' +  str(n)\n",
    "        new_columns.append(name)\n",
    "\n",
    "    bm = pd.DataFrame(data = ear2_pca, columns = new_columns)\n",
    "    bm.index = np.arange(1,len(bm)+1)\n",
    "    return bm"
   ]
  },
  {
   "cell_type": "markdown",
   "id": "6acddad0",
   "metadata": {},
   "source": [
    "## Carga de datos"
   ]
  },
  {
   "cell_type": "code",
   "execution_count": 6,
   "id": "3060f15e",
   "metadata": {},
   "outputs": [],
   "source": [
    "path_dataset = 'archive/innerArm.csv'\n",
    "ear = pd.read_csv(path_dataset)\n",
    "ear = ear.iloc[1:]\n",
    "y = ear['has_DM2']\n",
    "path_dataset = 'archive/innerArmData.csv'\n",
    "ear2 = pd.read_csv(path_dataset)\n",
    "ear2= (ear2.T.reset_index().T.reset_index(drop=True)\n",
    "            .set_axis([f'Q1.{i+1}' for i in range(ear2.shape[1])], axis=1))\n",
    "ear2= ear2.apply(pd.to_numeric, errors='coerce')"
   ]
  },
  {
   "cell_type": "code",
   "execution_count": 7,
   "id": "1a455b35",
   "metadata": {},
   "outputs": [
    {
     "data": {
      "text/html": [
       "<div>\n",
       "<style scoped>\n",
       "    .dataframe tbody tr th:only-of-type {\n",
       "        vertical-align: middle;\n",
       "    }\n",
       "\n",
       "    .dataframe tbody tr th {\n",
       "        vertical-align: top;\n",
       "    }\n",
       "\n",
       "    .dataframe thead th {\n",
       "        text-align: right;\n",
       "    }\n",
       "</style>\n",
       "<table border=\"1\" class=\"dataframe\">\n",
       "  <thead>\n",
       "    <tr style=\"text-align: right;\">\n",
       "      <th></th>\n",
       "      <th>Q1.1</th>\n",
       "      <th>Q1.2</th>\n",
       "      <th>Q1.3</th>\n",
       "      <th>Q1.4</th>\n",
       "      <th>Q1.5</th>\n",
       "      <th>Q1.6</th>\n",
       "      <th>Q1.7</th>\n",
       "      <th>Q1.8</th>\n",
       "      <th>Q1.9</th>\n",
       "      <th>Q1.10</th>\n",
       "      <th>...</th>\n",
       "      <th>Q1.992</th>\n",
       "      <th>Q1.993</th>\n",
       "      <th>Q1.994</th>\n",
       "      <th>Q1.995</th>\n",
       "      <th>Q1.996</th>\n",
       "      <th>Q1.997</th>\n",
       "      <th>Q1.998</th>\n",
       "      <th>Q1.999</th>\n",
       "      <th>Q1.1000</th>\n",
       "      <th>Q1.1001</th>\n",
       "    </tr>\n",
       "  </thead>\n",
       "  <tbody>\n",
       "    <tr>\n",
       "      <th>0</th>\n",
       "      <td>1.012269</td>\n",
       "      <td>1.009869</td>\n",
       "      <td>0.990157</td>\n",
       "      <td>0.955288</td>\n",
       "      <td>0.941267</td>\n",
       "      <td>0.976607</td>\n",
       "      <td>1.006972</td>\n",
       "      <td>0.980801</td>\n",
       "      <td>0.953676</td>\n",
       "      <td>0.974204</td>\n",
       "      <td>...</td>\n",
       "      <td>0.794150</td>\n",
       "      <td>0.856659</td>\n",
       "      <td>0.910546</td>\n",
       "      <td>0.776510</td>\n",
       "      <td>0.668612</td>\n",
       "      <td>0.648977</td>\n",
       "      <td>0.742685</td>\n",
       "      <td>0.879109</td>\n",
       "      <td>0.872117</td>\n",
       "      <td>0.862333</td>\n",
       "    </tr>\n",
       "    <tr>\n",
       "      <th>1</th>\n",
       "      <td>-0.142104</td>\n",
       "      <td>-0.140321</td>\n",
       "      <td>-0.111815</td>\n",
       "      <td>-0.059399</td>\n",
       "      <td>-0.038415</td>\n",
       "      <td>-0.092203</td>\n",
       "      <td>-0.142756</td>\n",
       "      <td>-0.126602</td>\n",
       "      <td>-0.110894</td>\n",
       "      <td>-0.127766</td>\n",
       "      <td>...</td>\n",
       "      <td>-0.177075</td>\n",
       "      <td>-0.258574</td>\n",
       "      <td>-0.298494</td>\n",
       "      <td>-0.219362</td>\n",
       "      <td>-0.147198</td>\n",
       "      <td>-0.106608</td>\n",
       "      <td>-0.155721</td>\n",
       "      <td>-0.242821</td>\n",
       "      <td>-0.222908</td>\n",
       "      <td>-0.188102</td>\n",
       "    </tr>\n",
       "    <tr>\n",
       "      <th>2</th>\n",
       "      <td>2.399184</td>\n",
       "      <td>2.375479</td>\n",
       "      <td>2.353516</td>\n",
       "      <td>2.333556</td>\n",
       "      <td>2.322815</td>\n",
       "      <td>2.333253</td>\n",
       "      <td>2.337708</td>\n",
       "      <td>2.319870</td>\n",
       "      <td>2.297810</td>\n",
       "      <td>2.320618</td>\n",
       "      <td>...</td>\n",
       "      <td>2.293997</td>\n",
       "      <td>2.202739</td>\n",
       "      <td>2.057599</td>\n",
       "      <td>2.099680</td>\n",
       "      <td>2.144933</td>\n",
       "      <td>2.179983</td>\n",
       "      <td>2.231222</td>\n",
       "      <td>2.272570</td>\n",
       "      <td>2.202002</td>\n",
       "      <td>2.163035</td>\n",
       "    </tr>\n",
       "    <tr>\n",
       "      <th>3</th>\n",
       "      <td>-0.518188</td>\n",
       "      <td>-0.516911</td>\n",
       "      <td>-0.520209</td>\n",
       "      <td>-0.527781</td>\n",
       "      <td>-0.537212</td>\n",
       "      <td>-0.551348</td>\n",
       "      <td>-0.562767</td>\n",
       "      <td>-0.546535</td>\n",
       "      <td>-0.529844</td>\n",
       "      <td>-0.526677</td>\n",
       "      <td>...</td>\n",
       "      <td>-0.538902</td>\n",
       "      <td>-0.539996</td>\n",
       "      <td>-0.538926</td>\n",
       "      <td>-0.524594</td>\n",
       "      <td>-0.500497</td>\n",
       "      <td>-0.455921</td>\n",
       "      <td>-0.457110</td>\n",
       "      <td>-0.478436</td>\n",
       "      <td>-0.486584</td>\n",
       "      <td>-0.477205</td>\n",
       "    </tr>\n",
       "    <tr>\n",
       "      <th>4</th>\n",
       "      <td>-0.505397</td>\n",
       "      <td>-0.530900</td>\n",
       "      <td>-0.533014</td>\n",
       "      <td>-0.514919</td>\n",
       "      <td>-0.502197</td>\n",
       "      <td>-0.501776</td>\n",
       "      <td>-0.504887</td>\n",
       "      <td>-0.564109</td>\n",
       "      <td>-0.619469</td>\n",
       "      <td>-0.595831</td>\n",
       "      <td>...</td>\n",
       "      <td>-0.572665</td>\n",
       "      <td>-0.617754</td>\n",
       "      <td>-0.628712</td>\n",
       "      <td>-0.592971</td>\n",
       "      <td>-0.554546</td>\n",
       "      <td>-0.517180</td>\n",
       "      <td>-0.490139</td>\n",
       "      <td>-0.468363</td>\n",
       "      <td>-0.475787</td>\n",
       "      <td>-0.467514</td>\n",
       "    </tr>\n",
       "    <tr>\n",
       "      <th>5</th>\n",
       "      <td>0.113640</td>\n",
       "      <td>0.033748</td>\n",
       "      <td>-0.011516</td>\n",
       "      <td>-0.027414</td>\n",
       "      <td>-0.011492</td>\n",
       "      <td>0.081586</td>\n",
       "      <td>0.164487</td>\n",
       "      <td>0.073528</td>\n",
       "      <td>-0.013532</td>\n",
       "      <td>-0.007141</td>\n",
       "      <td>...</td>\n",
       "      <td>-0.119101</td>\n",
       "      <td>-0.081602</td>\n",
       "      <td>0.020539</td>\n",
       "      <td>-0.083325</td>\n",
       "      <td>-0.112887</td>\n",
       "      <td>0.065480</td>\n",
       "      <td>0.027982</td>\n",
       "      <td>-0.110393</td>\n",
       "      <td>-0.057771</td>\n",
       "      <td>-0.027867</td>\n",
       "    </tr>\n",
       "    <tr>\n",
       "      <th>6</th>\n",
       "      <td>-0.122825</td>\n",
       "      <td>-0.143021</td>\n",
       "      <td>-0.137761</td>\n",
       "      <td>-0.110180</td>\n",
       "      <td>-0.093710</td>\n",
       "      <td>-0.103301</td>\n",
       "      <td>-0.111099</td>\n",
       "      <td>-0.094124</td>\n",
       "      <td>-0.077704</td>\n",
       "      <td>-0.092094</td>\n",
       "      <td>...</td>\n",
       "      <td>-0.223457</td>\n",
       "      <td>-0.186857</td>\n",
       "      <td>-0.216164</td>\n",
       "      <td>-0.107634</td>\n",
       "      <td>-0.054140</td>\n",
       "      <td>-0.150463</td>\n",
       "      <td>-0.141244</td>\n",
       "      <td>-0.079808</td>\n",
       "      <td>-0.047718</td>\n",
       "      <td>-0.047629</td>\n",
       "    </tr>\n",
       "    <tr>\n",
       "      <th>7</th>\n",
       "      <td>-0.682724</td>\n",
       "      <td>-0.659020</td>\n",
       "      <td>-0.655649</td>\n",
       "      <td>-0.670253</td>\n",
       "      <td>-0.682686</td>\n",
       "      <td>-0.690209</td>\n",
       "      <td>-0.696071</td>\n",
       "      <td>-0.694285</td>\n",
       "      <td>-0.691076</td>\n",
       "      <td>-0.684653</td>\n",
       "      <td>...</td>\n",
       "      <td>-0.604233</td>\n",
       "      <td>-0.561697</td>\n",
       "      <td>-0.584536</td>\n",
       "      <td>-0.499120</td>\n",
       "      <td>-0.460286</td>\n",
       "      <td>-0.549272</td>\n",
       "      <td>-0.573335</td>\n",
       "      <td>-0.560192</td>\n",
       "      <td>-0.546897</td>\n",
       "      <td>-0.531893</td>\n",
       "    </tr>\n",
       "    <tr>\n",
       "      <th>8</th>\n",
       "      <td>1.101360</td>\n",
       "      <td>1.112376</td>\n",
       "      <td>1.120894</td>\n",
       "      <td>1.127839</td>\n",
       "      <td>1.133147</td>\n",
       "      <td>1.134437</td>\n",
       "      <td>1.135848</td>\n",
       "      <td>1.165841</td>\n",
       "      <td>1.191975</td>\n",
       "      <td>1.161273</td>\n",
       "      <td>...</td>\n",
       "      <td>1.381214</td>\n",
       "      <td>1.395264</td>\n",
       "      <td>1.338561</td>\n",
       "      <td>1.309190</td>\n",
       "      <td>1.298637</td>\n",
       "      <td>1.333464</td>\n",
       "      <td>1.349213</td>\n",
       "      <td>1.346178</td>\n",
       "      <td>1.298731</td>\n",
       "      <td>1.258076</td>\n",
       "    </tr>\n",
       "    <tr>\n",
       "      <th>9</th>\n",
       "      <td>-1.476973</td>\n",
       "      <td>-1.482733</td>\n",
       "      <td>-1.486888</td>\n",
       "      <td>-1.490309</td>\n",
       "      <td>-1.491144</td>\n",
       "      <td>-1.485422</td>\n",
       "      <td>-1.475957</td>\n",
       "      <td>-1.459788</td>\n",
       "      <td>-1.441183</td>\n",
       "      <td>-1.440357</td>\n",
       "      <td>...</td>\n",
       "      <td>-1.386641</td>\n",
       "      <td>-1.445386</td>\n",
       "      <td>-1.503073</td>\n",
       "      <td>-1.510874</td>\n",
       "      <td>-1.497695</td>\n",
       "      <td>-1.448945</td>\n",
       "      <td>-1.389709</td>\n",
       "      <td>-1.325811</td>\n",
       "      <td>-1.407832</td>\n",
       "      <td>-1.457136</td>\n",
       "    </tr>\n",
       "    <tr>\n",
       "      <th>10</th>\n",
       "      <td>0.915236</td>\n",
       "      <td>0.935955</td>\n",
       "      <td>0.957594</td>\n",
       "      <td>0.980854</td>\n",
       "      <td>0.990823</td>\n",
       "      <td>0.968967</td>\n",
       "      <td>0.945592</td>\n",
       "      <td>0.939002</td>\n",
       "      <td>0.930675</td>\n",
       "      <td>0.949501</td>\n",
       "      <td>...</td>\n",
       "      <td>1.029123</td>\n",
       "      <td>0.932738</td>\n",
       "      <td>0.879794</td>\n",
       "      <td>0.918887</td>\n",
       "      <td>0.969846</td>\n",
       "      <td>1.042042</td>\n",
       "      <td>1.081178</td>\n",
       "      <td>1.094436</td>\n",
       "      <td>1.070341</td>\n",
       "      <td>1.050980</td>\n",
       "    </tr>\n",
       "    <tr>\n",
       "      <th>11</th>\n",
       "      <td>4.288554</td>\n",
       "      <td>4.291145</td>\n",
       "      <td>4.289128</td>\n",
       "      <td>4.283024</td>\n",
       "      <td>4.283936</td>\n",
       "      <td>4.301770</td>\n",
       "      <td>4.318949</td>\n",
       "      <td>4.317744</td>\n",
       "      <td>4.316617</td>\n",
       "      <td>4.336593</td>\n",
       "      <td>...</td>\n",
       "      <td>3.961329</td>\n",
       "      <td>4.048301</td>\n",
       "      <td>4.172670</td>\n",
       "      <td>4.087846</td>\n",
       "      <td>4.016119</td>\n",
       "      <td>4.003392</td>\n",
       "      <td>3.919829</td>\n",
       "      <td>3.814779</td>\n",
       "      <td>3.949711</td>\n",
       "      <td>4.017774</td>\n",
       "    </tr>\n",
       "    <tr>\n",
       "      <th>12</th>\n",
       "      <td>3.601589</td>\n",
       "      <td>3.640138</td>\n",
       "      <td>3.661730</td>\n",
       "      <td>3.668664</td>\n",
       "      <td>3.651612</td>\n",
       "      <td>3.576370</td>\n",
       "      <td>3.508370</td>\n",
       "      <td>3.551923</td>\n",
       "      <td>3.595215</td>\n",
       "      <td>3.592454</td>\n",
       "      <td>...</td>\n",
       "      <td>3.726102</td>\n",
       "      <td>3.746051</td>\n",
       "      <td>3.691861</td>\n",
       "      <td>3.766610</td>\n",
       "      <td>3.780938</td>\n",
       "      <td>3.628892</td>\n",
       "      <td>3.642890</td>\n",
       "      <td>3.739498</td>\n",
       "      <td>3.709757</td>\n",
       "      <td>3.678604</td>\n",
       "    </tr>\n",
       "    <tr>\n",
       "      <th>13</th>\n",
       "      <td>5.329879</td>\n",
       "      <td>5.312331</td>\n",
       "      <td>5.303687</td>\n",
       "      <td>5.303037</td>\n",
       "      <td>5.305448</td>\n",
       "      <td>5.315069</td>\n",
       "      <td>5.322721</td>\n",
       "      <td>5.325040</td>\n",
       "      <td>5.325101</td>\n",
       "      <td>5.326390</td>\n",
       "      <td>...</td>\n",
       "      <td>5.329246</td>\n",
       "      <td>5.342224</td>\n",
       "      <td>5.330690</td>\n",
       "      <td>5.320035</td>\n",
       "      <td>5.297761</td>\n",
       "      <td>5.250567</td>\n",
       "      <td>5.191554</td>\n",
       "      <td>5.130993</td>\n",
       "      <td>5.259061</td>\n",
       "      <td>5.325674</td>\n",
       "    </tr>\n",
       "    <tr>\n",
       "      <th>14</th>\n",
       "      <td>3.793452</td>\n",
       "      <td>3.850824</td>\n",
       "      <td>3.867267</td>\n",
       "      <td>3.848059</td>\n",
       "      <td>3.826552</td>\n",
       "      <td>3.798802</td>\n",
       "      <td>3.777233</td>\n",
       "      <td>3.833946</td>\n",
       "      <td>3.889199</td>\n",
       "      <td>3.846927</td>\n",
       "      <td>...</td>\n",
       "      <td>3.886641</td>\n",
       "      <td>3.864147</td>\n",
       "      <td>3.970088</td>\n",
       "      <td>3.892261</td>\n",
       "      <td>3.831584</td>\n",
       "      <td>3.835279</td>\n",
       "      <td>3.820458</td>\n",
       "      <td>3.801912</td>\n",
       "      <td>3.858298</td>\n",
       "      <td>3.893181</td>\n",
       "    </tr>\n",
       "    <tr>\n",
       "      <th>15</th>\n",
       "      <td>2.925622</td>\n",
       "      <td>2.844090</td>\n",
       "      <td>2.788557</td>\n",
       "      <td>2.754034</td>\n",
       "      <td>2.762598</td>\n",
       "      <td>2.875518</td>\n",
       "      <td>2.978126</td>\n",
       "      <td>2.856910</td>\n",
       "      <td>2.744284</td>\n",
       "      <td>2.783802</td>\n",
       "      <td>...</td>\n",
       "      <td>2.708507</td>\n",
       "      <td>2.693932</td>\n",
       "      <td>2.744390</td>\n",
       "      <td>2.680104</td>\n",
       "      <td>2.679489</td>\n",
       "      <td>2.841439</td>\n",
       "      <td>2.785037</td>\n",
       "      <td>2.636617</td>\n",
       "      <td>2.703340</td>\n",
       "      <td>2.724922</td>\n",
       "    </tr>\n",
       "    <tr>\n",
       "      <th>16</th>\n",
       "      <td>5.299237</td>\n",
       "      <td>5.326994</td>\n",
       "      <td>5.348988</td>\n",
       "      <td>5.366791</td>\n",
       "      <td>5.368783</td>\n",
       "      <td>5.332568</td>\n",
       "      <td>5.300242</td>\n",
       "      <td>5.360054</td>\n",
       "      <td>5.414968</td>\n",
       "      <td>5.383235</td>\n",
       "      <td>...</td>\n",
       "      <td>5.327398</td>\n",
       "      <td>5.413644</td>\n",
       "      <td>5.505099</td>\n",
       "      <td>5.502806</td>\n",
       "      <td>5.473618</td>\n",
       "      <td>5.399252</td>\n",
       "      <td>5.399000</td>\n",
       "      <td>5.429402</td>\n",
       "      <td>5.422430</td>\n",
       "      <td>5.411127</td>\n",
       "    </tr>\n",
       "    <tr>\n",
       "      <th>17</th>\n",
       "      <td>3.183073</td>\n",
       "      <td>3.211610</td>\n",
       "      <td>3.222556</td>\n",
       "      <td>3.217903</td>\n",
       "      <td>3.207139</td>\n",
       "      <td>3.181537</td>\n",
       "      <td>3.163499</td>\n",
       "      <td>3.224499</td>\n",
       "      <td>3.285167</td>\n",
       "      <td>3.266620</td>\n",
       "      <td>...</td>\n",
       "      <td>3.489590</td>\n",
       "      <td>3.469101</td>\n",
       "      <td>3.301160</td>\n",
       "      <td>3.308812</td>\n",
       "      <td>3.269210</td>\n",
       "      <td>3.080305</td>\n",
       "      <td>3.168248</td>\n",
       "      <td>3.384560</td>\n",
       "      <td>3.193196</td>\n",
       "      <td>3.109969</td>\n",
       "    </tr>\n",
       "    <tr>\n",
       "      <th>18</th>\n",
       "      <td>4.887800</td>\n",
       "      <td>4.902729</td>\n",
       "      <td>4.898259</td>\n",
       "      <td>4.876951</td>\n",
       "      <td>4.871560</td>\n",
       "      <td>4.904104</td>\n",
       "      <td>4.932148</td>\n",
       "      <td>4.901181</td>\n",
       "      <td>4.870357</td>\n",
       "      <td>4.881234</td>\n",
       "      <td>...</td>\n",
       "      <td>5.075137</td>\n",
       "      <td>5.105805</td>\n",
       "      <td>5.247991</td>\n",
       "      <td>5.285479</td>\n",
       "      <td>5.299748</td>\n",
       "      <td>5.281859</td>\n",
       "      <td>5.178718</td>\n",
       "      <td>5.039407</td>\n",
       "      <td>5.046832</td>\n",
       "      <td>5.061673</td>\n",
       "    </tr>\n",
       "    <tr>\n",
       "      <th>19</th>\n",
       "      <td>3.558922</td>\n",
       "      <td>3.587225</td>\n",
       "      <td>3.616128</td>\n",
       "      <td>3.645863</td>\n",
       "      <td>3.652787</td>\n",
       "      <td>3.605280</td>\n",
       "      <td>3.563250</td>\n",
       "      <td>3.596713</td>\n",
       "      <td>3.630267</td>\n",
       "      <td>3.613281</td>\n",
       "      <td>...</td>\n",
       "      <td>3.581250</td>\n",
       "      <td>3.582871</td>\n",
       "      <td>3.560525</td>\n",
       "      <td>3.551269</td>\n",
       "      <td>3.558363</td>\n",
       "      <td>3.599069</td>\n",
       "      <td>3.630856</td>\n",
       "      <td>3.657971</td>\n",
       "      <td>3.621290</td>\n",
       "      <td>3.601609</td>\n",
       "    </tr>\n",
       "  </tbody>\n",
       "</table>\n",
       "<p>20 rows × 1001 columns</p>\n",
       "</div>"
      ],
      "text/plain": [
       "        Q1.1      Q1.2      Q1.3      Q1.4      Q1.5      Q1.6      Q1.7  \\\n",
       "0   1.012269  1.009869  0.990157  0.955288  0.941267  0.976607  1.006972   \n",
       "1  -0.142104 -0.140321 -0.111815 -0.059399 -0.038415 -0.092203 -0.142756   \n",
       "2   2.399184  2.375479  2.353516  2.333556  2.322815  2.333253  2.337708   \n",
       "3  -0.518188 -0.516911 -0.520209 -0.527781 -0.537212 -0.551348 -0.562767   \n",
       "4  -0.505397 -0.530900 -0.533014 -0.514919 -0.502197 -0.501776 -0.504887   \n",
       "5   0.113640  0.033748 -0.011516 -0.027414 -0.011492  0.081586  0.164487   \n",
       "6  -0.122825 -0.143021 -0.137761 -0.110180 -0.093710 -0.103301 -0.111099   \n",
       "7  -0.682724 -0.659020 -0.655649 -0.670253 -0.682686 -0.690209 -0.696071   \n",
       "8   1.101360  1.112376  1.120894  1.127839  1.133147  1.134437  1.135848   \n",
       "9  -1.476973 -1.482733 -1.486888 -1.490309 -1.491144 -1.485422 -1.475957   \n",
       "10  0.915236  0.935955  0.957594  0.980854  0.990823  0.968967  0.945592   \n",
       "11  4.288554  4.291145  4.289128  4.283024  4.283936  4.301770  4.318949   \n",
       "12  3.601589  3.640138  3.661730  3.668664  3.651612  3.576370  3.508370   \n",
       "13  5.329879  5.312331  5.303687  5.303037  5.305448  5.315069  5.322721   \n",
       "14  3.793452  3.850824  3.867267  3.848059  3.826552  3.798802  3.777233   \n",
       "15  2.925622  2.844090  2.788557  2.754034  2.762598  2.875518  2.978126   \n",
       "16  5.299237  5.326994  5.348988  5.366791  5.368783  5.332568  5.300242   \n",
       "17  3.183073  3.211610  3.222556  3.217903  3.207139  3.181537  3.163499   \n",
       "18  4.887800  4.902729  4.898259  4.876951  4.871560  4.904104  4.932148   \n",
       "19  3.558922  3.587225  3.616128  3.645863  3.652787  3.605280  3.563250   \n",
       "\n",
       "        Q1.8      Q1.9     Q1.10  ...    Q1.992    Q1.993    Q1.994    Q1.995  \\\n",
       "0   0.980801  0.953676  0.974204  ...  0.794150  0.856659  0.910546  0.776510   \n",
       "1  -0.126602 -0.110894 -0.127766  ... -0.177075 -0.258574 -0.298494 -0.219362   \n",
       "2   2.319870  2.297810  2.320618  ...  2.293997  2.202739  2.057599  2.099680   \n",
       "3  -0.546535 -0.529844 -0.526677  ... -0.538902 -0.539996 -0.538926 -0.524594   \n",
       "4  -0.564109 -0.619469 -0.595831  ... -0.572665 -0.617754 -0.628712 -0.592971   \n",
       "5   0.073528 -0.013532 -0.007141  ... -0.119101 -0.081602  0.020539 -0.083325   \n",
       "6  -0.094124 -0.077704 -0.092094  ... -0.223457 -0.186857 -0.216164 -0.107634   \n",
       "7  -0.694285 -0.691076 -0.684653  ... -0.604233 -0.561697 -0.584536 -0.499120   \n",
       "8   1.165841  1.191975  1.161273  ...  1.381214  1.395264  1.338561  1.309190   \n",
       "9  -1.459788 -1.441183 -1.440357  ... -1.386641 -1.445386 -1.503073 -1.510874   \n",
       "10  0.939002  0.930675  0.949501  ...  1.029123  0.932738  0.879794  0.918887   \n",
       "11  4.317744  4.316617  4.336593  ...  3.961329  4.048301  4.172670  4.087846   \n",
       "12  3.551923  3.595215  3.592454  ...  3.726102  3.746051  3.691861  3.766610   \n",
       "13  5.325040  5.325101  5.326390  ...  5.329246  5.342224  5.330690  5.320035   \n",
       "14  3.833946  3.889199  3.846927  ...  3.886641  3.864147  3.970088  3.892261   \n",
       "15  2.856910  2.744284  2.783802  ...  2.708507  2.693932  2.744390  2.680104   \n",
       "16  5.360054  5.414968  5.383235  ...  5.327398  5.413644  5.505099  5.502806   \n",
       "17  3.224499  3.285167  3.266620  ...  3.489590  3.469101  3.301160  3.308812   \n",
       "18  4.901181  4.870357  4.881234  ...  5.075137  5.105805  5.247991  5.285479   \n",
       "19  3.596713  3.630267  3.613281  ...  3.581250  3.582871  3.560525  3.551269   \n",
       "\n",
       "      Q1.996    Q1.997    Q1.998    Q1.999   Q1.1000   Q1.1001  \n",
       "0   0.668612  0.648977  0.742685  0.879109  0.872117  0.862333  \n",
       "1  -0.147198 -0.106608 -0.155721 -0.242821 -0.222908 -0.188102  \n",
       "2   2.144933  2.179983  2.231222  2.272570  2.202002  2.163035  \n",
       "3  -0.500497 -0.455921 -0.457110 -0.478436 -0.486584 -0.477205  \n",
       "4  -0.554546 -0.517180 -0.490139 -0.468363 -0.475787 -0.467514  \n",
       "5  -0.112887  0.065480  0.027982 -0.110393 -0.057771 -0.027867  \n",
       "6  -0.054140 -0.150463 -0.141244 -0.079808 -0.047718 -0.047629  \n",
       "7  -0.460286 -0.549272 -0.573335 -0.560192 -0.546897 -0.531893  \n",
       "8   1.298637  1.333464  1.349213  1.346178  1.298731  1.258076  \n",
       "9  -1.497695 -1.448945 -1.389709 -1.325811 -1.407832 -1.457136  \n",
       "10  0.969846  1.042042  1.081178  1.094436  1.070341  1.050980  \n",
       "11  4.016119  4.003392  3.919829  3.814779  3.949711  4.017774  \n",
       "12  3.780938  3.628892  3.642890  3.739498  3.709757  3.678604  \n",
       "13  5.297761  5.250567  5.191554  5.130993  5.259061  5.325674  \n",
       "14  3.831584  3.835279  3.820458  3.801912  3.858298  3.893181  \n",
       "15  2.679489  2.841439  2.785037  2.636617  2.703340  2.724922  \n",
       "16  5.473618  5.399252  5.399000  5.429402  5.422430  5.411127  \n",
       "17  3.269210  3.080305  3.168248  3.384560  3.193196  3.109969  \n",
       "18  5.299748  5.281859  5.178718  5.039407  5.046832  5.061673  \n",
       "19  3.558363  3.599069  3.630856  3.657971  3.621290  3.601609  \n",
       "\n",
       "[20 rows x 1001 columns]"
      ]
     },
     "execution_count": 7,
     "metadata": {},
     "output_type": "execute_result"
    }
   ],
   "source": [
    "ear2"
   ]
  },
  {
   "cell_type": "markdown",
   "id": "421b6a3d",
   "metadata": {},
   "source": [
    "# Optimizacion de modelo"
   ]
  },
  {
   "cell_type": "markdown",
   "id": "01836d38",
   "metadata": {},
   "source": [
    "## XGBClassifier"
   ]
  },
  {
   "cell_type": "code",
   "execution_count": 8,
   "id": "16535a58",
   "metadata": {},
   "outputs": [],
   "source": [
    "from xgboost import XGBClassifier"
   ]
  },
  {
   "cell_type": "code",
   "execution_count": 9,
   "id": "5e4163f5",
   "metadata": {},
   "outputs": [],
   "source": [
    "param_grid = {\n",
    " 'max_depth':range(3,10,2),\n",
    " 'min_child_weight':range(1,6,2)\n",
    "}"
   ]
  },
  {
   "cell_type": "code",
   "execution_count": 10,
   "id": "2283c369",
   "metadata": {},
   "outputs": [],
   "source": [
    "XGBClassifier = XGBClassifier(\n",
    " learning_rate =0.1,\n",
    " n_estimators=1000,\n",
    " max_depth=5,\n",
    " min_child_weight=1,\n",
    " gamma=0,\n",
    " subsample=0.8,\n",
    " colsample_bytree=0.8,\n",
    " objective= 'binary:logistic',\n",
    " nthread=4,\n",
    " scale_pos_weight=1,\n",
    " seed=27)"
   ]
  },
  {
   "cell_type": "code",
   "execution_count": 11,
   "id": "9563e613",
   "metadata": {},
   "outputs": [
    {
     "name": "stdout",
     "output_type": "stream",
     "text": [
      "[21:23:47] WARNING: C:/Users/Administrator/workspace/xgboost-win64_release_1.4.0/src/learner.cc:1095: Starting in XGBoost 1.3.0, the default evaluation metric used with the objective 'binary:logistic' was changed from 'error' to 'logloss'. Explicitly set eval_metric if you'd like to restore the old behavior.\n",
      "[21:23:48] WARNING: C:/Users/Administrator/workspace/xgboost-win64_release_1.4.0/src/learner.cc:1095: Starting in XGBoost 1.3.0, the default evaluation metric used with the objective 'binary:logistic' was changed from 'error' to 'logloss'. Explicitly set eval_metric if you'd like to restore the old behavior.\n",
      "[21:23:50] WARNING: C:/Users/Administrator/workspace/xgboost-win64_release_1.4.0/src/learner.cc:1095: Starting in XGBoost 1.3.0, the default evaluation metric used with the objective 'binary:logistic' was changed from 'error' to 'logloss'. Explicitly set eval_metric if you'd like to restore the old behavior.\n",
      "[21:23:51] WARNING: C:/Users/Administrator/workspace/xgboost-win64_release_1.4.0/src/learner.cc:1095: Starting in XGBoost 1.3.0, the default evaluation metric used with the objective 'binary:logistic' was changed from 'error' to 'logloss'. Explicitly set eval_metric if you'd like to restore the old behavior.\n",
      "[21:23:53] WARNING: C:/Users/Administrator/workspace/xgboost-win64_release_1.4.0/src/learner.cc:1095: Starting in XGBoost 1.3.0, the default evaluation metric used with the objective 'binary:logistic' was changed from 'error' to 'logloss'. Explicitly set eval_metric if you'd like to restore the old behavior.\n",
      "[21:23:54] WARNING: C:/Users/Administrator/workspace/xgboost-win64_release_1.4.0/src/learner.cc:1095: Starting in XGBoost 1.3.0, the default evaluation metric used with the objective 'binary:logistic' was changed from 'error' to 'logloss'. Explicitly set eval_metric if you'd like to restore the old behavior.\n",
      "[21:23:55] WARNING: C:/Users/Administrator/workspace/xgboost-win64_release_1.4.0/src/learner.cc:1095: Starting in XGBoost 1.3.0, the default evaluation metric used with the objective 'binary:logistic' was changed from 'error' to 'logloss'. Explicitly set eval_metric if you'd like to restore the old behavior.\n",
      "[21:23:57] WARNING: C:/Users/Administrator/workspace/xgboost-win64_release_1.4.0/src/learner.cc:1095: Starting in XGBoost 1.3.0, the default evaluation metric used with the objective 'binary:logistic' was changed from 'error' to 'logloss'. Explicitly set eval_metric if you'd like to restore the old behavior.\n",
      "[21:23:58] WARNING: C:/Users/Administrator/workspace/xgboost-win64_release_1.4.0/src/learner.cc:1095: Starting in XGBoost 1.3.0, the default evaluation metric used with the objective 'binary:logistic' was changed from 'error' to 'logloss'. Explicitly set eval_metric if you'd like to restore the old behavior.\n",
      "[21:24:00] WARNING: C:/Users/Administrator/workspace/xgboost-win64_release_1.4.0/src/learner.cc:1095: Starting in XGBoost 1.3.0, the default evaluation metric used with the objective 'binary:logistic' was changed from 'error' to 'logloss'. Explicitly set eval_metric if you'd like to restore the old behavior.\n",
      "[21:24:01] WARNING: C:/Users/Administrator/workspace/xgboost-win64_release_1.4.0/src/learner.cc:1095: Starting in XGBoost 1.3.0, the default evaluation metric used with the objective 'binary:logistic' was changed from 'error' to 'logloss'. Explicitly set eval_metric if you'd like to restore the old behavior.\n",
      "[21:24:03] WARNING: C:/Users/Administrator/workspace/xgboost-win64_release_1.4.0/src/learner.cc:1095: Starting in XGBoost 1.3.0, the default evaluation metric used with the objective 'binary:logistic' was changed from 'error' to 'logloss'. Explicitly set eval_metric if you'd like to restore the old behavior.\n",
      "[21:24:04] WARNING: C:/Users/Administrator/workspace/xgboost-win64_release_1.4.0/src/learner.cc:1095: Starting in XGBoost 1.3.0, the default evaluation metric used with the objective 'binary:logistic' was changed from 'error' to 'logloss'. Explicitly set eval_metric if you'd like to restore the old behavior.\n",
      "[21:24:06] WARNING: C:/Users/Administrator/workspace/xgboost-win64_release_1.4.0/src/learner.cc:1095: Starting in XGBoost 1.3.0, the default evaluation metric used with the objective 'binary:logistic' was changed from 'error' to 'logloss'. Explicitly set eval_metric if you'd like to restore the old behavior.\n",
      "[21:24:08] WARNING: C:/Users/Administrator/workspace/xgboost-win64_release_1.4.0/src/learner.cc:1095: Starting in XGBoost 1.3.0, the default evaluation metric used with the objective 'binary:logistic' was changed from 'error' to 'logloss'. Explicitly set eval_metric if you'd like to restore the old behavior.\n",
      "[21:24:09] WARNING: C:/Users/Administrator/workspace/xgboost-win64_release_1.4.0/src/learner.cc:1095: Starting in XGBoost 1.3.0, the default evaluation metric used with the objective 'binary:logistic' was changed from 'error' to 'logloss'. Explicitly set eval_metric if you'd like to restore the old behavior.\n",
      "[21:24:11] WARNING: C:/Users/Administrator/workspace/xgboost-win64_release_1.4.0/src/learner.cc:1095: Starting in XGBoost 1.3.0, the default evaluation metric used with the objective 'binary:logistic' was changed from 'error' to 'logloss'. Explicitly set eval_metric if you'd like to restore the old behavior.\n",
      "[21:24:13] WARNING: C:/Users/Administrator/workspace/xgboost-win64_release_1.4.0/src/learner.cc:1095: Starting in XGBoost 1.3.0, the default evaluation metric used with the objective 'binary:logistic' was changed from 'error' to 'logloss'. Explicitly set eval_metric if you'd like to restore the old behavior.\n",
      "[21:24:15] WARNING: C:/Users/Administrator/workspace/xgboost-win64_release_1.4.0/src/learner.cc:1095: Starting in XGBoost 1.3.0, the default evaluation metric used with the objective 'binary:logistic' was changed from 'error' to 'logloss'. Explicitly set eval_metric if you'd like to restore the old behavior.\n",
      "[21:24:16] WARNING: C:/Users/Administrator/workspace/xgboost-win64_release_1.4.0/src/learner.cc:1095: Starting in XGBoost 1.3.0, the default evaluation metric used with the objective 'binary:logistic' was changed from 'error' to 'logloss'. Explicitly set eval_metric if you'd like to restore the old behavior.\n",
      "[21:24:18] WARNING: C:/Users/Administrator/workspace/xgboost-win64_release_1.4.0/src/learner.cc:1095: Starting in XGBoost 1.3.0, the default evaluation metric used with the objective 'binary:logistic' was changed from 'error' to 'logloss'. Explicitly set eval_metric if you'd like to restore the old behavior.\n",
      "[21:24:20] WARNING: C:/Users/Administrator/workspace/xgboost-win64_release_1.4.0/src/learner.cc:1095: Starting in XGBoost 1.3.0, the default evaluation metric used with the objective 'binary:logistic' was changed from 'error' to 'logloss'. Explicitly set eval_metric if you'd like to restore the old behavior.\n",
      "[21:24:22] WARNING: C:/Users/Administrator/workspace/xgboost-win64_release_1.4.0/src/learner.cc:1095: Starting in XGBoost 1.3.0, the default evaluation metric used with the objective 'binary:logistic' was changed from 'error' to 'logloss'. Explicitly set eval_metric if you'd like to restore the old behavior.\n",
      "[21:24:24] WARNING: C:/Users/Administrator/workspace/xgboost-win64_release_1.4.0/src/learner.cc:1095: Starting in XGBoost 1.3.0, the default evaluation metric used with the objective 'binary:logistic' was changed from 'error' to 'logloss'. Explicitly set eval_metric if you'd like to restore the old behavior.\n",
      "[21:24:25] WARNING: C:/Users/Administrator/workspace/xgboost-win64_release_1.4.0/src/learner.cc:1095: Starting in XGBoost 1.3.0, the default evaluation metric used with the objective 'binary:logistic' was changed from 'error' to 'logloss'. Explicitly set eval_metric if you'd like to restore the old behavior.\n",
      "[21:24:27] WARNING: C:/Users/Administrator/workspace/xgboost-win64_release_1.4.0/src/learner.cc:1095: Starting in XGBoost 1.3.0, the default evaluation metric used with the objective 'binary:logistic' was changed from 'error' to 'logloss'. Explicitly set eval_metric if you'd like to restore the old behavior.\n",
      "[21:24:29] WARNING: C:/Users/Administrator/workspace/xgboost-win64_release_1.4.0/src/learner.cc:1095: Starting in XGBoost 1.3.0, the default evaluation metric used with the objective 'binary:logistic' was changed from 'error' to 'logloss'. Explicitly set eval_metric if you'd like to restore the old behavior.\n",
      "[21:24:31] WARNING: C:/Users/Administrator/workspace/xgboost-win64_release_1.4.0/src/learner.cc:1095: Starting in XGBoost 1.3.0, the default evaluation metric used with the objective 'binary:logistic' was changed from 'error' to 'logloss'. Explicitly set eval_metric if you'd like to restore the old behavior.\n",
      "[21:24:33] WARNING: C:/Users/Administrator/workspace/xgboost-win64_release_1.4.0/src/learner.cc:1095: Starting in XGBoost 1.3.0, the default evaluation metric used with the objective 'binary:logistic' was changed from 'error' to 'logloss'. Explicitly set eval_metric if you'd like to restore the old behavior.\n",
      "[21:24:34] WARNING: C:/Users/Administrator/workspace/xgboost-win64_release_1.4.0/src/learner.cc:1095: Starting in XGBoost 1.3.0, the default evaluation metric used with the objective 'binary:logistic' was changed from 'error' to 'logloss'. Explicitly set eval_metric if you'd like to restore the old behavior.\n",
      "[21:24:36] WARNING: C:/Users/Administrator/workspace/xgboost-win64_release_1.4.0/src/learner.cc:1095: Starting in XGBoost 1.3.0, the default evaluation metric used with the objective 'binary:logistic' was changed from 'error' to 'logloss'. Explicitly set eval_metric if you'd like to restore the old behavior.\n",
      "[21:24:38] WARNING: C:/Users/Administrator/workspace/xgboost-win64_release_1.4.0/src/learner.cc:1095: Starting in XGBoost 1.3.0, the default evaluation metric used with the objective 'binary:logistic' was changed from 'error' to 'logloss'. Explicitly set eval_metric if you'd like to restore the old behavior.\n",
      "[21:24:40] WARNING: C:/Users/Administrator/workspace/xgboost-win64_release_1.4.0/src/learner.cc:1095: Starting in XGBoost 1.3.0, the default evaluation metric used with the objective 'binary:logistic' was changed from 'error' to 'logloss'. Explicitly set eval_metric if you'd like to restore the old behavior.\n",
      "[21:24:42] WARNING: C:/Users/Administrator/workspace/xgboost-win64_release_1.4.0/src/learner.cc:1095: Starting in XGBoost 1.3.0, the default evaluation metric used with the objective 'binary:logistic' was changed from 'error' to 'logloss'. Explicitly set eval_metric if you'd like to restore the old behavior.\n",
      "[21:24:43] WARNING: C:/Users/Administrator/workspace/xgboost-win64_release_1.4.0/src/learner.cc:1095: Starting in XGBoost 1.3.0, the default evaluation metric used with the objective 'binary:logistic' was changed from 'error' to 'logloss'. Explicitly set eval_metric if you'd like to restore the old behavior.\n",
      "[21:24:45] WARNING: C:/Users/Administrator/workspace/xgboost-win64_release_1.4.0/src/learner.cc:1095: Starting in XGBoost 1.3.0, the default evaluation metric used with the objective 'binary:logistic' was changed from 'error' to 'logloss'. Explicitly set eval_metric if you'd like to restore the old behavior.\n",
      "[21:24:47] WARNING: C:/Users/Administrator/workspace/xgboost-win64_release_1.4.0/src/learner.cc:1095: Starting in XGBoost 1.3.0, the default evaluation metric used with the objective 'binary:logistic' was changed from 'error' to 'logloss'. Explicitly set eval_metric if you'd like to restore the old behavior.\n",
      "[21:24:49] WARNING: C:/Users/Administrator/workspace/xgboost-win64_release_1.4.0/src/learner.cc:1095: Starting in XGBoost 1.3.0, the default evaluation metric used with the objective 'binary:logistic' was changed from 'error' to 'logloss'. Explicitly set eval_metric if you'd like to restore the old behavior.\n",
      "[21:24:51] WARNING: C:/Users/Administrator/workspace/xgboost-win64_release_1.4.0/src/learner.cc:1095: Starting in XGBoost 1.3.0, the default evaluation metric used with the objective 'binary:logistic' was changed from 'error' to 'logloss'. Explicitly set eval_metric if you'd like to restore the old behavior.\n",
      "[21:24:53] WARNING: C:/Users/Administrator/workspace/xgboost-win64_release_1.4.0/src/learner.cc:1095: Starting in XGBoost 1.3.0, the default evaluation metric used with the objective 'binary:logistic' was changed from 'error' to 'logloss'. Explicitly set eval_metric if you'd like to restore the old behavior.\n",
      "[21:24:55] WARNING: C:/Users/Administrator/workspace/xgboost-win64_release_1.4.0/src/learner.cc:1095: Starting in XGBoost 1.3.0, the default evaluation metric used with the objective 'binary:logistic' was changed from 'error' to 'logloss'. Explicitly set eval_metric if you'd like to restore the old behavior.\n",
      "[21:24:57] WARNING: C:/Users/Administrator/workspace/xgboost-win64_release_1.4.0/src/learner.cc:1095: Starting in XGBoost 1.3.0, the default evaluation metric used with the objective 'binary:logistic' was changed from 'error' to 'logloss'. Explicitly set eval_metric if you'd like to restore the old behavior.\n",
      "[21:24:59] WARNING: C:/Users/Administrator/workspace/xgboost-win64_release_1.4.0/src/learner.cc:1095: Starting in XGBoost 1.3.0, the default evaluation metric used with the objective 'binary:logistic' was changed from 'error' to 'logloss'. Explicitly set eval_metric if you'd like to restore the old behavior.\n",
      "[21:25:01] WARNING: C:/Users/Administrator/workspace/xgboost-win64_release_1.4.0/src/learner.cc:1095: Starting in XGBoost 1.3.0, the default evaluation metric used with the objective 'binary:logistic' was changed from 'error' to 'logloss'. Explicitly set eval_metric if you'd like to restore the old behavior.\n",
      "[21:25:03] WARNING: C:/Users/Administrator/workspace/xgboost-win64_release_1.4.0/src/learner.cc:1095: Starting in XGBoost 1.3.0, the default evaluation metric used with the objective 'binary:logistic' was changed from 'error' to 'logloss'. Explicitly set eval_metric if you'd like to restore the old behavior.\n",
      "[21:25:05] WARNING: C:/Users/Administrator/workspace/xgboost-win64_release_1.4.0/src/learner.cc:1095: Starting in XGBoost 1.3.0, the default evaluation metric used with the objective 'binary:logistic' was changed from 'error' to 'logloss'. Explicitly set eval_metric if you'd like to restore the old behavior.\n",
      "[21:25:07] WARNING: C:/Users/Administrator/workspace/xgboost-win64_release_1.4.0/src/learner.cc:1095: Starting in XGBoost 1.3.0, the default evaluation metric used with the objective 'binary:logistic' was changed from 'error' to 'logloss'. Explicitly set eval_metric if you'd like to restore the old behavior.\n",
      "[21:25:09] WARNING: C:/Users/Administrator/workspace/xgboost-win64_release_1.4.0/src/learner.cc:1095: Starting in XGBoost 1.3.0, the default evaluation metric used with the objective 'binary:logistic' was changed from 'error' to 'logloss'. Explicitly set eval_metric if you'd like to restore the old behavior.\n",
      "[21:25:11] WARNING: C:/Users/Administrator/workspace/xgboost-win64_release_1.4.0/src/learner.cc:1095: Starting in XGBoost 1.3.0, the default evaluation metric used with the objective 'binary:logistic' was changed from 'error' to 'logloss'. Explicitly set eval_metric if you'd like to restore the old behavior.\n",
      "[21:25:13] WARNING: C:/Users/Administrator/workspace/xgboost-win64_release_1.4.0/src/learner.cc:1095: Starting in XGBoost 1.3.0, the default evaluation metric used with the objective 'binary:logistic' was changed from 'error' to 'logloss'. Explicitly set eval_metric if you'd like to restore the old behavior.\n",
      "[21:25:15] WARNING: C:/Users/Administrator/workspace/xgboost-win64_release_1.4.0/src/learner.cc:1095: Starting in XGBoost 1.3.0, the default evaluation metric used with the objective 'binary:logistic' was changed from 'error' to 'logloss'. Explicitly set eval_metric if you'd like to restore the old behavior.\n",
      "[21:25:17] WARNING: C:/Users/Administrator/workspace/xgboost-win64_release_1.4.0/src/learner.cc:1095: Starting in XGBoost 1.3.0, the default evaluation metric used with the objective 'binary:logistic' was changed from 'error' to 'logloss'. Explicitly set eval_metric if you'd like to restore the old behavior.\n",
      "[21:25:19] WARNING: C:/Users/Administrator/workspace/xgboost-win64_release_1.4.0/src/learner.cc:1095: Starting in XGBoost 1.3.0, the default evaluation metric used with the objective 'binary:logistic' was changed from 'error' to 'logloss'. Explicitly set eval_metric if you'd like to restore the old behavior.\n",
      "[21:25:21] WARNING: C:/Users/Administrator/workspace/xgboost-win64_release_1.4.0/src/learner.cc:1095: Starting in XGBoost 1.3.0, the default evaluation metric used with the objective 'binary:logistic' was changed from 'error' to 'logloss'. Explicitly set eval_metric if you'd like to restore the old behavior.\n",
      "[21:25:23] WARNING: C:/Users/Administrator/workspace/xgboost-win64_release_1.4.0/src/learner.cc:1095: Starting in XGBoost 1.3.0, the default evaluation metric used with the objective 'binary:logistic' was changed from 'error' to 'logloss'. Explicitly set eval_metric if you'd like to restore the old behavior.\n",
      "[21:25:25] WARNING: C:/Users/Administrator/workspace/xgboost-win64_release_1.4.0/src/learner.cc:1095: Starting in XGBoost 1.3.0, the default evaluation metric used with the objective 'binary:logistic' was changed from 'error' to 'logloss'. Explicitly set eval_metric if you'd like to restore the old behavior.\n",
      "[21:25:27] WARNING: C:/Users/Administrator/workspace/xgboost-win64_release_1.4.0/src/learner.cc:1095: Starting in XGBoost 1.3.0, the default evaluation metric used with the objective 'binary:logistic' was changed from 'error' to 'logloss'. Explicitly set eval_metric if you'd like to restore the old behavior.\n",
      "[21:25:29] WARNING: C:/Users/Administrator/workspace/xgboost-win64_release_1.4.0/src/learner.cc:1095: Starting in XGBoost 1.3.0, the default evaluation metric used with the objective 'binary:logistic' was changed from 'error' to 'logloss'. Explicitly set eval_metric if you'd like to restore the old behavior.\n",
      "[21:25:31] WARNING: C:/Users/Administrator/workspace/xgboost-win64_release_1.4.0/src/learner.cc:1095: Starting in XGBoost 1.3.0, the default evaluation metric used with the objective 'binary:logistic' was changed from 'error' to 'logloss'. Explicitly set eval_metric if you'd like to restore the old behavior.\n",
      "[21:25:33] WARNING: C:/Users/Administrator/workspace/xgboost-win64_release_1.4.0/src/learner.cc:1095: Starting in XGBoost 1.3.0, the default evaluation metric used with the objective 'binary:logistic' was changed from 'error' to 'logloss'. Explicitly set eval_metric if you'd like to restore the old behavior.\n",
      "[21:25:35] WARNING: C:/Users/Administrator/workspace/xgboost-win64_release_1.4.0/src/learner.cc:1095: Starting in XGBoost 1.3.0, the default evaluation metric used with the objective 'binary:logistic' was changed from 'error' to 'logloss'. Explicitly set eval_metric if you'd like to restore the old behavior.\n",
      "Mejor resultado1.0\n",
      "Mejor parametroXGBClassifier(base_score=0.5, booster='gbtree', colsample_bylevel=1,\n",
      "              colsample_bynode=1, colsample_bytree=0.8, gamma=0, gpu_id=-1,\n",
      "              importance_type='gain', interaction_constraints='',\n",
      "              learning_rate=0.1, max_delta_step=0, max_depth=3,\n",
      "              min_child_weight=1, missing=nan, monotone_constraints='()',\n",
      "              n_estimators=1000, n_jobs=4, nthread=4, num_parallel_tree=1,\n",
      "              random_state=27, reg_alpha=0, reg_lambda=1, scale_pos_weight=1,\n",
      "              seed=27, subsample=0.8, tree_method='exact',\n",
      "              validate_parameters=1, verbosity=None)\n"
     ]
    }
   ],
   "source": [
    "total_parametros, mejores_parametros,best_stimator,best_score = Optimizacion_parametros(param_grid,XGBClassifier,ear2,y,5)"
   ]
  },
  {
   "cell_type": "code",
   "execution_count": 12,
   "id": "0ac2a901",
   "metadata": {},
   "outputs": [
    {
     "data": {
      "text/plain": [
       "1.0"
      ]
     },
     "execution_count": 12,
     "metadata": {},
     "output_type": "execute_result"
    }
   ],
   "source": [
    "best_score"
   ]
  },
  {
   "cell_type": "code",
   "execution_count": 13,
   "id": "fa78b647",
   "metadata": {},
   "outputs": [
    {
     "data": {
      "text/plain": [
       "XGBClassifier(base_score=0.5, booster='gbtree', colsample_bylevel=1,\n",
       "              colsample_bynode=1, colsample_bytree=0.8, gamma=0, gpu_id=-1,\n",
       "              importance_type='gain', interaction_constraints='',\n",
       "              learning_rate=0.1, max_delta_step=0, max_depth=3,\n",
       "              min_child_weight=1, missing=nan, monotone_constraints='()',\n",
       "              n_estimators=1000, n_jobs=4, nthread=4, num_parallel_tree=1,\n",
       "              random_state=27, reg_alpha=0, reg_lambda=1, scale_pos_weight=1,\n",
       "              seed=27, subsample=0.8, tree_method='exact',\n",
       "              validate_parameters=1, verbosity=None)"
      ]
     },
     "execution_count": 13,
     "metadata": {},
     "output_type": "execute_result"
    }
   ],
   "source": [
    "best_stimator"
   ]
  },
  {
   "cell_type": "code",
   "execution_count": 14,
   "id": "2d8d6a12",
   "metadata": {},
   "outputs": [
    {
     "data": {
      "text/html": [
       "<div>\n",
       "<style scoped>\n",
       "    .dataframe tbody tr th:only-of-type {\n",
       "        vertical-align: middle;\n",
       "    }\n",
       "\n",
       "    .dataframe tbody tr th {\n",
       "        vertical-align: top;\n",
       "    }\n",
       "\n",
       "    .dataframe thead th {\n",
       "        text-align: right;\n",
       "    }\n",
       "</style>\n",
       "<table border=\"1\" class=\"dataframe\">\n",
       "  <thead>\n",
       "    <tr style=\"text-align: right;\">\n",
       "      <th></th>\n",
       "      <th>max_depth</th>\n",
       "      <th>min_child_weight</th>\n",
       "      <th>mean_train_score</th>\n",
       "      <th>mean_test_score</th>\n",
       "      <th>std_train_score</th>\n",
       "      <th>std_test_score</th>\n",
       "    </tr>\n",
       "  </thead>\n",
       "  <tbody>\n",
       "    <tr>\n",
       "      <th>0</th>\n",
       "      <td>3</td>\n",
       "      <td>1</td>\n",
       "      <td>1.00</td>\n",
       "      <td>1.0</td>\n",
       "      <td>0.000</td>\n",
       "      <td>0.0</td>\n",
       "    </tr>\n",
       "    <tr>\n",
       "      <th>1</th>\n",
       "      <td>3</td>\n",
       "      <td>3</td>\n",
       "      <td>0.45</td>\n",
       "      <td>0.4</td>\n",
       "      <td>0.225</td>\n",
       "      <td>0.2</td>\n",
       "    </tr>\n",
       "    <tr>\n",
       "      <th>2</th>\n",
       "      <td>3</td>\n",
       "      <td>5</td>\n",
       "      <td>0.00</td>\n",
       "      <td>0.0</td>\n",
       "      <td>0.000</td>\n",
       "      <td>0.0</td>\n",
       "    </tr>\n",
       "    <tr>\n",
       "      <th>3</th>\n",
       "      <td>5</td>\n",
       "      <td>1</td>\n",
       "      <td>1.00</td>\n",
       "      <td>1.0</td>\n",
       "      <td>0.000</td>\n",
       "      <td>0.0</td>\n",
       "    </tr>\n",
       "    <tr>\n",
       "      <th>4</th>\n",
       "      <td>5</td>\n",
       "      <td>3</td>\n",
       "      <td>0.45</td>\n",
       "      <td>0.4</td>\n",
       "      <td>0.225</td>\n",
       "      <td>0.2</td>\n",
       "    </tr>\n",
       "    <tr>\n",
       "      <th>5</th>\n",
       "      <td>5</td>\n",
       "      <td>5</td>\n",
       "      <td>0.00</td>\n",
       "      <td>0.0</td>\n",
       "      <td>0.000</td>\n",
       "      <td>0.0</td>\n",
       "    </tr>\n",
       "    <tr>\n",
       "      <th>6</th>\n",
       "      <td>7</td>\n",
       "      <td>1</td>\n",
       "      <td>1.00</td>\n",
       "      <td>1.0</td>\n",
       "      <td>0.000</td>\n",
       "      <td>0.0</td>\n",
       "    </tr>\n",
       "    <tr>\n",
       "      <th>7</th>\n",
       "      <td>7</td>\n",
       "      <td>3</td>\n",
       "      <td>0.45</td>\n",
       "      <td>0.4</td>\n",
       "      <td>0.225</td>\n",
       "      <td>0.2</td>\n",
       "    </tr>\n",
       "    <tr>\n",
       "      <th>8</th>\n",
       "      <td>7</td>\n",
       "      <td>5</td>\n",
       "      <td>0.00</td>\n",
       "      <td>0.0</td>\n",
       "      <td>0.000</td>\n",
       "      <td>0.0</td>\n",
       "    </tr>\n",
       "    <tr>\n",
       "      <th>9</th>\n",
       "      <td>9</td>\n",
       "      <td>1</td>\n",
       "      <td>1.00</td>\n",
       "      <td>1.0</td>\n",
       "      <td>0.000</td>\n",
       "      <td>0.0</td>\n",
       "    </tr>\n",
       "    <tr>\n",
       "      <th>10</th>\n",
       "      <td>9</td>\n",
       "      <td>3</td>\n",
       "      <td>0.45</td>\n",
       "      <td>0.4</td>\n",
       "      <td>0.225</td>\n",
       "      <td>0.2</td>\n",
       "    </tr>\n",
       "    <tr>\n",
       "      <th>11</th>\n",
       "      <td>9</td>\n",
       "      <td>5</td>\n",
       "      <td>0.00</td>\n",
       "      <td>0.0</td>\n",
       "      <td>0.000</td>\n",
       "      <td>0.0</td>\n",
       "    </tr>\n",
       "  </tbody>\n",
       "</table>\n",
       "</div>"
      ],
      "text/plain": [
       "    max_depth  min_child_weight  mean_train_score  mean_test_score  \\\n",
       "0           3                 1              1.00              1.0   \n",
       "1           3                 3              0.45              0.4   \n",
       "2           3                 5              0.00              0.0   \n",
       "3           5                 1              1.00              1.0   \n",
       "4           5                 3              0.45              0.4   \n",
       "5           5                 5              0.00              0.0   \n",
       "6           7                 1              1.00              1.0   \n",
       "7           7                 3              0.45              0.4   \n",
       "8           7                 5              0.00              0.0   \n",
       "9           9                 1              1.00              1.0   \n",
       "10          9                 3              0.45              0.4   \n",
       "11          9                 5              0.00              0.0   \n",
       "\n",
       "    std_train_score  std_test_score  \n",
       "0             0.000             0.0  \n",
       "1             0.225             0.2  \n",
       "2             0.000             0.0  \n",
       "3             0.000             0.0  \n",
       "4             0.225             0.2  \n",
       "5             0.000             0.0  \n",
       "6             0.000             0.0  \n",
       "7             0.225             0.2  \n",
       "8             0.000             0.0  \n",
       "9             0.000             0.0  \n",
       "10            0.225             0.2  \n",
       "11            0.000             0.0  "
      ]
     },
     "execution_count": 14,
     "metadata": {},
     "output_type": "execute_result"
    }
   ],
   "source": [
    "total_parametros"
   ]
  },
  {
   "cell_type": "code",
   "execution_count": 15,
   "id": "3cbdaa4b",
   "metadata": {},
   "outputs": [
    {
     "data": {
      "text/html": [
       "<div>\n",
       "<style scoped>\n",
       "    .dataframe tbody tr th:only-of-type {\n",
       "        vertical-align: middle;\n",
       "    }\n",
       "\n",
       "    .dataframe tbody tr th {\n",
       "        vertical-align: top;\n",
       "    }\n",
       "\n",
       "    .dataframe thead th {\n",
       "        text-align: right;\n",
       "    }\n",
       "</style>\n",
       "<table border=\"1\" class=\"dataframe\">\n",
       "  <thead>\n",
       "    <tr style=\"text-align: right;\">\n",
       "      <th></th>\n",
       "      <th>max_depth</th>\n",
       "      <th>min_child_weight</th>\n",
       "      <th>mean_train_score</th>\n",
       "      <th>mean_test_score</th>\n",
       "      <th>std_train_score</th>\n",
       "      <th>std_test_score</th>\n",
       "    </tr>\n",
       "  </thead>\n",
       "  <tbody>\n",
       "    <tr>\n",
       "      <th>0</th>\n",
       "      <td>3</td>\n",
       "      <td>1</td>\n",
       "      <td>1.0</td>\n",
       "      <td>1.0</td>\n",
       "      <td>0.0</td>\n",
       "      <td>0.0</td>\n",
       "    </tr>\n",
       "    <tr>\n",
       "      <th>3</th>\n",
       "      <td>5</td>\n",
       "      <td>1</td>\n",
       "      <td>1.0</td>\n",
       "      <td>1.0</td>\n",
       "      <td>0.0</td>\n",
       "      <td>0.0</td>\n",
       "    </tr>\n",
       "    <tr>\n",
       "      <th>6</th>\n",
       "      <td>7</td>\n",
       "      <td>1</td>\n",
       "      <td>1.0</td>\n",
       "      <td>1.0</td>\n",
       "      <td>0.0</td>\n",
       "      <td>0.0</td>\n",
       "    </tr>\n",
       "    <tr>\n",
       "      <th>9</th>\n",
       "      <td>9</td>\n",
       "      <td>1</td>\n",
       "      <td>1.0</td>\n",
       "      <td>1.0</td>\n",
       "      <td>0.0</td>\n",
       "      <td>0.0</td>\n",
       "    </tr>\n",
       "  </tbody>\n",
       "</table>\n",
       "</div>"
      ],
      "text/plain": [
       "   max_depth  min_child_weight  mean_train_score  mean_test_score  \\\n",
       "0          3                 1               1.0              1.0   \n",
       "3          5                 1               1.0              1.0   \n",
       "6          7                 1               1.0              1.0   \n",
       "9          9                 1               1.0              1.0   \n",
       "\n",
       "   std_train_score  std_test_score  \n",
       "0              0.0             0.0  \n",
       "3              0.0             0.0  \n",
       "6              0.0             0.0  \n",
       "9              0.0             0.0  "
      ]
     },
     "execution_count": 15,
     "metadata": {},
     "output_type": "execute_result"
    }
   ],
   "source": [
    "mejores_parametros"
   ]
  },
  {
   "cell_type": "markdown",
   "id": "d655b5f5",
   "metadata": {},
   "source": [
    "## Adabost"
   ]
  },
  {
   "cell_type": "code",
   "execution_count": 16,
   "id": "ad8c2a5a",
   "metadata": {},
   "outputs": [],
   "source": [
    "from sklearn.tree import DecisionTreeClassifier\n",
    "from sklearn.ensemble import AdaBoostClassifier\n"
   ]
  },
  {
   "cell_type": "code",
   "execution_count": 17,
   "id": "f9328592",
   "metadata": {},
   "outputs": [],
   "source": [
    "param_grid = {'base_estimator__max_depth':[i for i in range(2,11,2)],\n",
    "              'base_estimator__min_samples_leaf':[5,10],\n",
    "              'n_estimators':[10,50,250,1000],\n",
    "              'learning_rate':[0.01,0.1]}"
   ]
  },
  {
   "cell_type": "code",
   "execution_count": 18,
   "id": "36a15707",
   "metadata": {},
   "outputs": [],
   "source": [
    "ada_clf = AdaBoostClassifier(base_estimator=DecisionTreeClassifier())"
   ]
  },
  {
   "cell_type": "code",
   "execution_count": 19,
   "id": "43c376d1",
   "metadata": {},
   "outputs": [
    {
     "name": "stdout",
     "output_type": "stream",
     "text": [
      "Mejor resultado1.0\n",
      "Mejor parametroAdaBoostClassifier(base_estimator=DecisionTreeClassifier(max_depth=2,\n",
      "                                                         min_samples_leaf=5),\n",
      "                   learning_rate=0.01)\n"
     ]
    }
   ],
   "source": [
    "total_parametros, mejores_parametros,best_stimator,best_score = Optimizacion_parametros(param_grid,ada_clf,ear2,y,5)"
   ]
  },
  {
   "cell_type": "code",
   "execution_count": 20,
   "id": "b85db0c6",
   "metadata": {},
   "outputs": [
    {
     "data": {
      "text/plain": [
       "1.0"
      ]
     },
     "execution_count": 20,
     "metadata": {},
     "output_type": "execute_result"
    }
   ],
   "source": [
    "best_score"
   ]
  },
  {
   "cell_type": "code",
   "execution_count": 21,
   "id": "68590392",
   "metadata": {},
   "outputs": [
    {
     "data": {
      "text/plain": [
       "AdaBoostClassifier(base_estimator=DecisionTreeClassifier(max_depth=2,\n",
       "                                                         min_samples_leaf=5),\n",
       "                   learning_rate=0.01)"
      ]
     },
     "execution_count": 21,
     "metadata": {},
     "output_type": "execute_result"
    }
   ],
   "source": [
    "best_stimator"
   ]
  },
  {
   "cell_type": "code",
   "execution_count": 22,
   "id": "043f69f3",
   "metadata": {},
   "outputs": [
    {
     "data": {
      "text/html": [
       "<div>\n",
       "<style scoped>\n",
       "    .dataframe tbody tr th:only-of-type {\n",
       "        vertical-align: middle;\n",
       "    }\n",
       "\n",
       "    .dataframe tbody tr th {\n",
       "        vertical-align: top;\n",
       "    }\n",
       "\n",
       "    .dataframe thead th {\n",
       "        text-align: right;\n",
       "    }\n",
       "</style>\n",
       "<table border=\"1\" class=\"dataframe\">\n",
       "  <thead>\n",
       "    <tr style=\"text-align: right;\">\n",
       "      <th></th>\n",
       "      <th>base_estimator__max_depth</th>\n",
       "      <th>base_estimator__min_samples_leaf</th>\n",
       "      <th>learning_rate</th>\n",
       "      <th>n_estimators</th>\n",
       "      <th>mean_train_score</th>\n",
       "      <th>mean_test_score</th>\n",
       "      <th>std_train_score</th>\n",
       "      <th>std_test_score</th>\n",
       "    </tr>\n",
       "  </thead>\n",
       "  <tbody>\n",
       "    <tr>\n",
       "      <th>0</th>\n",
       "      <td>2</td>\n",
       "      <td>5</td>\n",
       "      <td>0.01</td>\n",
       "      <td>10</td>\n",
       "      <td>1.00</td>\n",
       "      <td>0.933333</td>\n",
       "      <td>0.000</td>\n",
       "      <td>0.133333</td>\n",
       "    </tr>\n",
       "    <tr>\n",
       "      <th>1</th>\n",
       "      <td>2</td>\n",
       "      <td>5</td>\n",
       "      <td>0.01</td>\n",
       "      <td>50</td>\n",
       "      <td>1.00</td>\n",
       "      <td>1.000000</td>\n",
       "      <td>0.000</td>\n",
       "      <td>0.000000</td>\n",
       "    </tr>\n",
       "    <tr>\n",
       "      <th>2</th>\n",
       "      <td>2</td>\n",
       "      <td>5</td>\n",
       "      <td>0.01</td>\n",
       "      <td>250</td>\n",
       "      <td>1.00</td>\n",
       "      <td>1.000000</td>\n",
       "      <td>0.000</td>\n",
       "      <td>0.000000</td>\n",
       "    </tr>\n",
       "    <tr>\n",
       "      <th>3</th>\n",
       "      <td>2</td>\n",
       "      <td>5</td>\n",
       "      <td>0.01</td>\n",
       "      <td>1000</td>\n",
       "      <td>1.00</td>\n",
       "      <td>1.000000</td>\n",
       "      <td>0.000</td>\n",
       "      <td>0.000000</td>\n",
       "    </tr>\n",
       "    <tr>\n",
       "      <th>4</th>\n",
       "      <td>2</td>\n",
       "      <td>5</td>\n",
       "      <td>0.10</td>\n",
       "      <td>10</td>\n",
       "      <td>1.00</td>\n",
       "      <td>0.933333</td>\n",
       "      <td>0.000</td>\n",
       "      <td>0.133333</td>\n",
       "    </tr>\n",
       "    <tr>\n",
       "      <th>...</th>\n",
       "      <td>...</td>\n",
       "      <td>...</td>\n",
       "      <td>...</td>\n",
       "      <td>...</td>\n",
       "      <td>...</td>\n",
       "      <td>...</td>\n",
       "      <td>...</td>\n",
       "      <td>...</td>\n",
       "    </tr>\n",
       "    <tr>\n",
       "      <th>75</th>\n",
       "      <td>10</td>\n",
       "      <td>10</td>\n",
       "      <td>0.01</td>\n",
       "      <td>1000</td>\n",
       "      <td>0.45</td>\n",
       "      <td>0.400000</td>\n",
       "      <td>0.225</td>\n",
       "      <td>0.200000</td>\n",
       "    </tr>\n",
       "    <tr>\n",
       "      <th>76</th>\n",
       "      <td>10</td>\n",
       "      <td>10</td>\n",
       "      <td>0.10</td>\n",
       "      <td>10</td>\n",
       "      <td>0.45</td>\n",
       "      <td>0.400000</td>\n",
       "      <td>0.225</td>\n",
       "      <td>0.200000</td>\n",
       "    </tr>\n",
       "    <tr>\n",
       "      <th>77</th>\n",
       "      <td>10</td>\n",
       "      <td>10</td>\n",
       "      <td>0.10</td>\n",
       "      <td>50</td>\n",
       "      <td>0.45</td>\n",
       "      <td>0.400000</td>\n",
       "      <td>0.225</td>\n",
       "      <td>0.200000</td>\n",
       "    </tr>\n",
       "    <tr>\n",
       "      <th>78</th>\n",
       "      <td>10</td>\n",
       "      <td>10</td>\n",
       "      <td>0.10</td>\n",
       "      <td>250</td>\n",
       "      <td>0.45</td>\n",
       "      <td>0.400000</td>\n",
       "      <td>0.225</td>\n",
       "      <td>0.200000</td>\n",
       "    </tr>\n",
       "    <tr>\n",
       "      <th>79</th>\n",
       "      <td>10</td>\n",
       "      <td>10</td>\n",
       "      <td>0.10</td>\n",
       "      <td>1000</td>\n",
       "      <td>0.45</td>\n",
       "      <td>0.400000</td>\n",
       "      <td>0.225</td>\n",
       "      <td>0.200000</td>\n",
       "    </tr>\n",
       "  </tbody>\n",
       "</table>\n",
       "<p>80 rows × 8 columns</p>\n",
       "</div>"
      ],
      "text/plain": [
       "    base_estimator__max_depth  base_estimator__min_samples_leaf  \\\n",
       "0                           2                                 5   \n",
       "1                           2                                 5   \n",
       "2                           2                                 5   \n",
       "3                           2                                 5   \n",
       "4                           2                                 5   \n",
       "..                        ...                               ...   \n",
       "75                         10                                10   \n",
       "76                         10                                10   \n",
       "77                         10                                10   \n",
       "78                         10                                10   \n",
       "79                         10                                10   \n",
       "\n",
       "    learning_rate  n_estimators  mean_train_score  mean_test_score  \\\n",
       "0            0.01            10              1.00         0.933333   \n",
       "1            0.01            50              1.00         1.000000   \n",
       "2            0.01           250              1.00         1.000000   \n",
       "3            0.01          1000              1.00         1.000000   \n",
       "4            0.10            10              1.00         0.933333   \n",
       "..            ...           ...               ...              ...   \n",
       "75           0.01          1000              0.45         0.400000   \n",
       "76           0.10            10              0.45         0.400000   \n",
       "77           0.10            50              0.45         0.400000   \n",
       "78           0.10           250              0.45         0.400000   \n",
       "79           0.10          1000              0.45         0.400000   \n",
       "\n",
       "    std_train_score  std_test_score  \n",
       "0             0.000        0.133333  \n",
       "1             0.000        0.000000  \n",
       "2             0.000        0.000000  \n",
       "3             0.000        0.000000  \n",
       "4             0.000        0.133333  \n",
       "..              ...             ...  \n",
       "75            0.225        0.200000  \n",
       "76            0.225        0.200000  \n",
       "77            0.225        0.200000  \n",
       "78            0.225        0.200000  \n",
       "79            0.225        0.200000  \n",
       "\n",
       "[80 rows x 8 columns]"
      ]
     },
     "execution_count": 22,
     "metadata": {},
     "output_type": "execute_result"
    }
   ],
   "source": [
    "total_parametros"
   ]
  },
  {
   "cell_type": "markdown",
   "id": "f0b4567c",
   "metadata": {},
   "source": [
    "## Random Forest"
   ]
  },
  {
   "cell_type": "code",
   "execution_count": 23,
   "id": "0113ca51",
   "metadata": {},
   "outputs": [],
   "source": [
    "from sklearn.ensemble import RandomForestClassifier"
   ]
  },
  {
   "cell_type": "code",
   "execution_count": 24,
   "id": "b8c233b8",
   "metadata": {},
   "outputs": [],
   "source": [
    "param_grid ={'bootstrap': [True, False],\n",
    " 'max_depth': [10, 20],\n",
    " 'max_features': ['auto', 'sqrt'],\n",
    " 'min_samples_leaf': [2, 4],\n",
    " 'min_samples_split': [2, 5],\n",
    " 'n_estimators': [200, 400, 600, 800]}"
   ]
  },
  {
   "cell_type": "code",
   "execution_count": 25,
   "id": "d71e7a11",
   "metadata": {},
   "outputs": [],
   "source": [
    "RandomForestClassifier = RandomForestClassifier()"
   ]
  },
  {
   "cell_type": "code",
   "execution_count": 26,
   "id": "5f907ecf",
   "metadata": {},
   "outputs": [
    {
     "name": "stdout",
     "output_type": "stream",
     "text": [
      "Mejor resultado1.0\n",
      "Mejor parametroRandomForestClassifier(max_depth=10, min_samples_leaf=2, n_estimators=200)\n"
     ]
    }
   ],
   "source": [
    "total_parametros, mejores_parametros,best_stimator,best_score = Optimizacion_parametros(param_grid,RandomForestClassifier,ear2,y,5)"
   ]
  },
  {
   "cell_type": "code",
   "execution_count": 27,
   "id": "a4ec3f10",
   "metadata": {},
   "outputs": [
    {
     "data": {
      "text/plain": [
       "1.0"
      ]
     },
     "execution_count": 27,
     "metadata": {},
     "output_type": "execute_result"
    }
   ],
   "source": [
    "best_score"
   ]
  },
  {
   "cell_type": "code",
   "execution_count": 28,
   "id": "8ebaf1f5",
   "metadata": {},
   "outputs": [
    {
     "data": {
      "text/plain": [
       "RandomForestClassifier(max_depth=10, min_samples_leaf=2, n_estimators=200)"
      ]
     },
     "execution_count": 28,
     "metadata": {},
     "output_type": "execute_result"
    }
   ],
   "source": [
    "best_stimator"
   ]
  },
  {
   "cell_type": "code",
   "execution_count": 29,
   "id": "340febb5",
   "metadata": {},
   "outputs": [
    {
     "data": {
      "text/html": [
       "<div>\n",
       "<style scoped>\n",
       "    .dataframe tbody tr th:only-of-type {\n",
       "        vertical-align: middle;\n",
       "    }\n",
       "\n",
       "    .dataframe tbody tr th {\n",
       "        vertical-align: top;\n",
       "    }\n",
       "\n",
       "    .dataframe thead th {\n",
       "        text-align: right;\n",
       "    }\n",
       "</style>\n",
       "<table border=\"1\" class=\"dataframe\">\n",
       "  <thead>\n",
       "    <tr style=\"text-align: right;\">\n",
       "      <th></th>\n",
       "      <th>bootstrap</th>\n",
       "      <th>max_depth</th>\n",
       "      <th>max_features</th>\n",
       "      <th>min_samples_leaf</th>\n",
       "      <th>min_samples_split</th>\n",
       "      <th>n_estimators</th>\n",
       "      <th>mean_train_score</th>\n",
       "      <th>mean_test_score</th>\n",
       "      <th>std_train_score</th>\n",
       "      <th>std_test_score</th>\n",
       "    </tr>\n",
       "  </thead>\n",
       "  <tbody>\n",
       "    <tr>\n",
       "      <th>0</th>\n",
       "      <td>True</td>\n",
       "      <td>10</td>\n",
       "      <td>auto</td>\n",
       "      <td>2</td>\n",
       "      <td>2</td>\n",
       "      <td>200</td>\n",
       "      <td>1.0</td>\n",
       "      <td>1.0</td>\n",
       "      <td>0.0</td>\n",
       "      <td>0.0</td>\n",
       "    </tr>\n",
       "    <tr>\n",
       "      <th>1</th>\n",
       "      <td>True</td>\n",
       "      <td>10</td>\n",
       "      <td>auto</td>\n",
       "      <td>2</td>\n",
       "      <td>2</td>\n",
       "      <td>400</td>\n",
       "      <td>1.0</td>\n",
       "      <td>1.0</td>\n",
       "      <td>0.0</td>\n",
       "      <td>0.0</td>\n",
       "    </tr>\n",
       "    <tr>\n",
       "      <th>2</th>\n",
       "      <td>True</td>\n",
       "      <td>10</td>\n",
       "      <td>auto</td>\n",
       "      <td>2</td>\n",
       "      <td>2</td>\n",
       "      <td>600</td>\n",
       "      <td>1.0</td>\n",
       "      <td>1.0</td>\n",
       "      <td>0.0</td>\n",
       "      <td>0.0</td>\n",
       "    </tr>\n",
       "    <tr>\n",
       "      <th>3</th>\n",
       "      <td>True</td>\n",
       "      <td>10</td>\n",
       "      <td>auto</td>\n",
       "      <td>2</td>\n",
       "      <td>2</td>\n",
       "      <td>800</td>\n",
       "      <td>1.0</td>\n",
       "      <td>1.0</td>\n",
       "      <td>0.0</td>\n",
       "      <td>0.0</td>\n",
       "    </tr>\n",
       "    <tr>\n",
       "      <th>4</th>\n",
       "      <td>True</td>\n",
       "      <td>10</td>\n",
       "      <td>auto</td>\n",
       "      <td>2</td>\n",
       "      <td>5</td>\n",
       "      <td>200</td>\n",
       "      <td>1.0</td>\n",
       "      <td>1.0</td>\n",
       "      <td>0.0</td>\n",
       "      <td>0.0</td>\n",
       "    </tr>\n",
       "    <tr>\n",
       "      <th>...</th>\n",
       "      <td>...</td>\n",
       "      <td>...</td>\n",
       "      <td>...</td>\n",
       "      <td>...</td>\n",
       "      <td>...</td>\n",
       "      <td>...</td>\n",
       "      <td>...</td>\n",
       "      <td>...</td>\n",
       "      <td>...</td>\n",
       "      <td>...</td>\n",
       "    </tr>\n",
       "    <tr>\n",
       "      <th>123</th>\n",
       "      <td>False</td>\n",
       "      <td>20</td>\n",
       "      <td>sqrt</td>\n",
       "      <td>4</td>\n",
       "      <td>2</td>\n",
       "      <td>800</td>\n",
       "      <td>1.0</td>\n",
       "      <td>1.0</td>\n",
       "      <td>0.0</td>\n",
       "      <td>0.0</td>\n",
       "    </tr>\n",
       "    <tr>\n",
       "      <th>124</th>\n",
       "      <td>False</td>\n",
       "      <td>20</td>\n",
       "      <td>sqrt</td>\n",
       "      <td>4</td>\n",
       "      <td>5</td>\n",
       "      <td>200</td>\n",
       "      <td>1.0</td>\n",
       "      <td>1.0</td>\n",
       "      <td>0.0</td>\n",
       "      <td>0.0</td>\n",
       "    </tr>\n",
       "    <tr>\n",
       "      <th>125</th>\n",
       "      <td>False</td>\n",
       "      <td>20</td>\n",
       "      <td>sqrt</td>\n",
       "      <td>4</td>\n",
       "      <td>5</td>\n",
       "      <td>400</td>\n",
       "      <td>1.0</td>\n",
       "      <td>1.0</td>\n",
       "      <td>0.0</td>\n",
       "      <td>0.0</td>\n",
       "    </tr>\n",
       "    <tr>\n",
       "      <th>126</th>\n",
       "      <td>False</td>\n",
       "      <td>20</td>\n",
       "      <td>sqrt</td>\n",
       "      <td>4</td>\n",
       "      <td>5</td>\n",
       "      <td>600</td>\n",
       "      <td>1.0</td>\n",
       "      <td>1.0</td>\n",
       "      <td>0.0</td>\n",
       "      <td>0.0</td>\n",
       "    </tr>\n",
       "    <tr>\n",
       "      <th>127</th>\n",
       "      <td>False</td>\n",
       "      <td>20</td>\n",
       "      <td>sqrt</td>\n",
       "      <td>4</td>\n",
       "      <td>5</td>\n",
       "      <td>800</td>\n",
       "      <td>1.0</td>\n",
       "      <td>1.0</td>\n",
       "      <td>0.0</td>\n",
       "      <td>0.0</td>\n",
       "    </tr>\n",
       "  </tbody>\n",
       "</table>\n",
       "<p>128 rows × 10 columns</p>\n",
       "</div>"
      ],
      "text/plain": [
       "     bootstrap  max_depth max_features  min_samples_leaf  min_samples_split  \\\n",
       "0         True         10         auto                 2                  2   \n",
       "1         True         10         auto                 2                  2   \n",
       "2         True         10         auto                 2                  2   \n",
       "3         True         10         auto                 2                  2   \n",
       "4         True         10         auto                 2                  5   \n",
       "..         ...        ...          ...               ...                ...   \n",
       "123      False         20         sqrt                 4                  2   \n",
       "124      False         20         sqrt                 4                  5   \n",
       "125      False         20         sqrt                 4                  5   \n",
       "126      False         20         sqrt                 4                  5   \n",
       "127      False         20         sqrt                 4                  5   \n",
       "\n",
       "     n_estimators  mean_train_score  mean_test_score  std_train_score  \\\n",
       "0             200               1.0              1.0              0.0   \n",
       "1             400               1.0              1.0              0.0   \n",
       "2             600               1.0              1.0              0.0   \n",
       "3             800               1.0              1.0              0.0   \n",
       "4             200               1.0              1.0              0.0   \n",
       "..            ...               ...              ...              ...   \n",
       "123           800               1.0              1.0              0.0   \n",
       "124           200               1.0              1.0              0.0   \n",
       "125           400               1.0              1.0              0.0   \n",
       "126           600               1.0              1.0              0.0   \n",
       "127           800               1.0              1.0              0.0   \n",
       "\n",
       "     std_test_score  \n",
       "0               0.0  \n",
       "1               0.0  \n",
       "2               0.0  \n",
       "3               0.0  \n",
       "4               0.0  \n",
       "..              ...  \n",
       "123             0.0  \n",
       "124             0.0  \n",
       "125             0.0  \n",
       "126             0.0  \n",
       "127             0.0  \n",
       "\n",
       "[128 rows x 10 columns]"
      ]
     },
     "execution_count": 29,
     "metadata": {},
     "output_type": "execute_result"
    }
   ],
   "source": [
    "total_parametros"
   ]
  },
  {
   "cell_type": "markdown",
   "id": "4397b46a",
   "metadata": {},
   "source": [
    "## SVM"
   ]
  },
  {
   "cell_type": "code",
   "execution_count": 30,
   "id": "4995171f",
   "metadata": {},
   "outputs": [],
   "source": [
    "from sklearn.svm import SVC"
   ]
  },
  {
   "cell_type": "code",
   "execution_count": 31,
   "id": "48c8b8b8",
   "metadata": {},
   "outputs": [],
   "source": [
    "param_grid = [{'kernel': ['rbf'], 'gamma': [1e-3, 1e-4],\n",
    "                     'C': [1, 10, 100, 1000]},\n",
    "                    {'kernel': ['linear'], 'C': [1, 10, 100, 1000]}]"
   ]
  },
  {
   "cell_type": "code",
   "execution_count": 32,
   "id": "752dd3b0",
   "metadata": {},
   "outputs": [],
   "source": [
    "svc = SVC()"
   ]
  },
  {
   "cell_type": "code",
   "execution_count": 33,
   "id": "e3a34e96",
   "metadata": {},
   "outputs": [
    {
     "name": "stdout",
     "output_type": "stream",
     "text": [
      "Mejor resultado1.0\n",
      "Mejor parametroSVC(C=1, gamma=0.0001)\n"
     ]
    }
   ],
   "source": [
    "total_parametros, mejores_parametros,best_stimator,best_score = Optimizacion_parametros(param_grid,svc,ear2,y,5)"
   ]
  },
  {
   "cell_type": "code",
   "execution_count": 34,
   "id": "53250926",
   "metadata": {},
   "outputs": [
    {
     "data": {
      "text/plain": [
       "1.0"
      ]
     },
     "execution_count": 34,
     "metadata": {},
     "output_type": "execute_result"
    }
   ],
   "source": [
    "best_score"
   ]
  },
  {
   "cell_type": "code",
   "execution_count": 35,
   "id": "47bfc5ec",
   "metadata": {},
   "outputs": [
    {
     "data": {
      "text/plain": [
       "SVC(C=1, gamma=0.0001)"
      ]
     },
     "execution_count": 35,
     "metadata": {},
     "output_type": "execute_result"
    }
   ],
   "source": [
    "best_stimator"
   ]
  },
  {
   "cell_type": "code",
   "execution_count": 36,
   "id": "4267005f",
   "metadata": {},
   "outputs": [
    {
     "data": {
      "text/html": [
       "<div>\n",
       "<style scoped>\n",
       "    .dataframe tbody tr th:only-of-type {\n",
       "        vertical-align: middle;\n",
       "    }\n",
       "\n",
       "    .dataframe tbody tr th {\n",
       "        vertical-align: top;\n",
       "    }\n",
       "\n",
       "    .dataframe thead th {\n",
       "        text-align: right;\n",
       "    }\n",
       "</style>\n",
       "<table border=\"1\" class=\"dataframe\">\n",
       "  <thead>\n",
       "    <tr style=\"text-align: right;\">\n",
       "      <th></th>\n",
       "      <th>C</th>\n",
       "      <th>gamma</th>\n",
       "      <th>kernel</th>\n",
       "      <th>mean_train_score</th>\n",
       "      <th>mean_test_score</th>\n",
       "      <th>std_train_score</th>\n",
       "      <th>std_test_score</th>\n",
       "    </tr>\n",
       "  </thead>\n",
       "  <tbody>\n",
       "    <tr>\n",
       "      <th>0</th>\n",
       "      <td>1</td>\n",
       "      <td>0.0010</td>\n",
       "      <td>rbf</td>\n",
       "      <td>1.0</td>\n",
       "      <td>0.933333</td>\n",
       "      <td>0.0</td>\n",
       "      <td>0.133333</td>\n",
       "    </tr>\n",
       "    <tr>\n",
       "      <th>1</th>\n",
       "      <td>1</td>\n",
       "      <td>0.0001</td>\n",
       "      <td>rbf</td>\n",
       "      <td>1.0</td>\n",
       "      <td>1.000000</td>\n",
       "      <td>0.0</td>\n",
       "      <td>0.000000</td>\n",
       "    </tr>\n",
       "    <tr>\n",
       "      <th>2</th>\n",
       "      <td>10</td>\n",
       "      <td>0.0010</td>\n",
       "      <td>rbf</td>\n",
       "      <td>1.0</td>\n",
       "      <td>0.933333</td>\n",
       "      <td>0.0</td>\n",
       "      <td>0.133333</td>\n",
       "    </tr>\n",
       "    <tr>\n",
       "      <th>3</th>\n",
       "      <td>10</td>\n",
       "      <td>0.0001</td>\n",
       "      <td>rbf</td>\n",
       "      <td>1.0</td>\n",
       "      <td>0.933333</td>\n",
       "      <td>0.0</td>\n",
       "      <td>0.133333</td>\n",
       "    </tr>\n",
       "    <tr>\n",
       "      <th>4</th>\n",
       "      <td>100</td>\n",
       "      <td>0.0010</td>\n",
       "      <td>rbf</td>\n",
       "      <td>1.0</td>\n",
       "      <td>0.933333</td>\n",
       "      <td>0.0</td>\n",
       "      <td>0.133333</td>\n",
       "    </tr>\n",
       "    <tr>\n",
       "      <th>5</th>\n",
       "      <td>100</td>\n",
       "      <td>0.0001</td>\n",
       "      <td>rbf</td>\n",
       "      <td>1.0</td>\n",
       "      <td>0.933333</td>\n",
       "      <td>0.0</td>\n",
       "      <td>0.133333</td>\n",
       "    </tr>\n",
       "    <tr>\n",
       "      <th>6</th>\n",
       "      <td>1000</td>\n",
       "      <td>0.0010</td>\n",
       "      <td>rbf</td>\n",
       "      <td>1.0</td>\n",
       "      <td>0.933333</td>\n",
       "      <td>0.0</td>\n",
       "      <td>0.133333</td>\n",
       "    </tr>\n",
       "    <tr>\n",
       "      <th>7</th>\n",
       "      <td>1000</td>\n",
       "      <td>0.0001</td>\n",
       "      <td>rbf</td>\n",
       "      <td>1.0</td>\n",
       "      <td>0.933333</td>\n",
       "      <td>0.0</td>\n",
       "      <td>0.133333</td>\n",
       "    </tr>\n",
       "    <tr>\n",
       "      <th>8</th>\n",
       "      <td>1</td>\n",
       "      <td>NaN</td>\n",
       "      <td>linear</td>\n",
       "      <td>1.0</td>\n",
       "      <td>0.933333</td>\n",
       "      <td>0.0</td>\n",
       "      <td>0.133333</td>\n",
       "    </tr>\n",
       "    <tr>\n",
       "      <th>9</th>\n",
       "      <td>10</td>\n",
       "      <td>NaN</td>\n",
       "      <td>linear</td>\n",
       "      <td>1.0</td>\n",
       "      <td>0.933333</td>\n",
       "      <td>0.0</td>\n",
       "      <td>0.133333</td>\n",
       "    </tr>\n",
       "    <tr>\n",
       "      <th>10</th>\n",
       "      <td>100</td>\n",
       "      <td>NaN</td>\n",
       "      <td>linear</td>\n",
       "      <td>1.0</td>\n",
       "      <td>0.933333</td>\n",
       "      <td>0.0</td>\n",
       "      <td>0.133333</td>\n",
       "    </tr>\n",
       "    <tr>\n",
       "      <th>11</th>\n",
       "      <td>1000</td>\n",
       "      <td>NaN</td>\n",
       "      <td>linear</td>\n",
       "      <td>1.0</td>\n",
       "      <td>0.933333</td>\n",
       "      <td>0.0</td>\n",
       "      <td>0.133333</td>\n",
       "    </tr>\n",
       "  </tbody>\n",
       "</table>\n",
       "</div>"
      ],
      "text/plain": [
       "       C   gamma  kernel  mean_train_score  mean_test_score  std_train_score  \\\n",
       "0      1  0.0010     rbf               1.0         0.933333              0.0   \n",
       "1      1  0.0001     rbf               1.0         1.000000              0.0   \n",
       "2     10  0.0010     rbf               1.0         0.933333              0.0   \n",
       "3     10  0.0001     rbf               1.0         0.933333              0.0   \n",
       "4    100  0.0010     rbf               1.0         0.933333              0.0   \n",
       "5    100  0.0001     rbf               1.0         0.933333              0.0   \n",
       "6   1000  0.0010     rbf               1.0         0.933333              0.0   \n",
       "7   1000  0.0001     rbf               1.0         0.933333              0.0   \n",
       "8      1     NaN  linear               1.0         0.933333              0.0   \n",
       "9     10     NaN  linear               1.0         0.933333              0.0   \n",
       "10   100     NaN  linear               1.0         0.933333              0.0   \n",
       "11  1000     NaN  linear               1.0         0.933333              0.0   \n",
       "\n",
       "    std_test_score  \n",
       "0         0.133333  \n",
       "1         0.000000  \n",
       "2         0.133333  \n",
       "3         0.133333  \n",
       "4         0.133333  \n",
       "5         0.133333  \n",
       "6         0.133333  \n",
       "7         0.133333  \n",
       "8         0.133333  \n",
       "9         0.133333  \n",
       "10        0.133333  \n",
       "11        0.133333  "
      ]
     },
     "execution_count": 36,
     "metadata": {},
     "output_type": "execute_result"
    }
   ],
   "source": [
    "total_parametros"
   ]
  },
  {
   "cell_type": "markdown",
   "id": "5bb0b24d",
   "metadata": {},
   "source": [
    "# Creacion de modelos"
   ]
  },
  {
   "cell_type": "markdown",
   "id": "dbdfd3a4",
   "metadata": {},
   "source": [
    "## XGBClassifier "
   ]
  },
  {
   "cell_type": "code",
   "execution_count": 37,
   "id": "be3d677d",
   "metadata": {},
   "outputs": [],
   "source": [
    "from xgboost import XGBClassifier\n",
    "XGBClassifier = XGBClassifier(base_score=0.5, booster='gbtree', colsample_bylevel=1,\n",
    "              colsample_bynode=1, colsample_bytree=0.8, gamma=0, gpu_id=-1,\n",
    "              importance_type='gain', interaction_constraints='',\n",
    "              learning_rate=0.1, max_delta_step=0, max_depth=3,\n",
    "              min_child_weight=1, monotone_constraints='()',\n",
    "              n_estimators=1000, n_jobs=4, nthread=4, num_parallel_tree=1,\n",
    "              random_state=27, reg_alpha=0, reg_lambda=1, scale_pos_weight=1,\n",
    "              seed=27, subsample=0.8, tree_method='exact',\n",
    "              validate_parameters=1, verbosity=None)"
   ]
  },
  {
   "cell_type": "markdown",
   "id": "a5486bd0",
   "metadata": {},
   "source": [
    "## Adabost"
   ]
  },
  {
   "cell_type": "code",
   "execution_count": 38,
   "id": "fe8ca53e",
   "metadata": {},
   "outputs": [],
   "source": [
    "from sklearn.tree import DecisionTreeClassifier\n",
    "from sklearn.ensemble import AdaBoostClassifier\n",
    "ada_clf = AdaBoostClassifier(base_estimator=DecisionTreeClassifier(max_depth=2,\n",
    "                                                         min_samples_leaf=5),\n",
    "                   learning_rate=0.01, n_estimators=10)"
   ]
  },
  {
   "cell_type": "markdown",
   "id": "b01f93b6",
   "metadata": {},
   "source": [
    "## Random Forest"
   ]
  },
  {
   "cell_type": "code",
   "execution_count": 39,
   "id": "15db8651",
   "metadata": {},
   "outputs": [],
   "source": [
    "from sklearn.ensemble import RandomForestClassifier\n",
    "RandomForestClassifier = RandomForestClassifier(max_depth=10, min_samples_leaf=2, n_estimators=200)"
   ]
  },
  {
   "cell_type": "markdown",
   "id": "be7fdfa3",
   "metadata": {},
   "source": [
    "## SVM"
   ]
  },
  {
   "cell_type": "code",
   "execution_count": 40,
   "id": "55162be1",
   "metadata": {},
   "outputs": [],
   "source": [
    "from sklearn.svm import SVC\n",
    "svc = SVC(C=1, gamma=0.0001)"
   ]
  },
  {
   "cell_type": "markdown",
   "id": "f0f4ee6d",
   "metadata": {},
   "source": [
    "## Red neuronal"
   ]
  },
  {
   "cell_type": "code",
   "execution_count": 41,
   "id": "0f00933f",
   "metadata": {},
   "outputs": [
    {
     "name": "stdout",
     "output_type": "stream",
     "text": [
      "Model: \"sequential\"\n",
      "_________________________________________________________________\n",
      "Layer (type)                 Output Shape              Param #   \n",
      "=================================================================\n",
      "dense (Dense)                (None, 16)                16032     \n",
      "_________________________________________________________________\n",
      "dense_1 (Dense)              (None, 16)                272       \n",
      "_________________________________________________________________\n",
      "dense_2 (Dense)              (None, 1)                 17        \n",
      "=================================================================\n",
      "Total params: 16,321\n",
      "Trainable params: 16,321\n",
      "Non-trainable params: 0\n",
      "_________________________________________________________________\n"
     ]
    }
   ],
   "source": [
    "from keras.models import Sequential\n",
    "from keras import layers\n",
    "\n",
    "max_features = ear2.shape[1]\n",
    "\n",
    "model = Sequential()\n",
    "model.add(layers.Dense(16, activation='relu', input_shape=(max_features,)))\n",
    "model.add(layers.Dense(16, activation='relu'))\n",
    "model.add(layers.Dense(1, activation='sigmoid'))\n",
    "model.summary()\n",
    "model.compile(loss='binary_crossentropy', # Cross-entropy\n",
    "                    optimizer='rmsprop', # Root Mean Square Propagation\n",
    "                    metrics=['accuracy'])\n"
   ]
  },
  {
   "cell_type": "markdown",
   "id": "38535504",
   "metadata": {},
   "source": [
    "# Spectograma despues del Filtro vancouver"
   ]
  },
  {
   "cell_type": "code",
   "execution_count": 42,
   "id": "c8a29c93",
   "metadata": {},
   "outputs": [],
   "source": [
    "path_dataset = 'archive/innerArmData.csv'\n",
    "eardata = pd.read_csv(path_dataset)\n",
    "eardata= (eardata.T.reset_index().T.reset_index(drop=True)\n",
    "            .set_axis([f'Q1.{i+1}' for i in range(eardata.shape[1])], axis=1))\n",
    "eardata= eardata.apply(pd.to_numeric, errors='coerce')"
   ]
  },
  {
   "cell_type": "markdown",
   "id": "ac12af3c",
   "metadata": {},
   "source": [
    "## XGBClassifier "
   ]
  },
  {
   "cell_type": "code",
   "execution_count": 43,
   "id": "e734d967",
   "metadata": {},
   "outputs": [
    {
     "name": "stdout",
     "output_type": "stream",
     "text": [
      "[21:31:51] WARNING: C:/Users/Administrator/workspace/xgboost-win64_release_1.4.0/src/learner.cc:1095: Starting in XGBoost 1.3.0, the default evaluation metric used with the objective 'binary:logistic' was changed from 'error' to 'logloss'. Explicitly set eval_metric if you'd like to restore the old behavior.\n",
      "[21:31:53] WARNING: C:/Users/Administrator/workspace/xgboost-win64_release_1.4.0/src/learner.cc:1095: Starting in XGBoost 1.3.0, the default evaluation metric used with the objective 'binary:logistic' was changed from 'error' to 'logloss'. Explicitly set eval_metric if you'd like to restore the old behavior.\n",
      "[21:31:55] WARNING: C:/Users/Administrator/workspace/xgboost-win64_release_1.4.0/src/learner.cc:1095: Starting in XGBoost 1.3.0, the default evaluation metric used with the objective 'binary:logistic' was changed from 'error' to 'logloss'. Explicitly set eval_metric if you'd like to restore the old behavior.\n",
      "[21:31:56] WARNING: C:/Users/Administrator/workspace/xgboost-win64_release_1.4.0/src/learner.cc:1095: Starting in XGBoost 1.3.0, the default evaluation metric used with the objective 'binary:logistic' was changed from 'error' to 'logloss'. Explicitly set eval_metric if you'd like to restore the old behavior.\n",
      "[21:31:58] WARNING: C:/Users/Administrator/workspace/xgboost-win64_release_1.4.0/src/learner.cc:1095: Starting in XGBoost 1.3.0, the default evaluation metric used with the objective 'binary:logistic' was changed from 'error' to 'logloss'. Explicitly set eval_metric if you'd like to restore the old behavior.\n",
      "Classification report:\n",
      "              precision    recall  f1-score   support\n",
      "\n",
      "         0.0       1.00      0.90      0.95        10\n",
      "         1.0       0.91      1.00      0.95        10\n",
      "\n",
      "    accuracy                           0.95        20\n",
      "   macro avg       0.95      0.95      0.95        20\n",
      "weighted avg       0.95      0.95      0.95        20\n",
      "\n"
     ]
    },
    {
     "data": {
      "image/png": "[encoded data removed]",
      "text/plain": [
       "<Figure size 432x288 with 2 Axes>"
      ]
     },
     "metadata": {
      "needs_background": "light"
     },
     "output_type": "display_data"
    },
    {
     "data": {
      "text/plain": [
       "<Figure size 432x288 with 0 Axes>"
      ]
     },
     "metadata": {},
     "output_type": "display_data"
    }
   ],
   "source": [
    "entrenamiento_and_report_simple(eardata,y,5,XGBClassifier)"
   ]
  },
  {
   "cell_type": "markdown",
   "id": "f820bba0",
   "metadata": {},
   "source": [
    "## Adabost"
   ]
  },
  {
   "cell_type": "code",
   "execution_count": 44,
   "id": "c3d9ddbf",
   "metadata": {},
   "outputs": [
    {
     "name": "stdout",
     "output_type": "stream",
     "text": [
      "Classification report:\n",
      "              precision    recall  f1-score   support\n",
      "\n",
      "         0.0       1.00      0.90      0.95        10\n",
      "         1.0       0.91      1.00      0.95        10\n",
      "\n",
      "    accuracy                           0.95        20\n",
      "   macro avg       0.95      0.95      0.95        20\n",
      "weighted avg       0.95      0.95      0.95        20\n",
      "\n"
     ]
    },
    {
     "data": {
      "image/png": "[encoded data removed]",
      "text/plain": [
       "<Figure size 432x288 with 2 Axes>"
      ]
     },
     "metadata": {
      "needs_background": "light"
     },
     "output_type": "display_data"
    },
    {
     "data": {
      "text/plain": [
       "<Figure size 432x288 with 0 Axes>"
      ]
     },
     "metadata": {},
     "output_type": "display_data"
    }
   ],
   "source": [
    "entrenamiento_and_report_simple(eardata,y,5,ada_clf)"
   ]
  },
  {
   "cell_type": "markdown",
   "id": "edf72468",
   "metadata": {},
   "source": [
    "## Random Forest"
   ]
  },
  {
   "cell_type": "code",
   "execution_count": 45,
   "id": "57d0d322",
   "metadata": {},
   "outputs": [
    {
     "name": "stdout",
     "output_type": "stream",
     "text": [
      "Classification report:\n",
      "              precision    recall  f1-score   support\n",
      "\n",
      "         0.0       1.00      0.90      0.95        10\n",
      "         1.0       0.91      1.00      0.95        10\n",
      "\n",
      "    accuracy                           0.95        20\n",
      "   macro avg       0.95      0.95      0.95        20\n",
      "weighted avg       0.95      0.95      0.95        20\n",
      "\n"
     ]
    },
    {
     "data": {
      "image/png": "[encoded data removed]",
      "text/plain": [
       "<Figure size 432x288 with 2 Axes>"
      ]
     },
     "metadata": {
      "needs_background": "light"
     },
     "output_type": "display_data"
    },
    {
     "data": {
      "text/plain": [
       "<Figure size 432x288 with 0 Axes>"
      ]
     },
     "metadata": {},
     "output_type": "display_data"
    }
   ],
   "source": [
    "entrenamiento_and_report_simple(eardata,y,5,RandomForestClassifier)"
   ]
  },
  {
   "cell_type": "markdown",
   "id": "cd6d168a",
   "metadata": {},
   "source": [
    "## SVM"
   ]
  },
  {
   "cell_type": "code",
   "execution_count": 46,
   "id": "be91a3cc",
   "metadata": {},
   "outputs": [
    {
     "name": "stdout",
     "output_type": "stream",
     "text": [
      "Classification report:\n",
      "              precision    recall  f1-score   support\n",
      "\n",
      "         0.0       1.00      0.90      0.95        10\n",
      "         1.0       0.91      1.00      0.95        10\n",
      "\n",
      "    accuracy                           0.95        20\n",
      "   macro avg       0.95      0.95      0.95        20\n",
      "weighted avg       0.95      0.95      0.95        20\n",
      "\n"
     ]
    },
    {
     "data": {
      "image/png": "[encoded data removed]",
      "text/plain": [
       "<Figure size 432x288 with 2 Axes>"
      ]
     },
     "metadata": {
      "needs_background": "light"
     },
     "output_type": "display_data"
    },
    {
     "data": {
      "text/plain": [
       "<Figure size 432x288 with 0 Axes>"
      ]
     },
     "metadata": {},
     "output_type": "display_data"
    }
   ],
   "source": [
    "entrenamiento_and_report_simple(eardata,y,5,svc)"
   ]
  },
  {
   "cell_type": "markdown",
   "id": "e0bec62e",
   "metadata": {},
   "source": [
    "## Red neuronal"
   ]
  },
  {
   "cell_type": "code",
   "execution_count": 47,
   "id": "fd9f3caa",
   "metadata": {},
   "outputs": [
    {
     "name": "stdout",
     "output_type": "stream",
     "text": [
      "[0, 0, 0, 0]\n",
      "Classification report:\n",
      "              precision    recall  f1-score   support\n",
      "\n",
      "         0.0       1.00      0.50      0.67         4\n",
      "         1.0       0.00      0.00      0.00         0\n",
      "\n",
      "    accuracy                           0.50         4\n",
      "   macro avg       0.50      0.25      0.33         4\n",
      "weighted avg       1.00      0.50      0.67         4\n",
      "\n"
     ]
    },
    {
     "data": {
      "image/png": "[encoded data removed]",
      "text/plain": [
       "<Figure size 432x288 with 2 Axes>"
      ]
     },
     "metadata": {
      "needs_background": "light"
     },
     "output_type": "display_data"
    },
    {
     "data": {
      "text/plain": [
       "<Figure size 432x288 with 0 Axes>"
      ]
     },
     "metadata": {},
     "output_type": "display_data"
    }
   ],
   "source": [
    "import tensorflow as tf\n",
    "from numpy import argmax\n",
    "from keras.utils.np_utils import to_categorical\n",
    "\n",
    "X_train, X_Test, y_train, y_test = train_test_split(eardata,y, test_size = 0.2,random_state=42)\n",
    "model.fit(X_train,\n",
    "          y_train,batch_size=512,\n",
    "          epochs=200,\n",
    "          verbose=0,\n",
    "          validation_split=0.2)\n",
    "\n",
    "\n",
    "predict_list=model.predict(X_Test)\n",
    "objetivo = argmax(predict_list, axis=-1).astype('int')\n",
    "y_classes = [np.argmax(y, axis=None, out=None) for y in predict_list]\n",
    "print(y_classes)\n",
    "\n",
    "\n",
    "\n",
    "matriz_confusion = confusion_matrix(y_test, objetivo)\n",
    "heatmap(matriz_confusion, annot=True, fmt=\"g\",cmap=\"YlGnBu\", yticklabels=[\"Healthy\", \"Diabetes tipo 2\"] ,xticklabels=[\"Healthy\", \"Diabetes tipo 2\"])\n",
    "plt.title(\"Confusion matrix\")\n",
    "plt.xlabel(\"Predicted\")\n",
    "plt.ylabel(\"Expected\")\n",
    "plt.figure()\n",
    "print(f\"Classification report:\\n{classification_report(objetivo, y_test)}\")"
   ]
  },
  {
   "cell_type": "code",
   "execution_count": 48,
   "id": "6699440f",
   "metadata": {},
   "outputs": [
    {
     "data": {
      "text/plain": [
       "1     1.0\n",
       "18    0.0\n",
       "16    0.0\n",
       "2     1.0\n",
       "Name: has_DM2, dtype: float64"
      ]
     },
     "execution_count": 48,
     "metadata": {},
     "output_type": "execute_result"
    }
   ],
   "source": [
    "y_test"
   ]
  },
  {
   "cell_type": "markdown",
   "id": "20f9db67",
   "metadata": {},
   "source": [
    "# Spectograma despues del Filtro vancouver con PCA"
   ]
  },
  {
   "cell_type": "code",
   "execution_count": 49,
   "id": "059cfb97",
   "metadata": {},
   "outputs": [
    {
     "name": "stdout",
     "output_type": "stream",
     "text": [
      "shape of X_pca (20, 5)\n",
      "[9.98444682e-01 7.36987234e-04 2.79796789e-04 8.63646983e-05\n",
      " 6.53813347e-05]\n",
      "suma: 0.9996132117125137\n",
      "shape of X_pca (20, 5)\n",
      "[9.98444682e-01 7.36987234e-04 2.79796789e-04 8.63646983e-05\n",
      " 6.53813347e-05]\n",
      "suma: 0.9996132117125137\n"
     ]
    },
    {
     "data": {
      "image/png": "[encoded data removed]",
      "text/plain": [
       "<Figure size 432x288 with 1 Axes>"
      ]
     },
     "metadata": {
      "needs_background": "light"
     },
     "output_type": "display_data"
    }
   ],
   "source": [
    "eardata = PCA_conversion(eardata,5,\"innerArm\")"
   ]
  },
  {
   "cell_type": "markdown",
   "id": "a5b5683d",
   "metadata": {},
   "source": [
    "## XGBClassifier"
   ]
  },
  {
   "cell_type": "code",
   "execution_count": 50,
   "id": "776f1487",
   "metadata": {},
   "outputs": [
    {
     "name": "stdout",
     "output_type": "stream",
     "text": [
      "[21:32:08] WARNING: C:/Users/Administrator/workspace/xgboost-win64_release_1.4.0/src/learner.cc:1095: Starting in XGBoost 1.3.0, the default evaluation metric used with the objective 'binary:logistic' was changed from 'error' to 'logloss'. Explicitly set eval_metric if you'd like to restore the old behavior.\n",
      "[21:32:08] WARNING: C:/Users/Administrator/workspace/xgboost-win64_release_1.4.0/src/learner.cc:1095: Starting in XGBoost 1.3.0, the default evaluation metric used with the objective 'binary:logistic' was changed from 'error' to 'logloss'. Explicitly set eval_metric if you'd like to restore the old behavior.\n",
      "[21:32:09] WARNING: C:/Users/Administrator/workspace/xgboost-win64_release_1.4.0/src/learner.cc:1095: Starting in XGBoost 1.3.0, the default evaluation metric used with the objective 'binary:logistic' was changed from 'error' to 'logloss'. Explicitly set eval_metric if you'd like to restore the old behavior.\n",
      "[21:32:09] WARNING: C:/Users/Administrator/workspace/xgboost-win64_release_1.4.0/src/learner.cc:1095: Starting in XGBoost 1.3.0, the default evaluation metric used with the objective 'binary:logistic' was changed from 'error' to 'logloss'. Explicitly set eval_metric if you'd like to restore the old behavior.\n",
      "[21:32:09] WARNING: C:/Users/Administrator/workspace/xgboost-win64_release_1.4.0/src/learner.cc:1095: Starting in XGBoost 1.3.0, the default evaluation metric used with the objective 'binary:logistic' was changed from 'error' to 'logloss'. Explicitly set eval_metric if you'd like to restore the old behavior.\n",
      "Classification report:\n",
      "              precision    recall  f1-score   support\n",
      "\n",
      "         0.0       1.00      0.90      0.95        10\n",
      "         1.0       0.91      1.00      0.95        10\n",
      "\n",
      "    accuracy                           0.95        20\n",
      "   macro avg       0.95      0.95      0.95        20\n",
      "weighted avg       0.95      0.95      0.95        20\n",
      "\n"
     ]
    },
    {
     "data": {
      "image/png": "[encoded data removed]",
      "text/plain": [
       "<Figure size 432x288 with 2 Axes>"
      ]
     },
     "metadata": {
      "needs_background": "light"
     },
     "output_type": "display_data"
    },
    {
     "data": {
      "text/plain": [
       "<Figure size 432x288 with 0 Axes>"
      ]
     },
     "metadata": {},
     "output_type": "display_data"
    }
   ],
   "source": [
    "entrenamiento_and_report_simple(eardata,y,5,XGBClassifier)"
   ]
  },
  {
   "cell_type": "markdown",
   "id": "066b0d6c",
   "metadata": {},
   "source": [
    "## Adabost"
   ]
  },
  {
   "cell_type": "code",
   "execution_count": 51,
   "id": "03c131c3",
   "metadata": {},
   "outputs": [
    {
     "name": "stdout",
     "output_type": "stream",
     "text": [
      "Classification report:\n",
      "              precision    recall  f1-score   support\n",
      "\n",
      "         0.0       1.00      0.90      0.95        10\n",
      "         1.0       0.91      1.00      0.95        10\n",
      "\n",
      "    accuracy                           0.95        20\n",
      "   macro avg       0.95      0.95      0.95        20\n",
      "weighted avg       0.95      0.95      0.95        20\n",
      "\n"
     ]
    },
    {
     "data": {
      "image/png": "[encoded data removed]",
      "text/plain": [
       "<Figure size 432x288 with 2 Axes>"
      ]
     },
     "metadata": {
      "needs_background": "light"
     },
     "output_type": "display_data"
    },
    {
     "data": {
      "text/plain": [
       "<Figure size 432x288 with 0 Axes>"
      ]
     },
     "metadata": {},
     "output_type": "display_data"
    }
   ],
   "source": [
    "entrenamiento_and_report_simple(eardata,y,5,ada_clf)"
   ]
  },
  {
   "cell_type": "markdown",
   "id": "7deba6bb",
   "metadata": {},
   "source": [
    "## Random Forest"
   ]
  },
  {
   "cell_type": "code",
   "execution_count": 52,
   "id": "5203c021",
   "metadata": {},
   "outputs": [
    {
     "name": "stdout",
     "output_type": "stream",
     "text": [
      "Classification report:\n",
      "              precision    recall  f1-score   support\n",
      "\n",
      "         0.0       1.00      0.90      0.95        10\n",
      "         1.0       0.91      1.00      0.95        10\n",
      "\n",
      "    accuracy                           0.95        20\n",
      "   macro avg       0.95      0.95      0.95        20\n",
      "weighted avg       0.95      0.95      0.95        20\n",
      "\n"
     ]
    },
    {
     "data": {
      "image/png": "[encoded data removed]",
      "text/plain": [
       "<Figure size 432x288 with 2 Axes>"
      ]
     },
     "metadata": {
      "needs_background": "light"
     },
     "output_type": "display_data"
    },
    {
     "data": {
      "text/plain": [
       "<Figure size 432x288 with 0 Axes>"
      ]
     },
     "metadata": {},
     "output_type": "display_data"
    }
   ],
   "source": [
    "entrenamiento_and_report_simple(eardata,y,5,RandomForestClassifier)"
   ]
  },
  {
   "cell_type": "markdown",
   "id": "90ec9334",
   "metadata": {},
   "source": [
    "## SVM"
   ]
  },
  {
   "cell_type": "code",
   "execution_count": 53,
   "id": "5b310ae3",
   "metadata": {},
   "outputs": [
    {
     "name": "stdout",
     "output_type": "stream",
     "text": [
      "Classification report:\n",
      "              precision    recall  f1-score   support\n",
      "\n",
      "         0.0       1.00      0.90      0.95        10\n",
      "         1.0       0.91      1.00      0.95        10\n",
      "\n",
      "    accuracy                           0.95        20\n",
      "   macro avg       0.95      0.95      0.95        20\n",
      "weighted avg       0.95      0.95      0.95        20\n",
      "\n"
     ]
    },
    {
     "data": {
      "image/png": "[encoded data removed]",
      "text/plain": [
       "<Figure size 432x288 with 2 Axes>"
      ]
     },
     "metadata": {
      "needs_background": "light"
     },
     "output_type": "display_data"
    },
    {
     "data": {
      "text/plain": [
       "<Figure size 432x288 with 0 Axes>"
      ]
     },
     "metadata": {},
     "output_type": "display_data"
    }
   ],
   "source": [
    "entrenamiento_and_report_simple(eardata,y,5,svc)"
   ]
  },
  {
   "cell_type": "markdown",
   "id": "d6afc981",
   "metadata": {},
   "source": [
    "## Red neuronal"
   ]
  },
  {
   "cell_type": "code",
   "execution_count": 54,
   "id": "ac1ed8d2",
   "metadata": {},
   "outputs": [
    {
     "name": "stdout",
     "output_type": "stream",
     "text": [
      "Model: \"sequential_1\"\n",
      "_________________________________________________________________\n",
      "Layer (type)                 Output Shape              Param #   \n",
      "=================================================================\n",
      "dense_3 (Dense)              (None, 16)                96        \n",
      "_________________________________________________________________\n",
      "dense_4 (Dense)              (None, 16)                272       \n",
      "_________________________________________________________________\n",
      "dense_5 (Dense)              (None, 1)                 17        \n",
      "=================================================================\n",
      "Total params: 385\n",
      "Trainable params: 385\n",
      "Non-trainable params: 0\n",
      "_________________________________________________________________\n",
      "[0, 0, 0, 0]\n",
      "Classification report:\n",
      "              precision    recall  f1-score   support\n",
      "\n",
      "         0.0       1.00      0.50      0.67         4\n",
      "         1.0       0.00      0.00      0.00         0\n",
      "\n",
      "    accuracy                           0.50         4\n",
      "   macro avg       0.50      0.25      0.33         4\n",
      "weighted avg       1.00      0.50      0.67         4\n",
      "\n"
     ]
    },
    {
     "data": {
      "image/png": "[encoded data removed]",
      "text/plain": [
       "<Figure size 432x288 with 2 Axes>"
      ]
     },
     "metadata": {
      "needs_background": "light"
     },
     "output_type": "display_data"
    },
    {
     "data": {
      "text/plain": [
       "<Figure size 432x288 with 0 Axes>"
      ]
     },
     "metadata": {},
     "output_type": "display_data"
    }
   ],
   "source": [
    "import tensorflow as tf\n",
    "from numpy import argmax\n",
    "from keras.utils.np_utils import to_categorical\n",
    "from keras.models import Sequential\n",
    "from keras import layers\n",
    "\n",
    "max_features = eardata.shape[1]\n",
    "objetivo=[]\n",
    "model = Sequential()\n",
    "model.add(layers.Dense(16, activation='relu', input_shape=(max_features,)))\n",
    "model.add(layers.Dense(16, activation='relu'))\n",
    "model.add(layers.Dense(1, activation='sigmoid'))\n",
    "model.summary()\n",
    "model.compile(loss='binary_crossentropy', # Cross-entropy\n",
    "                    optimizer='rmsprop', # Root Mean Square Propagation\n",
    "                    metrics=['accuracy'])\n",
    "\n",
    "\n",
    "X_train, X_Test, y_train, y_test = train_test_split(eardata,y, test_size = 0.2,random_state=42)\n",
    "model.fit(X_train,\n",
    "          y_train,batch_size=512,\n",
    "          epochs=200,\n",
    "          verbose=0,\n",
    "          validation_split=0.2)\n",
    "\n",
    "\n",
    "predict_list=model.predict(X_Test)\n",
    "objetivo = argmax(predict_list, axis=-1).astype('int')\n",
    "y_classes = [np.argmax(y, axis=None, out=None) for y in predict_list]\n",
    "print(y_classes)\n",
    "\n",
    "\n",
    "\n",
    "matriz_confusion = confusion_matrix(y_test, objetivo)\n",
    "heatmap(matriz_confusion, annot=True, fmt=\"g\",cmap=\"YlGnBu\", yticklabels=[\"Healthy\", \"Diabetes tipo 2\"] ,xticklabels=[\"Healthy\", \"Diabetes tipo 2\"])\n",
    "plt.title(\"Confusion matrix\")\n",
    "plt.xlabel(\"Predicted\")\n",
    "plt.ylabel(\"Expected\")\n",
    "plt.figure()\n",
    "print(f\"Classification report:\\n{classification_report(objetivo, y_test)}\")"
   ]
  },
  {
   "cell_type": "code",
   "execution_count": 55,
   "id": "88278b9a",
   "metadata": {},
   "outputs": [
    {
     "data": {
      "text/plain": [
       "array([0, 0, 0, 0])"
      ]
     },
     "execution_count": 55,
     "metadata": {},
     "output_type": "execute_result"
    }
   ],
   "source": [
    "\n",
    "objetivo"
   ]
  },
  {
   "cell_type": "markdown",
   "id": "59e71192",
   "metadata": {},
   "source": [
    "# Spectograma sin Filtro vancouver"
   ]
  },
  {
   "cell_type": "code",
   "execution_count": 56,
   "id": "f792998f",
   "metadata": {},
   "outputs": [],
   "source": [
    "path_dataset = 'archive/innerArm.csv'\n",
    "eardata = pd.read_csv(path_dataset)\n",
    "eardata = ear.iloc[0:]\n",
    "y = eardata['has_DM2']\n",
    "eardata = eardata.drop('patientID', axis=1)\n",
    "eardata = eardata.drop('has_DM2', axis=1)"
   ]
  },
  {
   "cell_type": "markdown",
   "id": "ca89cc61",
   "metadata": {},
   "source": [
    "## XGBClassifier"
   ]
  },
  {
   "cell_type": "code",
   "execution_count": 57,
   "id": "15638a0c",
   "metadata": {},
   "outputs": [
    {
     "name": "stdout",
     "output_type": "stream",
     "text": [
      "[21:32:17] WARNING: C:/Users/Administrator/workspace/xgboost-win64_release_1.4.0/src/learner.cc:1095: Starting in XGBoost 1.3.0, the default evaluation metric used with the objective 'binary:logistic' was changed from 'error' to 'logloss'. Explicitly set eval_metric if you'd like to restore the old behavior.\n",
      "[21:32:23] WARNING: C:/Users/Administrator/workspace/xgboost-win64_release_1.4.0/src/learner.cc:1095: Starting in XGBoost 1.3.0, the default evaluation metric used with the objective 'binary:logistic' was changed from 'error' to 'logloss'. Explicitly set eval_metric if you'd like to restore the old behavior.\n",
      "[21:32:28] WARNING: C:/Users/Administrator/workspace/xgboost-win64_release_1.4.0/src/learner.cc:1095: Starting in XGBoost 1.3.0, the default evaluation metric used with the objective 'binary:logistic' was changed from 'error' to 'logloss'. Explicitly set eval_metric if you'd like to restore the old behavior.\n",
      "[21:32:34] WARNING: C:/Users/Administrator/workspace/xgboost-win64_release_1.4.0/src/learner.cc:1095: Starting in XGBoost 1.3.0, the default evaluation metric used with the objective 'binary:logistic' was changed from 'error' to 'logloss'. Explicitly set eval_metric if you'd like to restore the old behavior.\n",
      "[21:32:39] WARNING: C:/Users/Administrator/workspace/xgboost-win64_release_1.4.0/src/learner.cc:1095: Starting in XGBoost 1.3.0, the default evaluation metric used with the objective 'binary:logistic' was changed from 'error' to 'logloss'. Explicitly set eval_metric if you'd like to restore the old behavior.\n",
      "Classification report:\n",
      "              precision    recall  f1-score   support\n",
      "\n",
      "         0.0       0.33      0.38      0.35         8\n",
      "         1.0       0.55      0.50      0.52        12\n",
      "\n",
      "    accuracy                           0.45        20\n",
      "   macro avg       0.44      0.44      0.44        20\n",
      "weighted avg       0.46      0.45      0.45        20\n",
      "\n"
     ]
    },
    {
     "data": {
      "image/png": "[encoded data removed]",
      "text/plain": [
       "<Figure size 432x288 with 2 Axes>"
      ]
     },
     "metadata": {
      "needs_background": "light"
     },
     "output_type": "display_data"
    },
    {
     "data": {
      "text/plain": [
       "<Figure size 432x288 with 0 Axes>"
      ]
     },
     "metadata": {},
     "output_type": "display_data"
    }
   ],
   "source": [
    "entrenamiento_and_report_simple(eardata,y,5,XGBClassifier)"
   ]
  },
  {
   "cell_type": "markdown",
   "id": "0db93b74",
   "metadata": {},
   "source": [
    "## Adabost"
   ]
  },
  {
   "cell_type": "code",
   "execution_count": 58,
   "id": "488f1e76",
   "metadata": {},
   "outputs": [
    {
     "name": "stdout",
     "output_type": "stream",
     "text": [
      "Classification report:\n",
      "              precision    recall  f1-score   support\n",
      "\n",
      "         0.0       0.44      0.33      0.38        12\n",
      "         1.0       0.27      0.38      0.32         8\n",
      "\n",
      "    accuracy                           0.35        20\n",
      "   macro avg       0.36      0.35      0.35        20\n",
      "weighted avg       0.38      0.35      0.35        20\n",
      "\n"
     ]
    },
    {
     "data": {
      "image/png": "[encoded data removed]",
      "text/plain": [
       "<Figure size 432x288 with 2 Axes>"
      ]
     },
     "metadata": {
      "needs_background": "light"
     },
     "output_type": "display_data"
    },
    {
     "data": {
      "text/plain": [
       "<Figure size 432x288 with 0 Axes>"
      ]
     },
     "metadata": {},
     "output_type": "display_data"
    }
   ],
   "source": [
    "entrenamiento_and_report_simple(eardata,y,5,ada_clf)"
   ]
  },
  {
   "cell_type": "markdown",
   "id": "b1d04fd1",
   "metadata": {},
   "source": [
    "## Random Forest"
   ]
  },
  {
   "cell_type": "code",
   "execution_count": 59,
   "id": "151d0fa5",
   "metadata": {},
   "outputs": [
    {
     "name": "stdout",
     "output_type": "stream",
     "text": [
      "Classification report:\n",
      "              precision    recall  f1-score   support\n",
      "\n",
      "         0.0       0.44      0.33      0.38        12\n",
      "         1.0       0.27      0.38      0.32         8\n",
      "\n",
      "    accuracy                           0.35        20\n",
      "   macro avg       0.36      0.35      0.35        20\n",
      "weighted avg       0.38      0.35      0.35        20\n",
      "\n"
     ]
    },
    {
     "data": {
      "image/png": "[encoded data removed]",
      "text/plain": [
       "<Figure size 432x288 with 2 Axes>"
      ]
     },
     "metadata": {
      "needs_background": "light"
     },
     "output_type": "display_data"
    },
    {
     "data": {
      "text/plain": [
       "<Figure size 432x288 with 0 Axes>"
      ]
     },
     "metadata": {},
     "output_type": "display_data"
    }
   ],
   "source": [
    "entrenamiento_and_report_simple(eardata,y,5,RandomForestClassifier)"
   ]
  },
  {
   "cell_type": "markdown",
   "id": "29a033e4",
   "metadata": {},
   "source": [
    "## SVM"
   ]
  },
  {
   "cell_type": "code",
   "execution_count": 60,
   "id": "355954a4",
   "metadata": {},
   "outputs": [
    {
     "name": "stdout",
     "output_type": "stream",
     "text": [
      "Classification report:\n",
      "              precision    recall  f1-score   support\n",
      "\n",
      "         0.0       0.11      0.25      0.15         4\n",
      "         1.0       0.73      0.50      0.59        16\n",
      "\n",
      "    accuracy                           0.45        20\n",
      "   macro avg       0.42      0.38      0.37        20\n",
      "weighted avg       0.60      0.45      0.50        20\n",
      "\n"
     ]
    },
    {
     "data": {
      "image/png": "[encoded data removed]",
      "text/plain": [
       "<Figure size 432x288 with 2 Axes>"
      ]
     },
     "metadata": {
      "needs_background": "light"
     },
     "output_type": "display_data"
    },
    {
     "data": {
      "text/plain": [
       "<Figure size 432x288 with 0 Axes>"
      ]
     },
     "metadata": {},
     "output_type": "display_data"
    }
   ],
   "source": [
    "entrenamiento_and_report_simple(eardata,y,5,svc)"
   ]
  },
  {
   "cell_type": "markdown",
   "id": "bb4508b7",
   "metadata": {},
   "source": [
    "## Red neuronal"
   ]
  },
  {
   "cell_type": "code",
   "execution_count": 61,
   "id": "a4044770",
   "metadata": {},
   "outputs": [
    {
     "name": "stdout",
     "output_type": "stream",
     "text": [
      "Model: \"sequential_2\"\n",
      "_________________________________________________________________\n",
      "Layer (type)                 Output Shape              Param #   \n",
      "=================================================================\n",
      "dense_6 (Dense)              (None, 16)                50576     \n",
      "_________________________________________________________________\n",
      "dense_7 (Dense)              (None, 16)                272       \n",
      "_________________________________________________________________\n",
      "dense_8 (Dense)              (None, 1)                 17        \n",
      "=================================================================\n",
      "Total params: 50,865\n",
      "Trainable params: 50,865\n",
      "Non-trainable params: 0\n",
      "_________________________________________________________________\n",
      "[0, 0, 0, 0]\n",
      "Classification report:\n",
      "              precision    recall  f1-score   support\n",
      "\n",
      "         0.0       1.00      0.50      0.67         4\n",
      "         1.0       0.00      0.00      0.00         0\n",
      "\n",
      "    accuracy                           0.50         4\n",
      "   macro avg       0.50      0.25      0.33         4\n",
      "weighted avg       1.00      0.50      0.67         4\n",
      "\n"
     ]
    },
    {
     "data": {
      "image/png": "[encoded data removed]",
      "text/plain": [
       "<Figure size 432x288 with 2 Axes>"
      ]
     },
     "metadata": {
      "needs_background": "light"
     },
     "output_type": "display_data"
    },
    {
     "data": {
      "text/plain": [
       "<Figure size 432x288 with 0 Axes>"
      ]
     },
     "metadata": {},
     "output_type": "display_data"
    }
   ],
   "source": [
    "import tensorflow as tf\n",
    "from numpy import argmax\n",
    "from keras.utils.np_utils import to_categorical\n",
    "from keras.models import Sequential\n",
    "from keras import layers\n",
    "\n",
    "max_features = eardata.shape[1]\n",
    "\n",
    "model = Sequential()\n",
    "model.add(layers.Dense(16, activation='relu', input_shape=(max_features,)))\n",
    "model.add(layers.Dense(16, activation='relu'))\n",
    "model.add(layers.Dense(1, activation='sigmoid'))\n",
    "model.summary()\n",
    "model.compile(loss='binary_crossentropy', # Cross-entropy\n",
    "                    optimizer='rmsprop', # Root Mean Square Propagation\n",
    "                    metrics=['accuracy'])\n",
    "\n",
    "X_train, X_Test, y_train, y_test = train_test_split(eardata,y, test_size = 0.2,random_state=42)\n",
    "model.fit(X_train,\n",
    "          y_train,batch_size=512,\n",
    "          epochs=200,\n",
    "          verbose=0,\n",
    "          validation_split=0.2)\n",
    "\n",
    "\n",
    "predict_list=model.predict(X_Test)\n",
    "objetivo = argmax(predict_list, axis=-1).astype('int')\n",
    "y_classes = [np.argmax(y, axis=None, out=None) for y in predict_list]\n",
    "print(y_classes)\n",
    "\n",
    "\n",
    "\n",
    "matriz_confusion = confusion_matrix(y_test, objetivo)\n",
    "heatmap(matriz_confusion, annot=True, fmt=\"g\",cmap=\"YlGnBu\", yticklabels=[\"Healthy\", \"Diabetes tipo 2\"] ,xticklabels=[\"Healthy\", \"Diabetes tipo 2\"])\n",
    "plt.title(\"Confusion matrix\")\n",
    "plt.xlabel(\"Predicted\")\n",
    "plt.ylabel(\"Expected\")\n",
    "plt.figure()\n",
    "print(f\"Classification report:\\n{classification_report(objetivo, y_test)}\")"
   ]
  },
  {
   "cell_type": "markdown",
   "id": "4dd218ca",
   "metadata": {},
   "source": [
    "# Spectograma sin Filtro vancouver con PCA"
   ]
  },
  {
   "cell_type": "code",
   "execution_count": 62,
   "id": "be3395b8",
   "metadata": {},
   "outputs": [
    {
     "name": "stdout",
     "output_type": "stream",
     "text": [
      "shape of X_pca (20, 5)\n",
      "[0.87776606 0.08875687 0.00727749 0.0041358  0.00368959]\n",
      "suma: 0.9816258143230213\n",
      "shape of X_pca (20, 5)\n",
      "[0.87776606 0.08875687 0.00727749 0.0041358  0.00368959]\n",
      "suma: 0.9816258143230213\n"
     ]
    },
    {
     "data": {
      "image/png": "[encoded data removed]",
      "text/plain": [
       "<Figure size 432x288 with 1 Axes>"
      ]
     },
     "metadata": {
      "needs_background": "light"
     },
     "output_type": "display_data"
    }
   ],
   "source": [
    "eardata = PCA_conversion(eardata,5,\"innerArm\")"
   ]
  },
  {
   "cell_type": "markdown",
   "id": "6b972cb4",
   "metadata": {},
   "source": [
    "## XGBClassifier"
   ]
  },
  {
   "cell_type": "code",
   "execution_count": 63,
   "id": "3914c2a9",
   "metadata": {},
   "outputs": [
    {
     "name": "stdout",
     "output_type": "stream",
     "text": [
      "[21:32:55] WARNING: C:/Users/Administrator/workspace/xgboost-win64_release_1.4.0/src/learner.cc:1095: Starting in XGBoost 1.3.0, the default evaluation metric used with the objective 'binary:logistic' was changed from 'error' to 'logloss'. Explicitly set eval_metric if you'd like to restore the old behavior.\n",
      "[21:32:55] WARNING: C:/Users/Administrator/workspace/xgboost-win64_release_1.4.0/src/learner.cc:1095: Starting in XGBoost 1.3.0, the default evaluation metric used with the objective 'binary:logistic' was changed from 'error' to 'logloss'. Explicitly set eval_metric if you'd like to restore the old behavior.\n",
      "[21:32:55] WARNING: C:/Users/Administrator/workspace/xgboost-win64_release_1.4.0/src/learner.cc:1095: Starting in XGBoost 1.3.0, the default evaluation metric used with the objective 'binary:logistic' was changed from 'error' to 'logloss'. Explicitly set eval_metric if you'd like to restore the old behavior.\n",
      "[21:32:55] WARNING: C:/Users/Administrator/workspace/xgboost-win64_release_1.4.0/src/learner.cc:1095: Starting in XGBoost 1.3.0, the default evaluation metric used with the objective 'binary:logistic' was changed from 'error' to 'logloss'. Explicitly set eval_metric if you'd like to restore the old behavior.\n",
      "[21:32:56] WARNING: C:/Users/Administrator/workspace/xgboost-win64_release_1.4.0/src/learner.cc:1095: Starting in XGBoost 1.3.0, the default evaluation metric used with the objective 'binary:logistic' was changed from 'error' to 'logloss'. Explicitly set eval_metric if you'd like to restore the old behavior.\n",
      "Classification report:\n",
      "              precision    recall  f1-score   support\n",
      "\n",
      "         0.0       0.44      0.36      0.40        11\n",
      "         1.0       0.36      0.44      0.40         9\n",
      "\n",
      "    accuracy                           0.40        20\n",
      "   macro avg       0.40      0.40      0.40        20\n",
      "weighted avg       0.41      0.40      0.40        20\n",
      "\n"
     ]
    },
    {
     "data": {
      "image/png": "[encoded data removed]",
      "text/plain": [
       "<Figure size 432x288 with 2 Axes>"
      ]
     },
     "metadata": {
      "needs_background": "light"
     },
     "output_type": "display_data"
    },
    {
     "data": {
      "text/plain": [
       "<Figure size 432x288 with 0 Axes>"
      ]
     },
     "metadata": {},
     "output_type": "display_data"
    }
   ],
   "source": [
    "entrenamiento_and_report_simple(eardata,y,5,XGBClassifier)"
   ]
  },
  {
   "cell_type": "markdown",
   "id": "3a890e6e",
   "metadata": {},
   "source": [
    "## Adabost"
   ]
  },
  {
   "cell_type": "code",
   "execution_count": 64,
   "id": "7c785e87",
   "metadata": {},
   "outputs": [
    {
     "name": "stdout",
     "output_type": "stream",
     "text": [
      "Classification report:\n",
      "              precision    recall  f1-score   support\n",
      "\n",
      "         0.0       0.33      0.27      0.30        11\n",
      "         1.0       0.27      0.33      0.30         9\n",
      "\n",
      "    accuracy                           0.30        20\n",
      "   macro avg       0.30      0.30      0.30        20\n",
      "weighted avg       0.31      0.30      0.30        20\n",
      "\n"
     ]
    },
    {
     "data": {
      "image/png": "[encoded data removed]",
      "text/plain": [
       "<Figure size 432x288 with 2 Axes>"
      ]
     },
     "metadata": {
      "needs_background": "light"
     },
     "output_type": "display_data"
    },
    {
     "data": {
      "text/plain": [
       "<Figure size 432x288 with 0 Axes>"
      ]
     },
     "metadata": {},
     "output_type": "display_data"
    }
   ],
   "source": [
    "entrenamiento_and_report_simple(eardata,y,5,ada_clf)"
   ]
  },
  {
   "cell_type": "markdown",
   "id": "b57a6690",
   "metadata": {},
   "source": [
    "## Random Forest"
   ]
  },
  {
   "cell_type": "code",
   "execution_count": 65,
   "id": "3b5d864f",
   "metadata": {},
   "outputs": [
    {
     "name": "stdout",
     "output_type": "stream",
     "text": [
      "Classification report:\n",
      "              precision    recall  f1-score   support\n",
      "\n",
      "         0.0       0.33      0.43      0.38         7\n",
      "         1.0       0.64      0.54      0.58        13\n",
      "\n",
      "    accuracy                           0.50        20\n",
      "   macro avg       0.48      0.48      0.48        20\n",
      "weighted avg       0.53      0.50      0.51        20\n",
      "\n"
     ]
    },
    {
     "data": {
      "image/png": "[encoded data removed]",
      "text/plain": [
       "<Figure size 432x288 with 2 Axes>"
      ]
     },
     "metadata": {
      "needs_background": "light"
     },
     "output_type": "display_data"
    },
    {
     "data": {
      "text/plain": [
       "<Figure size 432x288 with 0 Axes>"
      ]
     },
     "metadata": {},
     "output_type": "display_data"
    }
   ],
   "source": [
    "entrenamiento_and_report_simple(eardata,y,5,RandomForestClassifier)"
   ]
  },
  {
   "cell_type": "markdown",
   "id": "030dbe2c",
   "metadata": {},
   "source": [
    "## SVM"
   ]
  },
  {
   "cell_type": "code",
   "execution_count": 66,
   "id": "0cc6f36c",
   "metadata": {},
   "outputs": [
    {
     "name": "stdout",
     "output_type": "stream",
     "text": [
      "Classification report:\n",
      "              precision    recall  f1-score   support\n",
      "\n",
      "         0.0       0.00      0.00      0.00         2\n",
      "         1.0       0.82      0.50      0.62        18\n",
      "\n",
      "    accuracy                           0.45        20\n",
      "   macro avg       0.41      0.25      0.31        20\n",
      "weighted avg       0.74      0.45      0.56        20\n",
      "\n"
     ]
    },
    {
     "data": {
      "image/png": "[encoded data removed]",
      "text/plain": [
       "<Figure size 432x288 with 2 Axes>"
      ]
     },
     "metadata": {
      "needs_background": "light"
     },
     "output_type": "display_data"
    },
    {
     "data": {
      "text/plain": [
       "<Figure size 432x288 with 0 Axes>"
      ]
     },
     "metadata": {},
     "output_type": "display_data"
    }
   ],
   "source": [
    "entrenamiento_and_report_simple(eardata,y,5,svc)"
   ]
  },
  {
   "cell_type": "markdown",
   "id": "cdeb1a95",
   "metadata": {},
   "source": [
    "## Red neuronal"
   ]
  },
  {
   "cell_type": "code",
   "execution_count": 67,
   "id": "5276606a",
   "metadata": {},
   "outputs": [
    {
     "name": "stdout",
     "output_type": "stream",
     "text": [
      "Model: \"sequential_3\"\n",
      "_________________________________________________________________\n",
      "Layer (type)                 Output Shape              Param #   \n",
      "=================================================================\n",
      "dense_9 (Dense)              (None, 16)                96        \n",
      "_________________________________________________________________\n",
      "dense_10 (Dense)             (None, 16)                272       \n",
      "_________________________________________________________________\n",
      "dense_11 (Dense)             (None, 1)                 17        \n",
      "=================================================================\n",
      "Total params: 385\n",
      "Trainable params: 385\n",
      "Non-trainable params: 0\n",
      "_________________________________________________________________\n",
      "[0, 0, 0, 0]\n",
      "Classification report:\n",
      "              precision    recall  f1-score   support\n",
      "\n",
      "         0.0       1.00      0.50      0.67         4\n",
      "         1.0       0.00      0.00      0.00         0\n",
      "\n",
      "    accuracy                           0.50         4\n",
      "   macro avg       0.50      0.25      0.33         4\n",
      "weighted avg       1.00      0.50      0.67         4\n",
      "\n"
     ]
    },
    {
     "data": {
      "image/png": "[encoded data removed]",
      "text/plain": [
       "<Figure size 432x288 with 2 Axes>"
      ]
     },
     "metadata": {
      "needs_background": "light"
     },
     "output_type": "display_data"
    },
    {
     "data": {
      "text/plain": [
       "<Figure size 432x288 with 0 Axes>"
      ]
     },
     "metadata": {},
     "output_type": "display_data"
    }
   ],
   "source": [
    "import tensorflow as tf\n",
    "from numpy import argmax\n",
    "from keras.utils.np_utils import to_categorical\n",
    "from keras.models import Sequential\n",
    "from keras import layers\n",
    "\n",
    "max_features = eardata.shape[1]\n",
    "\n",
    "model = Sequential()\n",
    "model.add(layers.Dense(16, activation='relu', input_shape=(max_features,)))\n",
    "model.add(layers.Dense(16, activation='relu'))\n",
    "model.add(layers.Dense(1, activation='sigmoid'))\n",
    "model.summary()\n",
    "model.compile(loss='binary_crossentropy', # Cross-entropy\n",
    "                    optimizer='rmsprop', # Root Mean Square Propagation\n",
    "                    metrics=['accuracy'])\n",
    "\n",
    "X_train, X_Test, y_train, y_test = train_test_split(eardata,y, test_size = 0.2,random_state=42)\n",
    "model.fit(X_train,\n",
    "          y_train,batch_size=512,\n",
    "          epochs=200,\n",
    "          verbose=0,\n",
    "          validation_split=0.2)\n",
    "\n",
    "\n",
    "predict_list=model.predict(X_Test)\n",
    "objetivo = argmax(predict_list, axis=-1).astype('int')\n",
    "y_classes = [np.argmax(y, axis=None, out=None) for y in predict_list]\n",
    "print(y_classes)\n",
    "\n",
    "\n",
    "\n",
    "matriz_confusion = confusion_matrix(y_test, objetivo)\n",
    "heatmap(matriz_confusion, annot=True, fmt=\"g\",cmap=\"YlGnBu\", yticklabels=[\"Healthy\", \"Diabetes tipo 2\"] ,xticklabels=[\"Healthy\", \"Diabetes tipo 2\"])\n",
    "plt.title(\"Confusion matrix\")\n",
    "plt.xlabel(\"Predicted\")\n",
    "plt.ylabel(\"Expected\")\n",
    "plt.figure()\n",
    "print(f\"Classification report:\\n{classification_report(objetivo, y_test)}\")"
   ]
  },
  {
   "cell_type": "markdown",
   "id": "aedb298f",
   "metadata": {},
   "source": [
    "# Spectograma recortado sin Filtro vancouver  "
   ]
  },
  {
   "cell_type": "code",
   "execution_count": 68,
   "id": "74dfe242",
   "metadata": {},
   "outputs": [],
   "source": [
    "path_dataset = 'archive/innerArm.csv'\n",
    "eardata = pd.read_csv(path_dataset)\n",
    "eardata = ear.iloc[0:]\n",
    "y = eardata['has_DM2']\n",
    "eardata = eardata.drop('patientID', axis=1)\n",
    "eardata = eardata.drop('has_DM2', axis=1)\n",
    "eardata = eardata.iloc[: , 800:]\n",
    "eardata = eardata.iloc[: , :1000]"
   ]
  },
  {
   "cell_type": "markdown",
   "id": "54566824",
   "metadata": {},
   "source": [
    "## XGBClassifier"
   ]
  },
  {
   "cell_type": "code",
   "execution_count": 69,
   "id": "38ba3d80",
   "metadata": {},
   "outputs": [
    {
     "name": "stdout",
     "output_type": "stream",
     "text": [
      "[21:33:05] WARNING: C:/Users/Administrator/workspace/xgboost-win64_release_1.4.0/src/learner.cc:1095: Starting in XGBoost 1.3.0, the default evaluation metric used with the objective 'binary:logistic' was changed from 'error' to 'logloss'. Explicitly set eval_metric if you'd like to restore the old behavior.\n",
      "[21:33:07] WARNING: C:/Users/Administrator/workspace/xgboost-win64_release_1.4.0/src/learner.cc:1095: Starting in XGBoost 1.3.0, the default evaluation metric used with the objective 'binary:logistic' was changed from 'error' to 'logloss'. Explicitly set eval_metric if you'd like to restore the old behavior.\n",
      "[21:33:09] WARNING: C:/Users/Administrator/workspace/xgboost-win64_release_1.4.0/src/learner.cc:1095: Starting in XGBoost 1.3.0, the default evaluation metric used with the objective 'binary:logistic' was changed from 'error' to 'logloss'. Explicitly set eval_metric if you'd like to restore the old behavior.\n",
      "[21:33:11] WARNING: C:/Users/Administrator/workspace/xgboost-win64_release_1.4.0/src/learner.cc:1095: Starting in XGBoost 1.3.0, the default evaluation metric used with the objective 'binary:logistic' was changed from 'error' to 'logloss'. Explicitly set eval_metric if you'd like to restore the old behavior.\n",
      "[21:33:13] WARNING: C:/Users/Administrator/workspace/xgboost-win64_release_1.4.0/src/learner.cc:1095: Starting in XGBoost 1.3.0, the default evaluation metric used with the objective 'binary:logistic' was changed from 'error' to 'logloss'. Explicitly set eval_metric if you'd like to restore the old behavior.\n",
      "Classification report:\n",
      "              precision    recall  f1-score   support\n",
      "\n",
      "         0.0       0.56      0.45      0.50        11\n",
      "         1.0       0.45      0.56      0.50         9\n",
      "\n",
      "    accuracy                           0.50        20\n",
      "   macro avg       0.51      0.51      0.50        20\n",
      "weighted avg       0.51      0.50      0.50        20\n",
      "\n"
     ]
    },
    {
     "data": {
      "image/png": "[encoded data removed]",
      "text/plain": [
       "<Figure size 432x288 with 2 Axes>"
      ]
     },
     "metadata": {
      "needs_background": "light"
     },
     "output_type": "display_data"
    },
    {
     "data": {
      "text/plain": [
       "<Figure size 432x288 with 0 Axes>"
      ]
     },
     "metadata": {},
     "output_type": "display_data"
    }
   ],
   "source": [
    "entrenamiento_and_report_simple(eardata,y,5,XGBClassifier)"
   ]
  },
  {
   "cell_type": "markdown",
   "id": "41e3b900",
   "metadata": {},
   "source": [
    "## Adabost"
   ]
  },
  {
   "cell_type": "code",
   "execution_count": 70,
   "id": "e0ff2443",
   "metadata": {},
   "outputs": [
    {
     "name": "stdout",
     "output_type": "stream",
     "text": [
      "Classification report:\n",
      "              precision    recall  f1-score   support\n",
      "\n",
      "         0.0       0.33      0.33      0.33         9\n",
      "         1.0       0.45      0.45      0.45        11\n",
      "\n",
      "    accuracy                           0.40        20\n",
      "   macro avg       0.39      0.39      0.39        20\n",
      "weighted avg       0.40      0.40      0.40        20\n",
      "\n"
     ]
    },
    {
     "data": {
      "image/png": "[encoded data removed]",
      "text/plain": [
       "<Figure size 432x288 with 2 Axes>"
      ]
     },
     "metadata": {
      "needs_background": "light"
     },
     "output_type": "display_data"
    },
    {
     "data": {
      "text/plain": [
       "<Figure size 432x288 with 0 Axes>"
      ]
     },
     "metadata": {},
     "output_type": "display_data"
    }
   ],
   "source": [
    "entrenamiento_and_report_simple(eardata,y,5,ada_clf)"
   ]
  },
  {
   "cell_type": "markdown",
   "id": "03f79cae",
   "metadata": {},
   "source": [
    "## Random Forest"
   ]
  },
  {
   "cell_type": "code",
   "execution_count": 71,
   "id": "d61e8894",
   "metadata": {},
   "outputs": [
    {
     "name": "stdout",
     "output_type": "stream",
     "text": [
      "Classification report:\n",
      "              precision    recall  f1-score   support\n",
      "\n",
      "         0.0       0.44      0.33      0.38        12\n",
      "         1.0       0.27      0.38      0.32         8\n",
      "\n",
      "    accuracy                           0.35        20\n",
      "   macro avg       0.36      0.35      0.35        20\n",
      "weighted avg       0.38      0.35      0.35        20\n",
      "\n"
     ]
    },
    {
     "data": {
      "image/png": "[encoded data removed]",
      "text/plain": [
       "<Figure size 432x288 with 2 Axes>"
      ]
     },
     "metadata": {
      "needs_background": "light"
     },
     "output_type": "display_data"
    },
    {
     "data": {
      "text/plain": [
       "<Figure size 432x288 with 0 Axes>"
      ]
     },
     "metadata": {},
     "output_type": "display_data"
    }
   ],
   "source": [
    "entrenamiento_and_report_simple(eardata,y,5,RandomForestClassifier)"
   ]
  },
  {
   "cell_type": "markdown",
   "id": "93fa833d",
   "metadata": {},
   "source": [
    "## SVM"
   ]
  },
  {
   "cell_type": "code",
   "execution_count": 72,
   "id": "8dd833b3",
   "metadata": {},
   "outputs": [
    {
     "name": "stdout",
     "output_type": "stream",
     "text": [
      "Classification report:\n",
      "              precision    recall  f1-score   support\n",
      "\n",
      "         0.0       0.00      0.00      0.00         1\n",
      "         1.0       0.91      0.53      0.67        19\n",
      "\n",
      "    accuracy                           0.50        20\n",
      "   macro avg       0.45      0.26      0.33        20\n",
      "weighted avg       0.86      0.50      0.63        20\n",
      "\n"
     ]
    },
    {
     "data": {
      "image/png": "[encoded data removed]",
      "text/plain": [
       "<Figure size 432x288 with 2 Axes>"
      ]
     },
     "metadata": {
      "needs_background": "light"
     },
     "output_type": "display_data"
    },
    {
     "data": {
      "text/plain": [
       "<Figure size 432x288 with 0 Axes>"
      ]
     },
     "metadata": {},
     "output_type": "display_data"
    }
   ],
   "source": [
    "entrenamiento_and_report_simple(eardata,y,5,svc)"
   ]
  },
  {
   "cell_type": "markdown",
   "id": "0f7a5968",
   "metadata": {},
   "source": [
    "## Red neuronal"
   ]
  },
  {
   "cell_type": "code",
   "execution_count": 73,
   "id": "73027029",
   "metadata": {},
   "outputs": [
    {
     "name": "stdout",
     "output_type": "stream",
     "text": [
      "Model: \"sequential_4\"\n",
      "_________________________________________________________________\n",
      "Layer (type)                 Output Shape              Param #   \n",
      "=================================================================\n",
      "dense_12 (Dense)             (None, 16)                16016     \n",
      "_________________________________________________________________\n",
      "dense_13 (Dense)             (None, 16)                272       \n",
      "_________________________________________________________________\n",
      "dense_14 (Dense)             (None, 1)                 17        \n",
      "=================================================================\n",
      "Total params: 16,305\n",
      "Trainable params: 16,305\n",
      "Non-trainable params: 0\n",
      "_________________________________________________________________\n",
      "WARNING:tensorflow:5 out of the last 5 calls to <function Model.make_predict_function.<locals>.predict_function at 0x000002692EF4B8B0> triggered tf.function retracing. Tracing is expensive and the excessive number of tracings could be due to (1) creating @tf.function repeatedly in a loop, (2) passing tensors with different shapes, (3) passing Python objects instead of tensors. For (1), please define your @tf.function outside of the loop. For (2), @tf.function has experimental_relax_shapes=True option that relaxes argument shapes that can avoid unnecessary retracing. For (3), please refer to https://www.tensorflow.org/guide/function#controlling_retracing and https://www.tensorflow.org/api_docs/python/tf/function for  more details.\n",
      "[0, 0, 0, 0]\n",
      "Classification report:\n",
      "              precision    recall  f1-score   support\n",
      "\n",
      "         0.0       1.00      0.50      0.67         4\n",
      "         1.0       0.00      0.00      0.00         0\n",
      "\n",
      "    accuracy                           0.50         4\n",
      "   macro avg       0.50      0.25      0.33         4\n",
      "weighted avg       1.00      0.50      0.67         4\n",
      "\n"
     ]
    },
    {
     "data": {
      "image/png": "[encoded data removed]",
      "text/plain": [
       "<Figure size 432x288 with 2 Axes>"
      ]
     },
     "metadata": {
      "needs_background": "light"
     },
     "output_type": "display_data"
    },
    {
     "data": {
      "text/plain": [
       "<Figure size 432x288 with 0 Axes>"
      ]
     },
     "metadata": {},
     "output_type": "display_data"
    }
   ],
   "source": [
    "import tensorflow as tf\n",
    "from numpy import argmax\n",
    "from keras.utils.np_utils import to_categorical\n",
    "from keras.models import Sequential\n",
    "from keras import layers\n",
    "\n",
    "max_features = eardata.shape[1]\n",
    "\n",
    "model = Sequential()\n",
    "model.add(layers.Dense(16, activation='relu', input_shape=(max_features,)))\n",
    "model.add(layers.Dense(16, activation='relu'))\n",
    "model.add(layers.Dense(1, activation='sigmoid'))\n",
    "model.summary()\n",
    "model.compile(loss='binary_crossentropy', # Cross-entropy\n",
    "                    optimizer='rmsprop', # Root Mean Square Propagation\n",
    "                    metrics=['accuracy'])\n",
    "\n",
    "X_train, X_Test, y_train, y_test = train_test_split(eardata,y, test_size = 0.2,random_state=42)\n",
    "model.fit(X_train,\n",
    "          y_train,batch_size=512,\n",
    "          epochs=200,\n",
    "          verbose=0,\n",
    "          validation_split=0.2)\n",
    "\n",
    "\n",
    "predict_list=model.predict(X_Test)\n",
    "objetivo = argmax(predict_list, axis=-1).astype('int')\n",
    "y_classes = [np.argmax(y, axis=None, out=None) for y in predict_list]\n",
    "print(y_classes)\n",
    "\n",
    "\n",
    "\n",
    "matriz_confusion = confusion_matrix(y_test, objetivo)\n",
    "heatmap(matriz_confusion, annot=True, fmt=\"g\",cmap=\"YlGnBu\", yticklabels=[\"Healthy\", \"Diabetes tipo 2\"] ,xticklabels=[\"Healthy\", \"Diabetes tipo 2\"])\n",
    "plt.title(\"Confusion matrix\")\n",
    "plt.xlabel(\"Predicted\")\n",
    "plt.ylabel(\"Expected\")\n",
    "plt.figure()\n",
    "print(f\"Classification report:\\n{classification_report(objetivo, y_test)}\")"
   ]
  },
  {
   "cell_type": "markdown",
   "id": "fce733fa",
   "metadata": {},
   "source": [
    "# Spectograma recortado sin Filtro vancouver   con PCA"
   ]
  },
  {
   "cell_type": "code",
   "execution_count": 74,
   "id": "f03a327a",
   "metadata": {},
   "outputs": [
    {
     "name": "stdout",
     "output_type": "stream",
     "text": [
      "shape of X_pca (20, 5)\n",
      "[9.91964785e-01 3.74195108e-03 1.40461053e-03 4.40847591e-04\n",
      " 3.31240013e-04]\n",
      "suma: 0.9978834338341671\n",
      "shape of X_pca (20, 5)\n",
      "[9.91964785e-01 3.74195108e-03 1.40461053e-03 4.40847591e-04\n",
      " 3.31240013e-04]\n",
      "suma: 0.9978834338341671\n"
     ]
    },
    {
     "data": {
      "image/png": "[encoded data removed]",
      "text/plain": [
       "<Figure size 432x288 with 1 Axes>"
      ]
     },
     "metadata": {
      "needs_background": "light"
     },
     "output_type": "display_data"
    }
   ],
   "source": [
    "eardata = PCA_conversion(eardata,5,\"innerArm\")"
   ]
  },
  {
   "cell_type": "markdown",
   "id": "bf285ad3",
   "metadata": {},
   "source": [
    "## XGBClassifier"
   ]
  },
  {
   "cell_type": "code",
   "execution_count": 75,
   "id": "37dd65f1",
   "metadata": {},
   "outputs": [
    {
     "name": "stdout",
     "output_type": "stream",
     "text": [
      "[21:33:23] WARNING: C:/Users/Administrator/workspace/xgboost-win64_release_1.4.0/src/learner.cc:1095: Starting in XGBoost 1.3.0, the default evaluation metric used with the objective 'binary:logistic' was changed from 'error' to 'logloss'. Explicitly set eval_metric if you'd like to restore the old behavior.\n",
      "[21:33:23] WARNING: C:/Users/Administrator/workspace/xgboost-win64_release_1.4.0/src/learner.cc:1095: Starting in XGBoost 1.3.0, the default evaluation metric used with the objective 'binary:logistic' was changed from 'error' to 'logloss'. Explicitly set eval_metric if you'd like to restore the old behavior.\n",
      "[21:33:23] WARNING: C:/Users/Administrator/workspace/xgboost-win64_release_1.4.0/src/learner.cc:1095: Starting in XGBoost 1.3.0, the default evaluation metric used with the objective 'binary:logistic' was changed from 'error' to 'logloss'. Explicitly set eval_metric if you'd like to restore the old behavior.\n",
      "[21:33:24] WARNING: C:/Users/Administrator/workspace/xgboost-win64_release_1.4.0/src/learner.cc:1095: Starting in XGBoost 1.3.0, the default evaluation metric used with the objective 'binary:logistic' was changed from 'error' to 'logloss'. Explicitly set eval_metric if you'd like to restore the old behavior.\n",
      "[21:33:24] WARNING: C:/Users/Administrator/workspace/xgboost-win64_release_1.4.0/src/learner.cc:1095: Starting in XGBoost 1.3.0, the default evaluation metric used with the objective 'binary:logistic' was changed from 'error' to 'logloss'. Explicitly set eval_metric if you'd like to restore the old behavior.\n",
      "Classification report:\n",
      "              precision    recall  f1-score   support\n",
      "\n",
      "         0.0       0.44      0.33      0.38        12\n",
      "         1.0       0.27      0.38      0.32         8\n",
      "\n",
      "    accuracy                           0.35        20\n",
      "   macro avg       0.36      0.35      0.35        20\n",
      "weighted avg       0.38      0.35      0.35        20\n",
      "\n"
     ]
    },
    {
     "data": {
      "image/png": "[encoded data removed]",
      "text/plain": [
       "<Figure size 432x288 with 2 Axes>"
      ]
     },
     "metadata": {
      "needs_background": "light"
     },
     "output_type": "display_data"
    },
    {
     "data": {
      "text/plain": [
       "<Figure size 432x288 with 0 Axes>"
      ]
     },
     "metadata": {},
     "output_type": "display_data"
    }
   ],
   "source": [
    "entrenamiento_and_report_simple(eardata,y,5,XGBClassifier)"
   ]
  },
  {
   "cell_type": "markdown",
   "id": "7b259c85",
   "metadata": {},
   "source": [
    "## Adabost"
   ]
  },
  {
   "cell_type": "code",
   "execution_count": 76,
   "id": "490ea43a",
   "metadata": {},
   "outputs": [
    {
     "name": "stdout",
     "output_type": "stream",
     "text": [
      "Classification report:\n",
      "              precision    recall  f1-score   support\n",
      "\n",
      "         0.0       0.11      0.14      0.12         7\n",
      "         1.0       0.45      0.38      0.42        13\n",
      "\n",
      "    accuracy                           0.30        20\n",
      "   macro avg       0.28      0.26      0.27        20\n",
      "weighted avg       0.33      0.30      0.31        20\n",
      "\n"
     ]
    },
    {
     "data": {
      "image/png": "[encoded data removed]",
      "text/plain": [
       "<Figure size 432x288 with 2 Axes>"
      ]
     },
     "metadata": {
      "needs_background": "light"
     },
     "output_type": "display_data"
    },
    {
     "data": {
      "text/plain": [
       "<Figure size 432x288 with 0 Axes>"
      ]
     },
     "metadata": {},
     "output_type": "display_data"
    }
   ],
   "source": [
    "entrenamiento_and_report_simple(eardata,y,5,ada_clf)"
   ]
  },
  {
   "cell_type": "markdown",
   "id": "e2a3ec5f",
   "metadata": {},
   "source": [
    "## Random Forest"
   ]
  },
  {
   "cell_type": "code",
   "execution_count": 77,
   "id": "cd978f23",
   "metadata": {},
   "outputs": [
    {
     "name": "stdout",
     "output_type": "stream",
     "text": [
      "Classification report:\n",
      "              precision    recall  f1-score   support\n",
      "\n",
      "         0.0       0.44      0.36      0.40        11\n",
      "         1.0       0.36      0.44      0.40         9\n",
      "\n",
      "    accuracy                           0.40        20\n",
      "   macro avg       0.40      0.40      0.40        20\n",
      "weighted avg       0.41      0.40      0.40        20\n",
      "\n"
     ]
    },
    {
     "data": {
      "image/png": "[encoded data removed]",
      "text/plain": [
       "<Figure size 432x288 with 2 Axes>"
      ]
     },
     "metadata": {
      "needs_background": "light"
     },
     "output_type": "display_data"
    },
    {
     "data": {
      "text/plain": [
       "<Figure size 432x288 with 0 Axes>"
      ]
     },
     "metadata": {},
     "output_type": "display_data"
    }
   ],
   "source": [
    "entrenamiento_and_report_simple(eardata,y,5,RandomForestClassifier)"
   ]
  },
  {
   "cell_type": "markdown",
   "id": "568f560f",
   "metadata": {},
   "source": [
    "## SVM"
   ]
  },
  {
   "cell_type": "code",
   "execution_count": 78,
   "id": "bb001527",
   "metadata": {},
   "outputs": [
    {
     "name": "stdout",
     "output_type": "stream",
     "text": [
      "Classification report:\n",
      "              precision    recall  f1-score   support\n",
      "\n",
      "         0.0       0.00      0.00      0.00         0\n",
      "         1.0       1.00      0.55      0.71        20\n",
      "\n",
      "    accuracy                           0.55        20\n",
      "   macro avg       0.50      0.28      0.35        20\n",
      "weighted avg       1.00      0.55      0.71        20\n",
      "\n"
     ]
    },
    {
     "data": {
      "image/png": "[encoded data removed]",
      "text/plain": [
       "<Figure size 432x288 with 2 Axes>"
      ]
     },
     "metadata": {
      "needs_background": "light"
     },
     "output_type": "display_data"
    },
    {
     "data": {
      "text/plain": [
       "<Figure size 432x288 with 0 Axes>"
      ]
     },
     "metadata": {},
     "output_type": "display_data"
    }
   ],
   "source": [
    "entrenamiento_and_report_simple(eardata,y,5,svc)"
   ]
  },
  {
   "cell_type": "markdown",
   "id": "8ed11b91",
   "metadata": {},
   "source": [
    "## Red neuronal"
   ]
  },
  {
   "cell_type": "code",
   "execution_count": 79,
   "id": "8011d382",
   "metadata": {},
   "outputs": [
    {
     "name": "stdout",
     "output_type": "stream",
     "text": [
      "Model: \"sequential_5\"\n",
      "_________________________________________________________________\n",
      "Layer (type)                 Output Shape              Param #   \n",
      "=================================================================\n",
      "dense_15 (Dense)             (None, 16)                96        \n",
      "_________________________________________________________________\n",
      "dense_16 (Dense)             (None, 16)                272       \n",
      "_________________________________________________________________\n",
      "dense_17 (Dense)             (None, 1)                 17        \n",
      "=================================================================\n",
      "Total params: 385\n",
      "Trainable params: 385\n",
      "Non-trainable params: 0\n",
      "_________________________________________________________________\n",
      "WARNING:tensorflow:6 out of the last 6 calls to <function Model.make_predict_function.<locals>.predict_function at 0x000002692F1EE1F0> triggered tf.function retracing. Tracing is expensive and the excessive number of tracings could be due to (1) creating @tf.function repeatedly in a loop, (2) passing tensors with different shapes, (3) passing Python objects instead of tensors. For (1), please define your @tf.function outside of the loop. For (2), @tf.function has experimental_relax_shapes=True option that relaxes argument shapes that can avoid unnecessary retracing. For (3), please refer to https://www.tensorflow.org/guide/function#controlling_retracing and https://www.tensorflow.org/api_docs/python/tf/function for  more details.\n",
      "[0, 0, 0, 0]\n",
      "Classification report:\n",
      "              precision    recall  f1-score   support\n",
      "\n",
      "         0.0       1.00      0.50      0.67         4\n",
      "         1.0       0.00      0.00      0.00         0\n",
      "\n",
      "    accuracy                           0.50         4\n",
      "   macro avg       0.50      0.25      0.33         4\n",
      "weighted avg       1.00      0.50      0.67         4\n",
      "\n"
     ]
    },
    {
     "data": {
      "image/png": "[encoded data removed]",
      "text/plain": [
       "<Figure size 432x288 with 2 Axes>"
      ]
     },
     "metadata": {
      "needs_background": "light"
     },
     "output_type": "display_data"
    },
    {
     "data": {
      "text/plain": [
       "<Figure size 432x288 with 0 Axes>"
      ]
     },
     "metadata": {},
     "output_type": "display_data"
    }
   ],
   "source": [
    "import tensorflow as tf\n",
    "from numpy import argmax\n",
    "from keras.utils.np_utils import to_categorical\n",
    "from keras.models import Sequential\n",
    "from keras import layers\n",
    "\n",
    "max_features = eardata.shape[1]\n",
    "\n",
    "model = Sequential()\n",
    "model.add(layers.Dense(16, activation='relu', input_shape=(max_features,)))\n",
    "model.add(layers.Dense(16, activation='relu'))\n",
    "model.add(layers.Dense(1, activation='sigmoid'))\n",
    "model.summary()\n",
    "model.compile(loss='binary_crossentropy', # Cross-entropy\n",
    "                    optimizer='rmsprop', # Root Mean Square Propagation\n",
    "                    metrics=['accuracy'])\n",
    "\n",
    "X_train, X_Test, y_train, y_test = train_test_split(eardata,y, test_size = 0.2,random_state=42)\n",
    "model.fit(X_train,\n",
    "          y_train,batch_size=512,\n",
    "          epochs=200,\n",
    "          verbose=0,\n",
    "          validation_split=0.2)\n",
    "\n",
    "\n",
    "predict_list=model.predict(X_Test)\n",
    "objetivo = argmax(predict_list, axis=-1).astype('int')\n",
    "y_classes = [np.argmax(y, axis=None, out=None) for y in predict_list]\n",
    "print(y_classes)\n",
    "\n",
    "\n",
    "\n",
    "matriz_confusion = confusion_matrix(y_test, objetivo)\n",
    "heatmap(matriz_confusion, annot=True, fmt=\"g\",cmap=\"YlGnBu\", yticklabels=[\"Healthy\", \"Diabetes tipo 2\"] ,xticklabels=[\"Healthy\", \"Diabetes tipo 2\"])\n",
    "plt.title(\"Confusion matrix\")\n",
    "plt.xlabel(\"Predicted\")\n",
    "plt.ylabel(\"Expected\")\n",
    "plt.figure()\n",
    "print(f\"Classification report:\\n{classification_report(objetivo, y_test)}\")"
   ]
  }
 ],
 "metadata": {
  "kernelspec": {
   "display_name": "Python 3",
   "language": "python",
   "name": "python3"
  },
  "language_info": {
   "codemirror_mode": {
    "name": "ipython",
    "version": 3
   },
   "file_extension": ".py",
   "mimetype": "text/x-python",
   "name": "python",
   "nbconvert_exporter": "python",
   "pygments_lexer": "ipython3",
   "version": "3.8.5"
  }
 },
 "nbformat": 4,
 "nbformat_minor": 5
}
