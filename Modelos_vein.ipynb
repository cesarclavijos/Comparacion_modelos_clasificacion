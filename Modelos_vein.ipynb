{
 "cells": [
  {
   "cell_type": "markdown",
   "id": "a8abd8bd",
   "metadata": {},
   "source": [
    "# Importe librerias "
   ]
  },
  {
   "cell_type": "code",
   "execution_count": 13,
   "id": "9e0ff1d1",
   "metadata": {},
   "outputs": [],
   "source": [
    "import pandas as pd\n",
    "import numpy as np\n",
    "import matplotlib.pyplot as plt\n",
    "import seaborn as sns\n",
    "import warnings\n",
    "from sklearn.model_selection import train_test_split\n",
    "from sklearn.model_selection import cross_val_predict\n",
    "from sklearn.metrics import accuracy_score, classification_report, confusion_matrix\n",
    "from sklearn.metrics import recall_score\n",
    "from seaborn import heatmap\n",
    "from sklearn.model_selection import GridSearchCV \n",
    "from sklearn.tree import DecisionTreeClassifier\n",
    "from sklearn.decomposition import PCA\n",
    "from sklearn.preprocessing import StandardScaler\n",
    "warnings.filterwarnings('ignore')\n",
    "%matplotlib inline"
   ]
  },
  {
   "cell_type": "markdown",
   "id": "ebed88bf",
   "metadata": {},
   "source": [
    "# Funciones "
   ]
  },
  {
   "cell_type": "markdown",
   "id": "069163f1",
   "metadata": {},
   "source": [
    "## Entrenamiento"
   ]
  },
  {
   "cell_type": "code",
   "execution_count": 14,
   "id": "829a83d2",
   "metadata": {},
   "outputs": [],
   "source": [
    "def entrenamiento_and_report_simple(data_entrenamiento,objetivo,cv,modelo):\n",
    "    predict_list = cross_val_predict(modelo,data_entrenamiento,objetivo, cv=cv)\n",
    "    confution = confusion_matrix( y.tolist(),  predict_list.tolist())\n",
    "    matriz_confusion = confusion_matrix(predict_list, objetivo)\n",
    "    heatmap(matriz_confusion, annot=True, fmt=\"g\",cmap=\"YlGnBu\", yticklabels=[\"Healthy\", \"Diabetes tipo 2\"] ,xticklabels=[\"Healthy\", \"Diabetes tipo 2\"])\n",
    "    plt.title(\"Confusion matrix\")\n",
    "    plt.xlabel(\"Predicted\")\n",
    "    plt.ylabel(\"Expected\")\n",
    "    plt.figure()\n",
    "    print(f\"Classification report:\\n{classification_report(predict_list, objetivo)}\")"
   ]
  },
  {
   "cell_type": "code",
   "execution_count": 15,
   "id": "723023ff",
   "metadata": {},
   "outputs": [],
   "source": [
    "def entrenamiento_and_report_red_neuronal(data_entrenamiento,objetivo,cv,modelo):\n",
    "    predict_list = cross_val_predict(modelo,data_entrenamiento,objetivo, cv=cv)\n",
    "    confution = confusion_matrix( y.tolist(),  predict_list.tolist())\n",
    "    matriz_confusion = confusion_matrix(predict_list, objetivo)\n",
    "    heatmap(matriz_confusion, annot=True, fmt=\"g\",cmap=\"YlGnBu\", yticklabels=[\"Healthy\", \"Diabetes tipo 2\"] ,xticklabels=[\"Healthy\", \"Diabetes tipo 2\"])\n",
    "    plt.title(\"Confusion matrix\")\n",
    "    plt.xlabel(\"Predicted\")\n",
    "    plt.ylabel(\"Expected\")\n",
    "    plt.figure()\n",
    "    print(f\"Classification report:\\n{classification_report(predict_list, objetivo)}\")"
   ]
  },
  {
   "cell_type": "markdown",
   "id": "68daad64",
   "metadata": {},
   "source": [
    "## Optimizacion de parametros"
   ]
  },
  {
   "cell_type": "code",
   "execution_count": 16,
   "id": "e98d0129",
   "metadata": {},
   "outputs": [],
   "source": [
    "def Optimizacion_parametros(param_grid,Modelo,data_entrenamiento,objetivo,cv):\n",
    "    grid_search = GridSearchCV(Modelo, param_grid, cv=cv,\n",
    "                           scoring='precision', \n",
    "                           return_train_score=True)\n",
    "    grid_search.fit(data_entrenamiento, objetivo)\n",
    "    a = pd.DataFrame(grid_search.cv_results_['params'])\n",
    "    a = pd.DataFrame(grid_search.cv_results_['params'])\n",
    "    a['mean_train_score'] = grid_search.cv_results_['mean_train_score']\n",
    "    a['mean_test_score'] = grid_search.cv_results_['mean_test_score']\n",
    "    a['std_train_score'] = grid_search.cv_results_['std_train_score']\n",
    "    a['std_test_score'] = grid_search.cv_results_['std_test_score']\n",
    "    print('Mejor resultado' +''+ str(grid_search.best_score_)  )     \n",
    "    print('Mejor parametro' +''+ str(grid_search.best_estimator_)) \n",
    "    minv = grid_search.best_score_\n",
    "    return a, a[(a.mean_test_score == minv)],grid_search.best_estimator_,grid_search.best_score_\n",
    "\n"
   ]
  },
  {
   "cell_type": "markdown",
   "id": "91cd3a41",
   "metadata": {},
   "source": [
    "# Funcion PCA"
   ]
  },
  {
   "cell_type": "code",
   "execution_count": 17,
   "id": "4097afdf",
   "metadata": {},
   "outputs": [],
   "source": [
    "def PCA_conversion(datos,Numero_parametros, nombre_variable):\n",
    "    scaler=StandardScaler()#normalizamos los datos\n",
    "    scaler.fit(datos) # calculo la media para poder hacer la transformacion\n",
    "    X_scaled=scaler.transform(datos)# Ahora si, escalo los datos y los normalizo\n",
    "    pca=PCA(n_components=Numero_parametros) # Otra opción es instanciar pca sólo con dimensiones nuevas hasta obtener un mínimo \"explicado\" ej.: pca=PCA(.85)\n",
    "    pca.fit(X_scaled) # obtener los componentes principales\n",
    "    ear2_pca=pca.transform(X_scaled) # convertimos nuestros datos con las nuevas dimensiones de PC\n",
    "    \n",
    "    print(\"shape of X_pca\", ear2_pca.shape)\n",
    "    expl = pca.explained_variance_ratio_\n",
    "    print(expl)\n",
    "    print('suma:',sum(expl[0:5]))\n",
    "    print(\"shape of X_pca\", ear2_pca.shape)\n",
    "    expl = pca.explained_variance_ratio_\n",
    "    print(expl)\n",
    "    \n",
    "    print('suma:',sum(expl[0:1000]))\n",
    "    plt.plot(np.cumsum(pca.explained_variance_ratio_))\n",
    "    plt.xlabel('number of components')\n",
    "    plt.ylabel('cumulative explained variance')\n",
    "    plt.show()\n",
    "    \n",
    "    \n",
    "    x = range(1, Numero_parametros + 1)\n",
    "    new_columns = []\n",
    "    for n in x:\n",
    "        name = 'nombre_variable' +  str(n)\n",
    "        new_columns.append(name)\n",
    "\n",
    "    bm = pd.DataFrame(data = ear2_pca, columns = new_columns)\n",
    "    bm.index = np.arange(1,len(bm)+1)\n",
    "    return bm"
   ]
  },
  {
   "cell_type": "markdown",
   "id": "7c0c6736",
   "metadata": {},
   "source": [
    "## Carga de datos"
   ]
  },
  {
   "cell_type": "code",
   "execution_count": 18,
   "id": "210f4430",
   "metadata": {},
   "outputs": [],
   "source": [
    "path_dataset = 'archive/vein.csv'\n",
    "ear = pd.read_csv(path_dataset)\n",
    "ear = ear.iloc[1:]\n",
    "y = ear['has_DM2']\n",
    "path_dataset = 'archive/veinData.csv'\n",
    "ear2 = pd.read_csv(path_dataset)\n",
    "ear2= (ear2.T.reset_index().T.reset_index(drop=True)\n",
    "            .set_axis([f'Q1.{i+1}' for i in range(ear2.shape[1])], axis=1))\n",
    "ear2= ear2.apply(pd.to_numeric, errors='coerce')"
   ]
  },
  {
   "cell_type": "code",
   "execution_count": 19,
   "id": "74e4c6a6",
   "metadata": {},
   "outputs": [
    {
     "data": {
      "text/html": [
       "<div>\n",
       "<style scoped>\n",
       "    .dataframe tbody tr th:only-of-type {\n",
       "        vertical-align: middle;\n",
       "    }\n",
       "\n",
       "    .dataframe tbody tr th {\n",
       "        vertical-align: top;\n",
       "    }\n",
       "\n",
       "    .dataframe thead th {\n",
       "        text-align: right;\n",
       "    }\n",
       "</style>\n",
       "<table border=\"1\" class=\"dataframe\">\n",
       "  <thead>\n",
       "    <tr style=\"text-align: right;\">\n",
       "      <th></th>\n",
       "      <th>Q1.1</th>\n",
       "      <th>Q1.2</th>\n",
       "      <th>Q1.3</th>\n",
       "      <th>Q1.4</th>\n",
       "      <th>Q1.5</th>\n",
       "      <th>Q1.6</th>\n",
       "      <th>Q1.7</th>\n",
       "      <th>Q1.8</th>\n",
       "      <th>Q1.9</th>\n",
       "      <th>Q1.10</th>\n",
       "      <th>...</th>\n",
       "      <th>Q1.992</th>\n",
       "      <th>Q1.993</th>\n",
       "      <th>Q1.994</th>\n",
       "      <th>Q1.995</th>\n",
       "      <th>Q1.996</th>\n",
       "      <th>Q1.997</th>\n",
       "      <th>Q1.998</th>\n",
       "      <th>Q1.999</th>\n",
       "      <th>Q1.1000</th>\n",
       "      <th>Q1.1001</th>\n",
       "    </tr>\n",
       "  </thead>\n",
       "  <tbody>\n",
       "    <tr>\n",
       "      <th>0</th>\n",
       "      <td>-0.615666</td>\n",
       "      <td>-0.599027</td>\n",
       "      <td>-0.593350</td>\n",
       "      <td>-0.597768</td>\n",
       "      <td>-0.596158</td>\n",
       "      <td>-0.580065</td>\n",
       "      <td>-0.564412</td>\n",
       "      <td>-0.571615</td>\n",
       "      <td>-0.577626</td>\n",
       "      <td>-0.591627</td>\n",
       "      <td>...</td>\n",
       "      <td>-0.549209</td>\n",
       "      <td>-0.543782</td>\n",
       "      <td>-0.537478</td>\n",
       "      <td>-0.615201</td>\n",
       "      <td>-0.695328</td>\n",
       "      <td>-0.772340</td>\n",
       "      <td>-0.729576</td>\n",
       "      <td>-0.620902</td>\n",
       "      <td>-0.558183</td>\n",
       "      <td>-0.517232</td>\n",
       "    </tr>\n",
       "    <tr>\n",
       "      <th>1</th>\n",
       "      <td>0.062839</td>\n",
       "      <td>0.081927</td>\n",
       "      <td>0.103143</td>\n",
       "      <td>0.126321</td>\n",
       "      <td>0.129155</td>\n",
       "      <td>0.083704</td>\n",
       "      <td>0.041234</td>\n",
       "      <td>0.050539</td>\n",
       "      <td>0.059600</td>\n",
       "      <td>0.051188</td>\n",
       "      <td>...</td>\n",
       "      <td>0.032619</td>\n",
       "      <td>-0.016801</td>\n",
       "      <td>-0.047305</td>\n",
       "      <td>0.028624</td>\n",
       "      <td>0.081032</td>\n",
       "      <td>0.063861</td>\n",
       "      <td>0.042679</td>\n",
       "      <td>0.019258</td>\n",
       "      <td>0.001064</td>\n",
       "      <td>-0.003515</td>\n",
       "    </tr>\n",
       "    <tr>\n",
       "      <th>2</th>\n",
       "      <td>-0.721248</td>\n",
       "      <td>-0.737716</td>\n",
       "      <td>-0.745235</td>\n",
       "      <td>-0.745085</td>\n",
       "      <td>-0.748967</td>\n",
       "      <td>-0.762356</td>\n",
       "      <td>-0.775159</td>\n",
       "      <td>-0.793872</td>\n",
       "      <td>-0.810790</td>\n",
       "      <td>-0.802970</td>\n",
       "      <td>...</td>\n",
       "      <td>-0.624722</td>\n",
       "      <td>-0.686351</td>\n",
       "      <td>-0.788667</td>\n",
       "      <td>-0.748211</td>\n",
       "      <td>-0.715600</td>\n",
       "      <td>-0.721949</td>\n",
       "      <td>-0.686472</td>\n",
       "      <td>-0.630941</td>\n",
       "      <td>-0.786047</td>\n",
       "      <td>-0.850955</td>\n",
       "    </tr>\n",
       "    <tr>\n",
       "      <th>3</th>\n",
       "      <td>0.537584</td>\n",
       "      <td>0.527991</td>\n",
       "      <td>0.509941</td>\n",
       "      <td>0.484546</td>\n",
       "      <td>0.475273</td>\n",
       "      <td>0.503972</td>\n",
       "      <td>0.528374</td>\n",
       "      <td>0.502134</td>\n",
       "      <td>0.475366</td>\n",
       "      <td>0.476686</td>\n",
       "      <td>...</td>\n",
       "      <td>0.460929</td>\n",
       "      <td>0.464109</td>\n",
       "      <td>0.440232</td>\n",
       "      <td>0.494675</td>\n",
       "      <td>0.545867</td>\n",
       "      <td>0.579928</td>\n",
       "      <td>0.590313</td>\n",
       "      <td>0.585650</td>\n",
       "      <td>0.582781</td>\n",
       "      <td>0.562296</td>\n",
       "    </tr>\n",
       "    <tr>\n",
       "      <th>4</th>\n",
       "      <td>0.236569</td>\n",
       "      <td>0.223722</td>\n",
       "      <td>0.217669</td>\n",
       "      <td>0.217805</td>\n",
       "      <td>0.217767</td>\n",
       "      <td>0.217265</td>\n",
       "      <td>0.216373</td>\n",
       "      <td>0.215545</td>\n",
       "      <td>0.214325</td>\n",
       "      <td>0.226446</td>\n",
       "      <td>...</td>\n",
       "      <td>0.132533</td>\n",
       "      <td>0.127580</td>\n",
       "      <td>0.162759</td>\n",
       "      <td>0.152212</td>\n",
       "      <td>0.167956</td>\n",
       "      <td>0.253981</td>\n",
       "      <td>0.237532</td>\n",
       "      <td>0.167464</td>\n",
       "      <td>0.180390</td>\n",
       "      <td>0.197671</td>\n",
       "    </tr>\n",
       "    <tr>\n",
       "      <th>5</th>\n",
       "      <td>-0.890746</td>\n",
       "      <td>-0.953848</td>\n",
       "      <td>-1.002854</td>\n",
       "      <td>-1.039709</td>\n",
       "      <td>-1.039166</td>\n",
       "      <td>-0.949554</td>\n",
       "      <td>-0.869180</td>\n",
       "      <td>-0.950525</td>\n",
       "      <td>-1.028780</td>\n",
       "      <td>-1.006628</td>\n",
       "      <td>...</td>\n",
       "      <td>-1.160705</td>\n",
       "      <td>-1.161235</td>\n",
       "      <td>-1.028485</td>\n",
       "      <td>-1.087139</td>\n",
       "      <td>-1.091313</td>\n",
       "      <td>-0.936965</td>\n",
       "      <td>-1.005237</td>\n",
       "      <td>-1.182036</td>\n",
       "      <td>-1.113989</td>\n",
       "      <td>-1.077731</td>\n",
       "    </tr>\n",
       "    <tr>\n",
       "      <th>6</th>\n",
       "      <td>0.639751</td>\n",
       "      <td>0.614042</td>\n",
       "      <td>0.619564</td>\n",
       "      <td>0.653360</td>\n",
       "      <td>0.665590</td>\n",
       "      <td>0.626739</td>\n",
       "      <td>0.589987</td>\n",
       "      <td>0.604209</td>\n",
       "      <td>0.617065</td>\n",
       "      <td>0.625002</td>\n",
       "      <td>...</td>\n",
       "      <td>0.177048</td>\n",
       "      <td>0.200682</td>\n",
       "      <td>0.213956</td>\n",
       "      <td>0.254000</td>\n",
       "      <td>0.275128</td>\n",
       "      <td>0.248291</td>\n",
       "      <td>0.272549</td>\n",
       "      <td>0.320843</td>\n",
       "      <td>0.284044</td>\n",
       "      <td>0.249392</td>\n",
       "    </tr>\n",
       "    <tr>\n",
       "      <th>7</th>\n",
       "      <td>-0.361985</td>\n",
       "      <td>-0.345746</td>\n",
       "      <td>-0.347623</td>\n",
       "      <td>-0.365895</td>\n",
       "      <td>-0.380164</td>\n",
       "      <td>-0.385177</td>\n",
       "      <td>-0.388048</td>\n",
       "      <td>-0.371213</td>\n",
       "      <td>-0.353947</td>\n",
       "      <td>-0.348471</td>\n",
       "      <td>...</td>\n",
       "      <td>-0.323822</td>\n",
       "      <td>-0.308553</td>\n",
       "      <td>-0.314261</td>\n",
       "      <td>-0.284547</td>\n",
       "      <td>-0.272452</td>\n",
       "      <td>-0.307062</td>\n",
       "      <td>-0.315364</td>\n",
       "      <td>-0.306472</td>\n",
       "      <td>-0.222982</td>\n",
       "      <td>-0.191505</td>\n",
       "    </tr>\n",
       "    <tr>\n",
       "      <th>8</th>\n",
       "      <td>-0.265625</td>\n",
       "      <td>-0.252501</td>\n",
       "      <td>-0.245340</td>\n",
       "      <td>-0.243634</td>\n",
       "      <td>-0.244396</td>\n",
       "      <td>-0.250984</td>\n",
       "      <td>-0.255071</td>\n",
       "      <td>-0.231521</td>\n",
       "      <td>-0.207911</td>\n",
       "      <td>-0.220973</td>\n",
       "      <td>...</td>\n",
       "      <td>-0.056964</td>\n",
       "      <td>-0.066056</td>\n",
       "      <td>-0.154280</td>\n",
       "      <td>-0.175156</td>\n",
       "      <td>-0.198943</td>\n",
       "      <td>-0.241190</td>\n",
       "      <td>-0.206828</td>\n",
       "      <td>-0.132491</td>\n",
       "      <td>-0.131833</td>\n",
       "      <td>-0.157137</td>\n",
       "    </tr>\n",
       "    <tr>\n",
       "      <th>9</th>\n",
       "      <td>-0.867051</td>\n",
       "      <td>-0.863433</td>\n",
       "      <td>-0.862208</td>\n",
       "      <td>-0.863528</td>\n",
       "      <td>-0.857110</td>\n",
       "      <td>-0.831974</td>\n",
       "      <td>-0.808501</td>\n",
       "      <td>-0.831313</td>\n",
       "      <td>-0.852193</td>\n",
       "      <td>-0.851836</td>\n",
       "      <td>...</td>\n",
       "      <td>-0.809563</td>\n",
       "      <td>-0.823690</td>\n",
       "      <td>-0.818222</td>\n",
       "      <td>-0.799815</td>\n",
       "      <td>-0.780365</td>\n",
       "      <td>-0.759496</td>\n",
       "      <td>-0.730049</td>\n",
       "      <td>-0.694410</td>\n",
       "      <td>-0.720796</td>\n",
       "      <td>-0.748851</td>\n",
       "    </tr>\n",
       "    <tr>\n",
       "      <th>10</th>\n",
       "      <td>-0.428731</td>\n",
       "      <td>-0.403179</td>\n",
       "      <td>-0.380525</td>\n",
       "      <td>-0.360640</td>\n",
       "      <td>-0.357240</td>\n",
       "      <td>-0.392841</td>\n",
       "      <td>-0.423747</td>\n",
       "      <td>-0.394663</td>\n",
       "      <td>-0.365300</td>\n",
       "      <td>-0.367493</td>\n",
       "      <td>...</td>\n",
       "      <td>-0.375170</td>\n",
       "      <td>-0.386157</td>\n",
       "      <td>-0.446003</td>\n",
       "      <td>-0.457796</td>\n",
       "      <td>-0.445961</td>\n",
       "      <td>-0.384802</td>\n",
       "      <td>-0.343996</td>\n",
       "      <td>-0.314643</td>\n",
       "      <td>-0.371974</td>\n",
       "      <td>-0.391569</td>\n",
       "    </tr>\n",
       "    <tr>\n",
       "      <th>11</th>\n",
       "      <td>2.086147</td>\n",
       "      <td>2.104621</td>\n",
       "      <td>2.095987</td>\n",
       "      <td>2.062906</td>\n",
       "      <td>2.047528</td>\n",
       "      <td>2.073921</td>\n",
       "      <td>2.098512</td>\n",
       "      <td>2.085319</td>\n",
       "      <td>2.072987</td>\n",
       "      <td>2.088053</td>\n",
       "      <td>...</td>\n",
       "      <td>1.993768</td>\n",
       "      <td>2.089413</td>\n",
       "      <td>2.216756</td>\n",
       "      <td>2.162239</td>\n",
       "      <td>2.108275</td>\n",
       "      <td>2.080802</td>\n",
       "      <td>2.041289</td>\n",
       "      <td>2.000412</td>\n",
       "      <td>2.100629</td>\n",
       "      <td>2.143884</td>\n",
       "    </tr>\n",
       "    <tr>\n",
       "      <th>12</th>\n",
       "      <td>2.419789</td>\n",
       "      <td>2.451061</td>\n",
       "      <td>2.456549</td>\n",
       "      <td>2.438947</td>\n",
       "      <td>2.411488</td>\n",
       "      <td>2.359971</td>\n",
       "      <td>2.313119</td>\n",
       "      <td>2.337423</td>\n",
       "      <td>2.361513</td>\n",
       "      <td>2.373622</td>\n",
       "      <td>...</td>\n",
       "      <td>2.419161</td>\n",
       "      <td>2.431508</td>\n",
       "      <td>2.375200</td>\n",
       "      <td>2.431331</td>\n",
       "      <td>2.442538</td>\n",
       "      <td>2.330324</td>\n",
       "      <td>2.318439</td>\n",
       "      <td>2.359934</td>\n",
       "      <td>2.378959</td>\n",
       "      <td>2.400025</td>\n",
       "    </tr>\n",
       "    <tr>\n",
       "      <th>13</th>\n",
       "      <td>4.028978</td>\n",
       "      <td>4.044202</td>\n",
       "      <td>4.053142</td>\n",
       "      <td>4.057208</td>\n",
       "      <td>4.056928</td>\n",
       "      <td>4.045967</td>\n",
       "      <td>4.034846</td>\n",
       "      <td>4.060647</td>\n",
       "      <td>4.082962</td>\n",
       "      <td>4.054893</td>\n",
       "      <td>...</td>\n",
       "      <td>4.092729</td>\n",
       "      <td>4.145862</td>\n",
       "      <td>4.148463</td>\n",
       "      <td>4.102727</td>\n",
       "      <td>4.064873</td>\n",
       "      <td>4.051372</td>\n",
       "      <td>4.065785</td>\n",
       "      <td>4.087552</td>\n",
       "      <td>4.083255</td>\n",
       "      <td>4.061131</td>\n",
       "    </tr>\n",
       "    <tr>\n",
       "      <th>14</th>\n",
       "      <td>1.689100</td>\n",
       "      <td>1.727483</td>\n",
       "      <td>1.732329</td>\n",
       "      <td>1.706800</td>\n",
       "      <td>1.690095</td>\n",
       "      <td>1.694114</td>\n",
       "      <td>1.700982</td>\n",
       "      <td>1.726166</td>\n",
       "      <td>1.752275</td>\n",
       "      <td>1.724858</td>\n",
       "      <td>...</td>\n",
       "      <td>1.881230</td>\n",
       "      <td>1.885227</td>\n",
       "      <td>1.905623</td>\n",
       "      <td>1.888783</td>\n",
       "      <td>1.868622</td>\n",
       "      <td>1.845236</td>\n",
       "      <td>1.786211</td>\n",
       "      <td>1.714873</td>\n",
       "      <td>1.808872</td>\n",
       "      <td>1.864987</td>\n",
       "    </tr>\n",
       "    <tr>\n",
       "      <th>15</th>\n",
       "      <td>2.759319</td>\n",
       "      <td>2.644119</td>\n",
       "      <td>2.596852</td>\n",
       "      <td>2.610522</td>\n",
       "      <td>2.652604</td>\n",
       "      <td>2.763116</td>\n",
       "      <td>2.857290</td>\n",
       "      <td>2.723378</td>\n",
       "      <td>2.591052</td>\n",
       "      <td>2.641992</td>\n",
       "      <td>...</td>\n",
       "      <td>2.590003</td>\n",
       "      <td>2.611577</td>\n",
       "      <td>2.750052</td>\n",
       "      <td>2.723655</td>\n",
       "      <td>2.748975</td>\n",
       "      <td>2.923751</td>\n",
       "      <td>2.854931</td>\n",
       "      <td>2.660104</td>\n",
       "      <td>2.700226</td>\n",
       "      <td>2.719742</td>\n",
       "    </tr>\n",
       "    <tr>\n",
       "      <th>16</th>\n",
       "      <td>1.001478</td>\n",
       "      <td>1.020313</td>\n",
       "      <td>1.053233</td>\n",
       "      <td>1.098144</td>\n",
       "      <td>1.112339</td>\n",
       "      <td>1.054189</td>\n",
       "      <td>1.006508</td>\n",
       "      <td>1.075647</td>\n",
       "      <td>1.146235</td>\n",
       "      <td>1.112846</td>\n",
       "      <td>...</td>\n",
       "      <td>1.109988</td>\n",
       "      <td>1.134684</td>\n",
       "      <td>1.172648</td>\n",
       "      <td>1.177943</td>\n",
       "      <td>1.153727</td>\n",
       "      <td>1.063112</td>\n",
       "      <td>1.033458</td>\n",
       "      <td>1.041313</td>\n",
       "      <td>1.015784</td>\n",
       "      <td>1.015490</td>\n",
       "    </tr>\n",
       "    <tr>\n",
       "      <th>17</th>\n",
       "      <td>2.687822</td>\n",
       "      <td>2.680697</td>\n",
       "      <td>2.682138</td>\n",
       "      <td>2.691372</td>\n",
       "      <td>2.696400</td>\n",
       "      <td>2.691494</td>\n",
       "      <td>2.688466</td>\n",
       "      <td>2.716172</td>\n",
       "      <td>2.742897</td>\n",
       "      <td>2.735086</td>\n",
       "      <td>...</td>\n",
       "      <td>2.973200</td>\n",
       "      <td>2.908249</td>\n",
       "      <td>2.675883</td>\n",
       "      <td>2.703514</td>\n",
       "      <td>2.707972</td>\n",
       "      <td>2.617723</td>\n",
       "      <td>2.703530</td>\n",
       "      <td>2.873182</td>\n",
       "      <td>2.677444</td>\n",
       "      <td>2.606156</td>\n",
       "    </tr>\n",
       "    <tr>\n",
       "      <th>18</th>\n",
       "      <td>5.584841</td>\n",
       "      <td>5.602794</td>\n",
       "      <td>5.605593</td>\n",
       "      <td>5.596288</td>\n",
       "      <td>5.592348</td>\n",
       "      <td>5.600380</td>\n",
       "      <td>5.603535</td>\n",
       "      <td>5.613751</td>\n",
       "      <td>5.617804</td>\n",
       "      <td>5.615975</td>\n",
       "      <td>...</td>\n",
       "      <td>5.661439</td>\n",
       "      <td>5.646388</td>\n",
       "      <td>5.703659</td>\n",
       "      <td>5.693972</td>\n",
       "      <td>5.677217</td>\n",
       "      <td>5.653316</td>\n",
       "      <td>5.629830</td>\n",
       "      <td>5.594865</td>\n",
       "      <td>5.635887</td>\n",
       "      <td>5.664986</td>\n",
       "    </tr>\n",
       "    <tr>\n",
       "      <th>19</th>\n",
       "      <td>2.288150</td>\n",
       "      <td>2.303795</td>\n",
       "      <td>2.322311</td>\n",
       "      <td>2.343354</td>\n",
       "      <td>2.347002</td>\n",
       "      <td>2.309435</td>\n",
       "      <td>2.276208</td>\n",
       "      <td>2.305109</td>\n",
       "      <td>2.333785</td>\n",
       "      <td>2.334668</td>\n",
       "      <td>...</td>\n",
       "      <td>2.246824</td>\n",
       "      <td>2.218663</td>\n",
       "      <td>2.240785</td>\n",
       "      <td>2.225506</td>\n",
       "      <td>2.229096</td>\n",
       "      <td>2.283424</td>\n",
       "      <td>2.312290</td>\n",
       "      <td>2.327764</td>\n",
       "      <td>2.327787</td>\n",
       "      <td>2.324051</td>\n",
       "    </tr>\n",
       "  </tbody>\n",
       "</table>\n",
       "<p>20 rows × 1001 columns</p>\n",
       "</div>"
      ],
      "text/plain": [
       "        Q1.1      Q1.2      Q1.3      Q1.4      Q1.5      Q1.6      Q1.7  \\\n",
       "0  -0.615666 -0.599027 -0.593350 -0.597768 -0.596158 -0.580065 -0.564412   \n",
       "1   0.062839  0.081927  0.103143  0.126321  0.129155  0.083704  0.041234   \n",
       "2  -0.721248 -0.737716 -0.745235 -0.745085 -0.748967 -0.762356 -0.775159   \n",
       "3   0.537584  0.527991  0.509941  0.484546  0.475273  0.503972  0.528374   \n",
       "4   0.236569  0.223722  0.217669  0.217805  0.217767  0.217265  0.216373   \n",
       "5  -0.890746 -0.953848 -1.002854 -1.039709 -1.039166 -0.949554 -0.869180   \n",
       "6   0.639751  0.614042  0.619564  0.653360  0.665590  0.626739  0.589987   \n",
       "7  -0.361985 -0.345746 -0.347623 -0.365895 -0.380164 -0.385177 -0.388048   \n",
       "8  -0.265625 -0.252501 -0.245340 -0.243634 -0.244396 -0.250984 -0.255071   \n",
       "9  -0.867051 -0.863433 -0.862208 -0.863528 -0.857110 -0.831974 -0.808501   \n",
       "10 -0.428731 -0.403179 -0.380525 -0.360640 -0.357240 -0.392841 -0.423747   \n",
       "11  2.086147  2.104621  2.095987  2.062906  2.047528  2.073921  2.098512   \n",
       "12  2.419789  2.451061  2.456549  2.438947  2.411488  2.359971  2.313119   \n",
       "13  4.028978  4.044202  4.053142  4.057208  4.056928  4.045967  4.034846   \n",
       "14  1.689100  1.727483  1.732329  1.706800  1.690095  1.694114  1.700982   \n",
       "15  2.759319  2.644119  2.596852  2.610522  2.652604  2.763116  2.857290   \n",
       "16  1.001478  1.020313  1.053233  1.098144  1.112339  1.054189  1.006508   \n",
       "17  2.687822  2.680697  2.682138  2.691372  2.696400  2.691494  2.688466   \n",
       "18  5.584841  5.602794  5.605593  5.596288  5.592348  5.600380  5.603535   \n",
       "19  2.288150  2.303795  2.322311  2.343354  2.347002  2.309435  2.276208   \n",
       "\n",
       "        Q1.8      Q1.9     Q1.10  ...    Q1.992    Q1.993    Q1.994    Q1.995  \\\n",
       "0  -0.571615 -0.577626 -0.591627  ... -0.549209 -0.543782 -0.537478 -0.615201   \n",
       "1   0.050539  0.059600  0.051188  ...  0.032619 -0.016801 -0.047305  0.028624   \n",
       "2  -0.793872 -0.810790 -0.802970  ... -0.624722 -0.686351 -0.788667 -0.748211   \n",
       "3   0.502134  0.475366  0.476686  ...  0.460929  0.464109  0.440232  0.494675   \n",
       "4   0.215545  0.214325  0.226446  ...  0.132533  0.127580  0.162759  0.152212   \n",
       "5  -0.950525 -1.028780 -1.006628  ... -1.160705 -1.161235 -1.028485 -1.087139   \n",
       "6   0.604209  0.617065  0.625002  ...  0.177048  0.200682  0.213956  0.254000   \n",
       "7  -0.371213 -0.353947 -0.348471  ... -0.323822 -0.308553 -0.314261 -0.284547   \n",
       "8  -0.231521 -0.207911 -0.220973  ... -0.056964 -0.066056 -0.154280 -0.175156   \n",
       "9  -0.831313 -0.852193 -0.851836  ... -0.809563 -0.823690 -0.818222 -0.799815   \n",
       "10 -0.394663 -0.365300 -0.367493  ... -0.375170 -0.386157 -0.446003 -0.457796   \n",
       "11  2.085319  2.072987  2.088053  ...  1.993768  2.089413  2.216756  2.162239   \n",
       "12  2.337423  2.361513  2.373622  ...  2.419161  2.431508  2.375200  2.431331   \n",
       "13  4.060647  4.082962  4.054893  ...  4.092729  4.145862  4.148463  4.102727   \n",
       "14  1.726166  1.752275  1.724858  ...  1.881230  1.885227  1.905623  1.888783   \n",
       "15  2.723378  2.591052  2.641992  ...  2.590003  2.611577  2.750052  2.723655   \n",
       "16  1.075647  1.146235  1.112846  ...  1.109988  1.134684  1.172648  1.177943   \n",
       "17  2.716172  2.742897  2.735086  ...  2.973200  2.908249  2.675883  2.703514   \n",
       "18  5.613751  5.617804  5.615975  ...  5.661439  5.646388  5.703659  5.693972   \n",
       "19  2.305109  2.333785  2.334668  ...  2.246824  2.218663  2.240785  2.225506   \n",
       "\n",
       "      Q1.996    Q1.997    Q1.998    Q1.999   Q1.1000   Q1.1001  \n",
       "0  -0.695328 -0.772340 -0.729576 -0.620902 -0.558183 -0.517232  \n",
       "1   0.081032  0.063861  0.042679  0.019258  0.001064 -0.003515  \n",
       "2  -0.715600 -0.721949 -0.686472 -0.630941 -0.786047 -0.850955  \n",
       "3   0.545867  0.579928  0.590313  0.585650  0.582781  0.562296  \n",
       "4   0.167956  0.253981  0.237532  0.167464  0.180390  0.197671  \n",
       "5  -1.091313 -0.936965 -1.005237 -1.182036 -1.113989 -1.077731  \n",
       "6   0.275128  0.248291  0.272549  0.320843  0.284044  0.249392  \n",
       "7  -0.272452 -0.307062 -0.315364 -0.306472 -0.222982 -0.191505  \n",
       "8  -0.198943 -0.241190 -0.206828 -0.132491 -0.131833 -0.157137  \n",
       "9  -0.780365 -0.759496 -0.730049 -0.694410 -0.720796 -0.748851  \n",
       "10 -0.445961 -0.384802 -0.343996 -0.314643 -0.371974 -0.391569  \n",
       "11  2.108275  2.080802  2.041289  2.000412  2.100629  2.143884  \n",
       "12  2.442538  2.330324  2.318439  2.359934  2.378959  2.400025  \n",
       "13  4.064873  4.051372  4.065785  4.087552  4.083255  4.061131  \n",
       "14  1.868622  1.845236  1.786211  1.714873  1.808872  1.864987  \n",
       "15  2.748975  2.923751  2.854931  2.660104  2.700226  2.719742  \n",
       "16  1.153727  1.063112  1.033458  1.041313  1.015784  1.015490  \n",
       "17  2.707972  2.617723  2.703530  2.873182  2.677444  2.606156  \n",
       "18  5.677217  5.653316  5.629830  5.594865  5.635887  5.664986  \n",
       "19  2.229096  2.283424  2.312290  2.327764  2.327787  2.324051  \n",
       "\n",
       "[20 rows x 1001 columns]"
      ]
     },
     "execution_count": 19,
     "metadata": {},
     "output_type": "execute_result"
    }
   ],
   "source": [
    "ear2"
   ]
  },
  {
   "cell_type": "markdown",
   "id": "263a7161",
   "metadata": {},
   "source": [
    "# Optimizacion de modelo"
   ]
  },
  {
   "cell_type": "markdown",
   "id": "a91876d7",
   "metadata": {},
   "source": [
    "## XGBClassifier"
   ]
  },
  {
   "cell_type": "code",
   "execution_count": 20,
   "id": "a8dc2d87",
   "metadata": {},
   "outputs": [],
   "source": [
    "from xgboost import XGBClassifier"
   ]
  },
  {
   "cell_type": "code",
   "execution_count": 21,
   "id": "5a03fc69",
   "metadata": {},
   "outputs": [],
   "source": [
    "param_grid = {\n",
    " 'max_depth':range(3,10,2),\n",
    " 'min_child_weight':range(1,6,2)\n",
    "}"
   ]
  },
  {
   "cell_type": "code",
   "execution_count": 22,
   "id": "e0ccad24",
   "metadata": {},
   "outputs": [],
   "source": [
    "XGBClassifier = XGBClassifier(\n",
    " learning_rate =0.1,\n",
    " n_estimators=1000,\n",
    " max_depth=5,\n",
    " min_child_weight=1,\n",
    " gamma=0,\n",
    " subsample=0.8,\n",
    " colsample_bytree=0.8,\n",
    " objective= 'binary:logistic',\n",
    " nthread=4,\n",
    " scale_pos_weight=1,\n",
    " seed=27)"
   ]
  },
  {
   "cell_type": "code",
   "execution_count": 23,
   "id": "03bce642",
   "metadata": {},
   "outputs": [
    {
     "name": "stdout",
     "output_type": "stream",
     "text": [
      "[21:24:05] WARNING: C:/Users/Administrator/workspace/xgboost-win64_release_1.4.0/src/learner.cc:1095: Starting in XGBoost 1.3.0, the default evaluation metric used with the objective 'binary:logistic' was changed from 'error' to 'logloss'. Explicitly set eval_metric if you'd like to restore the old behavior.\n",
      "[21:24:07] WARNING: C:/Users/Administrator/workspace/xgboost-win64_release_1.4.0/src/learner.cc:1095: Starting in XGBoost 1.3.0, the default evaluation metric used with the objective 'binary:logistic' was changed from 'error' to 'logloss'. Explicitly set eval_metric if you'd like to restore the old behavior.\n",
      "[21:24:08] WARNING: C:/Users/Administrator/workspace/xgboost-win64_release_1.4.0/src/learner.cc:1095: Starting in XGBoost 1.3.0, the default evaluation metric used with the objective 'binary:logistic' was changed from 'error' to 'logloss'. Explicitly set eval_metric if you'd like to restore the old behavior.\n",
      "[21:24:10] WARNING: C:/Users/Administrator/workspace/xgboost-win64_release_1.4.0/src/learner.cc:1095: Starting in XGBoost 1.3.0, the default evaluation metric used with the objective 'binary:logistic' was changed from 'error' to 'logloss'. Explicitly set eval_metric if you'd like to restore the old behavior.\n",
      "[21:24:12] WARNING: C:/Users/Administrator/workspace/xgboost-win64_release_1.4.0/src/learner.cc:1095: Starting in XGBoost 1.3.0, the default evaluation metric used with the objective 'binary:logistic' was changed from 'error' to 'logloss'. Explicitly set eval_metric if you'd like to restore the old behavior.\n",
      "[21:24:14] WARNING: C:/Users/Administrator/workspace/xgboost-win64_release_1.4.0/src/learner.cc:1095: Starting in XGBoost 1.3.0, the default evaluation metric used with the objective 'binary:logistic' was changed from 'error' to 'logloss'. Explicitly set eval_metric if you'd like to restore the old behavior.\n",
      "[21:24:16] WARNING: C:/Users/Administrator/workspace/xgboost-win64_release_1.4.0/src/learner.cc:1095: Starting in XGBoost 1.3.0, the default evaluation metric used with the objective 'binary:logistic' was changed from 'error' to 'logloss'. Explicitly set eval_metric if you'd like to restore the old behavior.\n",
      "[21:24:17] WARNING: C:/Users/Administrator/workspace/xgboost-win64_release_1.4.0/src/learner.cc:1095: Starting in XGBoost 1.3.0, the default evaluation metric used with the objective 'binary:logistic' was changed from 'error' to 'logloss'. Explicitly set eval_metric if you'd like to restore the old behavior.\n",
      "[21:24:19] WARNING: C:/Users/Administrator/workspace/xgboost-win64_release_1.4.0/src/learner.cc:1095: Starting in XGBoost 1.3.0, the default evaluation metric used with the objective 'binary:logistic' was changed from 'error' to 'logloss'. Explicitly set eval_metric if you'd like to restore the old behavior.\n",
      "[21:24:21] WARNING: C:/Users/Administrator/workspace/xgboost-win64_release_1.4.0/src/learner.cc:1095: Starting in XGBoost 1.3.0, the default evaluation metric used with the objective 'binary:logistic' was changed from 'error' to 'logloss'. Explicitly set eval_metric if you'd like to restore the old behavior.\n",
      "[21:24:23] WARNING: C:/Users/Administrator/workspace/xgboost-win64_release_1.4.0/src/learner.cc:1095: Starting in XGBoost 1.3.0, the default evaluation metric used with the objective 'binary:logistic' was changed from 'error' to 'logloss'. Explicitly set eval_metric if you'd like to restore the old behavior.\n",
      "[21:24:25] WARNING: C:/Users/Administrator/workspace/xgboost-win64_release_1.4.0/src/learner.cc:1095: Starting in XGBoost 1.3.0, the default evaluation metric used with the objective 'binary:logistic' was changed from 'error' to 'logloss'. Explicitly set eval_metric if you'd like to restore the old behavior.\n",
      "[21:24:26] WARNING: C:/Users/Administrator/workspace/xgboost-win64_release_1.4.0/src/learner.cc:1095: Starting in XGBoost 1.3.0, the default evaluation metric used with the objective 'binary:logistic' was changed from 'error' to 'logloss'. Explicitly set eval_metric if you'd like to restore the old behavior.\n",
      "[21:24:28] WARNING: C:/Users/Administrator/workspace/xgboost-win64_release_1.4.0/src/learner.cc:1095: Starting in XGBoost 1.3.0, the default evaluation metric used with the objective 'binary:logistic' was changed from 'error' to 'logloss'. Explicitly set eval_metric if you'd like to restore the old behavior.\n",
      "[21:24:30] WARNING: C:/Users/Administrator/workspace/xgboost-win64_release_1.4.0/src/learner.cc:1095: Starting in XGBoost 1.3.0, the default evaluation metric used with the objective 'binary:logistic' was changed from 'error' to 'logloss'. Explicitly set eval_metric if you'd like to restore the old behavior.\n",
      "[21:24:32] WARNING: C:/Users/Administrator/workspace/xgboost-win64_release_1.4.0/src/learner.cc:1095: Starting in XGBoost 1.3.0, the default evaluation metric used with the objective 'binary:logistic' was changed from 'error' to 'logloss'. Explicitly set eval_metric if you'd like to restore the old behavior.\n",
      "[21:24:33] WARNING: C:/Users/Administrator/workspace/xgboost-win64_release_1.4.0/src/learner.cc:1095: Starting in XGBoost 1.3.0, the default evaluation metric used with the objective 'binary:logistic' was changed from 'error' to 'logloss'. Explicitly set eval_metric if you'd like to restore the old behavior.\n",
      "[21:24:35] WARNING: C:/Users/Administrator/workspace/xgboost-win64_release_1.4.0/src/learner.cc:1095: Starting in XGBoost 1.3.0, the default evaluation metric used with the objective 'binary:logistic' was changed from 'error' to 'logloss'. Explicitly set eval_metric if you'd like to restore the old behavior.\n",
      "[21:24:37] WARNING: C:/Users/Administrator/workspace/xgboost-win64_release_1.4.0/src/learner.cc:1095: Starting in XGBoost 1.3.0, the default evaluation metric used with the objective 'binary:logistic' was changed from 'error' to 'logloss'. Explicitly set eval_metric if you'd like to restore the old behavior.\n",
      "[21:24:39] WARNING: C:/Users/Administrator/workspace/xgboost-win64_release_1.4.0/src/learner.cc:1095: Starting in XGBoost 1.3.0, the default evaluation metric used with the objective 'binary:logistic' was changed from 'error' to 'logloss'. Explicitly set eval_metric if you'd like to restore the old behavior.\n",
      "[21:24:41] WARNING: C:/Users/Administrator/workspace/xgboost-win64_release_1.4.0/src/learner.cc:1095: Starting in XGBoost 1.3.0, the default evaluation metric used with the objective 'binary:logistic' was changed from 'error' to 'logloss'. Explicitly set eval_metric if you'd like to restore the old behavior.\n",
      "[21:24:42] WARNING: C:/Users/Administrator/workspace/xgboost-win64_release_1.4.0/src/learner.cc:1095: Starting in XGBoost 1.3.0, the default evaluation metric used with the objective 'binary:logistic' was changed from 'error' to 'logloss'. Explicitly set eval_metric if you'd like to restore the old behavior.\n",
      "[21:24:44] WARNING: C:/Users/Administrator/workspace/xgboost-win64_release_1.4.0/src/learner.cc:1095: Starting in XGBoost 1.3.0, the default evaluation metric used with the objective 'binary:logistic' was changed from 'error' to 'logloss'. Explicitly set eval_metric if you'd like to restore the old behavior.\n",
      "[21:24:46] WARNING: C:/Users/Administrator/workspace/xgboost-win64_release_1.4.0/src/learner.cc:1095: Starting in XGBoost 1.3.0, the default evaluation metric used with the objective 'binary:logistic' was changed from 'error' to 'logloss'. Explicitly set eval_metric if you'd like to restore the old behavior.\n",
      "[21:24:48] WARNING: C:/Users/Administrator/workspace/xgboost-win64_release_1.4.0/src/learner.cc:1095: Starting in XGBoost 1.3.0, the default evaluation metric used with the objective 'binary:logistic' was changed from 'error' to 'logloss'. Explicitly set eval_metric if you'd like to restore the old behavior.\n",
      "[21:24:50] WARNING: C:/Users/Administrator/workspace/xgboost-win64_release_1.4.0/src/learner.cc:1095: Starting in XGBoost 1.3.0, the default evaluation metric used with the objective 'binary:logistic' was changed from 'error' to 'logloss'. Explicitly set eval_metric if you'd like to restore the old behavior.\n",
      "[21:24:52] WARNING: C:/Users/Administrator/workspace/xgboost-win64_release_1.4.0/src/learner.cc:1095: Starting in XGBoost 1.3.0, the default evaluation metric used with the objective 'binary:logistic' was changed from 'error' to 'logloss'. Explicitly set eval_metric if you'd like to restore the old behavior.\n",
      "[21:24:54] WARNING: C:/Users/Administrator/workspace/xgboost-win64_release_1.4.0/src/learner.cc:1095: Starting in XGBoost 1.3.0, the default evaluation metric used with the objective 'binary:logistic' was changed from 'error' to 'logloss'. Explicitly set eval_metric if you'd like to restore the old behavior.\n",
      "[21:24:56] WARNING: C:/Users/Administrator/workspace/xgboost-win64_release_1.4.0/src/learner.cc:1095: Starting in XGBoost 1.3.0, the default evaluation metric used with the objective 'binary:logistic' was changed from 'error' to 'logloss'. Explicitly set eval_metric if you'd like to restore the old behavior.\n",
      "[21:24:58] WARNING: C:/Users/Administrator/workspace/xgboost-win64_release_1.4.0/src/learner.cc:1095: Starting in XGBoost 1.3.0, the default evaluation metric used with the objective 'binary:logistic' was changed from 'error' to 'logloss'. Explicitly set eval_metric if you'd like to restore the old behavior.\n",
      "[21:25:00] WARNING: C:/Users/Administrator/workspace/xgboost-win64_release_1.4.0/src/learner.cc:1095: Starting in XGBoost 1.3.0, the default evaluation metric used with the objective 'binary:logistic' was changed from 'error' to 'logloss'. Explicitly set eval_metric if you'd like to restore the old behavior.\n",
      "[21:25:02] WARNING: C:/Users/Administrator/workspace/xgboost-win64_release_1.4.0/src/learner.cc:1095: Starting in XGBoost 1.3.0, the default evaluation metric used with the objective 'binary:logistic' was changed from 'error' to 'logloss'. Explicitly set eval_metric if you'd like to restore the old behavior.\n",
      "[21:25:04] WARNING: C:/Users/Administrator/workspace/xgboost-win64_release_1.4.0/src/learner.cc:1095: Starting in XGBoost 1.3.0, the default evaluation metric used with the objective 'binary:logistic' was changed from 'error' to 'logloss'. Explicitly set eval_metric if you'd like to restore the old behavior.\n",
      "[21:25:06] WARNING: C:/Users/Administrator/workspace/xgboost-win64_release_1.4.0/src/learner.cc:1095: Starting in XGBoost 1.3.0, the default evaluation metric used with the objective 'binary:logistic' was changed from 'error' to 'logloss'. Explicitly set eval_metric if you'd like to restore the old behavior.\n",
      "[21:25:08] WARNING: C:/Users/Administrator/workspace/xgboost-win64_release_1.4.0/src/learner.cc:1095: Starting in XGBoost 1.3.0, the default evaluation metric used with the objective 'binary:logistic' was changed from 'error' to 'logloss'. Explicitly set eval_metric if you'd like to restore the old behavior.\n",
      "[21:25:10] WARNING: C:/Users/Administrator/workspace/xgboost-win64_release_1.4.0/src/learner.cc:1095: Starting in XGBoost 1.3.0, the default evaluation metric used with the objective 'binary:logistic' was changed from 'error' to 'logloss'. Explicitly set eval_metric if you'd like to restore the old behavior.\n",
      "[21:25:12] WARNING: C:/Users/Administrator/workspace/xgboost-win64_release_1.4.0/src/learner.cc:1095: Starting in XGBoost 1.3.0, the default evaluation metric used with the objective 'binary:logistic' was changed from 'error' to 'logloss'. Explicitly set eval_metric if you'd like to restore the old behavior.\n",
      "[21:25:14] WARNING: C:/Users/Administrator/workspace/xgboost-win64_release_1.4.0/src/learner.cc:1095: Starting in XGBoost 1.3.0, the default evaluation metric used with the objective 'binary:logistic' was changed from 'error' to 'logloss'. Explicitly set eval_metric if you'd like to restore the old behavior.\n",
      "[21:25:16] WARNING: C:/Users/Administrator/workspace/xgboost-win64_release_1.4.0/src/learner.cc:1095: Starting in XGBoost 1.3.0, the default evaluation metric used with the objective 'binary:logistic' was changed from 'error' to 'logloss'. Explicitly set eval_metric if you'd like to restore the old behavior.\n",
      "[21:25:18] WARNING: C:/Users/Administrator/workspace/xgboost-win64_release_1.4.0/src/learner.cc:1095: Starting in XGBoost 1.3.0, the default evaluation metric used with the objective 'binary:logistic' was changed from 'error' to 'logloss'. Explicitly set eval_metric if you'd like to restore the old behavior.\n",
      "[21:25:20] WARNING: C:/Users/Administrator/workspace/xgboost-win64_release_1.4.0/src/learner.cc:1095: Starting in XGBoost 1.3.0, the default evaluation metric used with the objective 'binary:logistic' was changed from 'error' to 'logloss'. Explicitly set eval_metric if you'd like to restore the old behavior.\n",
      "[21:25:22] WARNING: C:/Users/Administrator/workspace/xgboost-win64_release_1.4.0/src/learner.cc:1095: Starting in XGBoost 1.3.0, the default evaluation metric used with the objective 'binary:logistic' was changed from 'error' to 'logloss'. Explicitly set eval_metric if you'd like to restore the old behavior.\n",
      "[21:25:24] WARNING: C:/Users/Administrator/workspace/xgboost-win64_release_1.4.0/src/learner.cc:1095: Starting in XGBoost 1.3.0, the default evaluation metric used with the objective 'binary:logistic' was changed from 'error' to 'logloss'. Explicitly set eval_metric if you'd like to restore the old behavior.\n",
      "[21:25:26] WARNING: C:/Users/Administrator/workspace/xgboost-win64_release_1.4.0/src/learner.cc:1095: Starting in XGBoost 1.3.0, the default evaluation metric used with the objective 'binary:logistic' was changed from 'error' to 'logloss'. Explicitly set eval_metric if you'd like to restore the old behavior.\n",
      "[21:25:28] WARNING: C:/Users/Administrator/workspace/xgboost-win64_release_1.4.0/src/learner.cc:1095: Starting in XGBoost 1.3.0, the default evaluation metric used with the objective 'binary:logistic' was changed from 'error' to 'logloss'. Explicitly set eval_metric if you'd like to restore the old behavior.\n",
      "[21:25:30] WARNING: C:/Users/Administrator/workspace/xgboost-win64_release_1.4.0/src/learner.cc:1095: Starting in XGBoost 1.3.0, the default evaluation metric used with the objective 'binary:logistic' was changed from 'error' to 'logloss'. Explicitly set eval_metric if you'd like to restore the old behavior.\n",
      "[21:25:32] WARNING: C:/Users/Administrator/workspace/xgboost-win64_release_1.4.0/src/learner.cc:1095: Starting in XGBoost 1.3.0, the default evaluation metric used with the objective 'binary:logistic' was changed from 'error' to 'logloss'. Explicitly set eval_metric if you'd like to restore the old behavior.\n",
      "[21:25:34] WARNING: C:/Users/Administrator/workspace/xgboost-win64_release_1.4.0/src/learner.cc:1095: Starting in XGBoost 1.3.0, the default evaluation metric used with the objective 'binary:logistic' was changed from 'error' to 'logloss'. Explicitly set eval_metric if you'd like to restore the old behavior.\n",
      "[21:25:37] WARNING: C:/Users/Administrator/workspace/xgboost-win64_release_1.4.0/src/learner.cc:1095: Starting in XGBoost 1.3.0, the default evaluation metric used with the objective 'binary:logistic' was changed from 'error' to 'logloss'. Explicitly set eval_metric if you'd like to restore the old behavior.\n",
      "[21:25:39] WARNING: C:/Users/Administrator/workspace/xgboost-win64_release_1.4.0/src/learner.cc:1095: Starting in XGBoost 1.3.0, the default evaluation metric used with the objective 'binary:logistic' was changed from 'error' to 'logloss'. Explicitly set eval_metric if you'd like to restore the old behavior.\n",
      "[21:25:41] WARNING: C:/Users/Administrator/workspace/xgboost-win64_release_1.4.0/src/learner.cc:1095: Starting in XGBoost 1.3.0, the default evaluation metric used with the objective 'binary:logistic' was changed from 'error' to 'logloss'. Explicitly set eval_metric if you'd like to restore the old behavior.\n",
      "[21:25:43] WARNING: C:/Users/Administrator/workspace/xgboost-win64_release_1.4.0/src/learner.cc:1095: Starting in XGBoost 1.3.0, the default evaluation metric used with the objective 'binary:logistic' was changed from 'error' to 'logloss'. Explicitly set eval_metric if you'd like to restore the old behavior.\n",
      "[21:25:45] WARNING: C:/Users/Administrator/workspace/xgboost-win64_release_1.4.0/src/learner.cc:1095: Starting in XGBoost 1.3.0, the default evaluation metric used with the objective 'binary:logistic' was changed from 'error' to 'logloss'. Explicitly set eval_metric if you'd like to restore the old behavior.\n",
      "[21:25:47] WARNING: C:/Users/Administrator/workspace/xgboost-win64_release_1.4.0/src/learner.cc:1095: Starting in XGBoost 1.3.0, the default evaluation metric used with the objective 'binary:logistic' was changed from 'error' to 'logloss'. Explicitly set eval_metric if you'd like to restore the old behavior.\n",
      "[21:25:49] WARNING: C:/Users/Administrator/workspace/xgboost-win64_release_1.4.0/src/learner.cc:1095: Starting in XGBoost 1.3.0, the default evaluation metric used with the objective 'binary:logistic' was changed from 'error' to 'logloss'. Explicitly set eval_metric if you'd like to restore the old behavior.\n",
      "[21:25:51] WARNING: C:/Users/Administrator/workspace/xgboost-win64_release_1.4.0/src/learner.cc:1095: Starting in XGBoost 1.3.0, the default evaluation metric used with the objective 'binary:logistic' was changed from 'error' to 'logloss'. Explicitly set eval_metric if you'd like to restore the old behavior.\n",
      "[21:25:53] WARNING: C:/Users/Administrator/workspace/xgboost-win64_release_1.4.0/src/learner.cc:1095: Starting in XGBoost 1.3.0, the default evaluation metric used with the objective 'binary:logistic' was changed from 'error' to 'logloss'. Explicitly set eval_metric if you'd like to restore the old behavior.\n",
      "[21:25:55] WARNING: C:/Users/Administrator/workspace/xgboost-win64_release_1.4.0/src/learner.cc:1095: Starting in XGBoost 1.3.0, the default evaluation metric used with the objective 'binary:logistic' was changed from 'error' to 'logloss'. Explicitly set eval_metric if you'd like to restore the old behavior.\n",
      "[21:25:57] WARNING: C:/Users/Administrator/workspace/xgboost-win64_release_1.4.0/src/learner.cc:1095: Starting in XGBoost 1.3.0, the default evaluation metric used with the objective 'binary:logistic' was changed from 'error' to 'logloss'. Explicitly set eval_metric if you'd like to restore the old behavior.\n",
      "[21:25:59] WARNING: C:/Users/Administrator/workspace/xgboost-win64_release_1.4.0/src/learner.cc:1095: Starting in XGBoost 1.3.0, the default evaluation metric used with the objective 'binary:logistic' was changed from 'error' to 'logloss'. Explicitly set eval_metric if you'd like to restore the old behavior.\n",
      "[21:26:01] WARNING: C:/Users/Administrator/workspace/xgboost-win64_release_1.4.0/src/learner.cc:1095: Starting in XGBoost 1.3.0, the default evaluation metric used with the objective 'binary:logistic' was changed from 'error' to 'logloss'. Explicitly set eval_metric if you'd like to restore the old behavior.\n",
      "Mejor resultado0.9333333333333332\n",
      "Mejor parametroXGBClassifier(base_score=0.5, booster='gbtree', colsample_bylevel=1,\n",
      "              colsample_bynode=1, colsample_bytree=0.8, gamma=0, gpu_id=-1,\n",
      "              importance_type='gain', interaction_constraints='',\n",
      "              learning_rate=0.1, max_delta_step=0, max_depth=3,\n",
      "              min_child_weight=1, missing=nan, monotone_constraints='()',\n",
      "              n_estimators=1000, n_jobs=4, nthread=4, num_parallel_tree=1,\n",
      "              random_state=27, reg_alpha=0, reg_lambda=1, scale_pos_weight=1,\n",
      "              seed=27, subsample=0.8, tree_method='exact',\n",
      "              validate_parameters=1, verbosity=None)\n"
     ]
    }
   ],
   "source": [
    "total_parametros, mejores_parametros,best_stimator,best_score = Optimizacion_parametros(param_grid,XGBClassifier,ear2,y,5)"
   ]
  },
  {
   "cell_type": "code",
   "execution_count": 24,
   "id": "798d7c8c",
   "metadata": {},
   "outputs": [
    {
     "data": {
      "text/plain": [
       "0.9333333333333332"
      ]
     },
     "execution_count": 24,
     "metadata": {},
     "output_type": "execute_result"
    }
   ],
   "source": [
    "best_score"
   ]
  },
  {
   "cell_type": "code",
   "execution_count": 25,
   "id": "6b430da7",
   "metadata": {},
   "outputs": [
    {
     "data": {
      "text/plain": [
       "XGBClassifier(base_score=0.5, booster='gbtree', colsample_bylevel=1,\n",
       "              colsample_bynode=1, colsample_bytree=0.8, gamma=0, gpu_id=-1,\n",
       "              importance_type='gain', interaction_constraints='',\n",
       "              learning_rate=0.1, max_delta_step=0, max_depth=3,\n",
       "              min_child_weight=1, missing=nan, monotone_constraints='()',\n",
       "              n_estimators=1000, n_jobs=4, nthread=4, num_parallel_tree=1,\n",
       "              random_state=27, reg_alpha=0, reg_lambda=1, scale_pos_weight=1,\n",
       "              seed=27, subsample=0.8, tree_method='exact',\n",
       "              validate_parameters=1, verbosity=None)"
      ]
     },
     "execution_count": 25,
     "metadata": {},
     "output_type": "execute_result"
    }
   ],
   "source": [
    "best_stimator"
   ]
  },
  {
   "cell_type": "code",
   "execution_count": 26,
   "id": "61645ddc",
   "metadata": {},
   "outputs": [
    {
     "data": {
      "text/html": [
       "<div>\n",
       "<style scoped>\n",
       "    .dataframe tbody tr th:only-of-type {\n",
       "        vertical-align: middle;\n",
       "    }\n",
       "\n",
       "    .dataframe tbody tr th {\n",
       "        vertical-align: top;\n",
       "    }\n",
       "\n",
       "    .dataframe thead th {\n",
       "        text-align: right;\n",
       "    }\n",
       "</style>\n",
       "<table border=\"1\" class=\"dataframe\">\n",
       "  <thead>\n",
       "    <tr style=\"text-align: right;\">\n",
       "      <th></th>\n",
       "      <th>max_depth</th>\n",
       "      <th>min_child_weight</th>\n",
       "      <th>mean_train_score</th>\n",
       "      <th>mean_test_score</th>\n",
       "      <th>std_train_score</th>\n",
       "      <th>std_test_score</th>\n",
       "    </tr>\n",
       "  </thead>\n",
       "  <tbody>\n",
       "    <tr>\n",
       "      <th>0</th>\n",
       "      <td>3</td>\n",
       "      <td>1</td>\n",
       "      <td>1.00</td>\n",
       "      <td>0.933333</td>\n",
       "      <td>0.000</td>\n",
       "      <td>0.133333</td>\n",
       "    </tr>\n",
       "    <tr>\n",
       "      <th>1</th>\n",
       "      <td>3</td>\n",
       "      <td>3</td>\n",
       "      <td>0.45</td>\n",
       "      <td>0.400000</td>\n",
       "      <td>0.225</td>\n",
       "      <td>0.200000</td>\n",
       "    </tr>\n",
       "    <tr>\n",
       "      <th>2</th>\n",
       "      <td>3</td>\n",
       "      <td>5</td>\n",
       "      <td>0.00</td>\n",
       "      <td>0.000000</td>\n",
       "      <td>0.000</td>\n",
       "      <td>0.000000</td>\n",
       "    </tr>\n",
       "    <tr>\n",
       "      <th>3</th>\n",
       "      <td>5</td>\n",
       "      <td>1</td>\n",
       "      <td>1.00</td>\n",
       "      <td>0.933333</td>\n",
       "      <td>0.000</td>\n",
       "      <td>0.133333</td>\n",
       "    </tr>\n",
       "    <tr>\n",
       "      <th>4</th>\n",
       "      <td>5</td>\n",
       "      <td>3</td>\n",
       "      <td>0.45</td>\n",
       "      <td>0.400000</td>\n",
       "      <td>0.225</td>\n",
       "      <td>0.200000</td>\n",
       "    </tr>\n",
       "    <tr>\n",
       "      <th>5</th>\n",
       "      <td>5</td>\n",
       "      <td>5</td>\n",
       "      <td>0.00</td>\n",
       "      <td>0.000000</td>\n",
       "      <td>0.000</td>\n",
       "      <td>0.000000</td>\n",
       "    </tr>\n",
       "    <tr>\n",
       "      <th>6</th>\n",
       "      <td>7</td>\n",
       "      <td>1</td>\n",
       "      <td>1.00</td>\n",
       "      <td>0.933333</td>\n",
       "      <td>0.000</td>\n",
       "      <td>0.133333</td>\n",
       "    </tr>\n",
       "    <tr>\n",
       "      <th>7</th>\n",
       "      <td>7</td>\n",
       "      <td>3</td>\n",
       "      <td>0.45</td>\n",
       "      <td>0.400000</td>\n",
       "      <td>0.225</td>\n",
       "      <td>0.200000</td>\n",
       "    </tr>\n",
       "    <tr>\n",
       "      <th>8</th>\n",
       "      <td>7</td>\n",
       "      <td>5</td>\n",
       "      <td>0.00</td>\n",
       "      <td>0.000000</td>\n",
       "      <td>0.000</td>\n",
       "      <td>0.000000</td>\n",
       "    </tr>\n",
       "    <tr>\n",
       "      <th>9</th>\n",
       "      <td>9</td>\n",
       "      <td>1</td>\n",
       "      <td>1.00</td>\n",
       "      <td>0.933333</td>\n",
       "      <td>0.000</td>\n",
       "      <td>0.133333</td>\n",
       "    </tr>\n",
       "    <tr>\n",
       "      <th>10</th>\n",
       "      <td>9</td>\n",
       "      <td>3</td>\n",
       "      <td>0.45</td>\n",
       "      <td>0.400000</td>\n",
       "      <td>0.225</td>\n",
       "      <td>0.200000</td>\n",
       "    </tr>\n",
       "    <tr>\n",
       "      <th>11</th>\n",
       "      <td>9</td>\n",
       "      <td>5</td>\n",
       "      <td>0.00</td>\n",
       "      <td>0.000000</td>\n",
       "      <td>0.000</td>\n",
       "      <td>0.000000</td>\n",
       "    </tr>\n",
       "  </tbody>\n",
       "</table>\n",
       "</div>"
      ],
      "text/plain": [
       "    max_depth  min_child_weight  mean_train_score  mean_test_score  \\\n",
       "0           3                 1              1.00         0.933333   \n",
       "1           3                 3              0.45         0.400000   \n",
       "2           3                 5              0.00         0.000000   \n",
       "3           5                 1              1.00         0.933333   \n",
       "4           5                 3              0.45         0.400000   \n",
       "5           5                 5              0.00         0.000000   \n",
       "6           7                 1              1.00         0.933333   \n",
       "7           7                 3              0.45         0.400000   \n",
       "8           7                 5              0.00         0.000000   \n",
       "9           9                 1              1.00         0.933333   \n",
       "10          9                 3              0.45         0.400000   \n",
       "11          9                 5              0.00         0.000000   \n",
       "\n",
       "    std_train_score  std_test_score  \n",
       "0             0.000        0.133333  \n",
       "1             0.225        0.200000  \n",
       "2             0.000        0.000000  \n",
       "3             0.000        0.133333  \n",
       "4             0.225        0.200000  \n",
       "5             0.000        0.000000  \n",
       "6             0.000        0.133333  \n",
       "7             0.225        0.200000  \n",
       "8             0.000        0.000000  \n",
       "9             0.000        0.133333  \n",
       "10            0.225        0.200000  \n",
       "11            0.000        0.000000  "
      ]
     },
     "execution_count": 26,
     "metadata": {},
     "output_type": "execute_result"
    }
   ],
   "source": [
    "total_parametros"
   ]
  },
  {
   "cell_type": "code",
   "execution_count": 27,
   "id": "e9111321",
   "metadata": {},
   "outputs": [
    {
     "data": {
      "text/html": [
       "<div>\n",
       "<style scoped>\n",
       "    .dataframe tbody tr th:only-of-type {\n",
       "        vertical-align: middle;\n",
       "    }\n",
       "\n",
       "    .dataframe tbody tr th {\n",
       "        vertical-align: top;\n",
       "    }\n",
       "\n",
       "    .dataframe thead th {\n",
       "        text-align: right;\n",
       "    }\n",
       "</style>\n",
       "<table border=\"1\" class=\"dataframe\">\n",
       "  <thead>\n",
       "    <tr style=\"text-align: right;\">\n",
       "      <th></th>\n",
       "      <th>max_depth</th>\n",
       "      <th>min_child_weight</th>\n",
       "      <th>mean_train_score</th>\n",
       "      <th>mean_test_score</th>\n",
       "      <th>std_train_score</th>\n",
       "      <th>std_test_score</th>\n",
       "    </tr>\n",
       "  </thead>\n",
       "  <tbody>\n",
       "    <tr>\n",
       "      <th>0</th>\n",
       "      <td>3</td>\n",
       "      <td>1</td>\n",
       "      <td>1.0</td>\n",
       "      <td>0.933333</td>\n",
       "      <td>0.0</td>\n",
       "      <td>0.133333</td>\n",
       "    </tr>\n",
       "    <tr>\n",
       "      <th>3</th>\n",
       "      <td>5</td>\n",
       "      <td>1</td>\n",
       "      <td>1.0</td>\n",
       "      <td>0.933333</td>\n",
       "      <td>0.0</td>\n",
       "      <td>0.133333</td>\n",
       "    </tr>\n",
       "    <tr>\n",
       "      <th>6</th>\n",
       "      <td>7</td>\n",
       "      <td>1</td>\n",
       "      <td>1.0</td>\n",
       "      <td>0.933333</td>\n",
       "      <td>0.0</td>\n",
       "      <td>0.133333</td>\n",
       "    </tr>\n",
       "    <tr>\n",
       "      <th>9</th>\n",
       "      <td>9</td>\n",
       "      <td>1</td>\n",
       "      <td>1.0</td>\n",
       "      <td>0.933333</td>\n",
       "      <td>0.0</td>\n",
       "      <td>0.133333</td>\n",
       "    </tr>\n",
       "  </tbody>\n",
       "</table>\n",
       "</div>"
      ],
      "text/plain": [
       "   max_depth  min_child_weight  mean_train_score  mean_test_score  \\\n",
       "0          3                 1               1.0         0.933333   \n",
       "3          5                 1               1.0         0.933333   \n",
       "6          7                 1               1.0         0.933333   \n",
       "9          9                 1               1.0         0.933333   \n",
       "\n",
       "   std_train_score  std_test_score  \n",
       "0              0.0        0.133333  \n",
       "3              0.0        0.133333  \n",
       "6              0.0        0.133333  \n",
       "9              0.0        0.133333  "
      ]
     },
     "execution_count": 27,
     "metadata": {},
     "output_type": "execute_result"
    }
   ],
   "source": [
    "mejores_parametros"
   ]
  },
  {
   "cell_type": "markdown",
   "id": "19522484",
   "metadata": {},
   "source": [
    "## Adabost"
   ]
  },
  {
   "cell_type": "code",
   "execution_count": 28,
   "id": "3eb07fe2",
   "metadata": {},
   "outputs": [],
   "source": [
    "from sklearn.tree import DecisionTreeClassifier\n",
    "from sklearn.ensemble import AdaBoostClassifier\n"
   ]
  },
  {
   "cell_type": "code",
   "execution_count": 29,
   "id": "c0b86099",
   "metadata": {},
   "outputs": [],
   "source": [
    "param_grid = {'base_estimator__max_depth':[i for i in range(2,11,2)],\n",
    "              'base_estimator__min_samples_leaf':[5,10],\n",
    "              'n_estimators':[10,50,250,1000],\n",
    "              'learning_rate':[0.01,0.1]}"
   ]
  },
  {
   "cell_type": "code",
   "execution_count": 30,
   "id": "97df3fea",
   "metadata": {},
   "outputs": [],
   "source": [
    "ada_clf = AdaBoostClassifier(base_estimator=DecisionTreeClassifier())"
   ]
  },
  {
   "cell_type": "code",
   "execution_count": 31,
   "id": "a2364dda",
   "metadata": {},
   "outputs": [
    {
     "name": "stdout",
     "output_type": "stream",
     "text": [
      "Mejor resultado1.0\n",
      "Mejor parametroAdaBoostClassifier(base_estimator=DecisionTreeClassifier(max_depth=2,\n",
      "                                                         min_samples_leaf=5),\n",
      "                   learning_rate=0.1, n_estimators=10)\n"
     ]
    }
   ],
   "source": [
    "total_parametros, mejores_parametros,best_stimator,best_score = Optimizacion_parametros(param_grid,ada_clf,ear2,y,5)"
   ]
  },
  {
   "cell_type": "code",
   "execution_count": 32,
   "id": "901cdd40",
   "metadata": {},
   "outputs": [
    {
     "data": {
      "text/plain": [
       "1.0"
      ]
     },
     "execution_count": 32,
     "metadata": {},
     "output_type": "execute_result"
    }
   ],
   "source": [
    "best_score"
   ]
  },
  {
   "cell_type": "code",
   "execution_count": 33,
   "id": "9f940aae",
   "metadata": {},
   "outputs": [
    {
     "data": {
      "text/plain": [
       "AdaBoostClassifier(base_estimator=DecisionTreeClassifier(max_depth=2,\n",
       "                                                         min_samples_leaf=5),\n",
       "                   learning_rate=0.1, n_estimators=10)"
      ]
     },
     "execution_count": 33,
     "metadata": {},
     "output_type": "execute_result"
    }
   ],
   "source": [
    "best_stimator"
   ]
  },
  {
   "cell_type": "code",
   "execution_count": 34,
   "id": "93983e89",
   "metadata": {},
   "outputs": [
    {
     "data": {
      "text/html": [
       "<div>\n",
       "<style scoped>\n",
       "    .dataframe tbody tr th:only-of-type {\n",
       "        vertical-align: middle;\n",
       "    }\n",
       "\n",
       "    .dataframe tbody tr th {\n",
       "        vertical-align: top;\n",
       "    }\n",
       "\n",
       "    .dataframe thead th {\n",
       "        text-align: right;\n",
       "    }\n",
       "</style>\n",
       "<table border=\"1\" class=\"dataframe\">\n",
       "  <thead>\n",
       "    <tr style=\"text-align: right;\">\n",
       "      <th></th>\n",
       "      <th>base_estimator__max_depth</th>\n",
       "      <th>base_estimator__min_samples_leaf</th>\n",
       "      <th>learning_rate</th>\n",
       "      <th>n_estimators</th>\n",
       "      <th>mean_train_score</th>\n",
       "      <th>mean_test_score</th>\n",
       "      <th>std_train_score</th>\n",
       "      <th>std_test_score</th>\n",
       "    </tr>\n",
       "  </thead>\n",
       "  <tbody>\n",
       "    <tr>\n",
       "      <th>0</th>\n",
       "      <td>2</td>\n",
       "      <td>5</td>\n",
       "      <td>0.01</td>\n",
       "      <td>10</td>\n",
       "      <td>1.00</td>\n",
       "      <td>0.933333</td>\n",
       "      <td>0.000</td>\n",
       "      <td>0.133333</td>\n",
       "    </tr>\n",
       "    <tr>\n",
       "      <th>1</th>\n",
       "      <td>2</td>\n",
       "      <td>5</td>\n",
       "      <td>0.01</td>\n",
       "      <td>50</td>\n",
       "      <td>1.00</td>\n",
       "      <td>0.933333</td>\n",
       "      <td>0.000</td>\n",
       "      <td>0.133333</td>\n",
       "    </tr>\n",
       "    <tr>\n",
       "      <th>2</th>\n",
       "      <td>2</td>\n",
       "      <td>5</td>\n",
       "      <td>0.01</td>\n",
       "      <td>250</td>\n",
       "      <td>1.00</td>\n",
       "      <td>0.933333</td>\n",
       "      <td>0.000</td>\n",
       "      <td>0.133333</td>\n",
       "    </tr>\n",
       "    <tr>\n",
       "      <th>3</th>\n",
       "      <td>2</td>\n",
       "      <td>5</td>\n",
       "      <td>0.01</td>\n",
       "      <td>1000</td>\n",
       "      <td>1.00</td>\n",
       "      <td>0.933333</td>\n",
       "      <td>0.000</td>\n",
       "      <td>0.133333</td>\n",
       "    </tr>\n",
       "    <tr>\n",
       "      <th>4</th>\n",
       "      <td>2</td>\n",
       "      <td>5</td>\n",
       "      <td>0.10</td>\n",
       "      <td>10</td>\n",
       "      <td>1.00</td>\n",
       "      <td>1.000000</td>\n",
       "      <td>0.000</td>\n",
       "      <td>0.000000</td>\n",
       "    </tr>\n",
       "    <tr>\n",
       "      <th>...</th>\n",
       "      <td>...</td>\n",
       "      <td>...</td>\n",
       "      <td>...</td>\n",
       "      <td>...</td>\n",
       "      <td>...</td>\n",
       "      <td>...</td>\n",
       "      <td>...</td>\n",
       "      <td>...</td>\n",
       "    </tr>\n",
       "    <tr>\n",
       "      <th>75</th>\n",
       "      <td>10</td>\n",
       "      <td>10</td>\n",
       "      <td>0.01</td>\n",
       "      <td>1000</td>\n",
       "      <td>0.45</td>\n",
       "      <td>0.400000</td>\n",
       "      <td>0.225</td>\n",
       "      <td>0.200000</td>\n",
       "    </tr>\n",
       "    <tr>\n",
       "      <th>76</th>\n",
       "      <td>10</td>\n",
       "      <td>10</td>\n",
       "      <td>0.10</td>\n",
       "      <td>10</td>\n",
       "      <td>0.45</td>\n",
       "      <td>0.400000</td>\n",
       "      <td>0.225</td>\n",
       "      <td>0.200000</td>\n",
       "    </tr>\n",
       "    <tr>\n",
       "      <th>77</th>\n",
       "      <td>10</td>\n",
       "      <td>10</td>\n",
       "      <td>0.10</td>\n",
       "      <td>50</td>\n",
       "      <td>0.45</td>\n",
       "      <td>0.400000</td>\n",
       "      <td>0.225</td>\n",
       "      <td>0.200000</td>\n",
       "    </tr>\n",
       "    <tr>\n",
       "      <th>78</th>\n",
       "      <td>10</td>\n",
       "      <td>10</td>\n",
       "      <td>0.10</td>\n",
       "      <td>250</td>\n",
       "      <td>0.45</td>\n",
       "      <td>0.400000</td>\n",
       "      <td>0.225</td>\n",
       "      <td>0.200000</td>\n",
       "    </tr>\n",
       "    <tr>\n",
       "      <th>79</th>\n",
       "      <td>10</td>\n",
       "      <td>10</td>\n",
       "      <td>0.10</td>\n",
       "      <td>1000</td>\n",
       "      <td>0.45</td>\n",
       "      <td>0.400000</td>\n",
       "      <td>0.225</td>\n",
       "      <td>0.200000</td>\n",
       "    </tr>\n",
       "  </tbody>\n",
       "</table>\n",
       "<p>80 rows × 8 columns</p>\n",
       "</div>"
      ],
      "text/plain": [
       "    base_estimator__max_depth  base_estimator__min_samples_leaf  \\\n",
       "0                           2                                 5   \n",
       "1                           2                                 5   \n",
       "2                           2                                 5   \n",
       "3                           2                                 5   \n",
       "4                           2                                 5   \n",
       "..                        ...                               ...   \n",
       "75                         10                                10   \n",
       "76                         10                                10   \n",
       "77                         10                                10   \n",
       "78                         10                                10   \n",
       "79                         10                                10   \n",
       "\n",
       "    learning_rate  n_estimators  mean_train_score  mean_test_score  \\\n",
       "0            0.01            10              1.00         0.933333   \n",
       "1            0.01            50              1.00         0.933333   \n",
       "2            0.01           250              1.00         0.933333   \n",
       "3            0.01          1000              1.00         0.933333   \n",
       "4            0.10            10              1.00         1.000000   \n",
       "..            ...           ...               ...              ...   \n",
       "75           0.01          1000              0.45         0.400000   \n",
       "76           0.10            10              0.45         0.400000   \n",
       "77           0.10            50              0.45         0.400000   \n",
       "78           0.10           250              0.45         0.400000   \n",
       "79           0.10          1000              0.45         0.400000   \n",
       "\n",
       "    std_train_score  std_test_score  \n",
       "0             0.000        0.133333  \n",
       "1             0.000        0.133333  \n",
       "2             0.000        0.133333  \n",
       "3             0.000        0.133333  \n",
       "4             0.000        0.000000  \n",
       "..              ...             ...  \n",
       "75            0.225        0.200000  \n",
       "76            0.225        0.200000  \n",
       "77            0.225        0.200000  \n",
       "78            0.225        0.200000  \n",
       "79            0.225        0.200000  \n",
       "\n",
       "[80 rows x 8 columns]"
      ]
     },
     "execution_count": 34,
     "metadata": {},
     "output_type": "execute_result"
    }
   ],
   "source": [
    "total_parametros"
   ]
  },
  {
   "cell_type": "markdown",
   "id": "f9729402",
   "metadata": {},
   "source": [
    "## Random Forest"
   ]
  },
  {
   "cell_type": "code",
   "execution_count": 35,
   "id": "03131f9b",
   "metadata": {},
   "outputs": [],
   "source": [
    "from sklearn.ensemble import RandomForestClassifier"
   ]
  },
  {
   "cell_type": "code",
   "execution_count": 36,
   "id": "41017c4c",
   "metadata": {},
   "outputs": [],
   "source": [
    "param_grid ={'bootstrap': [True, False],\n",
    " 'max_depth': [10, 20],\n",
    " 'max_features': ['auto', 'sqrt'],\n",
    " 'min_samples_leaf': [2, 4],\n",
    " 'min_samples_split': [2, 5],\n",
    " 'n_estimators': [200, 400, 600, 800]}"
   ]
  },
  {
   "cell_type": "code",
   "execution_count": 37,
   "id": "666ab448",
   "metadata": {},
   "outputs": [],
   "source": [
    "RandomForestClassifier = RandomForestClassifier()"
   ]
  },
  {
   "cell_type": "code",
   "execution_count": 38,
   "id": "cd0a4828",
   "metadata": {},
   "outputs": [
    {
     "name": "stdout",
     "output_type": "stream",
     "text": [
      "Mejor resultado0.9333333333333332\n",
      "Mejor parametroRandomForestClassifier(max_depth=10, min_samples_leaf=2, n_estimators=200)\n"
     ]
    }
   ],
   "source": [
    "total_parametros, mejores_parametros,best_stimator,best_score = Optimizacion_parametros(param_grid,RandomForestClassifier,ear2,y,5)"
   ]
  },
  {
   "cell_type": "code",
   "execution_count": 39,
   "id": "77c887df",
   "metadata": {},
   "outputs": [
    {
     "data": {
      "text/plain": [
       "0.9333333333333332"
      ]
     },
     "execution_count": 39,
     "metadata": {},
     "output_type": "execute_result"
    }
   ],
   "source": [
    "best_score"
   ]
  },
  {
   "cell_type": "code",
   "execution_count": 40,
   "id": "e836cd24",
   "metadata": {},
   "outputs": [
    {
     "data": {
      "text/plain": [
       "RandomForestClassifier(max_depth=10, min_samples_leaf=2, n_estimators=200)"
      ]
     },
     "execution_count": 40,
     "metadata": {},
     "output_type": "execute_result"
    }
   ],
   "source": [
    "best_stimator"
   ]
  },
  {
   "cell_type": "code",
   "execution_count": 41,
   "id": "b4c07a0f",
   "metadata": {},
   "outputs": [
    {
     "data": {
      "text/html": [
       "<div>\n",
       "<style scoped>\n",
       "    .dataframe tbody tr th:only-of-type {\n",
       "        vertical-align: middle;\n",
       "    }\n",
       "\n",
       "    .dataframe tbody tr th {\n",
       "        vertical-align: top;\n",
       "    }\n",
       "\n",
       "    .dataframe thead th {\n",
       "        text-align: right;\n",
       "    }\n",
       "</style>\n",
       "<table border=\"1\" class=\"dataframe\">\n",
       "  <thead>\n",
       "    <tr style=\"text-align: right;\">\n",
       "      <th></th>\n",
       "      <th>bootstrap</th>\n",
       "      <th>max_depth</th>\n",
       "      <th>max_features</th>\n",
       "      <th>min_samples_leaf</th>\n",
       "      <th>min_samples_split</th>\n",
       "      <th>n_estimators</th>\n",
       "      <th>mean_train_score</th>\n",
       "      <th>mean_test_score</th>\n",
       "      <th>std_train_score</th>\n",
       "      <th>std_test_score</th>\n",
       "    </tr>\n",
       "  </thead>\n",
       "  <tbody>\n",
       "    <tr>\n",
       "      <th>0</th>\n",
       "      <td>True</td>\n",
       "      <td>10</td>\n",
       "      <td>auto</td>\n",
       "      <td>2</td>\n",
       "      <td>2</td>\n",
       "      <td>200</td>\n",
       "      <td>1.0</td>\n",
       "      <td>0.933333</td>\n",
       "      <td>0.0</td>\n",
       "      <td>0.133333</td>\n",
       "    </tr>\n",
       "    <tr>\n",
       "      <th>1</th>\n",
       "      <td>True</td>\n",
       "      <td>10</td>\n",
       "      <td>auto</td>\n",
       "      <td>2</td>\n",
       "      <td>2</td>\n",
       "      <td>400</td>\n",
       "      <td>1.0</td>\n",
       "      <td>0.933333</td>\n",
       "      <td>0.0</td>\n",
       "      <td>0.133333</td>\n",
       "    </tr>\n",
       "    <tr>\n",
       "      <th>2</th>\n",
       "      <td>True</td>\n",
       "      <td>10</td>\n",
       "      <td>auto</td>\n",
       "      <td>2</td>\n",
       "      <td>2</td>\n",
       "      <td>600</td>\n",
       "      <td>1.0</td>\n",
       "      <td>0.933333</td>\n",
       "      <td>0.0</td>\n",
       "      <td>0.133333</td>\n",
       "    </tr>\n",
       "    <tr>\n",
       "      <th>3</th>\n",
       "      <td>True</td>\n",
       "      <td>10</td>\n",
       "      <td>auto</td>\n",
       "      <td>2</td>\n",
       "      <td>2</td>\n",
       "      <td>800</td>\n",
       "      <td>1.0</td>\n",
       "      <td>0.933333</td>\n",
       "      <td>0.0</td>\n",
       "      <td>0.133333</td>\n",
       "    </tr>\n",
       "    <tr>\n",
       "      <th>4</th>\n",
       "      <td>True</td>\n",
       "      <td>10</td>\n",
       "      <td>auto</td>\n",
       "      <td>2</td>\n",
       "      <td>5</td>\n",
       "      <td>200</td>\n",
       "      <td>1.0</td>\n",
       "      <td>0.933333</td>\n",
       "      <td>0.0</td>\n",
       "      <td>0.133333</td>\n",
       "    </tr>\n",
       "    <tr>\n",
       "      <th>...</th>\n",
       "      <td>...</td>\n",
       "      <td>...</td>\n",
       "      <td>...</td>\n",
       "      <td>...</td>\n",
       "      <td>...</td>\n",
       "      <td>...</td>\n",
       "      <td>...</td>\n",
       "      <td>...</td>\n",
       "      <td>...</td>\n",
       "      <td>...</td>\n",
       "    </tr>\n",
       "    <tr>\n",
       "      <th>123</th>\n",
       "      <td>False</td>\n",
       "      <td>20</td>\n",
       "      <td>sqrt</td>\n",
       "      <td>4</td>\n",
       "      <td>2</td>\n",
       "      <td>800</td>\n",
       "      <td>1.0</td>\n",
       "      <td>0.933333</td>\n",
       "      <td>0.0</td>\n",
       "      <td>0.133333</td>\n",
       "    </tr>\n",
       "    <tr>\n",
       "      <th>124</th>\n",
       "      <td>False</td>\n",
       "      <td>20</td>\n",
       "      <td>sqrt</td>\n",
       "      <td>4</td>\n",
       "      <td>5</td>\n",
       "      <td>200</td>\n",
       "      <td>1.0</td>\n",
       "      <td>0.933333</td>\n",
       "      <td>0.0</td>\n",
       "      <td>0.133333</td>\n",
       "    </tr>\n",
       "    <tr>\n",
       "      <th>125</th>\n",
       "      <td>False</td>\n",
       "      <td>20</td>\n",
       "      <td>sqrt</td>\n",
       "      <td>4</td>\n",
       "      <td>5</td>\n",
       "      <td>400</td>\n",
       "      <td>1.0</td>\n",
       "      <td>0.933333</td>\n",
       "      <td>0.0</td>\n",
       "      <td>0.133333</td>\n",
       "    </tr>\n",
       "    <tr>\n",
       "      <th>126</th>\n",
       "      <td>False</td>\n",
       "      <td>20</td>\n",
       "      <td>sqrt</td>\n",
       "      <td>4</td>\n",
       "      <td>5</td>\n",
       "      <td>600</td>\n",
       "      <td>1.0</td>\n",
       "      <td>0.933333</td>\n",
       "      <td>0.0</td>\n",
       "      <td>0.133333</td>\n",
       "    </tr>\n",
       "    <tr>\n",
       "      <th>127</th>\n",
       "      <td>False</td>\n",
       "      <td>20</td>\n",
       "      <td>sqrt</td>\n",
       "      <td>4</td>\n",
       "      <td>5</td>\n",
       "      <td>800</td>\n",
       "      <td>1.0</td>\n",
       "      <td>0.933333</td>\n",
       "      <td>0.0</td>\n",
       "      <td>0.133333</td>\n",
       "    </tr>\n",
       "  </tbody>\n",
       "</table>\n",
       "<p>128 rows × 10 columns</p>\n",
       "</div>"
      ],
      "text/plain": [
       "     bootstrap  max_depth max_features  min_samples_leaf  min_samples_split  \\\n",
       "0         True         10         auto                 2                  2   \n",
       "1         True         10         auto                 2                  2   \n",
       "2         True         10         auto                 2                  2   \n",
       "3         True         10         auto                 2                  2   \n",
       "4         True         10         auto                 2                  5   \n",
       "..         ...        ...          ...               ...                ...   \n",
       "123      False         20         sqrt                 4                  2   \n",
       "124      False         20         sqrt                 4                  5   \n",
       "125      False         20         sqrt                 4                  5   \n",
       "126      False         20         sqrt                 4                  5   \n",
       "127      False         20         sqrt                 4                  5   \n",
       "\n",
       "     n_estimators  mean_train_score  mean_test_score  std_train_score  \\\n",
       "0             200               1.0         0.933333              0.0   \n",
       "1             400               1.0         0.933333              0.0   \n",
       "2             600               1.0         0.933333              0.0   \n",
       "3             800               1.0         0.933333              0.0   \n",
       "4             200               1.0         0.933333              0.0   \n",
       "..            ...               ...              ...              ...   \n",
       "123           800               1.0         0.933333              0.0   \n",
       "124           200               1.0         0.933333              0.0   \n",
       "125           400               1.0         0.933333              0.0   \n",
       "126           600               1.0         0.933333              0.0   \n",
       "127           800               1.0         0.933333              0.0   \n",
       "\n",
       "     std_test_score  \n",
       "0          0.133333  \n",
       "1          0.133333  \n",
       "2          0.133333  \n",
       "3          0.133333  \n",
       "4          0.133333  \n",
       "..              ...  \n",
       "123        0.133333  \n",
       "124        0.133333  \n",
       "125        0.133333  \n",
       "126        0.133333  \n",
       "127        0.133333  \n",
       "\n",
       "[128 rows x 10 columns]"
      ]
     },
     "execution_count": 41,
     "metadata": {},
     "output_type": "execute_result"
    }
   ],
   "source": [
    "total_parametros"
   ]
  },
  {
   "cell_type": "markdown",
   "id": "fc4edb64",
   "metadata": {},
   "source": [
    "## SVM"
   ]
  },
  {
   "cell_type": "code",
   "execution_count": 42,
   "id": "40a7d3e5",
   "metadata": {},
   "outputs": [],
   "source": [
    "from sklearn.svm import SVC"
   ]
  },
  {
   "cell_type": "code",
   "execution_count": 43,
   "id": "1547049a",
   "metadata": {},
   "outputs": [],
   "source": [
    "param_grid = [{'kernel': ['rbf'], 'gamma': [1e-3, 1e-4],\n",
    "                     'C': [1, 10, 100, 1000]},\n",
    "                    {'kernel': ['linear'], 'C': [1, 10, 100, 1000]}]"
   ]
  },
  {
   "cell_type": "code",
   "execution_count": 44,
   "id": "d9ab1f9d",
   "metadata": {},
   "outputs": [],
   "source": [
    "svc = SVC()"
   ]
  },
  {
   "cell_type": "code",
   "execution_count": 45,
   "id": "17802b5b",
   "metadata": {},
   "outputs": [
    {
     "name": "stdout",
     "output_type": "stream",
     "text": [
      "Mejor resultado0.9333333333333332\n",
      "Mejor parametroSVC(C=1, gamma=0.001)\n"
     ]
    }
   ],
   "source": [
    "total_parametros, mejores_parametros,best_stimator,best_score = Optimizacion_parametros(param_grid,svc,ear2,y,5)"
   ]
  },
  {
   "cell_type": "code",
   "execution_count": 46,
   "id": "51f25e93",
   "metadata": {},
   "outputs": [
    {
     "data": {
      "text/plain": [
       "0.9333333333333332"
      ]
     },
     "execution_count": 46,
     "metadata": {},
     "output_type": "execute_result"
    }
   ],
   "source": [
    "best_score"
   ]
  },
  {
   "cell_type": "code",
   "execution_count": 47,
   "id": "d62f2280",
   "metadata": {},
   "outputs": [
    {
     "data": {
      "text/plain": [
       "SVC(C=1, gamma=0.001)"
      ]
     },
     "execution_count": 47,
     "metadata": {},
     "output_type": "execute_result"
    }
   ],
   "source": [
    "best_stimator"
   ]
  },
  {
   "cell_type": "code",
   "execution_count": 48,
   "id": "8fbe555c",
   "metadata": {},
   "outputs": [
    {
     "data": {
      "text/html": [
       "<div>\n",
       "<style scoped>\n",
       "    .dataframe tbody tr th:only-of-type {\n",
       "        vertical-align: middle;\n",
       "    }\n",
       "\n",
       "    .dataframe tbody tr th {\n",
       "        vertical-align: top;\n",
       "    }\n",
       "\n",
       "    .dataframe thead th {\n",
       "        text-align: right;\n",
       "    }\n",
       "</style>\n",
       "<table border=\"1\" class=\"dataframe\">\n",
       "  <thead>\n",
       "    <tr style=\"text-align: right;\">\n",
       "      <th></th>\n",
       "      <th>C</th>\n",
       "      <th>gamma</th>\n",
       "      <th>kernel</th>\n",
       "      <th>mean_train_score</th>\n",
       "      <th>mean_test_score</th>\n",
       "      <th>std_train_score</th>\n",
       "      <th>std_test_score</th>\n",
       "    </tr>\n",
       "  </thead>\n",
       "  <tbody>\n",
       "    <tr>\n",
       "      <th>0</th>\n",
       "      <td>1</td>\n",
       "      <td>0.0010</td>\n",
       "      <td>rbf</td>\n",
       "      <td>1.000000</td>\n",
       "      <td>0.933333</td>\n",
       "      <td>0.000000</td>\n",
       "      <td>0.133333</td>\n",
       "    </tr>\n",
       "    <tr>\n",
       "      <th>1</th>\n",
       "      <td>1</td>\n",
       "      <td>0.0001</td>\n",
       "      <td>rbf</td>\n",
       "      <td>0.937778</td>\n",
       "      <td>0.933333</td>\n",
       "      <td>0.050966</td>\n",
       "      <td>0.133333</td>\n",
       "    </tr>\n",
       "    <tr>\n",
       "      <th>2</th>\n",
       "      <td>10</td>\n",
       "      <td>0.0010</td>\n",
       "      <td>rbf</td>\n",
       "      <td>1.000000</td>\n",
       "      <td>0.933333</td>\n",
       "      <td>0.000000</td>\n",
       "      <td>0.133333</td>\n",
       "    </tr>\n",
       "    <tr>\n",
       "      <th>3</th>\n",
       "      <td>10</td>\n",
       "      <td>0.0001</td>\n",
       "      <td>rbf</td>\n",
       "      <td>1.000000</td>\n",
       "      <td>0.933333</td>\n",
       "      <td>0.000000</td>\n",
       "      <td>0.133333</td>\n",
       "    </tr>\n",
       "    <tr>\n",
       "      <th>4</th>\n",
       "      <td>100</td>\n",
       "      <td>0.0010</td>\n",
       "      <td>rbf</td>\n",
       "      <td>1.000000</td>\n",
       "      <td>0.933333</td>\n",
       "      <td>0.000000</td>\n",
       "      <td>0.133333</td>\n",
       "    </tr>\n",
       "    <tr>\n",
       "      <th>5</th>\n",
       "      <td>100</td>\n",
       "      <td>0.0001</td>\n",
       "      <td>rbf</td>\n",
       "      <td>1.000000</td>\n",
       "      <td>0.933333</td>\n",
       "      <td>0.000000</td>\n",
       "      <td>0.133333</td>\n",
       "    </tr>\n",
       "    <tr>\n",
       "      <th>6</th>\n",
       "      <td>1000</td>\n",
       "      <td>0.0010</td>\n",
       "      <td>rbf</td>\n",
       "      <td>1.000000</td>\n",
       "      <td>0.933333</td>\n",
       "      <td>0.000000</td>\n",
       "      <td>0.133333</td>\n",
       "    </tr>\n",
       "    <tr>\n",
       "      <th>7</th>\n",
       "      <td>1000</td>\n",
       "      <td>0.0001</td>\n",
       "      <td>rbf</td>\n",
       "      <td>1.000000</td>\n",
       "      <td>0.933333</td>\n",
       "      <td>0.000000</td>\n",
       "      <td>0.133333</td>\n",
       "    </tr>\n",
       "    <tr>\n",
       "      <th>8</th>\n",
       "      <td>1</td>\n",
       "      <td>NaN</td>\n",
       "      <td>linear</td>\n",
       "      <td>1.000000</td>\n",
       "      <td>0.933333</td>\n",
       "      <td>0.000000</td>\n",
       "      <td>0.133333</td>\n",
       "    </tr>\n",
       "    <tr>\n",
       "      <th>9</th>\n",
       "      <td>10</td>\n",
       "      <td>NaN</td>\n",
       "      <td>linear</td>\n",
       "      <td>1.000000</td>\n",
       "      <td>0.933333</td>\n",
       "      <td>0.000000</td>\n",
       "      <td>0.133333</td>\n",
       "    </tr>\n",
       "    <tr>\n",
       "      <th>10</th>\n",
       "      <td>100</td>\n",
       "      <td>NaN</td>\n",
       "      <td>linear</td>\n",
       "      <td>1.000000</td>\n",
       "      <td>0.933333</td>\n",
       "      <td>0.000000</td>\n",
       "      <td>0.133333</td>\n",
       "    </tr>\n",
       "    <tr>\n",
       "      <th>11</th>\n",
       "      <td>1000</td>\n",
       "      <td>NaN</td>\n",
       "      <td>linear</td>\n",
       "      <td>1.000000</td>\n",
       "      <td>0.933333</td>\n",
       "      <td>0.000000</td>\n",
       "      <td>0.133333</td>\n",
       "    </tr>\n",
       "  </tbody>\n",
       "</table>\n",
       "</div>"
      ],
      "text/plain": [
       "       C   gamma  kernel  mean_train_score  mean_test_score  std_train_score  \\\n",
       "0      1  0.0010     rbf          1.000000         0.933333         0.000000   \n",
       "1      1  0.0001     rbf          0.937778         0.933333         0.050966   \n",
       "2     10  0.0010     rbf          1.000000         0.933333         0.000000   \n",
       "3     10  0.0001     rbf          1.000000         0.933333         0.000000   \n",
       "4    100  0.0010     rbf          1.000000         0.933333         0.000000   \n",
       "5    100  0.0001     rbf          1.000000         0.933333         0.000000   \n",
       "6   1000  0.0010     rbf          1.000000         0.933333         0.000000   \n",
       "7   1000  0.0001     rbf          1.000000         0.933333         0.000000   \n",
       "8      1     NaN  linear          1.000000         0.933333         0.000000   \n",
       "9     10     NaN  linear          1.000000         0.933333         0.000000   \n",
       "10   100     NaN  linear          1.000000         0.933333         0.000000   \n",
       "11  1000     NaN  linear          1.000000         0.933333         0.000000   \n",
       "\n",
       "    std_test_score  \n",
       "0         0.133333  \n",
       "1         0.133333  \n",
       "2         0.133333  \n",
       "3         0.133333  \n",
       "4         0.133333  \n",
       "5         0.133333  \n",
       "6         0.133333  \n",
       "7         0.133333  \n",
       "8         0.133333  \n",
       "9         0.133333  \n",
       "10        0.133333  \n",
       "11        0.133333  "
      ]
     },
     "execution_count": 48,
     "metadata": {},
     "output_type": "execute_result"
    }
   ],
   "source": [
    "total_parametros"
   ]
  },
  {
   "cell_type": "markdown",
   "id": "57a920c3",
   "metadata": {},
   "source": [
    "# Creacion de modelos"
   ]
  },
  {
   "cell_type": "markdown",
   "id": "7b5e333d",
   "metadata": {},
   "source": [
    "## XGBClassifier "
   ]
  },
  {
   "cell_type": "code",
   "execution_count": 49,
   "id": "d539d870",
   "metadata": {},
   "outputs": [],
   "source": [
    "from xgboost import XGBClassifier\n",
    "XGBClassifier = XGBClassifier(base_score=0.5, booster='gbtree', colsample_bylevel=1,\n",
    "              colsample_bynode=1, colsample_bytree=0.8, gamma=0, gpu_id=-1,\n",
    "              importance_type='gain', interaction_constraints='',\n",
    "              learning_rate=0.1, max_delta_step=0, max_depth=3,\n",
    "              min_child_weight=1, monotone_constraints='()',\n",
    "              n_estimators=1000, n_jobs=4, nthread=4, num_parallel_tree=1,\n",
    "              random_state=27, reg_alpha=0, reg_lambda=1, scale_pos_weight=1,\n",
    "              seed=27, subsample=0.8, tree_method='exact',\n",
    "              validate_parameters=1, verbosity=None)"
   ]
  },
  {
   "cell_type": "markdown",
   "id": "38d0f48c",
   "metadata": {},
   "source": [
    "## Adabost"
   ]
  },
  {
   "cell_type": "code",
   "execution_count": 50,
   "id": "3001a1b9",
   "metadata": {},
   "outputs": [],
   "source": [
    "from sklearn.tree import DecisionTreeClassifier\n",
    "from sklearn.ensemble import AdaBoostClassifier\n",
    "ada_clf = AdaBoostClassifier(base_estimator=DecisionTreeClassifier(max_depth=2,\n",
    "                                                         min_samples_leaf=5),\n",
    "                   learning_rate=0.01, n_estimators=10)"
   ]
  },
  {
   "cell_type": "markdown",
   "id": "a1193529",
   "metadata": {},
   "source": [
    "## Random Forest"
   ]
  },
  {
   "cell_type": "code",
   "execution_count": 51,
   "id": "0178a8a9",
   "metadata": {},
   "outputs": [],
   "source": [
    "from sklearn.ensemble import RandomForestClassifier\n",
    "RandomForestClassifier = RandomForestClassifier(max_depth=10, min_samples_leaf=2, n_estimators=200)"
   ]
  },
  {
   "cell_type": "markdown",
   "id": "14471295",
   "metadata": {},
   "source": [
    "## SVM"
   ]
  },
  {
   "cell_type": "code",
   "execution_count": 52,
   "id": "8c00414f",
   "metadata": {},
   "outputs": [],
   "source": [
    "from sklearn.svm import SVC\n",
    "svc = SVC(C=1, gamma=0.0001)"
   ]
  },
  {
   "cell_type": "markdown",
   "id": "7ec137c0",
   "metadata": {},
   "source": [
    "## Red neuronal"
   ]
  },
  {
   "cell_type": "code",
   "execution_count": 53,
   "id": "992b1d4a",
   "metadata": {},
   "outputs": [
    {
     "name": "stdout",
     "output_type": "stream",
     "text": [
      "Model: \"sequential\"\n",
      "_________________________________________________________________\n",
      "Layer (type)                 Output Shape              Param #   \n",
      "=================================================================\n",
      "dense (Dense)                (None, 16)                16032     \n",
      "_________________________________________________________________\n",
      "dense_1 (Dense)              (None, 16)                272       \n",
      "_________________________________________________________________\n",
      "dense_2 (Dense)              (None, 1)                 17        \n",
      "=================================================================\n",
      "Total params: 16,321\n",
      "Trainable params: 16,321\n",
      "Non-trainable params: 0\n",
      "_________________________________________________________________\n"
     ]
    }
   ],
   "source": [
    "from keras.models import Sequential\n",
    "from keras import layers\n",
    "\n",
    "max_features = ear2.shape[1]\n",
    "\n",
    "model = Sequential()\n",
    "model.add(layers.Dense(16, activation='relu', input_shape=(max_features,)))\n",
    "model.add(layers.Dense(16, activation='relu'))\n",
    "model.add(layers.Dense(1, activation='sigmoid'))\n",
    "model.summary()\n",
    "model.compile(loss='binary_crossentropy', # Cross-entropy\n",
    "                    optimizer='rmsprop', # Root Mean Square Propagation\n",
    "                    metrics=['accuracy'])\n"
   ]
  },
  {
   "cell_type": "markdown",
   "id": "d1d22119",
   "metadata": {},
   "source": [
    "# Spectograma despues del Filtro vancouver"
   ]
  },
  {
   "cell_type": "code",
   "execution_count": 54,
   "id": "3fca2b03",
   "metadata": {},
   "outputs": [],
   "source": [
    "path_dataset = 'archive/veinData.csv'\n",
    "eardata = pd.read_csv(path_dataset)\n",
    "eardata= (eardata.T.reset_index().T.reset_index(drop=True)\n",
    "            .set_axis([f'Q1.{i+1}' for i in range(eardata.shape[1])], axis=1))\n",
    "eardata= eardata.apply(pd.to_numeric, errors='coerce')"
   ]
  },
  {
   "cell_type": "markdown",
   "id": "5f20b4eb",
   "metadata": {},
   "source": [
    "## XGBClassifier "
   ]
  },
  {
   "cell_type": "code",
   "execution_count": 55,
   "id": "5757a006",
   "metadata": {},
   "outputs": [
    {
     "name": "stdout",
     "output_type": "stream",
     "text": [
      "[21:32:11] WARNING: C:/Users/Administrator/workspace/xgboost-win64_release_1.4.0/src/learner.cc:1095: Starting in XGBoost 1.3.0, the default evaluation metric used with the objective 'binary:logistic' was changed from 'error' to 'logloss'. Explicitly set eval_metric if you'd like to restore the old behavior.\n",
      "[21:32:13] WARNING: C:/Users/Administrator/workspace/xgboost-win64_release_1.4.0/src/learner.cc:1095: Starting in XGBoost 1.3.0, the default evaluation metric used with the objective 'binary:logistic' was changed from 'error' to 'logloss'. Explicitly set eval_metric if you'd like to restore the old behavior.\n",
      "[21:32:15] WARNING: C:/Users/Administrator/workspace/xgboost-win64_release_1.4.0/src/learner.cc:1095: Starting in XGBoost 1.3.0, the default evaluation metric used with the objective 'binary:logistic' was changed from 'error' to 'logloss'. Explicitly set eval_metric if you'd like to restore the old behavior.\n",
      "[21:32:17] WARNING: C:/Users/Administrator/workspace/xgboost-win64_release_1.4.0/src/learner.cc:1095: Starting in XGBoost 1.3.0, the default evaluation metric used with the objective 'binary:logistic' was changed from 'error' to 'logloss'. Explicitly set eval_metric if you'd like to restore the old behavior.\n",
      "[21:32:18] WARNING: C:/Users/Administrator/workspace/xgboost-win64_release_1.4.0/src/learner.cc:1095: Starting in XGBoost 1.3.0, the default evaluation metric used with the objective 'binary:logistic' was changed from 'error' to 'logloss'. Explicitly set eval_metric if you'd like to restore the old behavior.\n",
      "Classification report:\n",
      "              precision    recall  f1-score   support\n",
      "\n",
      "         0.0       0.89      1.00      0.94         8\n",
      "         1.0       1.00      0.92      0.96        12\n",
      "\n",
      "    accuracy                           0.95        20\n",
      "   macro avg       0.94      0.96      0.95        20\n",
      "weighted avg       0.96      0.95      0.95        20\n",
      "\n"
     ]
    },
    {
     "data": {
      "image/png": "[encoded data removed]",
      "text/plain": [
       "<Figure size 432x288 with 2 Axes>"
      ]
     },
     "metadata": {
      "needs_background": "light"
     },
     "output_type": "display_data"
    },
    {
     "data": {
      "text/plain": [
       "<Figure size 432x288 with 0 Axes>"
      ]
     },
     "metadata": {},
     "output_type": "display_data"
    }
   ],
   "source": [
    "entrenamiento_and_report_simple(eardata,y,5,XGBClassifier)"
   ]
  },
  {
   "cell_type": "markdown",
   "id": "063360da",
   "metadata": {},
   "source": [
    "## Adabost"
   ]
  },
  {
   "cell_type": "code",
   "execution_count": 56,
   "id": "39f130f8",
   "metadata": {},
   "outputs": [
    {
     "name": "stdout",
     "output_type": "stream",
     "text": [
      "Classification report:\n",
      "              precision    recall  f1-score   support\n",
      "\n",
      "         0.0       0.89      1.00      0.94         8\n",
      "         1.0       1.00      0.92      0.96        12\n",
      "\n",
      "    accuracy                           0.95        20\n",
      "   macro avg       0.94      0.96      0.95        20\n",
      "weighted avg       0.96      0.95      0.95        20\n",
      "\n"
     ]
    },
    {
     "data": {
      "image/png": "[encoded data removed]",
      "text/plain": [
       "<Figure size 432x288 with 2 Axes>"
      ]
     },
     "metadata": {
      "needs_background": "light"
     },
     "output_type": "display_data"
    },
    {
     "data": {
      "text/plain": [
       "<Figure size 432x288 with 0 Axes>"
      ]
     },
     "metadata": {},
     "output_type": "display_data"
    }
   ],
   "source": [
    "entrenamiento_and_report_simple(eardata,y,5,ada_clf)"
   ]
  },
  {
   "cell_type": "markdown",
   "id": "1847cf85",
   "metadata": {},
   "source": [
    "## Random Forest"
   ]
  },
  {
   "cell_type": "code",
   "execution_count": 57,
   "id": "0a9a9352",
   "metadata": {},
   "outputs": [
    {
     "name": "stdout",
     "output_type": "stream",
     "text": [
      "Classification report:\n",
      "              precision    recall  f1-score   support\n",
      "\n",
      "         0.0       0.89      1.00      0.94         8\n",
      "         1.0       1.00      0.92      0.96        12\n",
      "\n",
      "    accuracy                           0.95        20\n",
      "   macro avg       0.94      0.96      0.95        20\n",
      "weighted avg       0.96      0.95      0.95        20\n",
      "\n"
     ]
    },
    {
     "data": {
      "image/png": "[encoded data removed]",
      "text/plain": [
       "<Figure size 432x288 with 2 Axes>"
      ]
     },
     "metadata": {
      "needs_background": "light"
     },
     "output_type": "display_data"
    },
    {
     "data": {
      "text/plain": [
       "<Figure size 432x288 with 0 Axes>"
      ]
     },
     "metadata": {},
     "output_type": "display_data"
    }
   ],
   "source": [
    "entrenamiento_and_report_simple(eardata,y,5,RandomForestClassifier)"
   ]
  },
  {
   "cell_type": "markdown",
   "id": "00120b63",
   "metadata": {},
   "source": [
    "## SVM"
   ]
  },
  {
   "cell_type": "code",
   "execution_count": 58,
   "id": "cbf4f83c",
   "metadata": {},
   "outputs": [
    {
     "name": "stdout",
     "output_type": "stream",
     "text": [
      "Classification report:\n",
      "              precision    recall  f1-score   support\n",
      "\n",
      "         0.0       0.89      1.00      0.94         8\n",
      "         1.0       1.00      0.92      0.96        12\n",
      "\n",
      "    accuracy                           0.95        20\n",
      "   macro avg       0.94      0.96      0.95        20\n",
      "weighted avg       0.96      0.95      0.95        20\n",
      "\n"
     ]
    },
    {
     "data": {
      "image/png": "[encoded data removed]",
      "text/plain": [
       "<Figure size 432x288 with 2 Axes>"
      ]
     },
     "metadata": {
      "needs_background": "light"
     },
     "output_type": "display_data"
    },
    {
     "data": {
      "text/plain": [
       "<Figure size 432x288 with 0 Axes>"
      ]
     },
     "metadata": {},
     "output_type": "display_data"
    }
   ],
   "source": [
    "entrenamiento_and_report_simple(eardata,y,5,svc)"
   ]
  },
  {
   "cell_type": "markdown",
   "id": "35b2a0b3",
   "metadata": {},
   "source": [
    "## Red neuronal"
   ]
  },
  {
   "cell_type": "code",
   "execution_count": 59,
   "id": "de545bb2",
   "metadata": {},
   "outputs": [
    {
     "name": "stdout",
     "output_type": "stream",
     "text": [
      "[0, 0, 0, 0]\n",
      "Classification report:\n",
      "              precision    recall  f1-score   support\n",
      "\n",
      "         0.0       1.00      0.50      0.67         4\n",
      "         1.0       0.00      0.00      0.00         0\n",
      "\n",
      "    accuracy                           0.50         4\n",
      "   macro avg       0.50      0.25      0.33         4\n",
      "weighted avg       1.00      0.50      0.67         4\n",
      "\n"
     ]
    },
    {
     "data": {
      "image/png": "[encoded data removed]",
      "text/plain": [
       "<Figure size 432x288 with 2 Axes>"
      ]
     },
     "metadata": {
      "needs_background": "light"
     },
     "output_type": "display_data"
    },
    {
     "data": {
      "text/plain": [
       "<Figure size 432x288 with 0 Axes>"
      ]
     },
     "metadata": {},
     "output_type": "display_data"
    }
   ],
   "source": [
    "import tensorflow as tf\n",
    "from numpy import argmax\n",
    "from keras.utils.np_utils import to_categorical\n",
    "\n",
    "X_train, X_Test, y_train, y_test = train_test_split(eardata,y, test_size = 0.2,random_state=42)\n",
    "model.fit(X_train,\n",
    "          y_train,batch_size=512,\n",
    "          epochs=200,\n",
    "          verbose=0,\n",
    "          validation_split=0.2)\n",
    "\n",
    "\n",
    "predict_list=model.predict(X_Test)\n",
    "objetivo = argmax(predict_list, axis=-1).astype('int')\n",
    "y_classes = [np.argmax(y, axis=None, out=None) for y in predict_list]\n",
    "print(y_classes)\n",
    "\n",
    "\n",
    "\n",
    "matriz_confusion = confusion_matrix(y_test, objetivo)\n",
    "heatmap(matriz_confusion, annot=True, fmt=\"g\",cmap=\"YlGnBu\", yticklabels=[\"Healthy\", \"Diabetes tipo 2\"] ,xticklabels=[\"Healthy\", \"Diabetes tipo 2\"])\n",
    "plt.title(\"Confusion matrix\")\n",
    "plt.xlabel(\"Predicted\")\n",
    "plt.ylabel(\"Expected\")\n",
    "plt.figure()\n",
    "print(f\"Classification report:\\n{classification_report(objetivo, y_test)}\")"
   ]
  },
  {
   "cell_type": "markdown",
   "id": "c5d86d2a",
   "metadata": {},
   "source": [
    "# Spectograma despues del Filtro vancouver con PCA"
   ]
  },
  {
   "cell_type": "code",
   "execution_count": 60,
   "id": "00e144ea",
   "metadata": {},
   "outputs": [
    {
     "name": "stdout",
     "output_type": "stream",
     "text": [
      "shape of X_pca (20, 5)\n",
      "[9.98333060e-01 8.42515556e-04 1.98686749e-04 1.01613399e-04\n",
      " 6.40145382e-05]\n",
      "suma: 0.9995398907094215\n",
      "shape of X_pca (20, 5)\n",
      "[9.98333060e-01 8.42515556e-04 1.98686749e-04 1.01613399e-04\n",
      " 6.40145382e-05]\n",
      "suma: 0.9995398907094215\n"
     ]
    },
    {
     "data": {
      "image/png": "[encoded data removed]",
      "text/plain": [
       "<Figure size 432x288 with 1 Axes>"
      ]
     },
     "metadata": {
      "needs_background": "light"
     },
     "output_type": "display_data"
    }
   ],
   "source": [
    "eardata = PCA_conversion(eardata,5,\"vein\")"
   ]
  },
  {
   "cell_type": "markdown",
   "id": "5717f029",
   "metadata": {},
   "source": [
    "## XGBClassifier"
   ]
  },
  {
   "cell_type": "code",
   "execution_count": 61,
   "id": "68b77cf6",
   "metadata": {},
   "outputs": [
    {
     "name": "stdout",
     "output_type": "stream",
     "text": [
      "[21:32:30] WARNING: C:/Users/Administrator/workspace/xgboost-win64_release_1.4.0/src/learner.cc:1095: Starting in XGBoost 1.3.0, the default evaluation metric used with the objective 'binary:logistic' was changed from 'error' to 'logloss'. Explicitly set eval_metric if you'd like to restore the old behavior.\n",
      "[21:32:30] WARNING: C:/Users/Administrator/workspace/xgboost-win64_release_1.4.0/src/learner.cc:1095: Starting in XGBoost 1.3.0, the default evaluation metric used with the objective 'binary:logistic' was changed from 'error' to 'logloss'. Explicitly set eval_metric if you'd like to restore the old behavior.\n",
      "[21:32:30] WARNING: C:/Users/Administrator/workspace/xgboost-win64_release_1.4.0/src/learner.cc:1095: Starting in XGBoost 1.3.0, the default evaluation metric used with the objective 'binary:logistic' was changed from 'error' to 'logloss'. Explicitly set eval_metric if you'd like to restore the old behavior.\n",
      "[21:32:30] WARNING: C:/Users/Administrator/workspace/xgboost-win64_release_1.4.0/src/learner.cc:1095: Starting in XGBoost 1.3.0, the default evaluation metric used with the objective 'binary:logistic' was changed from 'error' to 'logloss'. Explicitly set eval_metric if you'd like to restore the old behavior.\n",
      "[21:32:31] WARNING: C:/Users/Administrator/workspace/xgboost-win64_release_1.4.0/src/learner.cc:1095: Starting in XGBoost 1.3.0, the default evaluation metric used with the objective 'binary:logistic' was changed from 'error' to 'logloss'. Explicitly set eval_metric if you'd like to restore the old behavior.\n",
      "Classification report:\n",
      "              precision    recall  f1-score   support\n",
      "\n",
      "         0.0       0.89      1.00      0.94         8\n",
      "         1.0       1.00      0.92      0.96        12\n",
      "\n",
      "    accuracy                           0.95        20\n",
      "   macro avg       0.94      0.96      0.95        20\n",
      "weighted avg       0.96      0.95      0.95        20\n",
      "\n"
     ]
    },
    {
     "data": {
      "image/png": "[encoded data removed]",
      "text/plain": [
       "<Figure size 432x288 with 2 Axes>"
      ]
     },
     "metadata": {
      "needs_background": "light"
     },
     "output_type": "display_data"
    },
    {
     "data": {
      "text/plain": [
       "<Figure size 432x288 with 0 Axes>"
      ]
     },
     "metadata": {},
     "output_type": "display_data"
    }
   ],
   "source": [
    "entrenamiento_and_report_simple(eardata,y,5,XGBClassifier)"
   ]
  },
  {
   "cell_type": "markdown",
   "id": "84f9d28c",
   "metadata": {},
   "source": [
    "## Adabost"
   ]
  },
  {
   "cell_type": "code",
   "execution_count": 62,
   "id": "936d97ac",
   "metadata": {},
   "outputs": [
    {
     "name": "stdout",
     "output_type": "stream",
     "text": [
      "Classification report:\n",
      "              precision    recall  f1-score   support\n",
      "\n",
      "         0.0       0.89      1.00      0.94         8\n",
      "         1.0       1.00      0.92      0.96        12\n",
      "\n",
      "    accuracy                           0.95        20\n",
      "   macro avg       0.94      0.96      0.95        20\n",
      "weighted avg       0.96      0.95      0.95        20\n",
      "\n"
     ]
    },
    {
     "data": {
      "image/png": "[encoded data removed]",
      "text/plain": [
       "<Figure size 432x288 with 2 Axes>"
      ]
     },
     "metadata": {
      "needs_background": "light"
     },
     "output_type": "display_data"
    },
    {
     "data": {
      "text/plain": [
       "<Figure size 432x288 with 0 Axes>"
      ]
     },
     "metadata": {},
     "output_type": "display_data"
    }
   ],
   "source": [
    "entrenamiento_and_report_simple(eardata,y,5,ada_clf)"
   ]
  },
  {
   "cell_type": "markdown",
   "id": "eeaa9a48",
   "metadata": {},
   "source": [
    "## Random Forest"
   ]
  },
  {
   "cell_type": "code",
   "execution_count": 63,
   "id": "ed8064e9",
   "metadata": {},
   "outputs": [
    {
     "name": "stdout",
     "output_type": "stream",
     "text": [
      "Classification report:\n",
      "              precision    recall  f1-score   support\n",
      "\n",
      "         0.0       0.89      1.00      0.94         8\n",
      "         1.0       1.00      0.92      0.96        12\n",
      "\n",
      "    accuracy                           0.95        20\n",
      "   macro avg       0.94      0.96      0.95        20\n",
      "weighted avg       0.96      0.95      0.95        20\n",
      "\n"
     ]
    },
    {
     "data": {
      "image/png": "[encoded data removed]",
      "text/plain": [
       "<Figure size 432x288 with 2 Axes>"
      ]
     },
     "metadata": {
      "needs_background": "light"
     },
     "output_type": "display_data"
    },
    {
     "data": {
      "text/plain": [
       "<Figure size 432x288 with 0 Axes>"
      ]
     },
     "metadata": {},
     "output_type": "display_data"
    }
   ],
   "source": [
    "entrenamiento_and_report_simple(eardata,y,5,RandomForestClassifier)"
   ]
  },
  {
   "cell_type": "markdown",
   "id": "aaa1fa15",
   "metadata": {},
   "source": [
    "## SVM"
   ]
  },
  {
   "cell_type": "code",
   "execution_count": 64,
   "id": "741ca35f",
   "metadata": {},
   "outputs": [
    {
     "name": "stdout",
     "output_type": "stream",
     "text": [
      "Classification report:\n",
      "              precision    recall  f1-score   support\n",
      "\n",
      "         0.0       0.89      1.00      0.94         8\n",
      "         1.0       1.00      0.92      0.96        12\n",
      "\n",
      "    accuracy                           0.95        20\n",
      "   macro avg       0.94      0.96      0.95        20\n",
      "weighted avg       0.96      0.95      0.95        20\n",
      "\n"
     ]
    },
    {
     "data": {
      "image/png": "[encoded data removed]",
      "text/plain": [
       "<Figure size 432x288 with 2 Axes>"
      ]
     },
     "metadata": {
      "needs_background": "light"
     },
     "output_type": "display_data"
    },
    {
     "data": {
      "text/plain": [
       "<Figure size 432x288 with 0 Axes>"
      ]
     },
     "metadata": {},
     "output_type": "display_data"
    }
   ],
   "source": [
    "entrenamiento_and_report_simple(eardata,y,5,svc)"
   ]
  },
  {
   "cell_type": "markdown",
   "id": "07b69dde",
   "metadata": {},
   "source": [
    "## Red neuronal"
   ]
  },
  {
   "cell_type": "code",
   "execution_count": 65,
   "id": "99be2e77",
   "metadata": {},
   "outputs": [
    {
     "name": "stdout",
     "output_type": "stream",
     "text": [
      "Model: \"sequential_1\"\n",
      "_________________________________________________________________\n",
      "Layer (type)                 Output Shape              Param #   \n",
      "=================================================================\n",
      "dense_3 (Dense)              (None, 16)                96        \n",
      "_________________________________________________________________\n",
      "dense_4 (Dense)              (None, 16)                272       \n",
      "_________________________________________________________________\n",
      "dense_5 (Dense)              (None, 1)                 17        \n",
      "=================================================================\n",
      "Total params: 385\n",
      "Trainable params: 385\n",
      "Non-trainable params: 0\n",
      "_________________________________________________________________\n",
      "[0, 0, 0, 0]\n",
      "Classification report:\n",
      "              precision    recall  f1-score   support\n",
      "\n",
      "         0.0       1.00      0.50      0.67         4\n",
      "         1.0       0.00      0.00      0.00         0\n",
      "\n",
      "    accuracy                           0.50         4\n",
      "   macro avg       0.50      0.25      0.33         4\n",
      "weighted avg       1.00      0.50      0.67         4\n",
      "\n"
     ]
    },
    {
     "data": {
      "image/png": "[encoded data removed]",
      "text/plain": [
       "<Figure size 432x288 with 2 Axes>"
      ]
     },
     "metadata": {
      "needs_background": "light"
     },
     "output_type": "display_data"
    },
    {
     "data": {
      "text/plain": [
       "<Figure size 432x288 with 0 Axes>"
      ]
     },
     "metadata": {},
     "output_type": "display_data"
    }
   ],
   "source": [
    "import tensorflow as tf\n",
    "from numpy import argmax\n",
    "from keras.utils.np_utils import to_categorical\n",
    "from keras.models import Sequential\n",
    "from keras import layers\n",
    "\n",
    "max_features = eardata.shape[1]\n",
    "\n",
    "model = Sequential()\n",
    "model.add(layers.Dense(16, activation='relu', input_shape=(max_features,)))\n",
    "model.add(layers.Dense(16, activation='relu'))\n",
    "model.add(layers.Dense(1, activation='sigmoid'))\n",
    "model.summary()\n",
    "model.compile(loss='binary_crossentropy', # Cross-entropy\n",
    "                    optimizer='rmsprop', # Root Mean Square Propagation\n",
    "                    metrics=['accuracy'])\n",
    "\n",
    "\n",
    "X_train, X_Test, y_train, y_test = train_test_split(eardata,y, test_size = 0.2,random_state=42)\n",
    "model.fit(X_train,\n",
    "          y_train,batch_size=512,\n",
    "          epochs=200,\n",
    "          verbose=0,\n",
    "          validation_split=0.2)\n",
    "\n",
    "\n",
    "predict_list=model.predict(X_Test)\n",
    "objetivo = argmax(predict_list, axis=-1).astype('int')\n",
    "y_classes = [np.argmax(y, axis=None, out=None) for y in predict_list]\n",
    "print(y_classes)\n",
    "\n",
    "\n",
    "\n",
    "matriz_confusion = confusion_matrix(y_test, objetivo)\n",
    "heatmap(matriz_confusion, annot=True, fmt=\"g\",cmap=\"YlGnBu\", yticklabels=[\"Healthy\", \"Diabetes tipo 2\"] ,xticklabels=[\"Healthy\", \"Diabetes tipo 2\"])\n",
    "plt.title(\"Confusion matrix\")\n",
    "plt.xlabel(\"Predicted\")\n",
    "plt.ylabel(\"Expected\")\n",
    "plt.figure()\n",
    "print(f\"Classification report:\\n{classification_report(objetivo, y_test)}\")"
   ]
  },
  {
   "cell_type": "markdown",
   "id": "91889744",
   "metadata": {},
   "source": [
    "# Spectograma sin Filtro vancouver"
   ]
  },
  {
   "cell_type": "code",
   "execution_count": 66,
   "id": "9eed24a0",
   "metadata": {},
   "outputs": [],
   "source": [
    "path_dataset = 'archive/vein.csv'\n",
    "eardata = pd.read_csv(path_dataset)\n",
    "eardata = ear.iloc[0:]\n",
    "y = eardata['has_DM2']\n",
    "eardata = eardata.drop('patientID', axis=1)\n",
    "eardata = eardata.drop('has_DM2', axis=1)"
   ]
  },
  {
   "cell_type": "markdown",
   "id": "4e6702f0",
   "metadata": {},
   "source": [
    "## XGBClassifier"
   ]
  },
  {
   "cell_type": "code",
   "execution_count": 67,
   "id": "73b6599a",
   "metadata": {},
   "outputs": [
    {
     "name": "stdout",
     "output_type": "stream",
     "text": [
      "[21:32:40] WARNING: C:/Users/Administrator/workspace/xgboost-win64_release_1.4.0/src/learner.cc:1095: Starting in XGBoost 1.3.0, the default evaluation metric used with the objective 'binary:logistic' was changed from 'error' to 'logloss'. Explicitly set eval_metric if you'd like to restore the old behavior.\n",
      "[21:32:46] WARNING: C:/Users/Administrator/workspace/xgboost-win64_release_1.4.0/src/learner.cc:1095: Starting in XGBoost 1.3.0, the default evaluation metric used with the objective 'binary:logistic' was changed from 'error' to 'logloss'. Explicitly set eval_metric if you'd like to restore the old behavior.\n",
      "[21:32:51] WARNING: C:/Users/Administrator/workspace/xgboost-win64_release_1.4.0/src/learner.cc:1095: Starting in XGBoost 1.3.0, the default evaluation metric used with the objective 'binary:logistic' was changed from 'error' to 'logloss'. Explicitly set eval_metric if you'd like to restore the old behavior.\n",
      "[21:32:57] WARNING: C:/Users/Administrator/workspace/xgboost-win64_release_1.4.0/src/learner.cc:1095: Starting in XGBoost 1.3.0, the default evaluation metric used with the objective 'binary:logistic' was changed from 'error' to 'logloss'. Explicitly set eval_metric if you'd like to restore the old behavior.\n",
      "[21:33:03] WARNING: C:/Users/Administrator/workspace/xgboost-win64_release_1.4.0/src/learner.cc:1095: Starting in XGBoost 1.3.0, the default evaluation metric used with the objective 'binary:logistic' was changed from 'error' to 'logloss'. Explicitly set eval_metric if you'd like to restore the old behavior.\n",
      "Classification report:\n",
      "              precision    recall  f1-score   support\n",
      "\n",
      "         0.0       0.44      0.40      0.42        10\n",
      "         1.0       0.45      0.50      0.48        10\n",
      "\n",
      "    accuracy                           0.45        20\n",
      "   macro avg       0.45      0.45      0.45        20\n",
      "weighted avg       0.45      0.45      0.45        20\n",
      "\n"
     ]
    },
    {
     "data": {
      "image/png": "[encoded data removed]",
      "text/plain": [
       "<Figure size 432x288 with 2 Axes>"
      ]
     },
     "metadata": {
      "needs_background": "light"
     },
     "output_type": "display_data"
    },
    {
     "data": {
      "text/plain": [
       "<Figure size 432x288 with 0 Axes>"
      ]
     },
     "metadata": {},
     "output_type": "display_data"
    }
   ],
   "source": [
    "entrenamiento_and_report_simple(eardata,y,5,XGBClassifier)"
   ]
  },
  {
   "cell_type": "markdown",
   "id": "93318587",
   "metadata": {},
   "source": [
    "## Adabost"
   ]
  },
  {
   "cell_type": "code",
   "execution_count": 68,
   "id": "80990d81",
   "metadata": {},
   "outputs": [
    {
     "name": "stdout",
     "output_type": "stream",
     "text": [
      "Classification report:\n",
      "              precision    recall  f1-score   support\n",
      "\n",
      "         0.0       0.44      0.44      0.44         9\n",
      "         1.0       0.55      0.55      0.55        11\n",
      "\n",
      "    accuracy                           0.50        20\n",
      "   macro avg       0.49      0.49      0.49        20\n",
      "weighted avg       0.50      0.50      0.50        20\n",
      "\n"
     ]
    },
    {
     "data": {
      "image/png": "[encoded data removed]",
      "text/plain": [
       "<Figure size 432x288 with 2 Axes>"
      ]
     },
     "metadata": {
      "needs_background": "light"
     },
     "output_type": "display_data"
    },
    {
     "data": {
      "text/plain": [
       "<Figure size 432x288 with 0 Axes>"
      ]
     },
     "metadata": {},
     "output_type": "display_data"
    }
   ],
   "source": [
    "entrenamiento_and_report_simple(eardata,y,5,ada_clf)"
   ]
  },
  {
   "cell_type": "markdown",
   "id": "951a4588",
   "metadata": {},
   "source": [
    "## Random Forest"
   ]
  },
  {
   "cell_type": "code",
   "execution_count": 69,
   "id": "83add557",
   "metadata": {},
   "outputs": [
    {
     "name": "stdout",
     "output_type": "stream",
     "text": [
      "Classification report:\n",
      "              precision    recall  f1-score   support\n",
      "\n",
      "         0.0       0.33      0.38      0.35         8\n",
      "         1.0       0.55      0.50      0.52        12\n",
      "\n",
      "    accuracy                           0.45        20\n",
      "   macro avg       0.44      0.44      0.44        20\n",
      "weighted avg       0.46      0.45      0.45        20\n",
      "\n"
     ]
    },
    {
     "data": {
      "image/png": "[encoded data removed]",
      "text/plain": [
       "<Figure size 432x288 with 2 Axes>"
      ]
     },
     "metadata": {
      "needs_background": "light"
     },
     "output_type": "display_data"
    },
    {
     "data": {
      "text/plain": [
       "<Figure size 432x288 with 0 Axes>"
      ]
     },
     "metadata": {},
     "output_type": "display_data"
    }
   ],
   "source": [
    "entrenamiento_and_report_simple(eardata,y,5,RandomForestClassifier)"
   ]
  },
  {
   "cell_type": "markdown",
   "id": "6e8f51c8",
   "metadata": {},
   "source": [
    "## SVM"
   ]
  },
  {
   "cell_type": "code",
   "execution_count": 70,
   "id": "9f8ea15b",
   "metadata": {},
   "outputs": [
    {
     "name": "stdout",
     "output_type": "stream",
     "text": [
      "Classification report:\n",
      "              precision    recall  f1-score   support\n",
      "\n",
      "         0.0       0.00      0.00      0.00         0\n",
      "         1.0       1.00      0.55      0.71        20\n",
      "\n",
      "    accuracy                           0.55        20\n",
      "   macro avg       0.50      0.28      0.35        20\n",
      "weighted avg       1.00      0.55      0.71        20\n",
      "\n"
     ]
    },
    {
     "data": {
      "image/png": "[encoded data removed]",
      "text/plain": [
       "<Figure size 432x288 with 2 Axes>"
      ]
     },
     "metadata": {
      "needs_background": "light"
     },
     "output_type": "display_data"
    },
    {
     "data": {
      "text/plain": [
       "<Figure size 432x288 with 0 Axes>"
      ]
     },
     "metadata": {},
     "output_type": "display_data"
    }
   ],
   "source": [
    "entrenamiento_and_report_simple(eardata,y,5,svc)"
   ]
  },
  {
   "cell_type": "markdown",
   "id": "fb0eef88",
   "metadata": {},
   "source": [
    "## Red neuronal"
   ]
  },
  {
   "cell_type": "code",
   "execution_count": 71,
   "id": "5086cfc7",
   "metadata": {},
   "outputs": [
    {
     "name": "stdout",
     "output_type": "stream",
     "text": [
      "Model: \"sequential_2\"\n",
      "_________________________________________________________________\n",
      "Layer (type)                 Output Shape              Param #   \n",
      "=================================================================\n",
      "dense_6 (Dense)              (None, 16)                50576     \n",
      "_________________________________________________________________\n",
      "dense_7 (Dense)              (None, 16)                272       \n",
      "_________________________________________________________________\n",
      "dense_8 (Dense)              (None, 1)                 17        \n",
      "=================================================================\n",
      "Total params: 50,865\n",
      "Trainable params: 50,865\n",
      "Non-trainable params: 0\n",
      "_________________________________________________________________\n",
      "[0, 0, 0, 0]\n",
      "Classification report:\n",
      "              precision    recall  f1-score   support\n",
      "\n",
      "         0.0       1.00      0.50      0.67         4\n",
      "         1.0       0.00      0.00      0.00         0\n",
      "\n",
      "    accuracy                           0.50         4\n",
      "   macro avg       0.50      0.25      0.33         4\n",
      "weighted avg       1.00      0.50      0.67         4\n",
      "\n"
     ]
    },
    {
     "data": {
      "image/png": "[encoded data removed]",
      "text/plain": [
       "<Figure size 432x288 with 2 Axes>"
      ]
     },
     "metadata": {
      "needs_background": "light"
     },
     "output_type": "display_data"
    },
    {
     "data": {
      "text/plain": [
       "<Figure size 432x288 with 0 Axes>"
      ]
     },
     "metadata": {},
     "output_type": "display_data"
    }
   ],
   "source": [
    "import tensorflow as tf\n",
    "from numpy import argmax\n",
    "from keras.utils.np_utils import to_categorical\n",
    "from keras.models import Sequential\n",
    "from keras import layers\n",
    "\n",
    "max_features = eardata.shape[1]\n",
    "\n",
    "model = Sequential()\n",
    "model.add(layers.Dense(16, activation='relu', input_shape=(max_features,)))\n",
    "model.add(layers.Dense(16, activation='relu'))\n",
    "model.add(layers.Dense(1, activation='sigmoid'))\n",
    "model.summary()\n",
    "model.compile(loss='binary_crossentropy', # Cross-entropy\n",
    "                    optimizer='rmsprop', # Root Mean Square Propagation\n",
    "                    metrics=['accuracy'])\n",
    "\n",
    "X_train, X_Test, y_train, y_test = train_test_split(eardata,y, test_size = 0.2,random_state=42)\n",
    "model.fit(X_train,\n",
    "          y_train,batch_size=512,\n",
    "          epochs=200,\n",
    "          verbose=0,\n",
    "          validation_split=0.2)\n",
    "\n",
    "\n",
    "predict_list=model.predict(X_Test)\n",
    "objetivo = argmax(predict_list, axis=-1).astype('int')\n",
    "y_classes = [np.argmax(y, axis=None, out=None) for y in predict_list]\n",
    "print(y_classes)\n",
    "\n",
    "\n",
    "\n",
    "matriz_confusion = confusion_matrix(y_test, objetivo)\n",
    "heatmap(matriz_confusion, annot=True, fmt=\"g\",cmap=\"YlGnBu\", yticklabels=[\"Healthy\", \"Diabetes tipo 2\"] ,xticklabels=[\"Healthy\", \"Diabetes tipo 2\"])\n",
    "plt.title(\"Confusion matrix\")\n",
    "plt.xlabel(\"Predicted\")\n",
    "plt.ylabel(\"Expected\")\n",
    "plt.figure()\n",
    "print(f\"Classification report:\\n{classification_report(objetivo, y_test)}\")"
   ]
  },
  {
   "cell_type": "markdown",
   "id": "1ca1fdd9",
   "metadata": {},
   "source": [
    "# Spectograma sin Filtro vancouver con PCA"
   ]
  },
  {
   "cell_type": "code",
   "execution_count": 72,
   "id": "0325f981",
   "metadata": {},
   "outputs": [
    {
     "name": "stdout",
     "output_type": "stream",
     "text": [
      "shape of X_pca (20, 5)\n",
      "[0.87927166 0.09129159 0.00672034 0.00340985 0.00305335]\n",
      "suma: 0.9837467968148697\n",
      "shape of X_pca (20, 5)\n",
      "[0.87927166 0.09129159 0.00672034 0.00340985 0.00305335]\n",
      "suma: 0.9837467968148697\n"
     ]
    },
    {
     "data": {
      "image/png": "[encoded data removed]",
      "text/plain": [
       "<Figure size 432x288 with 1 Axes>"
      ]
     },
     "metadata": {
      "needs_background": "light"
     },
     "output_type": "display_data"
    }
   ],
   "source": [
    "eardata = PCA_conversion(eardata,5,\"vein\")"
   ]
  },
  {
   "cell_type": "markdown",
   "id": "05745497",
   "metadata": {},
   "source": [
    "## XGBClassifier"
   ]
  },
  {
   "cell_type": "code",
   "execution_count": 73,
   "id": "b76899f0",
   "metadata": {},
   "outputs": [
    {
     "name": "stdout",
     "output_type": "stream",
     "text": [
      "[21:33:18] WARNING: C:/Users/Administrator/workspace/xgboost-win64_release_1.4.0/src/learner.cc:1095: Starting in XGBoost 1.3.0, the default evaluation metric used with the objective 'binary:logistic' was changed from 'error' to 'logloss'. Explicitly set eval_metric if you'd like to restore the old behavior.\n",
      "[21:33:18] WARNING: C:/Users/Administrator/workspace/xgboost-win64_release_1.4.0/src/learner.cc:1095: Starting in XGBoost 1.3.0, the default evaluation metric used with the objective 'binary:logistic' was changed from 'error' to 'logloss'. Explicitly set eval_metric if you'd like to restore the old behavior.\n",
      "[21:33:18] WARNING: C:/Users/Administrator/workspace/xgboost-win64_release_1.4.0/src/learner.cc:1095: Starting in XGBoost 1.3.0, the default evaluation metric used with the objective 'binary:logistic' was changed from 'error' to 'logloss'. Explicitly set eval_metric if you'd like to restore the old behavior.\n",
      "[21:33:19] WARNING: C:/Users/Administrator/workspace/xgboost-win64_release_1.4.0/src/learner.cc:1095: Starting in XGBoost 1.3.0, the default evaluation metric used with the objective 'binary:logistic' was changed from 'error' to 'logloss'. Explicitly set eval_metric if you'd like to restore the old behavior.\n",
      "[21:33:19] WARNING: C:/Users/Administrator/workspace/xgboost-win64_release_1.4.0/src/learner.cc:1095: Starting in XGBoost 1.3.0, the default evaluation metric used with the objective 'binary:logistic' was changed from 'error' to 'logloss'. Explicitly set eval_metric if you'd like to restore the old behavior.\n",
      "Classification report:\n",
      "              precision    recall  f1-score   support\n",
      "\n",
      "         0.0       0.22      0.40      0.29         5\n",
      "         1.0       0.73      0.53      0.62        15\n",
      "\n",
      "    accuracy                           0.50        20\n",
      "   macro avg       0.47      0.47      0.45        20\n",
      "weighted avg       0.60      0.50      0.53        20\n",
      "\n"
     ]
    },
    {
     "data": {
      "image/png": "[encoded data removed]",
      "text/plain": [
       "<Figure size 432x288 with 2 Axes>"
      ]
     },
     "metadata": {
      "needs_background": "light"
     },
     "output_type": "display_data"
    },
    {
     "data": {
      "text/plain": [
       "<Figure size 432x288 with 0 Axes>"
      ]
     },
     "metadata": {},
     "output_type": "display_data"
    }
   ],
   "source": [
    "entrenamiento_and_report_simple(eardata,y,5,XGBClassifier)"
   ]
  },
  {
   "cell_type": "markdown",
   "id": "d6cce18b",
   "metadata": {},
   "source": [
    "## Adabost"
   ]
  },
  {
   "cell_type": "code",
   "execution_count": 74,
   "id": "1cc9af05",
   "metadata": {},
   "outputs": [
    {
     "name": "stdout",
     "output_type": "stream",
     "text": [
      "Classification report:\n",
      "              precision    recall  f1-score   support\n",
      "\n",
      "         0.0       0.56      0.56      0.56         9\n",
      "         1.0       0.64      0.64      0.64        11\n",
      "\n",
      "    accuracy                           0.60        20\n",
      "   macro avg       0.60      0.60      0.60        20\n",
      "weighted avg       0.60      0.60      0.60        20\n",
      "\n"
     ]
    },
    {
     "data": {
      "image/png": "[encoded data removed]",
      "text/plain": [
       "<Figure size 432x288 with 2 Axes>"
      ]
     },
     "metadata": {
      "needs_background": "light"
     },
     "output_type": "display_data"
    },
    {
     "data": {
      "text/plain": [
       "<Figure size 432x288 with 0 Axes>"
      ]
     },
     "metadata": {},
     "output_type": "display_data"
    }
   ],
   "source": [
    "entrenamiento_and_report_simple(eardata,y,5,ada_clf)"
   ]
  },
  {
   "cell_type": "markdown",
   "id": "8e2be20c",
   "metadata": {},
   "source": [
    "## Random Forest"
   ]
  },
  {
   "cell_type": "code",
   "execution_count": 75,
   "id": "ba8ef802",
   "metadata": {},
   "outputs": [
    {
     "name": "stdout",
     "output_type": "stream",
     "text": [
      "Classification report:\n",
      "              precision    recall  f1-score   support\n",
      "\n",
      "         0.0       0.44      0.57      0.50         7\n",
      "         1.0       0.73      0.62      0.67        13\n",
      "\n",
      "    accuracy                           0.60        20\n",
      "   macro avg       0.59      0.59      0.58        20\n",
      "weighted avg       0.63      0.60      0.61        20\n",
      "\n"
     ]
    },
    {
     "data": {
      "image/png": "[encoded data removed]",
      "text/plain": [
       "<Figure size 432x288 with 2 Axes>"
      ]
     },
     "metadata": {
      "needs_background": "light"
     },
     "output_type": "display_data"
    },
    {
     "data": {
      "text/plain": [
       "<Figure size 432x288 with 0 Axes>"
      ]
     },
     "metadata": {},
     "output_type": "display_data"
    }
   ],
   "source": [
    "entrenamiento_and_report_simple(eardata,y,5,RandomForestClassifier)"
   ]
  },
  {
   "cell_type": "markdown",
   "id": "7c0618ca",
   "metadata": {},
   "source": [
    "## SVM"
   ]
  },
  {
   "cell_type": "code",
   "execution_count": 76,
   "id": "0203ec32",
   "metadata": {},
   "outputs": [
    {
     "name": "stdout",
     "output_type": "stream",
     "text": [
      "Classification report:\n",
      "              precision    recall  f1-score   support\n",
      "\n",
      "         0.0       0.00      0.00      0.00         0\n",
      "         1.0       1.00      0.55      0.71        20\n",
      "\n",
      "    accuracy                           0.55        20\n",
      "   macro avg       0.50      0.28      0.35        20\n",
      "weighted avg       1.00      0.55      0.71        20\n",
      "\n"
     ]
    },
    {
     "data": {
      "image/png": "[encoded data removed]",
      "text/plain": [
       "<Figure size 432x288 with 2 Axes>"
      ]
     },
     "metadata": {
      "needs_background": "light"
     },
     "output_type": "display_data"
    },
    {
     "data": {
      "text/plain": [
       "<Figure size 432x288 with 0 Axes>"
      ]
     },
     "metadata": {},
     "output_type": "display_data"
    }
   ],
   "source": [
    "entrenamiento_and_report_simple(eardata,y,5,svc)"
   ]
  },
  {
   "cell_type": "markdown",
   "id": "569f8351",
   "metadata": {},
   "source": [
    "## Red neuronal"
   ]
  },
  {
   "cell_type": "code",
   "execution_count": 77,
   "id": "c173dbc3",
   "metadata": {},
   "outputs": [
    {
     "name": "stdout",
     "output_type": "stream",
     "text": [
      "Model: \"sequential_3\"\n",
      "_________________________________________________________________\n",
      "Layer (type)                 Output Shape              Param #   \n",
      "=================================================================\n",
      "dense_9 (Dense)              (None, 16)                96        \n",
      "_________________________________________________________________\n",
      "dense_10 (Dense)             (None, 16)                272       \n",
      "_________________________________________________________________\n",
      "dense_11 (Dense)             (None, 1)                 17        \n",
      "=================================================================\n",
      "Total params: 385\n",
      "Trainable params: 385\n",
      "Non-trainable params: 0\n",
      "_________________________________________________________________\n",
      "[0, 0, 0, 0]\n",
      "Classification report:\n",
      "              precision    recall  f1-score   support\n",
      "\n",
      "         0.0       1.00      0.50      0.67         4\n",
      "         1.0       0.00      0.00      0.00         0\n",
      "\n",
      "    accuracy                           0.50         4\n",
      "   macro avg       0.50      0.25      0.33         4\n",
      "weighted avg       1.00      0.50      0.67         4\n",
      "\n"
     ]
    },
    {
     "data": {
      "image/png": "[encoded data removed]",
      "text/plain": [
       "<Figure size 432x288 with 2 Axes>"
      ]
     },
     "metadata": {
      "needs_background": "light"
     },
     "output_type": "display_data"
    },
    {
     "data": {
      "text/plain": [
       "<Figure size 432x288 with 0 Axes>"
      ]
     },
     "metadata": {},
     "output_type": "display_data"
    }
   ],
   "source": [
    "import tensorflow as tf\n",
    "from numpy import argmax\n",
    "from keras.utils.np_utils import to_categorical\n",
    "from keras.models import Sequential\n",
    "from keras import layers\n",
    "\n",
    "max_features = eardata.shape[1]\n",
    "\n",
    "model = Sequential()\n",
    "model.add(layers.Dense(16, activation='relu', input_shape=(max_features,)))\n",
    "model.add(layers.Dense(16, activation='relu'))\n",
    "model.add(layers.Dense(1, activation='sigmoid'))\n",
    "model.summary()\n",
    "model.compile(loss='binary_crossentropy', # Cross-entropy\n",
    "                    optimizer='rmsprop', # Root Mean Square Propagation\n",
    "                    metrics=['accuracy'])\n",
    "\n",
    "X_train, X_Test, y_train, y_test = train_test_split(eardata,y, test_size = 0.2,random_state=42)\n",
    "model.fit(X_train,\n",
    "          y_train,batch_size=512,\n",
    "          epochs=200,\n",
    "          verbose=0,\n",
    "          validation_split=0.2)\n",
    "\n",
    "\n",
    "predict_list=model.predict(X_Test)\n",
    "objetivo = argmax(predict_list, axis=-1).astype('int')\n",
    "y_classes = [np.argmax(y, axis=None, out=None) for y in predict_list]\n",
    "print(y_classes)\n",
    "\n",
    "\n",
    "\n",
    "matriz_confusion = confusion_matrix(y_test, objetivo)\n",
    "heatmap(matriz_confusion, annot=True, fmt=\"g\",cmap=\"YlGnBu\", yticklabels=[\"Healthy\", \"Diabetes tipo 2\"] ,xticklabels=[\"Healthy\", \"Diabetes tipo 2\"])\n",
    "plt.title(\"Confusion matrix\")\n",
    "plt.xlabel(\"Predicted\")\n",
    "plt.ylabel(\"Expected\")\n",
    "plt.figure()\n",
    "print(f\"Classification report:\\n{classification_report(objetivo, y_test)}\")"
   ]
  },
  {
   "cell_type": "markdown",
   "id": "3affe477",
   "metadata": {},
   "source": [
    "# Spectograma recortado sin Filtro vancouver  "
   ]
  },
  {
   "cell_type": "code",
   "execution_count": 78,
   "id": "91e561d3",
   "metadata": {},
   "outputs": [],
   "source": [
    "path_dataset = 'archive/vein.csv'\n",
    "eardata = pd.read_csv(path_dataset)\n",
    "eardata = ear.iloc[0:]\n",
    "y = eardata['has_DM2']\n",
    "eardata = eardata.drop('patientID', axis=1)\n",
    "eardata = eardata.drop('has_DM2', axis=1)\n",
    "eardata = eardata.iloc[: , 800:]\n",
    "eardata = eardata.iloc[: , :1000]"
   ]
  },
  {
   "cell_type": "markdown",
   "id": "90963a4e",
   "metadata": {},
   "source": [
    "## XGBClassifier"
   ]
  },
  {
   "cell_type": "code",
   "execution_count": 79,
   "id": "8bda6591",
   "metadata": {},
   "outputs": [
    {
     "name": "stdout",
     "output_type": "stream",
     "text": [
      "[21:33:28] WARNING: C:/Users/Administrator/workspace/xgboost-win64_release_1.4.0/src/learner.cc:1095: Starting in XGBoost 1.3.0, the default evaluation metric used with the objective 'binary:logistic' was changed from 'error' to 'logloss'. Explicitly set eval_metric if you'd like to restore the old behavior.\n",
      "[21:33:30] WARNING: C:/Users/Administrator/workspace/xgboost-win64_release_1.4.0/src/learner.cc:1095: Starting in XGBoost 1.3.0, the default evaluation metric used with the objective 'binary:logistic' was changed from 'error' to 'logloss'. Explicitly set eval_metric if you'd like to restore the old behavior.\n",
      "[21:33:32] WARNING: C:/Users/Administrator/workspace/xgboost-win64_release_1.4.0/src/learner.cc:1095: Starting in XGBoost 1.3.0, the default evaluation metric used with the objective 'binary:logistic' was changed from 'error' to 'logloss'. Explicitly set eval_metric if you'd like to restore the old behavior.\n",
      "[21:33:34] WARNING: C:/Users/Administrator/workspace/xgboost-win64_release_1.4.0/src/learner.cc:1095: Starting in XGBoost 1.3.0, the default evaluation metric used with the objective 'binary:logistic' was changed from 'error' to 'logloss'. Explicitly set eval_metric if you'd like to restore the old behavior.\n",
      "[21:33:36] WARNING: C:/Users/Administrator/workspace/xgboost-win64_release_1.4.0/src/learner.cc:1095: Starting in XGBoost 1.3.0, the default evaluation metric used with the objective 'binary:logistic' was changed from 'error' to 'logloss'. Explicitly set eval_metric if you'd like to restore the old behavior.\n",
      "Classification report:\n",
      "              precision    recall  f1-score   support\n",
      "\n",
      "         0.0       0.11      0.12      0.12         8\n",
      "         1.0       0.36      0.33      0.35        12\n",
      "\n",
      "    accuracy                           0.25        20\n",
      "   macro avg       0.24      0.23      0.23        20\n",
      "weighted avg       0.26      0.25      0.26        20\n",
      "\n"
     ]
    },
    {
     "data": {
      "image/png": "[encoded data removed]",
      "text/plain": [
       "<Figure size 432x288 with 2 Axes>"
      ]
     },
     "metadata": {
      "needs_background": "light"
     },
     "output_type": "display_data"
    },
    {
     "data": {
      "text/plain": [
       "<Figure size 432x288 with 0 Axes>"
      ]
     },
     "metadata": {},
     "output_type": "display_data"
    }
   ],
   "source": [
    "entrenamiento_and_report_simple(eardata,y,5,XGBClassifier)"
   ]
  },
  {
   "cell_type": "markdown",
   "id": "d4ebe13d",
   "metadata": {},
   "source": [
    "## Adabost"
   ]
  },
  {
   "cell_type": "code",
   "execution_count": 80,
   "id": "d1cd9a6f",
   "metadata": {},
   "outputs": [
    {
     "name": "stdout",
     "output_type": "stream",
     "text": [
      "Classification report:\n",
      "              precision    recall  f1-score   support\n",
      "\n",
      "         0.0       0.22      0.22      0.22         9\n",
      "         1.0       0.36      0.36      0.36        11\n",
      "\n",
      "    accuracy                           0.30        20\n",
      "   macro avg       0.29      0.29      0.29        20\n",
      "weighted avg       0.30      0.30      0.30        20\n",
      "\n"
     ]
    },
    {
     "data": {
      "image/png": "[encoded data removed]",
      "text/plain": [
       "<Figure size 432x288 with 2 Axes>"
      ]
     },
     "metadata": {
      "needs_background": "light"
     },
     "output_type": "display_data"
    },
    {
     "data": {
      "text/plain": [
       "<Figure size 432x288 with 0 Axes>"
      ]
     },
     "metadata": {},
     "output_type": "display_data"
    }
   ],
   "source": [
    "entrenamiento_and_report_simple(eardata,y,5,ada_clf)"
   ]
  },
  {
   "cell_type": "markdown",
   "id": "acb71e7c",
   "metadata": {},
   "source": [
    "## Random Forest"
   ]
  },
  {
   "cell_type": "code",
   "execution_count": 81,
   "id": "a2b39fa3",
   "metadata": {},
   "outputs": [
    {
     "name": "stdout",
     "output_type": "stream",
     "text": [
      "Classification report:\n",
      "              precision    recall  f1-score   support\n",
      "\n",
      "         0.0       0.22      0.33      0.27         6\n",
      "         1.0       0.64      0.50      0.56        14\n",
      "\n",
      "    accuracy                           0.45        20\n",
      "   macro avg       0.43      0.42      0.41        20\n",
      "weighted avg       0.51      0.45      0.47        20\n",
      "\n"
     ]
    },
    {
     "data": {
      "image/png": "[encoded data removed]",
      "text/plain": [
       "<Figure size 432x288 with 2 Axes>"
      ]
     },
     "metadata": {
      "needs_background": "light"
     },
     "output_type": "display_data"
    },
    {
     "data": {
      "text/plain": [
       "<Figure size 432x288 with 0 Axes>"
      ]
     },
     "metadata": {},
     "output_type": "display_data"
    }
   ],
   "source": [
    "entrenamiento_and_report_simple(eardata,y,5,RandomForestClassifier)"
   ]
  },
  {
   "cell_type": "markdown",
   "id": "e20cf52e",
   "metadata": {},
   "source": [
    "## SVM"
   ]
  },
  {
   "cell_type": "code",
   "execution_count": 82,
   "id": "f9edf1d3",
   "metadata": {},
   "outputs": [
    {
     "name": "stdout",
     "output_type": "stream",
     "text": [
      "Classification report:\n",
      "              precision    recall  f1-score   support\n",
      "\n",
      "         0.0       0.00      0.00      0.00         2\n",
      "         1.0       0.82      0.50      0.62        18\n",
      "\n",
      "    accuracy                           0.45        20\n",
      "   macro avg       0.41      0.25      0.31        20\n",
      "weighted avg       0.74      0.45      0.56        20\n",
      "\n"
     ]
    },
    {
     "data": {
      "image/png": "[encoded data removed]",
      "text/plain": [
       "<Figure size 432x288 with 2 Axes>"
      ]
     },
     "metadata": {
      "needs_background": "light"
     },
     "output_type": "display_data"
    },
    {
     "data": {
      "text/plain": [
       "<Figure size 432x288 with 0 Axes>"
      ]
     },
     "metadata": {},
     "output_type": "display_data"
    }
   ],
   "source": [
    "entrenamiento_and_report_simple(eardata,y,5,svc)"
   ]
  },
  {
   "cell_type": "markdown",
   "id": "d95ed69c",
   "metadata": {},
   "source": [
    "## Red neuronal"
   ]
  },
  {
   "cell_type": "code",
   "execution_count": 83,
   "id": "eea25f31",
   "metadata": {},
   "outputs": [
    {
     "name": "stdout",
     "output_type": "stream",
     "text": [
      "Model: \"sequential_4\"\n",
      "_________________________________________________________________\n",
      "Layer (type)                 Output Shape              Param #   \n",
      "=================================================================\n",
      "dense_12 (Dense)             (None, 16)                16016     \n",
      "_________________________________________________________________\n",
      "dense_13 (Dense)             (None, 16)                272       \n",
      "_________________________________________________________________\n",
      "dense_14 (Dense)             (None, 1)                 17        \n",
      "=================================================================\n",
      "Total params: 16,305\n",
      "Trainable params: 16,305\n",
      "Non-trainable params: 0\n",
      "_________________________________________________________________\n",
      "WARNING:tensorflow:5 out of the last 5 calls to <function Model.make_predict_function.<locals>.predict_function at 0x0000021943288430> triggered tf.function retracing. Tracing is expensive and the excessive number of tracings could be due to (1) creating @tf.function repeatedly in a loop, (2) passing tensors with different shapes, (3) passing Python objects instead of tensors. For (1), please define your @tf.function outside of the loop. For (2), @tf.function has experimental_relax_shapes=True option that relaxes argument shapes that can avoid unnecessary retracing. For (3), please refer to https://www.tensorflow.org/guide/function#controlling_retracing and https://www.tensorflow.org/api_docs/python/tf/function for  more details.\n",
      "[0, 0, 0, 0]\n",
      "Classification report:\n",
      "              precision    recall  f1-score   support\n",
      "\n",
      "         0.0       1.00      0.50      0.67         4\n",
      "         1.0       0.00      0.00      0.00         0\n",
      "\n",
      "    accuracy                           0.50         4\n",
      "   macro avg       0.50      0.25      0.33         4\n",
      "weighted avg       1.00      0.50      0.67         4\n",
      "\n"
     ]
    },
    {
     "data": {
      "image/png": "[encoded data removed]",
      "text/plain": [
       "<Figure size 432x288 with 2 Axes>"
      ]
     },
     "metadata": {
      "needs_background": "light"
     },
     "output_type": "display_data"
    },
    {
     "data": {
      "text/plain": [
       "<Figure size 432x288 with 0 Axes>"
      ]
     },
     "metadata": {},
     "output_type": "display_data"
    }
   ],
   "source": [
    "import tensorflow as tf\n",
    "from numpy import argmax\n",
    "from keras.utils.np_utils import to_categorical\n",
    "from keras.models import Sequential\n",
    "from keras import layers\n",
    "\n",
    "max_features = eardata.shape[1]\n",
    "\n",
    "model = Sequential()\n",
    "model.add(layers.Dense(16, activation='relu', input_shape=(max_features,)))\n",
    "model.add(layers.Dense(16, activation='relu'))\n",
    "model.add(layers.Dense(1, activation='sigmoid'))\n",
    "model.summary()\n",
    "model.compile(loss='binary_crossentropy', # Cross-entropy\n",
    "                    optimizer='rmsprop', # Root Mean Square Propagation\n",
    "                    metrics=['accuracy'])\n",
    "\n",
    "X_train, X_Test, y_train, y_test = train_test_split(eardata,y, test_size = 0.2,random_state=42)\n",
    "model.fit(X_train,\n",
    "          y_train,batch_size=512,\n",
    "          epochs=200,\n",
    "          verbose=0,\n",
    "          validation_split=0.2)\n",
    "\n",
    "\n",
    "predict_list=model.predict(X_Test)\n",
    "objetivo = argmax(predict_list, axis=-1).astype('int')\n",
    "y_classes = [np.argmax(y, axis=None, out=None) for y in predict_list]\n",
    "print(y_classes)\n",
    "\n",
    "\n",
    "\n",
    "matriz_confusion = confusion_matrix(y_test, objetivo)\n",
    "heatmap(matriz_confusion, annot=True, fmt=\"g\",cmap=\"YlGnBu\", yticklabels=[\"Healthy\", \"Diabetes tipo 2\"] ,xticklabels=[\"Healthy\", \"Diabetes tipo 2\"])\n",
    "plt.title(\"Confusion matrix\")\n",
    "plt.xlabel(\"Predicted\")\n",
    "plt.ylabel(\"Expected\")\n",
    "plt.figure()\n",
    "print(f\"Classification report:\\n{classification_report(objetivo, y_test)}\")"
   ]
  },
  {
   "cell_type": "markdown",
   "id": "b4850a5f",
   "metadata": {},
   "source": [
    "# Spectograma recortado sin Filtro vancouver   con PCA"
   ]
  },
  {
   "cell_type": "code",
   "execution_count": 84,
   "id": "1ea3f7dd",
   "metadata": {},
   "outputs": [
    {
     "name": "stdout",
     "output_type": "stream",
     "text": [
      "shape of X_pca (20, 5)\n",
      "[9.94431769e-01 2.75875666e-03 7.12334499e-04 3.33519845e-04\n",
      " 2.10500356e-04]\n",
      "suma: 0.9984468807642888\n",
      "shape of X_pca (20, 5)\n",
      "[9.94431769e-01 2.75875666e-03 7.12334499e-04 3.33519845e-04\n",
      " 2.10500356e-04]\n",
      "suma: 0.9984468807642888\n"
     ]
    },
    {
     "data": {
      "image/png": "[encoded data removed]",
      "text/plain": [
       "<Figure size 432x288 with 1 Axes>"
      ]
     },
     "metadata": {
      "needs_background": "light"
     },
     "output_type": "display_data"
    }
   ],
   "source": [
    "eardata = PCA_conversion(eardata,5,\"vein\")"
   ]
  },
  {
   "cell_type": "markdown",
   "id": "d6c2ccc7",
   "metadata": {},
   "source": [
    "## XGBClassifier"
   ]
  },
  {
   "cell_type": "code",
   "execution_count": 85,
   "id": "b9f9e6b9",
   "metadata": {},
   "outputs": [
    {
     "name": "stdout",
     "output_type": "stream",
     "text": [
      "[21:33:47] WARNING: C:/Users/Administrator/workspace/xgboost-win64_release_1.4.0/src/learner.cc:1095: Starting in XGBoost 1.3.0, the default evaluation metric used with the objective 'binary:logistic' was changed from 'error' to 'logloss'. Explicitly set eval_metric if you'd like to restore the old behavior.\n",
      "[21:33:47] WARNING: C:/Users/Administrator/workspace/xgboost-win64_release_1.4.0/src/learner.cc:1095: Starting in XGBoost 1.3.0, the default evaluation metric used with the objective 'binary:logistic' was changed from 'error' to 'logloss'. Explicitly set eval_metric if you'd like to restore the old behavior.\n",
      "[21:33:47] WARNING: C:/Users/Administrator/workspace/xgboost-win64_release_1.4.0/src/learner.cc:1095: Starting in XGBoost 1.3.0, the default evaluation metric used with the objective 'binary:logistic' was changed from 'error' to 'logloss'. Explicitly set eval_metric if you'd like to restore the old behavior.\n",
      "[21:33:47] WARNING: C:/Users/Administrator/workspace/xgboost-win64_release_1.4.0/src/learner.cc:1095: Starting in XGBoost 1.3.0, the default evaluation metric used with the objective 'binary:logistic' was changed from 'error' to 'logloss'. Explicitly set eval_metric if you'd like to restore the old behavior.\n",
      "[21:33:47] WARNING: C:/Users/Administrator/workspace/xgboost-win64_release_1.4.0/src/learner.cc:1095: Starting in XGBoost 1.3.0, the default evaluation metric used with the objective 'binary:logistic' was changed from 'error' to 'logloss'. Explicitly set eval_metric if you'd like to restore the old behavior.\n",
      "Classification report:\n",
      "              precision    recall  f1-score   support\n",
      "\n",
      "         0.0       0.56      0.62      0.59         8\n",
      "         1.0       0.73      0.67      0.70        12\n",
      "\n",
      "    accuracy                           0.65        20\n",
      "   macro avg       0.64      0.65      0.64        20\n",
      "weighted avg       0.66      0.65      0.65        20\n",
      "\n"
     ]
    },
    {
     "data": {
      "image/png": "[encoded data removed]",
      "text/plain": [
       "<Figure size 432x288 with 2 Axes>"
      ]
     },
     "metadata": {
      "needs_background": "light"
     },
     "output_type": "display_data"
    },
    {
     "data": {
      "text/plain": [
       "<Figure size 432x288 with 0 Axes>"
      ]
     },
     "metadata": {},
     "output_type": "display_data"
    }
   ],
   "source": [
    "entrenamiento_and_report_simple(eardata,y,5,XGBClassifier)"
   ]
  },
  {
   "cell_type": "markdown",
   "id": "fe04ae09",
   "metadata": {},
   "source": [
    "## Adabost"
   ]
  },
  {
   "cell_type": "code",
   "execution_count": 86,
   "id": "80bb6399",
   "metadata": {},
   "outputs": [
    {
     "name": "stdout",
     "output_type": "stream",
     "text": [
      "Classification report:\n",
      "              precision    recall  f1-score   support\n",
      "\n",
      "         0.0       0.56      0.62      0.59         8\n",
      "         1.0       0.73      0.67      0.70        12\n",
      "\n",
      "    accuracy                           0.65        20\n",
      "   macro avg       0.64      0.65      0.64        20\n",
      "weighted avg       0.66      0.65      0.65        20\n",
      "\n"
     ]
    },
    {
     "data": {
      "image/png": "[encoded data removed]",
      "text/plain": [
       "<Figure size 432x288 with 2 Axes>"
      ]
     },
     "metadata": {
      "needs_background": "light"
     },
     "output_type": "display_data"
    },
    {
     "data": {
      "text/plain": [
       "<Figure size 432x288 with 0 Axes>"
      ]
     },
     "metadata": {},
     "output_type": "display_data"
    }
   ],
   "source": [
    "entrenamiento_and_report_simple(eardata,y,5,ada_clf)"
   ]
  },
  {
   "cell_type": "markdown",
   "id": "c60545e2",
   "metadata": {},
   "source": [
    "## Random Forest"
   ]
  },
  {
   "cell_type": "code",
   "execution_count": 87,
   "id": "c92b552b",
   "metadata": {},
   "outputs": [
    {
     "name": "stdout",
     "output_type": "stream",
     "text": [
      "Classification report:\n",
      "              precision    recall  f1-score   support\n",
      "\n",
      "         0.0       0.44      0.57      0.50         7\n",
      "         1.0       0.73      0.62      0.67        13\n",
      "\n",
      "    accuracy                           0.60        20\n",
      "   macro avg       0.59      0.59      0.58        20\n",
      "weighted avg       0.63      0.60      0.61        20\n",
      "\n"
     ]
    },
    {
     "data": {
      "image/png": "[encoded data removed]",
      "text/plain": [
       "<Figure size 432x288 with 2 Axes>"
      ]
     },
     "metadata": {
      "needs_background": "light"
     },
     "output_type": "display_data"
    },
    {
     "data": {
      "text/plain": [
       "<Figure size 432x288 with 0 Axes>"
      ]
     },
     "metadata": {},
     "output_type": "display_data"
    }
   ],
   "source": [
    "entrenamiento_and_report_simple(eardata,y,5,RandomForestClassifier)"
   ]
  },
  {
   "cell_type": "markdown",
   "id": "d20455ab",
   "metadata": {},
   "source": [
    "## SVM"
   ]
  },
  {
   "cell_type": "code",
   "execution_count": 88,
   "id": "af4971e9",
   "metadata": {},
   "outputs": [
    {
     "name": "stdout",
     "output_type": "stream",
     "text": [
      "Classification report:\n",
      "              precision    recall  f1-score   support\n",
      "\n",
      "         0.0       0.00      0.00      0.00         0\n",
      "         1.0       1.00      0.55      0.71        20\n",
      "\n",
      "    accuracy                           0.55        20\n",
      "   macro avg       0.50      0.28      0.35        20\n",
      "weighted avg       1.00      0.55      0.71        20\n",
      "\n"
     ]
    },
    {
     "data": {
      "image/png": "[encoded data removed]",
      "text/plain": [
       "<Figure size 432x288 with 2 Axes>"
      ]
     },
     "metadata": {
      "needs_background": "light"
     },
     "output_type": "display_data"
    },
    {
     "data": {
      "text/plain": [
       "<Figure size 432x288 with 0 Axes>"
      ]
     },
     "metadata": {},
     "output_type": "display_data"
    }
   ],
   "source": [
    "entrenamiento_and_report_simple(eardata,y,5,svc)"
   ]
  },
  {
   "cell_type": "markdown",
   "id": "fe601525",
   "metadata": {},
   "source": [
    "## Red neuronal"
   ]
  },
  {
   "cell_type": "code",
   "execution_count": 89,
   "id": "f2465065",
   "metadata": {},
   "outputs": [
    {
     "name": "stdout",
     "output_type": "stream",
     "text": [
      "Model: \"sequential_5\"\n",
      "_________________________________________________________________\n",
      "Layer (type)                 Output Shape              Param #   \n",
      "=================================================================\n",
      "dense_15 (Dense)             (None, 16)                96        \n",
      "_________________________________________________________________\n",
      "dense_16 (Dense)             (None, 16)                272       \n",
      "_________________________________________________________________\n",
      "dense_17 (Dense)             (None, 1)                 17        \n",
      "=================================================================\n",
      "Total params: 385\n",
      "Trainable params: 385\n",
      "Non-trainable params: 0\n",
      "_________________________________________________________________\n",
      "WARNING:tensorflow:6 out of the last 6 calls to <function Model.make_predict_function.<locals>.predict_function at 0x0000021945BD4550> triggered tf.function retracing. Tracing is expensive and the excessive number of tracings could be due to (1) creating @tf.function repeatedly in a loop, (2) passing tensors with different shapes, (3) passing Python objects instead of tensors. For (1), please define your @tf.function outside of the loop. For (2), @tf.function has experimental_relax_shapes=True option that relaxes argument shapes that can avoid unnecessary retracing. For (3), please refer to https://www.tensorflow.org/guide/function#controlling_retracing and https://www.tensorflow.org/api_docs/python/tf/function for  more details.\n",
      "[0, 0, 0, 0]\n",
      "Classification report:\n",
      "              precision    recall  f1-score   support\n",
      "\n",
      "         0.0       1.00      0.50      0.67         4\n",
      "         1.0       0.00      0.00      0.00         0\n",
      "\n",
      "    accuracy                           0.50         4\n",
      "   macro avg       0.50      0.25      0.33         4\n",
      "weighted avg       1.00      0.50      0.67         4\n",
      "\n"
     ]
    },
    {
     "data": {
      "image/png": "[encoded data removed]",
      "text/plain": [
       "<Figure size 432x288 with 2 Axes>"
      ]
     },
     "metadata": {
      "needs_background": "light"
     },
     "output_type": "display_data"
    },
    {
     "data": {
      "text/plain": [
       "<Figure size 432x288 with 0 Axes>"
      ]
     },
     "metadata": {},
     "output_type": "display_data"
    }
   ],
   "source": [
    "import tensorflow as tf\n",
    "from numpy import argmax\n",
    "from keras.utils.np_utils import to_categorical\n",
    "from keras.models import Sequential\n",
    "from keras import layers\n",
    "\n",
    "max_features = eardata.shape[1]\n",
    "\n",
    "model = Sequential()\n",
    "model.add(layers.Dense(16, activation='relu', input_shape=(max_features,)))\n",
    "model.add(layers.Dense(16, activation='relu'))\n",
    "model.add(layers.Dense(1, activation='sigmoid'))\n",
    "model.summary()\n",
    "model.compile(loss='binary_crossentropy', # Cross-entropy\n",
    "                    optimizer='rmsprop', # Root Mean Square Propagation\n",
    "                    metrics=['accuracy'])\n",
    "\n",
    "X_train, X_Test, y_train, y_test = train_test_split(eardata,y, test_size = 0.2,random_state=42)\n",
    "model.fit(X_train,\n",
    "          y_train,batch_size=512,\n",
    "          epochs=200,\n",
    "          verbose=0,\n",
    "          validation_split=0.2)\n",
    "\n",
    "\n",
    "predict_list=model.predict(X_Test)\n",
    "objetivo = argmax(predict_list, axis=-1).astype('int')\n",
    "y_classes = [np.argmax(y, axis=None, out=None) for y in predict_list]\n",
    "print(y_classes)\n",
    "\n",
    "\n",
    "\n",
    "matriz_confusion = confusion_matrix(y_test, objetivo)\n",
    "heatmap(matriz_confusion, annot=True, fmt=\"g\",cmap=\"YlGnBu\", yticklabels=[\"Healthy\", \"Diabetes tipo 2\"] ,xticklabels=[\"Healthy\", \"Diabetes tipo 2\"])\n",
    "plt.title(\"Confusion matrix\")\n",
    "plt.xlabel(\"Predicted\")\n",
    "plt.ylabel(\"Expected\")\n",
    "plt.figure()\n",
    "print(f\"Classification report:\\n{classification_report(objetivo, y_test)}\")"
   ]
  },
  {
   "cell_type": "code",
   "execution_count": null,
   "id": "0bb6f613",
   "metadata": {},
   "outputs": [],
   "source": []
  },
  {
   "cell_type": "code",
   "execution_count": null,
   "id": "d839f6e8",
   "metadata": {},
   "outputs": [],
   "source": []
  }
 ],
 "metadata": {
  "kernelspec": {
   "display_name": "Python 3",
   "language": "python",
   "name": "python3"
  },
  "language_info": {
   "codemirror_mode": {
    "name": "ipython",
    "version": 3
   },
   "file_extension": ".py",
   "mimetype": "text/x-python",
   "name": "python",
   "nbconvert_exporter": "python",
   "pygments_lexer": "ipython3",
   "version": "3.8.5"
  }
 },
 "nbformat": 4,
 "nbformat_minor": 5
}
