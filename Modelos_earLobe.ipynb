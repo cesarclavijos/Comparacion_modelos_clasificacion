{
 "cells": [
  {
   "cell_type": "markdown",
   "id": "6bfc8bc0",
   "metadata": {},
   "source": [
    "# Importe librerias "
   ]
  },
  {
   "cell_type": "code",
   "execution_count": 86,
   "id": "c73e5b7d",
   "metadata": {},
   "outputs": [],
   "source": [
    "import pandas as pd\n",
    "import numpy as np\n",
    "import matplotlib.pyplot as plt\n",
    "import seaborn as sns\n",
    "import warnings\n",
    "from sklearn.model_selection import train_test_split\n",
    "from sklearn.model_selection import cross_val_predict\n",
    "from sklearn.metrics import accuracy_score, classification_report, confusion_matrix\n",
    "from sklearn.metrics import recall_score\n",
    "from seaborn import heatmap\n",
    "from sklearn.model_selection import GridSearchCV \n",
    "from sklearn.tree import DecisionTreeClassifier\n",
    "from sklearn.decomposition import PCA\n",
    "from sklearn.preprocessing import StandardScaler\n",
    "warnings.filterwarnings('ignore')\n",
    "%matplotlib inline"
   ]
  },
  {
   "cell_type": "markdown",
   "id": "0dcad213",
   "metadata": {},
   "source": [
    "# Funciones "
   ]
  },
  {
   "cell_type": "markdown",
   "id": "37e8780d",
   "metadata": {},
   "source": [
    "## Entrenamiento"
   ]
  },
  {
   "cell_type": "code",
   "execution_count": 87,
   "id": "0b0fe7f7",
   "metadata": {},
   "outputs": [],
   "source": [
    "def entrenamiento_and_report_simple(data_entrenamiento,objetivo,cv,modelo):\n",
    "    predict_list = cross_val_predict(modelo,data_entrenamiento,objetivo, cv=cv)\n",
    "    confution = confusion_matrix( y.tolist(),  predict_list.tolist())\n",
    "    matriz_confusion = confusion_matrix(predict_list, objetivo)\n",
    "    heatmap(matriz_confusion, annot=True, fmt=\"g\",cmap=\"YlGnBu\", yticklabels=[\"Healthy\", \"Diabetes tipo 2\"] ,xticklabels=[\"Healthy\", \"Diabetes tipo 2\"])\n",
    "    plt.title(\"Confusion matrix\")\n",
    "    plt.xlabel(\"Predicted\")\n",
    "    plt.ylabel(\"Expected\")\n",
    "    plt.figure()\n",
    "    print(f\"Classification report:\\n{classification_report(predict_list, objetivo)}\")"
   ]
  },
  {
   "cell_type": "code",
   "execution_count": 88,
   "id": "d476f22f",
   "metadata": {},
   "outputs": [],
   "source": [
    "def entrenamiento_and_report_red_neuronal(data_entrenamiento,objetivo,cv,modelo):\n",
    "    predict_list = cross_val_predict(modelo,data_entrenamiento,objetivo, cv=cv)\n",
    "    confution = confusion_matrix( y.tolist(),  predict_list.tolist())\n",
    "    matriz_confusion = confusion_matrix(predict_list, objetivo)\n",
    "    heatmap(matriz_confusion, annot=True, fmt=\"g\",cmap=\"YlGnBu\", yticklabels=[\"Healthy\", \"Diabetes tipo 2\"] ,xticklabels=[\"Healthy\", \"Diabetes tipo 2\"])\n",
    "    plt.title(\"Confusion matrix\")\n",
    "    plt.xlabel(\"Predicted\")\n",
    "    plt.ylabel(\"Expected\")\n",
    "    plt.figure()\n",
    "    print(f\"Classification report:\\n{classification_report(predict_list, objetivo)}\")"
   ]
  },
  {
   "cell_type": "markdown",
   "id": "744d574a",
   "metadata": {},
   "source": [
    "## Optimizacion de parametros"
   ]
  },
  {
   "cell_type": "code",
   "execution_count": 89,
   "id": "458102b5",
   "metadata": {},
   "outputs": [],
   "source": [
    "def Optimizacion_parametros(param_grid,Modelo,data_entrenamiento,objetivo,cv):\n",
    "    grid_search = GridSearchCV(Modelo, param_grid, cv=cv,\n",
    "                           scoring='precision', \n",
    "                           return_train_score=True)\n",
    "    grid_search.fit(data_entrenamiento, objetivo)\n",
    "    a = pd.DataFrame(grid_search.cv_results_['params'])\n",
    "    a = pd.DataFrame(grid_search.cv_results_['params'])\n",
    "    a['mean_train_score'] = grid_search.cv_results_['mean_train_score']\n",
    "    a['mean_test_score'] = grid_search.cv_results_['mean_test_score']\n",
    "    a['std_train_score'] = grid_search.cv_results_['std_train_score']\n",
    "    a['std_test_score'] = grid_search.cv_results_['std_test_score']\n",
    "    print('Mejor resultado' +''+ str(grid_search.best_score_)  )     \n",
    "    print('Mejor parametro' +''+ str(grid_search.best_estimator_)) \n",
    "    minv = grid_search.best_score_\n",
    "    return a, a[(a.mean_test_score == minv)],grid_search.best_estimator_,grid_search.best_score_\n",
    "\n"
   ]
  },
  {
   "cell_type": "markdown",
   "id": "00d2f7e5",
   "metadata": {},
   "source": [
    "# Funcion PCA"
   ]
  },
  {
   "cell_type": "code",
   "execution_count": 90,
   "id": "75ecae37",
   "metadata": {},
   "outputs": [],
   "source": [
    "def PCA_conversion(datos,Numero_parametros, nombre_variable):\n",
    "    scaler=StandardScaler()#normalizamos los datos\n",
    "    scaler.fit(datos) # calculo la media para poder hacer la transformacion\n",
    "    X_scaled=scaler.transform(datos)# Ahora si, escalo los datos y los normalizo\n",
    "    pca=PCA(n_components=Numero_parametros) # Otra opción es instanciar pca sólo con dimensiones nuevas hasta obtener un mínimo \"explicado\" ej.: pca=PCA(.85)\n",
    "    pca.fit(X_scaled) # obtener los componentes principales\n",
    "    ear2_pca=pca.transform(X_scaled) # convertimos nuestros datos con las nuevas dimensiones de PC\n",
    "    \n",
    "    print(\"shape of X_pca\", ear2_pca.shape)\n",
    "    expl = pca.explained_variance_ratio_\n",
    "    print(expl)\n",
    "    print('suma:',sum(expl[0:5]))\n",
    "    print(\"shape of X_pca\", ear2_pca.shape)\n",
    "    expl = pca.explained_variance_ratio_\n",
    "    print(expl)\n",
    "    \n",
    "    print('suma:',sum(expl[0:1000]))\n",
    "    plt.plot(np.cumsum(pca.explained_variance_ratio_))\n",
    "    plt.xlabel('number of components')\n",
    "    plt.ylabel('cumulative explained variance')\n",
    "    plt.show()\n",
    "    \n",
    "    \n",
    "    x = range(1, Numero_parametros + 1)\n",
    "    new_columns = []\n",
    "    for n in x:\n",
    "        name = 'nombre_variable' +  str(n)\n",
    "        new_columns.append(name)\n",
    "\n",
    "    bm = pd.DataFrame(data = ear2_pca, columns = new_columns)\n",
    "    bm.index = np.arange(1,len(bm)+1)\n",
    "    return bm"
   ]
  },
  {
   "cell_type": "markdown",
   "id": "b62ee7f5",
   "metadata": {},
   "source": [
    "## Carga de datos"
   ]
  },
  {
   "cell_type": "code",
   "execution_count": 91,
   "id": "8f8b07c0",
   "metadata": {},
   "outputs": [],
   "source": [
    "path_dataset = 'archive/earLobe.csv'\n",
    "ear = pd.read_csv(path_dataset)\n",
    "ear = ear.iloc[1:]\n",
    "y = ear['has_DM2']\n",
    "path_dataset = 'archive/earData.csv'\n",
    "ear2 = pd.read_csv(path_dataset)\n",
    "ear2= (ear2.T.reset_index().T.reset_index(drop=True)\n",
    "            .set_axis([f'Q1.{i+1}' for i in range(ear2.shape[1])], axis=1))\n",
    "ear2= ear2.apply(pd.to_numeric, errors='coerce')"
   ]
  },
  {
   "cell_type": "code",
   "execution_count": 92,
   "id": "fd23a9ae",
   "metadata": {},
   "outputs": [
    {
     "data": {
      "text/html": [
       "<div>\n",
       "<style scoped>\n",
       "    .dataframe tbody tr th:only-of-type {\n",
       "        vertical-align: middle;\n",
       "    }\n",
       "\n",
       "    .dataframe tbody tr th {\n",
       "        vertical-align: top;\n",
       "    }\n",
       "\n",
       "    .dataframe thead th {\n",
       "        text-align: right;\n",
       "    }\n",
       "</style>\n",
       "<table border=\"1\" class=\"dataframe\">\n",
       "  <thead>\n",
       "    <tr style=\"text-align: right;\">\n",
       "      <th></th>\n",
       "      <th>Q1.1</th>\n",
       "      <th>Q1.2</th>\n",
       "      <th>Q1.3</th>\n",
       "      <th>Q1.4</th>\n",
       "      <th>Q1.5</th>\n",
       "      <th>Q1.6</th>\n",
       "      <th>Q1.7</th>\n",
       "      <th>Q1.8</th>\n",
       "      <th>Q1.9</th>\n",
       "      <th>Q1.10</th>\n",
       "      <th>...</th>\n",
       "      <th>Q1.992</th>\n",
       "      <th>Q1.993</th>\n",
       "      <th>Q1.994</th>\n",
       "      <th>Q1.995</th>\n",
       "      <th>Q1.996</th>\n",
       "      <th>Q1.997</th>\n",
       "      <th>Q1.998</th>\n",
       "      <th>Q1.999</th>\n",
       "      <th>Q1.1000</th>\n",
       "      <th>Q1.1001</th>\n",
       "    </tr>\n",
       "  </thead>\n",
       "  <tbody>\n",
       "    <tr>\n",
       "      <th>0</th>\n",
       "      <td>0.702765</td>\n",
       "      <td>0.701368</td>\n",
       "      <td>0.667048</td>\n",
       "      <td>0.604416</td>\n",
       "      <td>0.577726</td>\n",
       "      <td>0.634734</td>\n",
       "      <td>0.687919</td>\n",
       "      <td>0.715483</td>\n",
       "      <td>0.739139</td>\n",
       "      <td>0.746792</td>\n",
       "      <td>...</td>\n",
       "      <td>0.656006</td>\n",
       "      <td>0.595486</td>\n",
       "      <td>0.684535</td>\n",
       "      <td>0.877535</td>\n",
       "      <td>0.961894</td>\n",
       "      <td>0.787723</td>\n",
       "      <td>0.714738</td>\n",
       "      <td>0.680261</td>\n",
       "      <td>0.774981</td>\n",
       "      <td>0.783097</td>\n",
       "    </tr>\n",
       "    <tr>\n",
       "      <th>1</th>\n",
       "      <td>0.471525</td>\n",
       "      <td>0.524410</td>\n",
       "      <td>0.568239</td>\n",
       "      <td>0.605762</td>\n",
       "      <td>0.612155</td>\n",
       "      <td>0.544626</td>\n",
       "      <td>0.478929</td>\n",
       "      <td>0.498340</td>\n",
       "      <td>0.515025</td>\n",
       "      <td>0.496139</td>\n",
       "      <td>...</td>\n",
       "      <td>0.775739</td>\n",
       "      <td>0.683028</td>\n",
       "      <td>0.543678</td>\n",
       "      <td>0.685557</td>\n",
       "      <td>0.845753</td>\n",
       "      <td>1.004187</td>\n",
       "      <td>0.965871</td>\n",
       "      <td>0.814745</td>\n",
       "      <td>0.813595</td>\n",
       "      <td>0.835334</td>\n",
       "    </tr>\n",
       "    <tr>\n",
       "      <th>2</th>\n",
       "      <td>-0.304119</td>\n",
       "      <td>-0.329874</td>\n",
       "      <td>-0.328211</td>\n",
       "      <td>-0.303235</td>\n",
       "      <td>-0.292722</td>\n",
       "      <td>-0.315869</td>\n",
       "      <td>-0.336498</td>\n",
       "      <td>-0.338597</td>\n",
       "      <td>-0.339091</td>\n",
       "      <td>-0.331862</td>\n",
       "      <td>...</td>\n",
       "      <td>0.092331</td>\n",
       "      <td>-0.100294</td>\n",
       "      <td>-0.327556</td>\n",
       "      <td>-0.367145</td>\n",
       "      <td>-0.355185</td>\n",
       "      <td>-0.256518</td>\n",
       "      <td>-0.081632</td>\n",
       "      <td>0.124483</td>\n",
       "      <td>-0.137621</td>\n",
       "      <td>-0.293826</td>\n",
       "    </tr>\n",
       "    <tr>\n",
       "      <th>3</th>\n",
       "      <td>2.371092</td>\n",
       "      <td>2.344028</td>\n",
       "      <td>2.330286</td>\n",
       "      <td>2.330452</td>\n",
       "      <td>2.338351</td>\n",
       "      <td>2.363721</td>\n",
       "      <td>2.374656</td>\n",
       "      <td>2.356758</td>\n",
       "      <td>2.328415</td>\n",
       "      <td>2.327067</td>\n",
       "      <td>...</td>\n",
       "      <td>1.531869</td>\n",
       "      <td>1.656178</td>\n",
       "      <td>1.779324</td>\n",
       "      <td>1.679249</td>\n",
       "      <td>1.627818</td>\n",
       "      <td>1.718848</td>\n",
       "      <td>1.680798</td>\n",
       "      <td>1.552492</td>\n",
       "      <td>1.672337</td>\n",
       "      <td>1.728359</td>\n",
       "    </tr>\n",
       "    <tr>\n",
       "      <th>4</th>\n",
       "      <td>-1.071678</td>\n",
       "      <td>-1.136116</td>\n",
       "      <td>-1.152072</td>\n",
       "      <td>-1.127834</td>\n",
       "      <td>-1.108201</td>\n",
       "      <td>-1.097930</td>\n",
       "      <td>-1.084849</td>\n",
       "      <td>-1.115330</td>\n",
       "      <td>-1.139999</td>\n",
       "      <td>-1.133657</td>\n",
       "      <td>...</td>\n",
       "      <td>-0.939648</td>\n",
       "      <td>-1.023997</td>\n",
       "      <td>-0.935870</td>\n",
       "      <td>-0.900399</td>\n",
       "      <td>-0.857890</td>\n",
       "      <td>-0.791606</td>\n",
       "      <td>-0.837238</td>\n",
       "      <td>-0.922385</td>\n",
       "      <td>-0.960556</td>\n",
       "      <td>-0.917655</td>\n",
       "    </tr>\n",
       "    <tr>\n",
       "      <th>5</th>\n",
       "      <td>-0.757493</td>\n",
       "      <td>-0.881897</td>\n",
       "      <td>-0.947065</td>\n",
       "      <td>-0.963483</td>\n",
       "      <td>-0.935687</td>\n",
       "      <td>-0.801047</td>\n",
       "      <td>-0.678111</td>\n",
       "      <td>-0.806289</td>\n",
       "      <td>-0.927893</td>\n",
       "      <td>-0.880020</td>\n",
       "      <td>...</td>\n",
       "      <td>-1.480587</td>\n",
       "      <td>-1.497094</td>\n",
       "      <td>-1.444186</td>\n",
       "      <td>-1.495180</td>\n",
       "      <td>-1.420438</td>\n",
       "      <td>-1.048910</td>\n",
       "      <td>-1.098618</td>\n",
       "      <td>-1.332784</td>\n",
       "      <td>-1.371605</td>\n",
       "      <td>-1.373746</td>\n",
       "    </tr>\n",
       "    <tr>\n",
       "      <th>6</th>\n",
       "      <td>0.281720</td>\n",
       "      <td>0.256200</td>\n",
       "      <td>0.276378</td>\n",
       "      <td>0.336700</td>\n",
       "      <td>0.367127</td>\n",
       "      <td>0.327887</td>\n",
       "      <td>0.290009</td>\n",
       "      <td>0.306102</td>\n",
       "      <td>0.320428</td>\n",
       "      <td>0.320460</td>\n",
       "      <td>...</td>\n",
       "      <td>-0.150902</td>\n",
       "      <td>-0.135172</td>\n",
       "      <td>-0.193984</td>\n",
       "      <td>-0.097970</td>\n",
       "      <td>-0.036366</td>\n",
       "      <td>-0.075122</td>\n",
       "      <td>0.034579</td>\n",
       "      <td>0.211226</td>\n",
       "      <td>0.055421</td>\n",
       "      <td>-0.017519</td>\n",
       "    </tr>\n",
       "    <tr>\n",
       "      <th>7</th>\n",
       "      <td>-0.645666</td>\n",
       "      <td>-0.612284</td>\n",
       "      <td>-0.603704</td>\n",
       "      <td>-0.617051</td>\n",
       "      <td>-0.633431</td>\n",
       "      <td>-0.657477</td>\n",
       "      <td>-0.676535</td>\n",
       "      <td>-0.669100</td>\n",
       "      <td>-0.658751</td>\n",
       "      <td>-0.650908</td>\n",
       "      <td>...</td>\n",
       "      <td>-0.495612</td>\n",
       "      <td>-0.479561</td>\n",
       "      <td>-0.539813</td>\n",
       "      <td>-0.433840</td>\n",
       "      <td>-0.355641</td>\n",
       "      <td>-0.364685</td>\n",
       "      <td>-0.442925</td>\n",
       "      <td>-0.540997</td>\n",
       "      <td>-0.326906</td>\n",
       "      <td>-0.233579</td>\n",
       "    </tr>\n",
       "    <tr>\n",
       "      <th>8</th>\n",
       "      <td>0.130734</td>\n",
       "      <td>0.168928</td>\n",
       "      <td>0.199051</td>\n",
       "      <td>0.223026</td>\n",
       "      <td>0.236705</td>\n",
       "      <td>0.226487</td>\n",
       "      <td>0.218878</td>\n",
       "      <td>0.263196</td>\n",
       "      <td>0.305313</td>\n",
       "      <td>0.280778</td>\n",
       "      <td>...</td>\n",
       "      <td>0.416382</td>\n",
       "      <td>0.425467</td>\n",
       "      <td>0.173475</td>\n",
       "      <td>0.241827</td>\n",
       "      <td>0.269691</td>\n",
       "      <td>0.158472</td>\n",
       "      <td>0.293291</td>\n",
       "      <td>0.538672</td>\n",
       "      <td>0.434451</td>\n",
       "      <td>0.377685</td>\n",
       "    </tr>\n",
       "    <tr>\n",
       "      <th>9</th>\n",
       "      <td>0.178527</td>\n",
       "      <td>0.212390</td>\n",
       "      <td>0.236086</td>\n",
       "      <td>0.251745</td>\n",
       "      <td>0.247284</td>\n",
       "      <td>0.194704</td>\n",
       "      <td>0.146584</td>\n",
       "      <td>0.187074</td>\n",
       "      <td>0.225799</td>\n",
       "      <td>0.222365</td>\n",
       "      <td>...</td>\n",
       "      <td>1.539563</td>\n",
       "      <td>1.443508</td>\n",
       "      <td>1.236146</td>\n",
       "      <td>1.229712</td>\n",
       "      <td>1.265253</td>\n",
       "      <td>1.364019</td>\n",
       "      <td>1.474631</td>\n",
       "      <td>1.561823</td>\n",
       "      <td>1.497067</td>\n",
       "      <td>1.423241</td>\n",
       "    </tr>\n",
       "    <tr>\n",
       "      <th>10</th>\n",
       "      <td>-0.322970</td>\n",
       "      <td>-0.328216</td>\n",
       "      <td>-0.355543</td>\n",
       "      <td>-0.402868</td>\n",
       "      <td>-0.419764</td>\n",
       "      <td>-0.365028</td>\n",
       "      <td>-0.314135</td>\n",
       "      <td>-0.356559</td>\n",
       "      <td>-0.396394</td>\n",
       "      <td>-0.354334</td>\n",
       "      <td>...</td>\n",
       "      <td>0.183633</td>\n",
       "      <td>0.100416</td>\n",
       "      <td>0.268821</td>\n",
       "      <td>0.306257</td>\n",
       "      <td>0.295382</td>\n",
       "      <td>0.196432</td>\n",
       "      <td>0.100450</td>\n",
       "      <td>0.002737</td>\n",
       "      <td>-0.071594</td>\n",
       "      <td>-0.089652</td>\n",
       "    </tr>\n",
       "    <tr>\n",
       "      <th>11</th>\n",
       "      <td>4.178111</td>\n",
       "      <td>4.172255</td>\n",
       "      <td>4.168579</td>\n",
       "      <td>4.166546</td>\n",
       "      <td>4.167141</td>\n",
       "      <td>4.174083</td>\n",
       "      <td>4.179810</td>\n",
       "      <td>4.158322</td>\n",
       "      <td>4.138022</td>\n",
       "      <td>4.157661</td>\n",
       "      <td>...</td>\n",
       "      <td>4.081183</td>\n",
       "      <td>4.208124</td>\n",
       "      <td>4.339188</td>\n",
       "      <td>4.187133</td>\n",
       "      <td>4.018896</td>\n",
       "      <td>3.857443</td>\n",
       "      <td>3.859256</td>\n",
       "      <td>3.953564</td>\n",
       "      <td>4.167581</td>\n",
       "      <td>4.253081</td>\n",
       "    </tr>\n",
       "    <tr>\n",
       "      <th>12</th>\n",
       "      <td>4.164526</td>\n",
       "      <td>4.222967</td>\n",
       "      <td>4.260786</td>\n",
       "      <td>4.281490</td>\n",
       "      <td>4.266570</td>\n",
       "      <td>4.166370</td>\n",
       "      <td>4.074874</td>\n",
       "      <td>4.119530</td>\n",
       "      <td>4.164076</td>\n",
       "      <td>4.165113</td>\n",
       "      <td>...</td>\n",
       "      <td>4.157630</td>\n",
       "      <td>4.158778</td>\n",
       "      <td>3.856216</td>\n",
       "      <td>3.976694</td>\n",
       "      <td>4.015880</td>\n",
       "      <td>3.809261</td>\n",
       "      <td>3.898375</td>\n",
       "      <td>4.137368</td>\n",
       "      <td>4.118860</td>\n",
       "      <td>4.124496</td>\n",
       "    </tr>\n",
       "    <tr>\n",
       "      <th>13</th>\n",
       "      <td>3.769449</td>\n",
       "      <td>3.821984</td>\n",
       "      <td>3.845743</td>\n",
       "      <td>3.844599</td>\n",
       "      <td>3.823180</td>\n",
       "      <td>3.752835</td>\n",
       "      <td>3.695758</td>\n",
       "      <td>3.792723</td>\n",
       "      <td>3.889912</td>\n",
       "      <td>3.836866</td>\n",
       "      <td>...</td>\n",
       "      <td>3.746015</td>\n",
       "      <td>3.806262</td>\n",
       "      <td>3.856002</td>\n",
       "      <td>3.797097</td>\n",
       "      <td>3.721718</td>\n",
       "      <td>3.626039</td>\n",
       "      <td>3.604819</td>\n",
       "      <td>3.637120</td>\n",
       "      <td>3.819391</td>\n",
       "      <td>3.854881</td>\n",
       "    </tr>\n",
       "    <tr>\n",
       "      <th>14</th>\n",
       "      <td>3.754535</td>\n",
       "      <td>3.838151</td>\n",
       "      <td>3.847978</td>\n",
       "      <td>3.793790</td>\n",
       "      <td>3.755886</td>\n",
       "      <td>3.755076</td>\n",
       "      <td>3.761982</td>\n",
       "      <td>3.827841</td>\n",
       "      <td>3.894458</td>\n",
       "      <td>3.814275</td>\n",
       "      <td>...</td>\n",
       "      <td>3.645658</td>\n",
       "      <td>3.671885</td>\n",
       "      <td>3.901881</td>\n",
       "      <td>3.836142</td>\n",
       "      <td>3.808527</td>\n",
       "      <td>3.910992</td>\n",
       "      <td>3.826486</td>\n",
       "      <td>3.663271</td>\n",
       "      <td>3.766326</td>\n",
       "      <td>3.834302</td>\n",
       "    </tr>\n",
       "    <tr>\n",
       "      <th>15</th>\n",
       "      <td>3.281282</td>\n",
       "      <td>3.139582</td>\n",
       "      <td>3.046147</td>\n",
       "      <td>2.991076</td>\n",
       "      <td>3.005298</td>\n",
       "      <td>3.185436</td>\n",
       "      <td>3.348934</td>\n",
       "      <td>3.160416</td>\n",
       "      <td>2.981409</td>\n",
       "      <td>3.056604</td>\n",
       "      <td>...</td>\n",
       "      <td>2.676000</td>\n",
       "      <td>2.714891</td>\n",
       "      <td>3.018521</td>\n",
       "      <td>2.885566</td>\n",
       "      <td>2.865642</td>\n",
       "      <td>3.164585</td>\n",
       "      <td>3.042326</td>\n",
       "      <td>2.740966</td>\n",
       "      <td>2.778727</td>\n",
       "      <td>2.793439</td>\n",
       "    </tr>\n",
       "    <tr>\n",
       "      <th>16</th>\n",
       "      <td>3.101845</td>\n",
       "      <td>3.179875</td>\n",
       "      <td>3.260139</td>\n",
       "      <td>3.342689</td>\n",
       "      <td>3.364852</td>\n",
       "      <td>3.245271</td>\n",
       "      <td>3.143345</td>\n",
       "      <td>3.233990</td>\n",
       "      <td>3.327572</td>\n",
       "      <td>3.278005</td>\n",
       "      <td>...</td>\n",
       "      <td>3.142131</td>\n",
       "      <td>3.235075</td>\n",
       "      <td>3.247902</td>\n",
       "      <td>3.235518</td>\n",
       "      <td>3.198322</td>\n",
       "      <td>3.109568</td>\n",
       "      <td>3.064830</td>\n",
       "      <td>3.064709</td>\n",
       "      <td>3.073224</td>\n",
       "      <td>3.083210</td>\n",
       "    </tr>\n",
       "    <tr>\n",
       "      <th>17</th>\n",
       "      <td>3.395612</td>\n",
       "      <td>3.432653</td>\n",
       "      <td>3.445077</td>\n",
       "      <td>3.435506</td>\n",
       "      <td>3.417408</td>\n",
       "      <td>3.378667</td>\n",
       "      <td>3.349632</td>\n",
       "      <td>3.392814</td>\n",
       "      <td>3.439261</td>\n",
       "      <td>3.418657</td>\n",
       "      <td>...</td>\n",
       "      <td>3.672178</td>\n",
       "      <td>3.657757</td>\n",
       "      <td>3.342316</td>\n",
       "      <td>3.338403</td>\n",
       "      <td>3.250263</td>\n",
       "      <td>2.926690</td>\n",
       "      <td>3.085091</td>\n",
       "      <td>3.493248</td>\n",
       "      <td>3.272713</td>\n",
       "      <td>3.178787</td>\n",
       "    </tr>\n",
       "    <tr>\n",
       "      <th>18</th>\n",
       "      <td>5.922506</td>\n",
       "      <td>5.909922</td>\n",
       "      <td>5.879836</td>\n",
       "      <td>5.835866</td>\n",
       "      <td>5.832033</td>\n",
       "      <td>5.922469</td>\n",
       "      <td>5.995839</td>\n",
       "      <td>5.931907</td>\n",
       "      <td>5.861949</td>\n",
       "      <td>5.886435</td>\n",
       "      <td>...</td>\n",
       "      <td>5.573445</td>\n",
       "      <td>5.647484</td>\n",
       "      <td>5.967951</td>\n",
       "      <td>5.960054</td>\n",
       "      <td>5.896101</td>\n",
       "      <td>5.756648</td>\n",
       "      <td>5.636609</td>\n",
       "      <td>5.503145</td>\n",
       "      <td>5.540247</td>\n",
       "      <td>5.589672</td>\n",
       "    </tr>\n",
       "    <tr>\n",
       "      <th>19</th>\n",
       "      <td>6.207231</td>\n",
       "      <td>6.173208</td>\n",
       "      <td>6.164758</td>\n",
       "      <td>6.180343</td>\n",
       "      <td>6.187623</td>\n",
       "      <td>6.174522</td>\n",
       "      <td>6.152513</td>\n",
       "      <td>6.150911</td>\n",
       "      <td>6.140884</td>\n",
       "      <td>6.153098</td>\n",
       "      <td>...</td>\n",
       "      <td>5.986522</td>\n",
       "      <td>6.041313</td>\n",
       "      <td>6.034986</td>\n",
       "      <td>5.867324</td>\n",
       "      <td>5.793913</td>\n",
       "      <td>5.955468</td>\n",
       "      <td>5.987797</td>\n",
       "      <td>5.925870</td>\n",
       "      <td>5.892896</td>\n",
       "      <td>5.875928</td>\n",
       "    </tr>\n",
       "  </tbody>\n",
       "</table>\n",
       "<p>20 rows × 1001 columns</p>\n",
       "</div>"
      ],
      "text/plain": [
       "        Q1.1      Q1.2      Q1.3      Q1.4      Q1.5      Q1.6      Q1.7  \\\n",
       "0   0.702765  0.701368  0.667048  0.604416  0.577726  0.634734  0.687919   \n",
       "1   0.471525  0.524410  0.568239  0.605762  0.612155  0.544626  0.478929   \n",
       "2  -0.304119 -0.329874 -0.328211 -0.303235 -0.292722 -0.315869 -0.336498   \n",
       "3   2.371092  2.344028  2.330286  2.330452  2.338351  2.363721  2.374656   \n",
       "4  -1.071678 -1.136116 -1.152072 -1.127834 -1.108201 -1.097930 -1.084849   \n",
       "5  -0.757493 -0.881897 -0.947065 -0.963483 -0.935687 -0.801047 -0.678111   \n",
       "6   0.281720  0.256200  0.276378  0.336700  0.367127  0.327887  0.290009   \n",
       "7  -0.645666 -0.612284 -0.603704 -0.617051 -0.633431 -0.657477 -0.676535   \n",
       "8   0.130734  0.168928  0.199051  0.223026  0.236705  0.226487  0.218878   \n",
       "9   0.178527  0.212390  0.236086  0.251745  0.247284  0.194704  0.146584   \n",
       "10 -0.322970 -0.328216 -0.355543 -0.402868 -0.419764 -0.365028 -0.314135   \n",
       "11  4.178111  4.172255  4.168579  4.166546  4.167141  4.174083  4.179810   \n",
       "12  4.164526  4.222967  4.260786  4.281490  4.266570  4.166370  4.074874   \n",
       "13  3.769449  3.821984  3.845743  3.844599  3.823180  3.752835  3.695758   \n",
       "14  3.754535  3.838151  3.847978  3.793790  3.755886  3.755076  3.761982   \n",
       "15  3.281282  3.139582  3.046147  2.991076  3.005298  3.185436  3.348934   \n",
       "16  3.101845  3.179875  3.260139  3.342689  3.364852  3.245271  3.143345   \n",
       "17  3.395612  3.432653  3.445077  3.435506  3.417408  3.378667  3.349632   \n",
       "18  5.922506  5.909922  5.879836  5.835866  5.832033  5.922469  5.995839   \n",
       "19  6.207231  6.173208  6.164758  6.180343  6.187623  6.174522  6.152513   \n",
       "\n",
       "        Q1.8      Q1.9     Q1.10  ...    Q1.992    Q1.993    Q1.994    Q1.995  \\\n",
       "0   0.715483  0.739139  0.746792  ...  0.656006  0.595486  0.684535  0.877535   \n",
       "1   0.498340  0.515025  0.496139  ...  0.775739  0.683028  0.543678  0.685557   \n",
       "2  -0.338597 -0.339091 -0.331862  ...  0.092331 -0.100294 -0.327556 -0.367145   \n",
       "3   2.356758  2.328415  2.327067  ...  1.531869  1.656178  1.779324  1.679249   \n",
       "4  -1.115330 -1.139999 -1.133657  ... -0.939648 -1.023997 -0.935870 -0.900399   \n",
       "5  -0.806289 -0.927893 -0.880020  ... -1.480587 -1.497094 -1.444186 -1.495180   \n",
       "6   0.306102  0.320428  0.320460  ... -0.150902 -0.135172 -0.193984 -0.097970   \n",
       "7  -0.669100 -0.658751 -0.650908  ... -0.495612 -0.479561 -0.539813 -0.433840   \n",
       "8   0.263196  0.305313  0.280778  ...  0.416382  0.425467  0.173475  0.241827   \n",
       "9   0.187074  0.225799  0.222365  ...  1.539563  1.443508  1.236146  1.229712   \n",
       "10 -0.356559 -0.396394 -0.354334  ...  0.183633  0.100416  0.268821  0.306257   \n",
       "11  4.158322  4.138022  4.157661  ...  4.081183  4.208124  4.339188  4.187133   \n",
       "12  4.119530  4.164076  4.165113  ...  4.157630  4.158778  3.856216  3.976694   \n",
       "13  3.792723  3.889912  3.836866  ...  3.746015  3.806262  3.856002  3.797097   \n",
       "14  3.827841  3.894458  3.814275  ...  3.645658  3.671885  3.901881  3.836142   \n",
       "15  3.160416  2.981409  3.056604  ...  2.676000  2.714891  3.018521  2.885566   \n",
       "16  3.233990  3.327572  3.278005  ...  3.142131  3.235075  3.247902  3.235518   \n",
       "17  3.392814  3.439261  3.418657  ...  3.672178  3.657757  3.342316  3.338403   \n",
       "18  5.931907  5.861949  5.886435  ...  5.573445  5.647484  5.967951  5.960054   \n",
       "19  6.150911  6.140884  6.153098  ...  5.986522  6.041313  6.034986  5.867324   \n",
       "\n",
       "      Q1.996    Q1.997    Q1.998    Q1.999   Q1.1000   Q1.1001  \n",
       "0   0.961894  0.787723  0.714738  0.680261  0.774981  0.783097  \n",
       "1   0.845753  1.004187  0.965871  0.814745  0.813595  0.835334  \n",
       "2  -0.355185 -0.256518 -0.081632  0.124483 -0.137621 -0.293826  \n",
       "3   1.627818  1.718848  1.680798  1.552492  1.672337  1.728359  \n",
       "4  -0.857890 -0.791606 -0.837238 -0.922385 -0.960556 -0.917655  \n",
       "5  -1.420438 -1.048910 -1.098618 -1.332784 -1.371605 -1.373746  \n",
       "6  -0.036366 -0.075122  0.034579  0.211226  0.055421 -0.017519  \n",
       "7  -0.355641 -0.364685 -0.442925 -0.540997 -0.326906 -0.233579  \n",
       "8   0.269691  0.158472  0.293291  0.538672  0.434451  0.377685  \n",
       "9   1.265253  1.364019  1.474631  1.561823  1.497067  1.423241  \n",
       "10  0.295382  0.196432  0.100450  0.002737 -0.071594 -0.089652  \n",
       "11  4.018896  3.857443  3.859256  3.953564  4.167581  4.253081  \n",
       "12  4.015880  3.809261  3.898375  4.137368  4.118860  4.124496  \n",
       "13  3.721718  3.626039  3.604819  3.637120  3.819391  3.854881  \n",
       "14  3.808527  3.910992  3.826486  3.663271  3.766326  3.834302  \n",
       "15  2.865642  3.164585  3.042326  2.740966  2.778727  2.793439  \n",
       "16  3.198322  3.109568  3.064830  3.064709  3.073224  3.083210  \n",
       "17  3.250263  2.926690  3.085091  3.493248  3.272713  3.178787  \n",
       "18  5.896101  5.756648  5.636609  5.503145  5.540247  5.589672  \n",
       "19  5.793913  5.955468  5.987797  5.925870  5.892896  5.875928  \n",
       "\n",
       "[20 rows x 1001 columns]"
      ]
     },
     "execution_count": 92,
     "metadata": {},
     "output_type": "execute_result"
    }
   ],
   "source": [
    "ear2"
   ]
  },
  {
   "cell_type": "markdown",
   "id": "b0a4e06b",
   "metadata": {},
   "source": [
    "# Optimizacion de modelo"
   ]
  },
  {
   "cell_type": "markdown",
   "id": "371e350f",
   "metadata": {},
   "source": [
    "## XGBClassifier"
   ]
  },
  {
   "cell_type": "code",
   "execution_count": 93,
   "id": "048fc471",
   "metadata": {},
   "outputs": [],
   "source": [
    "from xgboost import XGBClassifier"
   ]
  },
  {
   "cell_type": "code",
   "execution_count": 94,
   "id": "ba611dc2",
   "metadata": {},
   "outputs": [],
   "source": [
    "param_grid = {\n",
    " 'max_depth':range(3,10,2),\n",
    " 'min_child_weight':range(1,6,2)\n",
    "}"
   ]
  },
  {
   "cell_type": "code",
   "execution_count": 95,
   "id": "71761a4e",
   "metadata": {},
   "outputs": [],
   "source": [
    "XGBClassifier = XGBClassifier(\n",
    " learning_rate =0.1,\n",
    " n_estimators=1000,\n",
    " max_depth=5,\n",
    " min_child_weight=1,\n",
    " gamma=0,\n",
    " subsample=0.8,\n",
    " colsample_bytree=0.8,\n",
    " objective= 'binary:logistic',\n",
    " nthread=4,\n",
    " scale_pos_weight=1,\n",
    " seed=27)"
   ]
  },
  {
   "cell_type": "code",
   "execution_count": 96,
   "id": "0d808c40",
   "metadata": {},
   "outputs": [
    {
     "name": "stdout",
     "output_type": "stream",
     "text": [
      "[21:25:22] WARNING: C:/Users/Administrator/workspace/xgboost-win64_release_1.4.0/src/learner.cc:1095: Starting in XGBoost 1.3.0, the default evaluation metric used with the objective 'binary:logistic' was changed from 'error' to 'logloss'. Explicitly set eval_metric if you'd like to restore the old behavior.\n",
      "[21:25:24] WARNING: C:/Users/Administrator/workspace/xgboost-win64_release_1.4.0/src/learner.cc:1095: Starting in XGBoost 1.3.0, the default evaluation metric used with the objective 'binary:logistic' was changed from 'error' to 'logloss'. Explicitly set eval_metric if you'd like to restore the old behavior.\n",
      "[21:25:26] WARNING: C:/Users/Administrator/workspace/xgboost-win64_release_1.4.0/src/learner.cc:1095: Starting in XGBoost 1.3.0, the default evaluation metric used with the objective 'binary:logistic' was changed from 'error' to 'logloss'. Explicitly set eval_metric if you'd like to restore the old behavior.\n",
      "[21:25:28] WARNING: C:/Users/Administrator/workspace/xgboost-win64_release_1.4.0/src/learner.cc:1095: Starting in XGBoost 1.3.0, the default evaluation metric used with the objective 'binary:logistic' was changed from 'error' to 'logloss'. Explicitly set eval_metric if you'd like to restore the old behavior.\n",
      "[21:25:30] WARNING: C:/Users/Administrator/workspace/xgboost-win64_release_1.4.0/src/learner.cc:1095: Starting in XGBoost 1.3.0, the default evaluation metric used with the objective 'binary:logistic' was changed from 'error' to 'logloss'. Explicitly set eval_metric if you'd like to restore the old behavior.\n",
      "[21:25:32] WARNING: C:/Users/Administrator/workspace/xgboost-win64_release_1.4.0/src/learner.cc:1095: Starting in XGBoost 1.3.0, the default evaluation metric used with the objective 'binary:logistic' was changed from 'error' to 'logloss'. Explicitly set eval_metric if you'd like to restore the old behavior.\n",
      "[21:25:34] WARNING: C:/Users/Administrator/workspace/xgboost-win64_release_1.4.0/src/learner.cc:1095: Starting in XGBoost 1.3.0, the default evaluation metric used with the objective 'binary:logistic' was changed from 'error' to 'logloss'. Explicitly set eval_metric if you'd like to restore the old behavior.\n",
      "[21:25:36] WARNING: C:/Users/Administrator/workspace/xgboost-win64_release_1.4.0/src/learner.cc:1095: Starting in XGBoost 1.3.0, the default evaluation metric used with the objective 'binary:logistic' was changed from 'error' to 'logloss'. Explicitly set eval_metric if you'd like to restore the old behavior.\n",
      "[21:25:38] WARNING: C:/Users/Administrator/workspace/xgboost-win64_release_1.4.0/src/learner.cc:1095: Starting in XGBoost 1.3.0, the default evaluation metric used with the objective 'binary:logistic' was changed from 'error' to 'logloss'. Explicitly set eval_metric if you'd like to restore the old behavior.\n",
      "[21:25:40] WARNING: C:/Users/Administrator/workspace/xgboost-win64_release_1.4.0/src/learner.cc:1095: Starting in XGBoost 1.3.0, the default evaluation metric used with the objective 'binary:logistic' was changed from 'error' to 'logloss'. Explicitly set eval_metric if you'd like to restore the old behavior.\n",
      "[21:25:42] WARNING: C:/Users/Administrator/workspace/xgboost-win64_release_1.4.0/src/learner.cc:1095: Starting in XGBoost 1.3.0, the default evaluation metric used with the objective 'binary:logistic' was changed from 'error' to 'logloss'. Explicitly set eval_metric if you'd like to restore the old behavior.\n",
      "[21:25:44] WARNING: C:/Users/Administrator/workspace/xgboost-win64_release_1.4.0/src/learner.cc:1095: Starting in XGBoost 1.3.0, the default evaluation metric used with the objective 'binary:logistic' was changed from 'error' to 'logloss'. Explicitly set eval_metric if you'd like to restore the old behavior.\n",
      "[21:25:46] WARNING: C:/Users/Administrator/workspace/xgboost-win64_release_1.4.0/src/learner.cc:1095: Starting in XGBoost 1.3.0, the default evaluation metric used with the objective 'binary:logistic' was changed from 'error' to 'logloss'. Explicitly set eval_metric if you'd like to restore the old behavior.\n",
      "[21:25:48] WARNING: C:/Users/Administrator/workspace/xgboost-win64_release_1.4.0/src/learner.cc:1095: Starting in XGBoost 1.3.0, the default evaluation metric used with the objective 'binary:logistic' was changed from 'error' to 'logloss'. Explicitly set eval_metric if you'd like to restore the old behavior.\n",
      "[21:25:50] WARNING: C:/Users/Administrator/workspace/xgboost-win64_release_1.4.0/src/learner.cc:1095: Starting in XGBoost 1.3.0, the default evaluation metric used with the objective 'binary:logistic' was changed from 'error' to 'logloss'. Explicitly set eval_metric if you'd like to restore the old behavior.\n",
      "[21:25:52] WARNING: C:/Users/Administrator/workspace/xgboost-win64_release_1.4.0/src/learner.cc:1095: Starting in XGBoost 1.3.0, the default evaluation metric used with the objective 'binary:logistic' was changed from 'error' to 'logloss'. Explicitly set eval_metric if you'd like to restore the old behavior.\n",
      "[21:25:54] WARNING: C:/Users/Administrator/workspace/xgboost-win64_release_1.4.0/src/learner.cc:1095: Starting in XGBoost 1.3.0, the default evaluation metric used with the objective 'binary:logistic' was changed from 'error' to 'logloss'. Explicitly set eval_metric if you'd like to restore the old behavior.\n",
      "[21:25:56] WARNING: C:/Users/Administrator/workspace/xgboost-win64_release_1.4.0/src/learner.cc:1095: Starting in XGBoost 1.3.0, the default evaluation metric used with the objective 'binary:logistic' was changed from 'error' to 'logloss'. Explicitly set eval_metric if you'd like to restore the old behavior.\n",
      "[21:25:58] WARNING: C:/Users/Administrator/workspace/xgboost-win64_release_1.4.0/src/learner.cc:1095: Starting in XGBoost 1.3.0, the default evaluation metric used with the objective 'binary:logistic' was changed from 'error' to 'logloss'. Explicitly set eval_metric if you'd like to restore the old behavior.\n",
      "[21:26:00] WARNING: C:/Users/Administrator/workspace/xgboost-win64_release_1.4.0/src/learner.cc:1095: Starting in XGBoost 1.3.0, the default evaluation metric used with the objective 'binary:logistic' was changed from 'error' to 'logloss'. Explicitly set eval_metric if you'd like to restore the old behavior.\n",
      "[21:26:02] WARNING: C:/Users/Administrator/workspace/xgboost-win64_release_1.4.0/src/learner.cc:1095: Starting in XGBoost 1.3.0, the default evaluation metric used with the objective 'binary:logistic' was changed from 'error' to 'logloss'. Explicitly set eval_metric if you'd like to restore the old behavior.\n",
      "[21:26:04] WARNING: C:/Users/Administrator/workspace/xgboost-win64_release_1.4.0/src/learner.cc:1095: Starting in XGBoost 1.3.0, the default evaluation metric used with the objective 'binary:logistic' was changed from 'error' to 'logloss'. Explicitly set eval_metric if you'd like to restore the old behavior.\n",
      "[21:26:06] WARNING: C:/Users/Administrator/workspace/xgboost-win64_release_1.4.0/src/learner.cc:1095: Starting in XGBoost 1.3.0, the default evaluation metric used with the objective 'binary:logistic' was changed from 'error' to 'logloss'. Explicitly set eval_metric if you'd like to restore the old behavior.\n",
      "[21:26:08] WARNING: C:/Users/Administrator/workspace/xgboost-win64_release_1.4.0/src/learner.cc:1095: Starting in XGBoost 1.3.0, the default evaluation metric used with the objective 'binary:logistic' was changed from 'error' to 'logloss'. Explicitly set eval_metric if you'd like to restore the old behavior.\n",
      "[21:26:10] WARNING: C:/Users/Administrator/workspace/xgboost-win64_release_1.4.0/src/learner.cc:1095: Starting in XGBoost 1.3.0, the default evaluation metric used with the objective 'binary:logistic' was changed from 'error' to 'logloss'. Explicitly set eval_metric if you'd like to restore the old behavior.\n",
      "[21:26:12] WARNING: C:/Users/Administrator/workspace/xgboost-win64_release_1.4.0/src/learner.cc:1095: Starting in XGBoost 1.3.0, the default evaluation metric used with the objective 'binary:logistic' was changed from 'error' to 'logloss'. Explicitly set eval_metric if you'd like to restore the old behavior.\n",
      "[21:26:14] WARNING: C:/Users/Administrator/workspace/xgboost-win64_release_1.4.0/src/learner.cc:1095: Starting in XGBoost 1.3.0, the default evaluation metric used with the objective 'binary:logistic' was changed from 'error' to 'logloss'. Explicitly set eval_metric if you'd like to restore the old behavior.\n",
      "[21:26:16] WARNING: C:/Users/Administrator/workspace/xgboost-win64_release_1.4.0/src/learner.cc:1095: Starting in XGBoost 1.3.0, the default evaluation metric used with the objective 'binary:logistic' was changed from 'error' to 'logloss'. Explicitly set eval_metric if you'd like to restore the old behavior.\n",
      "[21:26:18] WARNING: C:/Users/Administrator/workspace/xgboost-win64_release_1.4.0/src/learner.cc:1095: Starting in XGBoost 1.3.0, the default evaluation metric used with the objective 'binary:logistic' was changed from 'error' to 'logloss'. Explicitly set eval_metric if you'd like to restore the old behavior.\n",
      "[21:26:20] WARNING: C:/Users/Administrator/workspace/xgboost-win64_release_1.4.0/src/learner.cc:1095: Starting in XGBoost 1.3.0, the default evaluation metric used with the objective 'binary:logistic' was changed from 'error' to 'logloss'. Explicitly set eval_metric if you'd like to restore the old behavior.\n",
      "[21:26:21] WARNING: C:/Users/Administrator/workspace/xgboost-win64_release_1.4.0/src/learner.cc:1095: Starting in XGBoost 1.3.0, the default evaluation metric used with the objective 'binary:logistic' was changed from 'error' to 'logloss'. Explicitly set eval_metric if you'd like to restore the old behavior.\n",
      "[21:26:23] WARNING: C:/Users/Administrator/workspace/xgboost-win64_release_1.4.0/src/learner.cc:1095: Starting in XGBoost 1.3.0, the default evaluation metric used with the objective 'binary:logistic' was changed from 'error' to 'logloss'. Explicitly set eval_metric if you'd like to restore the old behavior.\n",
      "[21:26:25] WARNING: C:/Users/Administrator/workspace/xgboost-win64_release_1.4.0/src/learner.cc:1095: Starting in XGBoost 1.3.0, the default evaluation metric used with the objective 'binary:logistic' was changed from 'error' to 'logloss'. Explicitly set eval_metric if you'd like to restore the old behavior.\n",
      "[21:26:27] WARNING: C:/Users/Administrator/workspace/xgboost-win64_release_1.4.0/src/learner.cc:1095: Starting in XGBoost 1.3.0, the default evaluation metric used with the objective 'binary:logistic' was changed from 'error' to 'logloss'. Explicitly set eval_metric if you'd like to restore the old behavior.\n",
      "[21:26:29] WARNING: C:/Users/Administrator/workspace/xgboost-win64_release_1.4.0/src/learner.cc:1095: Starting in XGBoost 1.3.0, the default evaluation metric used with the objective 'binary:logistic' was changed from 'error' to 'logloss'. Explicitly set eval_metric if you'd like to restore the old behavior.\n",
      "[21:26:31] WARNING: C:/Users/Administrator/workspace/xgboost-win64_release_1.4.0/src/learner.cc:1095: Starting in XGBoost 1.3.0, the default evaluation metric used with the objective 'binary:logistic' was changed from 'error' to 'logloss'. Explicitly set eval_metric if you'd like to restore the old behavior.\n",
      "[21:26:33] WARNING: C:/Users/Administrator/workspace/xgboost-win64_release_1.4.0/src/learner.cc:1095: Starting in XGBoost 1.3.0, the default evaluation metric used with the objective 'binary:logistic' was changed from 'error' to 'logloss'. Explicitly set eval_metric if you'd like to restore the old behavior.\n",
      "[21:26:35] WARNING: C:/Users/Administrator/workspace/xgboost-win64_release_1.4.0/src/learner.cc:1095: Starting in XGBoost 1.3.0, the default evaluation metric used with the objective 'binary:logistic' was changed from 'error' to 'logloss'. Explicitly set eval_metric if you'd like to restore the old behavior.\n",
      "[21:26:37] WARNING: C:/Users/Administrator/workspace/xgboost-win64_release_1.4.0/src/learner.cc:1095: Starting in XGBoost 1.3.0, the default evaluation metric used with the objective 'binary:logistic' was changed from 'error' to 'logloss'. Explicitly set eval_metric if you'd like to restore the old behavior.\n",
      "[21:26:39] WARNING: C:/Users/Administrator/workspace/xgboost-win64_release_1.4.0/src/learner.cc:1095: Starting in XGBoost 1.3.0, the default evaluation metric used with the objective 'binary:logistic' was changed from 'error' to 'logloss'. Explicitly set eval_metric if you'd like to restore the old behavior.\n",
      "[21:26:41] WARNING: C:/Users/Administrator/workspace/xgboost-win64_release_1.4.0/src/learner.cc:1095: Starting in XGBoost 1.3.0, the default evaluation metric used with the objective 'binary:logistic' was changed from 'error' to 'logloss'. Explicitly set eval_metric if you'd like to restore the old behavior.\n",
      "[21:26:43] WARNING: C:/Users/Administrator/workspace/xgboost-win64_release_1.4.0/src/learner.cc:1095: Starting in XGBoost 1.3.0, the default evaluation metric used with the objective 'binary:logistic' was changed from 'error' to 'logloss'. Explicitly set eval_metric if you'd like to restore the old behavior.\n",
      "[21:26:45] WARNING: C:/Users/Administrator/workspace/xgboost-win64_release_1.4.0/src/learner.cc:1095: Starting in XGBoost 1.3.0, the default evaluation metric used with the objective 'binary:logistic' was changed from 'error' to 'logloss'. Explicitly set eval_metric if you'd like to restore the old behavior.\n",
      "[21:26:47] WARNING: C:/Users/Administrator/workspace/xgboost-win64_release_1.4.0/src/learner.cc:1095: Starting in XGBoost 1.3.0, the default evaluation metric used with the objective 'binary:logistic' was changed from 'error' to 'logloss'. Explicitly set eval_metric if you'd like to restore the old behavior.\n",
      "[21:26:49] WARNING: C:/Users/Administrator/workspace/xgboost-win64_release_1.4.0/src/learner.cc:1095: Starting in XGBoost 1.3.0, the default evaluation metric used with the objective 'binary:logistic' was changed from 'error' to 'logloss'. Explicitly set eval_metric if you'd like to restore the old behavior.\n",
      "[21:26:50] WARNING: C:/Users/Administrator/workspace/xgboost-win64_release_1.4.0/src/learner.cc:1095: Starting in XGBoost 1.3.0, the default evaluation metric used with the objective 'binary:logistic' was changed from 'error' to 'logloss'. Explicitly set eval_metric if you'd like to restore the old behavior.\n",
      "[21:26:52] WARNING: C:/Users/Administrator/workspace/xgboost-win64_release_1.4.0/src/learner.cc:1095: Starting in XGBoost 1.3.0, the default evaluation metric used with the objective 'binary:logistic' was changed from 'error' to 'logloss'. Explicitly set eval_metric if you'd like to restore the old behavior.\n",
      "[21:26:53] WARNING: C:/Users/Administrator/workspace/xgboost-win64_release_1.4.0/src/learner.cc:1095: Starting in XGBoost 1.3.0, the default evaluation metric used with the objective 'binary:logistic' was changed from 'error' to 'logloss'. Explicitly set eval_metric if you'd like to restore the old behavior.\n",
      "[21:26:55] WARNING: C:/Users/Administrator/workspace/xgboost-win64_release_1.4.0/src/learner.cc:1095: Starting in XGBoost 1.3.0, the default evaluation metric used with the objective 'binary:logistic' was changed from 'error' to 'logloss'. Explicitly set eval_metric if you'd like to restore the old behavior.\n",
      "[21:26:57] WARNING: C:/Users/Administrator/workspace/xgboost-win64_release_1.4.0/src/learner.cc:1095: Starting in XGBoost 1.3.0, the default evaluation metric used with the objective 'binary:logistic' was changed from 'error' to 'logloss'. Explicitly set eval_metric if you'd like to restore the old behavior.\n",
      "[21:26:58] WARNING: C:/Users/Administrator/workspace/xgboost-win64_release_1.4.0/src/learner.cc:1095: Starting in XGBoost 1.3.0, the default evaluation metric used with the objective 'binary:logistic' was changed from 'error' to 'logloss'. Explicitly set eval_metric if you'd like to restore the old behavior.\n",
      "[21:27:00] WARNING: C:/Users/Administrator/workspace/xgboost-win64_release_1.4.0/src/learner.cc:1095: Starting in XGBoost 1.3.0, the default evaluation metric used with the objective 'binary:logistic' was changed from 'error' to 'logloss'. Explicitly set eval_metric if you'd like to restore the old behavior.\n",
      "[21:27:02] WARNING: C:/Users/Administrator/workspace/xgboost-win64_release_1.4.0/src/learner.cc:1095: Starting in XGBoost 1.3.0, the default evaluation metric used with the objective 'binary:logistic' was changed from 'error' to 'logloss'. Explicitly set eval_metric if you'd like to restore the old behavior.\n",
      "[21:27:04] WARNING: C:/Users/Administrator/workspace/xgboost-win64_release_1.4.0/src/learner.cc:1095: Starting in XGBoost 1.3.0, the default evaluation metric used with the objective 'binary:logistic' was changed from 'error' to 'logloss'. Explicitly set eval_metric if you'd like to restore the old behavior.\n",
      "[21:27:05] WARNING: C:/Users/Administrator/workspace/xgboost-win64_release_1.4.0/src/learner.cc:1095: Starting in XGBoost 1.3.0, the default evaluation metric used with the objective 'binary:logistic' was changed from 'error' to 'logloss'. Explicitly set eval_metric if you'd like to restore the old behavior.\n",
      "[21:27:07] WARNING: C:/Users/Administrator/workspace/xgboost-win64_release_1.4.0/src/learner.cc:1095: Starting in XGBoost 1.3.0, the default evaluation metric used with the objective 'binary:logistic' was changed from 'error' to 'logloss'. Explicitly set eval_metric if you'd like to restore the old behavior.\n",
      "[21:27:08] WARNING: C:/Users/Administrator/workspace/xgboost-win64_release_1.4.0/src/learner.cc:1095: Starting in XGBoost 1.3.0, the default evaluation metric used with the objective 'binary:logistic' was changed from 'error' to 'logloss'. Explicitly set eval_metric if you'd like to restore the old behavior.\n",
      "[21:27:10] WARNING: C:/Users/Administrator/workspace/xgboost-win64_release_1.4.0/src/learner.cc:1095: Starting in XGBoost 1.3.0, the default evaluation metric used with the objective 'binary:logistic' was changed from 'error' to 'logloss'. Explicitly set eval_metric if you'd like to restore the old behavior.\n",
      "[21:27:12] WARNING: C:/Users/Administrator/workspace/xgboost-win64_release_1.4.0/src/learner.cc:1095: Starting in XGBoost 1.3.0, the default evaluation metric used with the objective 'binary:logistic' was changed from 'error' to 'logloss'. Explicitly set eval_metric if you'd like to restore the old behavior.\n",
      "[21:27:13] WARNING: C:/Users/Administrator/workspace/xgboost-win64_release_1.4.0/src/learner.cc:1095: Starting in XGBoost 1.3.0, the default evaluation metric used with the objective 'binary:logistic' was changed from 'error' to 'logloss'. Explicitly set eval_metric if you'd like to restore the old behavior.\n",
      "[21:27:15] WARNING: C:/Users/Administrator/workspace/xgboost-win64_release_1.4.0/src/learner.cc:1095: Starting in XGBoost 1.3.0, the default evaluation metric used with the objective 'binary:logistic' was changed from 'error' to 'logloss'. Explicitly set eval_metric if you'd like to restore the old behavior.\n",
      "Mejor resultado1.0\n",
      "Mejor parametroXGBClassifier(base_score=0.5, booster='gbtree', colsample_bylevel=1,\n",
      "              colsample_bynode=1, colsample_bytree=0.8, gamma=0, gpu_id=-1,\n",
      "              importance_type='gain', interaction_constraints='',\n",
      "              learning_rate=0.1, max_delta_step=0, max_depth=3,\n",
      "              min_child_weight=1, missing=nan, monotone_constraints='()',\n",
      "              n_estimators=1000, n_jobs=4, nthread=4, num_parallel_tree=1,\n",
      "              random_state=27, reg_alpha=0, reg_lambda=1, scale_pos_weight=1,\n",
      "              seed=27, subsample=0.8, tree_method='exact',\n",
      "              validate_parameters=1, verbosity=None)\n"
     ]
    }
   ],
   "source": [
    "total_parametros, mejores_parametros,best_stimator,best_score = Optimizacion_parametros(param_grid,XGBClassifier,ear2,y,5)"
   ]
  },
  {
   "cell_type": "code",
   "execution_count": 97,
   "id": "04c847b3",
   "metadata": {},
   "outputs": [
    {
     "data": {
      "text/plain": [
       "1.0"
      ]
     },
     "execution_count": 97,
     "metadata": {},
     "output_type": "execute_result"
    }
   ],
   "source": [
    "best_score"
   ]
  },
  {
   "cell_type": "code",
   "execution_count": 98,
   "id": "a286f31b",
   "metadata": {},
   "outputs": [
    {
     "data": {
      "text/plain": [
       "XGBClassifier(base_score=0.5, booster='gbtree', colsample_bylevel=1,\n",
       "              colsample_bynode=1, colsample_bytree=0.8, gamma=0, gpu_id=-1,\n",
       "              importance_type='gain', interaction_constraints='',\n",
       "              learning_rate=0.1, max_delta_step=0, max_depth=3,\n",
       "              min_child_weight=1, missing=nan, monotone_constraints='()',\n",
       "              n_estimators=1000, n_jobs=4, nthread=4, num_parallel_tree=1,\n",
       "              random_state=27, reg_alpha=0, reg_lambda=1, scale_pos_weight=1,\n",
       "              seed=27, subsample=0.8, tree_method='exact',\n",
       "              validate_parameters=1, verbosity=None)"
      ]
     },
     "execution_count": 98,
     "metadata": {},
     "output_type": "execute_result"
    }
   ],
   "source": [
    "best_stimator"
   ]
  },
  {
   "cell_type": "code",
   "execution_count": 99,
   "id": "1d3b507e",
   "metadata": {},
   "outputs": [
    {
     "data": {
      "text/html": [
       "<div>\n",
       "<style scoped>\n",
       "    .dataframe tbody tr th:only-of-type {\n",
       "        vertical-align: middle;\n",
       "    }\n",
       "\n",
       "    .dataframe tbody tr th {\n",
       "        vertical-align: top;\n",
       "    }\n",
       "\n",
       "    .dataframe thead th {\n",
       "        text-align: right;\n",
       "    }\n",
       "</style>\n",
       "<table border=\"1\" class=\"dataframe\">\n",
       "  <thead>\n",
       "    <tr style=\"text-align: right;\">\n",
       "      <th></th>\n",
       "      <th>max_depth</th>\n",
       "      <th>min_child_weight</th>\n",
       "      <th>mean_train_score</th>\n",
       "      <th>mean_test_score</th>\n",
       "      <th>std_train_score</th>\n",
       "      <th>std_test_score</th>\n",
       "    </tr>\n",
       "  </thead>\n",
       "  <tbody>\n",
       "    <tr>\n",
       "      <th>0</th>\n",
       "      <td>3</td>\n",
       "      <td>1</td>\n",
       "      <td>1.00</td>\n",
       "      <td>1.0</td>\n",
       "      <td>0.000</td>\n",
       "      <td>0.0</td>\n",
       "    </tr>\n",
       "    <tr>\n",
       "      <th>1</th>\n",
       "      <td>3</td>\n",
       "      <td>3</td>\n",
       "      <td>0.45</td>\n",
       "      <td>0.4</td>\n",
       "      <td>0.225</td>\n",
       "      <td>0.2</td>\n",
       "    </tr>\n",
       "    <tr>\n",
       "      <th>2</th>\n",
       "      <td>3</td>\n",
       "      <td>5</td>\n",
       "      <td>0.00</td>\n",
       "      <td>0.0</td>\n",
       "      <td>0.000</td>\n",
       "      <td>0.0</td>\n",
       "    </tr>\n",
       "    <tr>\n",
       "      <th>3</th>\n",
       "      <td>5</td>\n",
       "      <td>1</td>\n",
       "      <td>1.00</td>\n",
       "      <td>1.0</td>\n",
       "      <td>0.000</td>\n",
       "      <td>0.0</td>\n",
       "    </tr>\n",
       "    <tr>\n",
       "      <th>4</th>\n",
       "      <td>5</td>\n",
       "      <td>3</td>\n",
       "      <td>0.45</td>\n",
       "      <td>0.4</td>\n",
       "      <td>0.225</td>\n",
       "      <td>0.2</td>\n",
       "    </tr>\n",
       "    <tr>\n",
       "      <th>5</th>\n",
       "      <td>5</td>\n",
       "      <td>5</td>\n",
       "      <td>0.00</td>\n",
       "      <td>0.0</td>\n",
       "      <td>0.000</td>\n",
       "      <td>0.0</td>\n",
       "    </tr>\n",
       "    <tr>\n",
       "      <th>6</th>\n",
       "      <td>7</td>\n",
       "      <td>1</td>\n",
       "      <td>1.00</td>\n",
       "      <td>1.0</td>\n",
       "      <td>0.000</td>\n",
       "      <td>0.0</td>\n",
       "    </tr>\n",
       "    <tr>\n",
       "      <th>7</th>\n",
       "      <td>7</td>\n",
       "      <td>3</td>\n",
       "      <td>0.45</td>\n",
       "      <td>0.4</td>\n",
       "      <td>0.225</td>\n",
       "      <td>0.2</td>\n",
       "    </tr>\n",
       "    <tr>\n",
       "      <th>8</th>\n",
       "      <td>7</td>\n",
       "      <td>5</td>\n",
       "      <td>0.00</td>\n",
       "      <td>0.0</td>\n",
       "      <td>0.000</td>\n",
       "      <td>0.0</td>\n",
       "    </tr>\n",
       "    <tr>\n",
       "      <th>9</th>\n",
       "      <td>9</td>\n",
       "      <td>1</td>\n",
       "      <td>1.00</td>\n",
       "      <td>1.0</td>\n",
       "      <td>0.000</td>\n",
       "      <td>0.0</td>\n",
       "    </tr>\n",
       "    <tr>\n",
       "      <th>10</th>\n",
       "      <td>9</td>\n",
       "      <td>3</td>\n",
       "      <td>0.45</td>\n",
       "      <td>0.4</td>\n",
       "      <td>0.225</td>\n",
       "      <td>0.2</td>\n",
       "    </tr>\n",
       "    <tr>\n",
       "      <th>11</th>\n",
       "      <td>9</td>\n",
       "      <td>5</td>\n",
       "      <td>0.00</td>\n",
       "      <td>0.0</td>\n",
       "      <td>0.000</td>\n",
       "      <td>0.0</td>\n",
       "    </tr>\n",
       "  </tbody>\n",
       "</table>\n",
       "</div>"
      ],
      "text/plain": [
       "    max_depth  min_child_weight  mean_train_score  mean_test_score  \\\n",
       "0           3                 1              1.00              1.0   \n",
       "1           3                 3              0.45              0.4   \n",
       "2           3                 5              0.00              0.0   \n",
       "3           5                 1              1.00              1.0   \n",
       "4           5                 3              0.45              0.4   \n",
       "5           5                 5              0.00              0.0   \n",
       "6           7                 1              1.00              1.0   \n",
       "7           7                 3              0.45              0.4   \n",
       "8           7                 5              0.00              0.0   \n",
       "9           9                 1              1.00              1.0   \n",
       "10          9                 3              0.45              0.4   \n",
       "11          9                 5              0.00              0.0   \n",
       "\n",
       "    std_train_score  std_test_score  \n",
       "0             0.000             0.0  \n",
       "1             0.225             0.2  \n",
       "2             0.000             0.0  \n",
       "3             0.000             0.0  \n",
       "4             0.225             0.2  \n",
       "5             0.000             0.0  \n",
       "6             0.000             0.0  \n",
       "7             0.225             0.2  \n",
       "8             0.000             0.0  \n",
       "9             0.000             0.0  \n",
       "10            0.225             0.2  \n",
       "11            0.000             0.0  "
      ]
     },
     "execution_count": 99,
     "metadata": {},
     "output_type": "execute_result"
    }
   ],
   "source": [
    "total_parametros"
   ]
  },
  {
   "cell_type": "code",
   "execution_count": 100,
   "id": "2a253faf",
   "metadata": {},
   "outputs": [
    {
     "data": {
      "text/html": [
       "<div>\n",
       "<style scoped>\n",
       "    .dataframe tbody tr th:only-of-type {\n",
       "        vertical-align: middle;\n",
       "    }\n",
       "\n",
       "    .dataframe tbody tr th {\n",
       "        vertical-align: top;\n",
       "    }\n",
       "\n",
       "    .dataframe thead th {\n",
       "        text-align: right;\n",
       "    }\n",
       "</style>\n",
       "<table border=\"1\" class=\"dataframe\">\n",
       "  <thead>\n",
       "    <tr style=\"text-align: right;\">\n",
       "      <th></th>\n",
       "      <th>max_depth</th>\n",
       "      <th>min_child_weight</th>\n",
       "      <th>mean_train_score</th>\n",
       "      <th>mean_test_score</th>\n",
       "      <th>std_train_score</th>\n",
       "      <th>std_test_score</th>\n",
       "    </tr>\n",
       "  </thead>\n",
       "  <tbody>\n",
       "    <tr>\n",
       "      <th>0</th>\n",
       "      <td>3</td>\n",
       "      <td>1</td>\n",
       "      <td>1.0</td>\n",
       "      <td>1.0</td>\n",
       "      <td>0.0</td>\n",
       "      <td>0.0</td>\n",
       "    </tr>\n",
       "    <tr>\n",
       "      <th>3</th>\n",
       "      <td>5</td>\n",
       "      <td>1</td>\n",
       "      <td>1.0</td>\n",
       "      <td>1.0</td>\n",
       "      <td>0.0</td>\n",
       "      <td>0.0</td>\n",
       "    </tr>\n",
       "    <tr>\n",
       "      <th>6</th>\n",
       "      <td>7</td>\n",
       "      <td>1</td>\n",
       "      <td>1.0</td>\n",
       "      <td>1.0</td>\n",
       "      <td>0.0</td>\n",
       "      <td>0.0</td>\n",
       "    </tr>\n",
       "    <tr>\n",
       "      <th>9</th>\n",
       "      <td>9</td>\n",
       "      <td>1</td>\n",
       "      <td>1.0</td>\n",
       "      <td>1.0</td>\n",
       "      <td>0.0</td>\n",
       "      <td>0.0</td>\n",
       "    </tr>\n",
       "  </tbody>\n",
       "</table>\n",
       "</div>"
      ],
      "text/plain": [
       "   max_depth  min_child_weight  mean_train_score  mean_test_score  \\\n",
       "0          3                 1               1.0              1.0   \n",
       "3          5                 1               1.0              1.0   \n",
       "6          7                 1               1.0              1.0   \n",
       "9          9                 1               1.0              1.0   \n",
       "\n",
       "   std_train_score  std_test_score  \n",
       "0              0.0             0.0  \n",
       "3              0.0             0.0  \n",
       "6              0.0             0.0  \n",
       "9              0.0             0.0  "
      ]
     },
     "execution_count": 100,
     "metadata": {},
     "output_type": "execute_result"
    }
   ],
   "source": [
    "mejores_parametros"
   ]
  },
  {
   "cell_type": "markdown",
   "id": "3ebdb9d4",
   "metadata": {},
   "source": [
    "## Adabost"
   ]
  },
  {
   "cell_type": "code",
   "execution_count": 101,
   "id": "2b52d315",
   "metadata": {},
   "outputs": [],
   "source": [
    "from sklearn.tree import DecisionTreeClassifier\n",
    "from sklearn.ensemble import AdaBoostClassifier\n"
   ]
  },
  {
   "cell_type": "code",
   "execution_count": 102,
   "id": "55547221",
   "metadata": {},
   "outputs": [],
   "source": [
    "param_grid = {'base_estimator__max_depth':[i for i in range(2,11,2)],\n",
    "              'base_estimator__min_samples_leaf':[5,10],\n",
    "              'n_estimators':[10,50,250,1000],\n",
    "              'learning_rate':[0.01,0.1]}"
   ]
  },
  {
   "cell_type": "code",
   "execution_count": 103,
   "id": "ffdb25b6",
   "metadata": {},
   "outputs": [],
   "source": [
    "ada_clf = AdaBoostClassifier(base_estimator=DecisionTreeClassifier())"
   ]
  },
  {
   "cell_type": "code",
   "execution_count": 104,
   "id": "c889e941",
   "metadata": {},
   "outputs": [
    {
     "name": "stdout",
     "output_type": "stream",
     "text": [
      "Mejor resultado1.0\n",
      "Mejor parametroAdaBoostClassifier(base_estimator=DecisionTreeClassifier(max_depth=2,\n",
      "                                                         min_samples_leaf=5),\n",
      "                   learning_rate=0.01, n_estimators=10)\n"
     ]
    }
   ],
   "source": [
    "total_parametros, mejores_parametros,best_stimator,best_score = Optimizacion_parametros(param_grid,ada_clf,ear2,y,5)"
   ]
  },
  {
   "cell_type": "code",
   "execution_count": 105,
   "id": "77648926",
   "metadata": {},
   "outputs": [
    {
     "data": {
      "text/plain": [
       "1.0"
      ]
     },
     "execution_count": 105,
     "metadata": {},
     "output_type": "execute_result"
    }
   ],
   "source": [
    "best_score"
   ]
  },
  {
   "cell_type": "code",
   "execution_count": 106,
   "id": "0ea55ab0",
   "metadata": {},
   "outputs": [
    {
     "data": {
      "text/plain": [
       "AdaBoostClassifier(base_estimator=DecisionTreeClassifier(max_depth=2,\n",
       "                                                         min_samples_leaf=5),\n",
       "                   learning_rate=0.01, n_estimators=10)"
      ]
     },
     "execution_count": 106,
     "metadata": {},
     "output_type": "execute_result"
    }
   ],
   "source": [
    "best_stimator"
   ]
  },
  {
   "cell_type": "code",
   "execution_count": 107,
   "id": "7cdca6cc",
   "metadata": {},
   "outputs": [
    {
     "data": {
      "text/html": [
       "<div>\n",
       "<style scoped>\n",
       "    .dataframe tbody tr th:only-of-type {\n",
       "        vertical-align: middle;\n",
       "    }\n",
       "\n",
       "    .dataframe tbody tr th {\n",
       "        vertical-align: top;\n",
       "    }\n",
       "\n",
       "    .dataframe thead th {\n",
       "        text-align: right;\n",
       "    }\n",
       "</style>\n",
       "<table border=\"1\" class=\"dataframe\">\n",
       "  <thead>\n",
       "    <tr style=\"text-align: right;\">\n",
       "      <th></th>\n",
       "      <th>base_estimator__max_depth</th>\n",
       "      <th>base_estimator__min_samples_leaf</th>\n",
       "      <th>learning_rate</th>\n",
       "      <th>n_estimators</th>\n",
       "      <th>mean_train_score</th>\n",
       "      <th>mean_test_score</th>\n",
       "      <th>std_train_score</th>\n",
       "      <th>std_test_score</th>\n",
       "    </tr>\n",
       "  </thead>\n",
       "  <tbody>\n",
       "    <tr>\n",
       "      <th>0</th>\n",
       "      <td>2</td>\n",
       "      <td>5</td>\n",
       "      <td>0.01</td>\n",
       "      <td>10</td>\n",
       "      <td>1.00</td>\n",
       "      <td>1.0</td>\n",
       "      <td>0.000</td>\n",
       "      <td>0.0</td>\n",
       "    </tr>\n",
       "    <tr>\n",
       "      <th>1</th>\n",
       "      <td>2</td>\n",
       "      <td>5</td>\n",
       "      <td>0.01</td>\n",
       "      <td>50</td>\n",
       "      <td>1.00</td>\n",
       "      <td>1.0</td>\n",
       "      <td>0.000</td>\n",
       "      <td>0.0</td>\n",
       "    </tr>\n",
       "    <tr>\n",
       "      <th>2</th>\n",
       "      <td>2</td>\n",
       "      <td>5</td>\n",
       "      <td>0.01</td>\n",
       "      <td>250</td>\n",
       "      <td>1.00</td>\n",
       "      <td>1.0</td>\n",
       "      <td>0.000</td>\n",
       "      <td>0.0</td>\n",
       "    </tr>\n",
       "    <tr>\n",
       "      <th>3</th>\n",
       "      <td>2</td>\n",
       "      <td>5</td>\n",
       "      <td>0.01</td>\n",
       "      <td>1000</td>\n",
       "      <td>1.00</td>\n",
       "      <td>1.0</td>\n",
       "      <td>0.000</td>\n",
       "      <td>0.0</td>\n",
       "    </tr>\n",
       "    <tr>\n",
       "      <th>4</th>\n",
       "      <td>2</td>\n",
       "      <td>5</td>\n",
       "      <td>0.10</td>\n",
       "      <td>10</td>\n",
       "      <td>1.00</td>\n",
       "      <td>1.0</td>\n",
       "      <td>0.000</td>\n",
       "      <td>0.0</td>\n",
       "    </tr>\n",
       "    <tr>\n",
       "      <th>...</th>\n",
       "      <td>...</td>\n",
       "      <td>...</td>\n",
       "      <td>...</td>\n",
       "      <td>...</td>\n",
       "      <td>...</td>\n",
       "      <td>...</td>\n",
       "      <td>...</td>\n",
       "      <td>...</td>\n",
       "    </tr>\n",
       "    <tr>\n",
       "      <th>75</th>\n",
       "      <td>10</td>\n",
       "      <td>10</td>\n",
       "      <td>0.01</td>\n",
       "      <td>1000</td>\n",
       "      <td>0.45</td>\n",
       "      <td>0.4</td>\n",
       "      <td>0.225</td>\n",
       "      <td>0.2</td>\n",
       "    </tr>\n",
       "    <tr>\n",
       "      <th>76</th>\n",
       "      <td>10</td>\n",
       "      <td>10</td>\n",
       "      <td>0.10</td>\n",
       "      <td>10</td>\n",
       "      <td>0.45</td>\n",
       "      <td>0.4</td>\n",
       "      <td>0.225</td>\n",
       "      <td>0.2</td>\n",
       "    </tr>\n",
       "    <tr>\n",
       "      <th>77</th>\n",
       "      <td>10</td>\n",
       "      <td>10</td>\n",
       "      <td>0.10</td>\n",
       "      <td>50</td>\n",
       "      <td>0.45</td>\n",
       "      <td>0.4</td>\n",
       "      <td>0.225</td>\n",
       "      <td>0.2</td>\n",
       "    </tr>\n",
       "    <tr>\n",
       "      <th>78</th>\n",
       "      <td>10</td>\n",
       "      <td>10</td>\n",
       "      <td>0.10</td>\n",
       "      <td>250</td>\n",
       "      <td>0.45</td>\n",
       "      <td>0.4</td>\n",
       "      <td>0.225</td>\n",
       "      <td>0.2</td>\n",
       "    </tr>\n",
       "    <tr>\n",
       "      <th>79</th>\n",
       "      <td>10</td>\n",
       "      <td>10</td>\n",
       "      <td>0.10</td>\n",
       "      <td>1000</td>\n",
       "      <td>0.45</td>\n",
       "      <td>0.4</td>\n",
       "      <td>0.225</td>\n",
       "      <td>0.2</td>\n",
       "    </tr>\n",
       "  </tbody>\n",
       "</table>\n",
       "<p>80 rows × 8 columns</p>\n",
       "</div>"
      ],
      "text/plain": [
       "    base_estimator__max_depth  base_estimator__min_samples_leaf  \\\n",
       "0                           2                                 5   \n",
       "1                           2                                 5   \n",
       "2                           2                                 5   \n",
       "3                           2                                 5   \n",
       "4                           2                                 5   \n",
       "..                        ...                               ...   \n",
       "75                         10                                10   \n",
       "76                         10                                10   \n",
       "77                         10                                10   \n",
       "78                         10                                10   \n",
       "79                         10                                10   \n",
       "\n",
       "    learning_rate  n_estimators  mean_train_score  mean_test_score  \\\n",
       "0            0.01            10              1.00              1.0   \n",
       "1            0.01            50              1.00              1.0   \n",
       "2            0.01           250              1.00              1.0   \n",
       "3            0.01          1000              1.00              1.0   \n",
       "4            0.10            10              1.00              1.0   \n",
       "..            ...           ...               ...              ...   \n",
       "75           0.01          1000              0.45              0.4   \n",
       "76           0.10            10              0.45              0.4   \n",
       "77           0.10            50              0.45              0.4   \n",
       "78           0.10           250              0.45              0.4   \n",
       "79           0.10          1000              0.45              0.4   \n",
       "\n",
       "    std_train_score  std_test_score  \n",
       "0             0.000             0.0  \n",
       "1             0.000             0.0  \n",
       "2             0.000             0.0  \n",
       "3             0.000             0.0  \n",
       "4             0.000             0.0  \n",
       "..              ...             ...  \n",
       "75            0.225             0.2  \n",
       "76            0.225             0.2  \n",
       "77            0.225             0.2  \n",
       "78            0.225             0.2  \n",
       "79            0.225             0.2  \n",
       "\n",
       "[80 rows x 8 columns]"
      ]
     },
     "execution_count": 107,
     "metadata": {},
     "output_type": "execute_result"
    }
   ],
   "source": [
    "total_parametros"
   ]
  },
  {
   "cell_type": "markdown",
   "id": "1918054e",
   "metadata": {},
   "source": [
    "## Random Forest"
   ]
  },
  {
   "cell_type": "code",
   "execution_count": 108,
   "id": "d95c323d",
   "metadata": {},
   "outputs": [],
   "source": [
    "from sklearn.ensemble import RandomForestClassifier"
   ]
  },
  {
   "cell_type": "code",
   "execution_count": 109,
   "id": "0d886d48",
   "metadata": {},
   "outputs": [],
   "source": [
    "param_grid ={'bootstrap': [True, False],\n",
    " 'max_depth': [10, 20],\n",
    " 'max_features': ['auto', 'sqrt'],\n",
    " 'min_samples_leaf': [2, 4],\n",
    " 'min_samples_split': [2, 5],\n",
    " 'n_estimators': [200, 400, 600, 800]}"
   ]
  },
  {
   "cell_type": "code",
   "execution_count": 110,
   "id": "602b0d1a",
   "metadata": {},
   "outputs": [],
   "source": [
    "RandomForestClassifier = RandomForestClassifier()"
   ]
  },
  {
   "cell_type": "code",
   "execution_count": 111,
   "id": "c11fc23b",
   "metadata": {},
   "outputs": [
    {
     "name": "stdout",
     "output_type": "stream",
     "text": [
      "Mejor resultado1.0\n",
      "Mejor parametroRandomForestClassifier(max_depth=10, min_samples_leaf=2, n_estimators=200)\n"
     ]
    }
   ],
   "source": [
    "total_parametros, mejores_parametros,best_stimator,best_score = Optimizacion_parametros(param_grid,RandomForestClassifier,ear2,y,5)"
   ]
  },
  {
   "cell_type": "code",
   "execution_count": 112,
   "id": "19cb099a",
   "metadata": {},
   "outputs": [
    {
     "data": {
      "text/plain": [
       "1.0"
      ]
     },
     "execution_count": 112,
     "metadata": {},
     "output_type": "execute_result"
    }
   ],
   "source": [
    "best_score"
   ]
  },
  {
   "cell_type": "code",
   "execution_count": 113,
   "id": "922727e6",
   "metadata": {},
   "outputs": [
    {
     "data": {
      "text/plain": [
       "RandomForestClassifier(max_depth=10, min_samples_leaf=2, n_estimators=200)"
      ]
     },
     "execution_count": 113,
     "metadata": {},
     "output_type": "execute_result"
    }
   ],
   "source": [
    "best_stimator"
   ]
  },
  {
   "cell_type": "code",
   "execution_count": 114,
   "id": "87eefc84",
   "metadata": {},
   "outputs": [
    {
     "data": {
      "text/html": [
       "<div>\n",
       "<style scoped>\n",
       "    .dataframe tbody tr th:only-of-type {\n",
       "        vertical-align: middle;\n",
       "    }\n",
       "\n",
       "    .dataframe tbody tr th {\n",
       "        vertical-align: top;\n",
       "    }\n",
       "\n",
       "    .dataframe thead th {\n",
       "        text-align: right;\n",
       "    }\n",
       "</style>\n",
       "<table border=\"1\" class=\"dataframe\">\n",
       "  <thead>\n",
       "    <tr style=\"text-align: right;\">\n",
       "      <th></th>\n",
       "      <th>bootstrap</th>\n",
       "      <th>max_depth</th>\n",
       "      <th>max_features</th>\n",
       "      <th>min_samples_leaf</th>\n",
       "      <th>min_samples_split</th>\n",
       "      <th>n_estimators</th>\n",
       "      <th>mean_train_score</th>\n",
       "      <th>mean_test_score</th>\n",
       "      <th>std_train_score</th>\n",
       "      <th>std_test_score</th>\n",
       "    </tr>\n",
       "  </thead>\n",
       "  <tbody>\n",
       "    <tr>\n",
       "      <th>0</th>\n",
       "      <td>True</td>\n",
       "      <td>10</td>\n",
       "      <td>auto</td>\n",
       "      <td>2</td>\n",
       "      <td>2</td>\n",
       "      <td>200</td>\n",
       "      <td>1.0</td>\n",
       "      <td>1.0</td>\n",
       "      <td>0.0</td>\n",
       "      <td>0.0</td>\n",
       "    </tr>\n",
       "    <tr>\n",
       "      <th>1</th>\n",
       "      <td>True</td>\n",
       "      <td>10</td>\n",
       "      <td>auto</td>\n",
       "      <td>2</td>\n",
       "      <td>2</td>\n",
       "      <td>400</td>\n",
       "      <td>1.0</td>\n",
       "      <td>1.0</td>\n",
       "      <td>0.0</td>\n",
       "      <td>0.0</td>\n",
       "    </tr>\n",
       "    <tr>\n",
       "      <th>2</th>\n",
       "      <td>True</td>\n",
       "      <td>10</td>\n",
       "      <td>auto</td>\n",
       "      <td>2</td>\n",
       "      <td>2</td>\n",
       "      <td>600</td>\n",
       "      <td>1.0</td>\n",
       "      <td>1.0</td>\n",
       "      <td>0.0</td>\n",
       "      <td>0.0</td>\n",
       "    </tr>\n",
       "    <tr>\n",
       "      <th>3</th>\n",
       "      <td>True</td>\n",
       "      <td>10</td>\n",
       "      <td>auto</td>\n",
       "      <td>2</td>\n",
       "      <td>2</td>\n",
       "      <td>800</td>\n",
       "      <td>1.0</td>\n",
       "      <td>1.0</td>\n",
       "      <td>0.0</td>\n",
       "      <td>0.0</td>\n",
       "    </tr>\n",
       "    <tr>\n",
       "      <th>4</th>\n",
       "      <td>True</td>\n",
       "      <td>10</td>\n",
       "      <td>auto</td>\n",
       "      <td>2</td>\n",
       "      <td>5</td>\n",
       "      <td>200</td>\n",
       "      <td>1.0</td>\n",
       "      <td>1.0</td>\n",
       "      <td>0.0</td>\n",
       "      <td>0.0</td>\n",
       "    </tr>\n",
       "    <tr>\n",
       "      <th>...</th>\n",
       "      <td>...</td>\n",
       "      <td>...</td>\n",
       "      <td>...</td>\n",
       "      <td>...</td>\n",
       "      <td>...</td>\n",
       "      <td>...</td>\n",
       "      <td>...</td>\n",
       "      <td>...</td>\n",
       "      <td>...</td>\n",
       "      <td>...</td>\n",
       "    </tr>\n",
       "    <tr>\n",
       "      <th>123</th>\n",
       "      <td>False</td>\n",
       "      <td>20</td>\n",
       "      <td>sqrt</td>\n",
       "      <td>4</td>\n",
       "      <td>2</td>\n",
       "      <td>800</td>\n",
       "      <td>1.0</td>\n",
       "      <td>1.0</td>\n",
       "      <td>0.0</td>\n",
       "      <td>0.0</td>\n",
       "    </tr>\n",
       "    <tr>\n",
       "      <th>124</th>\n",
       "      <td>False</td>\n",
       "      <td>20</td>\n",
       "      <td>sqrt</td>\n",
       "      <td>4</td>\n",
       "      <td>5</td>\n",
       "      <td>200</td>\n",
       "      <td>1.0</td>\n",
       "      <td>1.0</td>\n",
       "      <td>0.0</td>\n",
       "      <td>0.0</td>\n",
       "    </tr>\n",
       "    <tr>\n",
       "      <th>125</th>\n",
       "      <td>False</td>\n",
       "      <td>20</td>\n",
       "      <td>sqrt</td>\n",
       "      <td>4</td>\n",
       "      <td>5</td>\n",
       "      <td>400</td>\n",
       "      <td>1.0</td>\n",
       "      <td>1.0</td>\n",
       "      <td>0.0</td>\n",
       "      <td>0.0</td>\n",
       "    </tr>\n",
       "    <tr>\n",
       "      <th>126</th>\n",
       "      <td>False</td>\n",
       "      <td>20</td>\n",
       "      <td>sqrt</td>\n",
       "      <td>4</td>\n",
       "      <td>5</td>\n",
       "      <td>600</td>\n",
       "      <td>1.0</td>\n",
       "      <td>1.0</td>\n",
       "      <td>0.0</td>\n",
       "      <td>0.0</td>\n",
       "    </tr>\n",
       "    <tr>\n",
       "      <th>127</th>\n",
       "      <td>False</td>\n",
       "      <td>20</td>\n",
       "      <td>sqrt</td>\n",
       "      <td>4</td>\n",
       "      <td>5</td>\n",
       "      <td>800</td>\n",
       "      <td>1.0</td>\n",
       "      <td>1.0</td>\n",
       "      <td>0.0</td>\n",
       "      <td>0.0</td>\n",
       "    </tr>\n",
       "  </tbody>\n",
       "</table>\n",
       "<p>128 rows × 10 columns</p>\n",
       "</div>"
      ],
      "text/plain": [
       "     bootstrap  max_depth max_features  min_samples_leaf  min_samples_split  \\\n",
       "0         True         10         auto                 2                  2   \n",
       "1         True         10         auto                 2                  2   \n",
       "2         True         10         auto                 2                  2   \n",
       "3         True         10         auto                 2                  2   \n",
       "4         True         10         auto                 2                  5   \n",
       "..         ...        ...          ...               ...                ...   \n",
       "123      False         20         sqrt                 4                  2   \n",
       "124      False         20         sqrt                 4                  5   \n",
       "125      False         20         sqrt                 4                  5   \n",
       "126      False         20         sqrt                 4                  5   \n",
       "127      False         20         sqrt                 4                  5   \n",
       "\n",
       "     n_estimators  mean_train_score  mean_test_score  std_train_score  \\\n",
       "0             200               1.0              1.0              0.0   \n",
       "1             400               1.0              1.0              0.0   \n",
       "2             600               1.0              1.0              0.0   \n",
       "3             800               1.0              1.0              0.0   \n",
       "4             200               1.0              1.0              0.0   \n",
       "..            ...               ...              ...              ...   \n",
       "123           800               1.0              1.0              0.0   \n",
       "124           200               1.0              1.0              0.0   \n",
       "125           400               1.0              1.0              0.0   \n",
       "126           600               1.0              1.0              0.0   \n",
       "127           800               1.0              1.0              0.0   \n",
       "\n",
       "     std_test_score  \n",
       "0               0.0  \n",
       "1               0.0  \n",
       "2               0.0  \n",
       "3               0.0  \n",
       "4               0.0  \n",
       "..              ...  \n",
       "123             0.0  \n",
       "124             0.0  \n",
       "125             0.0  \n",
       "126             0.0  \n",
       "127             0.0  \n",
       "\n",
       "[128 rows x 10 columns]"
      ]
     },
     "execution_count": 114,
     "metadata": {},
     "output_type": "execute_result"
    }
   ],
   "source": [
    "total_parametros"
   ]
  },
  {
   "cell_type": "markdown",
   "id": "9120ac0f",
   "metadata": {},
   "source": [
    "## SVM"
   ]
  },
  {
   "cell_type": "code",
   "execution_count": 115,
   "id": "bcc86f7b",
   "metadata": {},
   "outputs": [],
   "source": [
    "from sklearn.svm import SVC"
   ]
  },
  {
   "cell_type": "code",
   "execution_count": 116,
   "id": "18bcb0dc",
   "metadata": {},
   "outputs": [],
   "source": [
    "param_grid = [{'kernel': ['rbf'], 'gamma': [1e-3, 1e-4],\n",
    "                     'C': [1, 10, 100, 1000]},\n",
    "                    {'kernel': ['linear'], 'C': [1, 10, 100, 1000]}]"
   ]
  },
  {
   "cell_type": "code",
   "execution_count": 117,
   "id": "db33ea49",
   "metadata": {},
   "outputs": [],
   "source": [
    "svc = SVC()"
   ]
  },
  {
   "cell_type": "code",
   "execution_count": 118,
   "id": "be811978",
   "metadata": {},
   "outputs": [
    {
     "name": "stdout",
     "output_type": "stream",
     "text": [
      "Mejor resultado1.0\n",
      "Mejor parametroSVC(C=1, gamma=0.0001)\n"
     ]
    }
   ],
   "source": [
    "total_parametros, mejores_parametros,best_stimator,best_score = Optimizacion_parametros(param_grid,svc,ear2,y,5)"
   ]
  },
  {
   "cell_type": "code",
   "execution_count": 119,
   "id": "c6a5f8f1",
   "metadata": {},
   "outputs": [
    {
     "data": {
      "text/plain": [
       "1.0"
      ]
     },
     "execution_count": 119,
     "metadata": {},
     "output_type": "execute_result"
    }
   ],
   "source": [
    "best_score"
   ]
  },
  {
   "cell_type": "code",
   "execution_count": 120,
   "id": "74825ef2",
   "metadata": {},
   "outputs": [
    {
     "data": {
      "text/plain": [
       "SVC(C=1, gamma=0.0001)"
      ]
     },
     "execution_count": 120,
     "metadata": {},
     "output_type": "execute_result"
    }
   ],
   "source": [
    "best_stimator"
   ]
  },
  {
   "cell_type": "code",
   "execution_count": 121,
   "id": "1ff8bac8",
   "metadata": {},
   "outputs": [
    {
     "data": {
      "text/html": [
       "<div>\n",
       "<style scoped>\n",
       "    .dataframe tbody tr th:only-of-type {\n",
       "        vertical-align: middle;\n",
       "    }\n",
       "\n",
       "    .dataframe tbody tr th {\n",
       "        vertical-align: top;\n",
       "    }\n",
       "\n",
       "    .dataframe thead th {\n",
       "        text-align: right;\n",
       "    }\n",
       "</style>\n",
       "<table border=\"1\" class=\"dataframe\">\n",
       "  <thead>\n",
       "    <tr style=\"text-align: right;\">\n",
       "      <th></th>\n",
       "      <th>C</th>\n",
       "      <th>gamma</th>\n",
       "      <th>kernel</th>\n",
       "      <th>mean_train_score</th>\n",
       "      <th>mean_test_score</th>\n",
       "      <th>std_train_score</th>\n",
       "      <th>std_test_score</th>\n",
       "    </tr>\n",
       "  </thead>\n",
       "  <tbody>\n",
       "    <tr>\n",
       "      <th>0</th>\n",
       "      <td>1</td>\n",
       "      <td>0.0010</td>\n",
       "      <td>rbf</td>\n",
       "      <td>1.0</td>\n",
       "      <td>0.9</td>\n",
       "      <td>0.0</td>\n",
       "      <td>0.2</td>\n",
       "    </tr>\n",
       "    <tr>\n",
       "      <th>1</th>\n",
       "      <td>1</td>\n",
       "      <td>0.0001</td>\n",
       "      <td>rbf</td>\n",
       "      <td>1.0</td>\n",
       "      <td>1.0</td>\n",
       "      <td>0.0</td>\n",
       "      <td>0.0</td>\n",
       "    </tr>\n",
       "    <tr>\n",
       "      <th>2</th>\n",
       "      <td>10</td>\n",
       "      <td>0.0010</td>\n",
       "      <td>rbf</td>\n",
       "      <td>1.0</td>\n",
       "      <td>0.9</td>\n",
       "      <td>0.0</td>\n",
       "      <td>0.2</td>\n",
       "    </tr>\n",
       "    <tr>\n",
       "      <th>3</th>\n",
       "      <td>10</td>\n",
       "      <td>0.0001</td>\n",
       "      <td>rbf</td>\n",
       "      <td>1.0</td>\n",
       "      <td>1.0</td>\n",
       "      <td>0.0</td>\n",
       "      <td>0.0</td>\n",
       "    </tr>\n",
       "    <tr>\n",
       "      <th>4</th>\n",
       "      <td>100</td>\n",
       "      <td>0.0010</td>\n",
       "      <td>rbf</td>\n",
       "      <td>1.0</td>\n",
       "      <td>0.9</td>\n",
       "      <td>0.0</td>\n",
       "      <td>0.2</td>\n",
       "    </tr>\n",
       "    <tr>\n",
       "      <th>5</th>\n",
       "      <td>100</td>\n",
       "      <td>0.0001</td>\n",
       "      <td>rbf</td>\n",
       "      <td>1.0</td>\n",
       "      <td>1.0</td>\n",
       "      <td>0.0</td>\n",
       "      <td>0.0</td>\n",
       "    </tr>\n",
       "    <tr>\n",
       "      <th>6</th>\n",
       "      <td>1000</td>\n",
       "      <td>0.0010</td>\n",
       "      <td>rbf</td>\n",
       "      <td>1.0</td>\n",
       "      <td>0.9</td>\n",
       "      <td>0.0</td>\n",
       "      <td>0.2</td>\n",
       "    </tr>\n",
       "    <tr>\n",
       "      <th>7</th>\n",
       "      <td>1000</td>\n",
       "      <td>0.0001</td>\n",
       "      <td>rbf</td>\n",
       "      <td>1.0</td>\n",
       "      <td>1.0</td>\n",
       "      <td>0.0</td>\n",
       "      <td>0.0</td>\n",
       "    </tr>\n",
       "    <tr>\n",
       "      <th>8</th>\n",
       "      <td>1</td>\n",
       "      <td>NaN</td>\n",
       "      <td>linear</td>\n",
       "      <td>1.0</td>\n",
       "      <td>1.0</td>\n",
       "      <td>0.0</td>\n",
       "      <td>0.0</td>\n",
       "    </tr>\n",
       "    <tr>\n",
       "      <th>9</th>\n",
       "      <td>10</td>\n",
       "      <td>NaN</td>\n",
       "      <td>linear</td>\n",
       "      <td>1.0</td>\n",
       "      <td>1.0</td>\n",
       "      <td>0.0</td>\n",
       "      <td>0.0</td>\n",
       "    </tr>\n",
       "    <tr>\n",
       "      <th>10</th>\n",
       "      <td>100</td>\n",
       "      <td>NaN</td>\n",
       "      <td>linear</td>\n",
       "      <td>1.0</td>\n",
       "      <td>1.0</td>\n",
       "      <td>0.0</td>\n",
       "      <td>0.0</td>\n",
       "    </tr>\n",
       "    <tr>\n",
       "      <th>11</th>\n",
       "      <td>1000</td>\n",
       "      <td>NaN</td>\n",
       "      <td>linear</td>\n",
       "      <td>1.0</td>\n",
       "      <td>1.0</td>\n",
       "      <td>0.0</td>\n",
       "      <td>0.0</td>\n",
       "    </tr>\n",
       "  </tbody>\n",
       "</table>\n",
       "</div>"
      ],
      "text/plain": [
       "       C   gamma  kernel  mean_train_score  mean_test_score  std_train_score  \\\n",
       "0      1  0.0010     rbf               1.0              0.9              0.0   \n",
       "1      1  0.0001     rbf               1.0              1.0              0.0   \n",
       "2     10  0.0010     rbf               1.0              0.9              0.0   \n",
       "3     10  0.0001     rbf               1.0              1.0              0.0   \n",
       "4    100  0.0010     rbf               1.0              0.9              0.0   \n",
       "5    100  0.0001     rbf               1.0              1.0              0.0   \n",
       "6   1000  0.0010     rbf               1.0              0.9              0.0   \n",
       "7   1000  0.0001     rbf               1.0              1.0              0.0   \n",
       "8      1     NaN  linear               1.0              1.0              0.0   \n",
       "9     10     NaN  linear               1.0              1.0              0.0   \n",
       "10   100     NaN  linear               1.0              1.0              0.0   \n",
       "11  1000     NaN  linear               1.0              1.0              0.0   \n",
       "\n",
       "    std_test_score  \n",
       "0              0.2  \n",
       "1              0.0  \n",
       "2              0.2  \n",
       "3              0.0  \n",
       "4              0.2  \n",
       "5              0.0  \n",
       "6              0.2  \n",
       "7              0.0  \n",
       "8              0.0  \n",
       "9              0.0  \n",
       "10             0.0  \n",
       "11             0.0  "
      ]
     },
     "execution_count": 121,
     "metadata": {},
     "output_type": "execute_result"
    }
   ],
   "source": [
    "total_parametros"
   ]
  },
  {
   "cell_type": "markdown",
   "id": "0b90aec0",
   "metadata": {},
   "source": [
    "# Creacion de modelos"
   ]
  },
  {
   "cell_type": "markdown",
   "id": "f4a7da9d",
   "metadata": {},
   "source": [
    "## XGBClassifier "
   ]
  },
  {
   "cell_type": "code",
   "execution_count": 122,
   "id": "3ddb7348",
   "metadata": {},
   "outputs": [],
   "source": [
    "from xgboost import XGBClassifier\n",
    "XGBClassifier = XGBClassifier(base_score=0.5, booster='gbtree', colsample_bylevel=1,\n",
    "              colsample_bynode=1, colsample_bytree=0.8, gamma=0, gpu_id=-1,\n",
    "              importance_type='gain', interaction_constraints='',\n",
    "              learning_rate=0.1, max_delta_step=0, max_depth=3,\n",
    "              min_child_weight=1, monotone_constraints='()',\n",
    "              n_estimators=1000, n_jobs=4, nthread=4, num_parallel_tree=1,\n",
    "              random_state=27, reg_alpha=0, reg_lambda=1, scale_pos_weight=1,\n",
    "              seed=27, subsample=0.8, tree_method='exact',\n",
    "              validate_parameters=1, verbosity=None)"
   ]
  },
  {
   "cell_type": "markdown",
   "id": "41739548",
   "metadata": {},
   "source": [
    "## Adabost"
   ]
  },
  {
   "cell_type": "code",
   "execution_count": 123,
   "id": "73139589",
   "metadata": {},
   "outputs": [],
   "source": [
    "from sklearn.tree import DecisionTreeClassifier\n",
    "from sklearn.ensemble import AdaBoostClassifier\n",
    "ada_clf = AdaBoostClassifier(base_estimator=DecisionTreeClassifier(max_depth=2,\n",
    "                                                         min_samples_leaf=5),\n",
    "                   learning_rate=0.01, n_estimators=10)"
   ]
  },
  {
   "cell_type": "markdown",
   "id": "d4cd5903",
   "metadata": {},
   "source": [
    "## Random Forest"
   ]
  },
  {
   "cell_type": "code",
   "execution_count": 124,
   "id": "771f2a09",
   "metadata": {},
   "outputs": [],
   "source": [
    "from sklearn.ensemble import RandomForestClassifier\n",
    "RandomForestClassifier = RandomForestClassifier(max_depth=10, min_samples_leaf=2, n_estimators=200)"
   ]
  },
  {
   "cell_type": "markdown",
   "id": "efa5f197",
   "metadata": {},
   "source": [
    "## SVM"
   ]
  },
  {
   "cell_type": "code",
   "execution_count": 125,
   "id": "59b70632",
   "metadata": {},
   "outputs": [],
   "source": [
    "from sklearn.svm import SVC\n",
    "svc = SVC(C=1, gamma=0.0001)"
   ]
  },
  {
   "cell_type": "markdown",
   "id": "7a9c1913",
   "metadata": {},
   "source": [
    "## Red neuronal"
   ]
  },
  {
   "cell_type": "code",
   "execution_count": 126,
   "id": "a30ed421",
   "metadata": {},
   "outputs": [
    {
     "name": "stdout",
     "output_type": "stream",
     "text": [
      "Model: \"sequential_7\"\n",
      "_________________________________________________________________\n",
      "Layer (type)                 Output Shape              Param #   \n",
      "=================================================================\n",
      "dense_21 (Dense)             (None, 16)                16032     \n",
      "_________________________________________________________________\n",
      "dense_22 (Dense)             (None, 16)                272       \n",
      "_________________________________________________________________\n",
      "dense_23 (Dense)             (None, 1)                 17        \n",
      "=================================================================\n",
      "Total params: 16,321\n",
      "Trainable params: 16,321\n",
      "Non-trainable params: 0\n",
      "_________________________________________________________________\n"
     ]
    }
   ],
   "source": [
    "from keras.models import Sequential\n",
    "from keras import layers\n",
    "\n",
    "max_features = ear2.shape[1]\n",
    "\n",
    "model = Sequential()\n",
    "model.add(layers.Dense(16, activation='relu', input_shape=(max_features,)))\n",
    "model.add(layers.Dense(16, activation='relu'))\n",
    "model.add(layers.Dense(1, activation='sigmoid'))\n",
    "model.summary()\n",
    "model.compile(loss='binary_crossentropy', # Cross-entropy\n",
    "                    optimizer='rmsprop', # Root Mean Square Propagation\n",
    "                    metrics=['accuracy'])\n"
   ]
  },
  {
   "cell_type": "markdown",
   "id": "d2b63116",
   "metadata": {},
   "source": [
    "# Spectograma despues del Filtro vancouver"
   ]
  },
  {
   "cell_type": "code",
   "execution_count": 127,
   "id": "afd906ae",
   "metadata": {},
   "outputs": [],
   "source": [
    "path_dataset = 'archive/earData.csv'\n",
    "eardata = pd.read_csv(path_dataset)\n",
    "eardata= (eardata.T.reset_index().T.reset_index(drop=True)\n",
    "            .set_axis([f'Q1.{i+1}' for i in range(eardata.shape[1])], axis=1))\n",
    "eardata= eardata.apply(pd.to_numeric, errors='coerce')"
   ]
  },
  {
   "cell_type": "markdown",
   "id": "176e8092",
   "metadata": {},
   "source": [
    "## XGBClassifier "
   ]
  },
  {
   "cell_type": "code",
   "execution_count": 128,
   "id": "1042d557",
   "metadata": {},
   "outputs": [
    {
     "name": "stdout",
     "output_type": "stream",
     "text": [
      "[21:33:23] WARNING: C:/Users/Administrator/workspace/xgboost-win64_release_1.4.0/src/learner.cc:1095: Starting in XGBoost 1.3.0, the default evaluation metric used with the objective 'binary:logistic' was changed from 'error' to 'logloss'. Explicitly set eval_metric if you'd like to restore the old behavior.\n",
      "[21:33:25] WARNING: C:/Users/Administrator/workspace/xgboost-win64_release_1.4.0/src/learner.cc:1095: Starting in XGBoost 1.3.0, the default evaluation metric used with the objective 'binary:logistic' was changed from 'error' to 'logloss'. Explicitly set eval_metric if you'd like to restore the old behavior.\n",
      "[21:33:27] WARNING: C:/Users/Administrator/workspace/xgboost-win64_release_1.4.0/src/learner.cc:1095: Starting in XGBoost 1.3.0, the default evaluation metric used with the objective 'binary:logistic' was changed from 'error' to 'logloss'. Explicitly set eval_metric if you'd like to restore the old behavior.\n",
      "[21:33:29] WARNING: C:/Users/Administrator/workspace/xgboost-win64_release_1.4.0/src/learner.cc:1095: Starting in XGBoost 1.3.0, the default evaluation metric used with the objective 'binary:logistic' was changed from 'error' to 'logloss'. Explicitly set eval_metric if you'd like to restore the old behavior.\n",
      "[21:33:31] WARNING: C:/Users/Administrator/workspace/xgboost-win64_release_1.4.0/src/learner.cc:1095: Starting in XGBoost 1.3.0, the default evaluation metric used with the objective 'binary:logistic' was changed from 'error' to 'logloss'. Explicitly set eval_metric if you'd like to restore the old behavior.\n",
      "Classification report:\n",
      "              precision    recall  f1-score   support\n",
      "\n",
      "         0.0       1.00      0.90      0.95        10\n",
      "         1.0       0.91      1.00      0.95        10\n",
      "\n",
      "    accuracy                           0.95        20\n",
      "   macro avg       0.95      0.95      0.95        20\n",
      "weighted avg       0.95      0.95      0.95        20\n",
      "\n"
     ]
    },
    {
     "data": {
      "image/png": "[encoded data removed]",
      "text/plain": [
       "<Figure size 432x288 with 2 Axes>"
      ]
     },
     "metadata": {
      "needs_background": "light"
     },
     "output_type": "display_data"
    },
    {
     "data": {
      "text/plain": [
       "<Figure size 432x288 with 0 Axes>"
      ]
     },
     "metadata": {},
     "output_type": "display_data"
    }
   ],
   "source": [
    "entrenamiento_and_report_simple(eardata,y,5,XGBClassifier)"
   ]
  },
  {
   "cell_type": "markdown",
   "id": "ff708249",
   "metadata": {},
   "source": [
    "## Adabost"
   ]
  },
  {
   "cell_type": "code",
   "execution_count": 129,
   "id": "adde9000",
   "metadata": {},
   "outputs": [
    {
     "name": "stdout",
     "output_type": "stream",
     "text": [
      "Classification report:\n",
      "              precision    recall  f1-score   support\n",
      "\n",
      "         0.0       1.00      1.00      1.00         9\n",
      "         1.0       1.00      1.00      1.00        11\n",
      "\n",
      "    accuracy                           1.00        20\n",
      "   macro avg       1.00      1.00      1.00        20\n",
      "weighted avg       1.00      1.00      1.00        20\n",
      "\n"
     ]
    },
    {
     "data": {
      "image/png": "[encoded data removed]",
      "text/plain": [
       "<Figure size 432x288 with 2 Axes>"
      ]
     },
     "metadata": {
      "needs_background": "light"
     },
     "output_type": "display_data"
    },
    {
     "data": {
      "text/plain": [
       "<Figure size 432x288 with 0 Axes>"
      ]
     },
     "metadata": {},
     "output_type": "display_data"
    }
   ],
   "source": [
    "entrenamiento_and_report_simple(eardata,y,5,ada_clf)"
   ]
  },
  {
   "cell_type": "markdown",
   "id": "2668e008",
   "metadata": {},
   "source": [
    "## Random Forest"
   ]
  },
  {
   "cell_type": "code",
   "execution_count": 130,
   "id": "31883552",
   "metadata": {},
   "outputs": [
    {
     "name": "stdout",
     "output_type": "stream",
     "text": [
      "Classification report:\n",
      "              precision    recall  f1-score   support\n",
      "\n",
      "         0.0       1.00      1.00      1.00         9\n",
      "         1.0       1.00      1.00      1.00        11\n",
      "\n",
      "    accuracy                           1.00        20\n",
      "   macro avg       1.00      1.00      1.00        20\n",
      "weighted avg       1.00      1.00      1.00        20\n",
      "\n"
     ]
    },
    {
     "data": {
      "image/png": "[encoded data removed]",
      "text/plain": [
       "<Figure size 432x288 with 2 Axes>"
      ]
     },
     "metadata": {
      "needs_background": "light"
     },
     "output_type": "display_data"
    },
    {
     "data": {
      "text/plain": [
       "<Figure size 432x288 with 0 Axes>"
      ]
     },
     "metadata": {},
     "output_type": "display_data"
    }
   ],
   "source": [
    "entrenamiento_and_report_simple(eardata,y,5,RandomForestClassifier)"
   ]
  },
  {
   "cell_type": "markdown",
   "id": "8c20d3c0",
   "metadata": {},
   "source": [
    "## SVM"
   ]
  },
  {
   "cell_type": "code",
   "execution_count": 131,
   "id": "f0535ba5",
   "metadata": {},
   "outputs": [
    {
     "name": "stdout",
     "output_type": "stream",
     "text": [
      "Classification report:\n",
      "              precision    recall  f1-score   support\n",
      "\n",
      "         0.0       1.00      1.00      1.00         9\n",
      "         1.0       1.00      1.00      1.00        11\n",
      "\n",
      "    accuracy                           1.00        20\n",
      "   macro avg       1.00      1.00      1.00        20\n",
      "weighted avg       1.00      1.00      1.00        20\n",
      "\n"
     ]
    },
    {
     "data": {
      "image/png": "[encoded data removed]",
      "text/plain": [
       "<Figure size 432x288 with 2 Axes>"
      ]
     },
     "metadata": {
      "needs_background": "light"
     },
     "output_type": "display_data"
    },
    {
     "data": {
      "text/plain": [
       "<Figure size 432x288 with 0 Axes>"
      ]
     },
     "metadata": {},
     "output_type": "display_data"
    }
   ],
   "source": [
    "entrenamiento_and_report_simple(eardata,y,5,svc)"
   ]
  },
  {
   "cell_type": "markdown",
   "id": "be6be614",
   "metadata": {},
   "source": [
    "## Red neuronal"
   ]
  },
  {
   "cell_type": "code",
   "execution_count": 132,
   "id": "502b7d94",
   "metadata": {},
   "outputs": [
    {
     "name": "stdout",
     "output_type": "stream",
     "text": [
      "WARNING:tensorflow:8 out of the last 10 calls to <function Model.make_predict_function.<locals>.predict_function at 0x000001E9B91B7C10> triggered tf.function retracing. Tracing is expensive and the excessive number of tracings could be due to (1) creating @tf.function repeatedly in a loop, (2) passing tensors with different shapes, (3) passing Python objects instead of tensors. For (1), please define your @tf.function outside of the loop. For (2), @tf.function has experimental_relax_shapes=True option that relaxes argument shapes that can avoid unnecessary retracing. For (3), please refer to https://www.tensorflow.org/guide/function#controlling_retracing and https://www.tensorflow.org/api_docs/python/tf/function for  more details.\n",
      "[0, 0, 0, 0]\n",
      "Classification report:\n",
      "              precision    recall  f1-score   support\n",
      "\n",
      "         0.0       1.00      0.50      0.67         4\n",
      "         1.0       0.00      0.00      0.00         0\n",
      "\n",
      "    accuracy                           0.50         4\n",
      "   macro avg       0.50      0.25      0.33         4\n",
      "weighted avg       1.00      0.50      0.67         4\n",
      "\n"
     ]
    },
    {
     "data": {
      "image/png": "[encoded data removed]",
      "text/plain": [
       "<Figure size 432x288 with 2 Axes>"
      ]
     },
     "metadata": {
      "needs_background": "light"
     },
     "output_type": "display_data"
    },
    {
     "data": {
      "text/plain": [
       "<Figure size 432x288 with 0 Axes>"
      ]
     },
     "metadata": {},
     "output_type": "display_data"
    }
   ],
   "source": [
    "import tensorflow as tf\n",
    "from numpy import argmax\n",
    "from keras.utils.np_utils import to_categorical\n",
    "\n",
    "X_train, X_Test, y_train, y_test = train_test_split(eardata,y, test_size = 0.2,random_state=42)\n",
    "model.fit(X_train,\n",
    "          y_train,batch_size=512,\n",
    "          epochs=200,\n",
    "          verbose=0,\n",
    "          validation_split=0.2)\n",
    "\n",
    "\n",
    "predict_list=model.predict(X_Test)\n",
    "objetivo = argmax(predict_list, axis=-1).astype('int')\n",
    "y_classes = [np.argmax(y, axis=None, out=None) for y in predict_list]\n",
    "print(y_classes)\n",
    "\n",
    "\n",
    "\n",
    "matriz_confusion = confusion_matrix(y_test, objetivo)\n",
    "heatmap(matriz_confusion, annot=True, fmt=\"g\",cmap=\"YlGnBu\", yticklabels=[\"Healthy\", \"Diabetes tipo 2\"] ,xticklabels=[\"Healthy\", \"Diabetes tipo 2\"])\n",
    "plt.title(\"Confusion matrix\")\n",
    "plt.xlabel(\"Predicted\")\n",
    "plt.ylabel(\"Expected\")\n",
    "plt.figure()\n",
    "print(f\"Classification report:\\n{classification_report(objetivo, y_test)}\")"
   ]
  },
  {
   "cell_type": "code",
   "execution_count": 133,
   "id": "a6b2bf45",
   "metadata": {},
   "outputs": [
    {
     "data": {
      "text/plain": [
       "1     1.0\n",
       "18    0.0\n",
       "16    0.0\n",
       "2     1.0\n",
       "Name: has_DM2, dtype: float64"
      ]
     },
     "execution_count": 133,
     "metadata": {},
     "output_type": "execute_result"
    }
   ],
   "source": [
    "y_test"
   ]
  },
  {
   "cell_type": "markdown",
   "id": "8e1ce616",
   "metadata": {},
   "source": [
    "# Spectograma despues del Filtro vancouver con PCA"
   ]
  },
  {
   "cell_type": "code",
   "execution_count": 134,
   "id": "27e64d88",
   "metadata": {},
   "outputs": [
    {
     "name": "stdout",
     "output_type": "stream",
     "text": [
      "shape of X_pca (20, 5)\n",
      "[9.92078839e-01 4.22096354e-03 1.14159336e-03 6.34535881e-04\n",
      " 3.73851636e-04]\n",
      "suma: 0.998449783323415\n",
      "shape of X_pca (20, 5)\n",
      "[9.92078839e-01 4.22096354e-03 1.14159336e-03 6.34535881e-04\n",
      " 3.73851636e-04]\n",
      "suma: 0.998449783323415\n"
     ]
    },
    {
     "data": {
      "image/png": "[encoded data removed]",
      "text/plain": [
       "<Figure size 432x288 with 1 Axes>"
      ]
     },
     "metadata": {
      "needs_background": "light"
     },
     "output_type": "display_data"
    }
   ],
   "source": [
    "eardata = PCA_conversion(eardata,5,\"Ear\")"
   ]
  },
  {
   "cell_type": "markdown",
   "id": "dea25f32",
   "metadata": {},
   "source": [
    "## XGBClassifier"
   ]
  },
  {
   "cell_type": "code",
   "execution_count": 135,
   "id": "f0731d5e",
   "metadata": {},
   "outputs": [
    {
     "name": "stdout",
     "output_type": "stream",
     "text": [
      "[21:33:42] WARNING: C:/Users/Administrator/workspace/xgboost-win64_release_1.4.0/src/learner.cc:1095: Starting in XGBoost 1.3.0, the default evaluation metric used with the objective 'binary:logistic' was changed from 'error' to 'logloss'. Explicitly set eval_metric if you'd like to restore the old behavior.\n",
      "[21:33:42] WARNING: C:/Users/Administrator/workspace/xgboost-win64_release_1.4.0/src/learner.cc:1095: Starting in XGBoost 1.3.0, the default evaluation metric used with the objective 'binary:logistic' was changed from 'error' to 'logloss'. Explicitly set eval_metric if you'd like to restore the old behavior.\n",
      "[21:33:42] WARNING: C:/Users/Administrator/workspace/xgboost-win64_release_1.4.0/src/learner.cc:1095: Starting in XGBoost 1.3.0, the default evaluation metric used with the objective 'binary:logistic' was changed from 'error' to 'logloss'. Explicitly set eval_metric if you'd like to restore the old behavior.\n",
      "[21:33:42] WARNING: C:/Users/Administrator/workspace/xgboost-win64_release_1.4.0/src/learner.cc:1095: Starting in XGBoost 1.3.0, the default evaluation metric used with the objective 'binary:logistic' was changed from 'error' to 'logloss'. Explicitly set eval_metric if you'd like to restore the old behavior.\n",
      "[21:33:42] WARNING: C:/Users/Administrator/workspace/xgboost-win64_release_1.4.0/src/learner.cc:1095: Starting in XGBoost 1.3.0, the default evaluation metric used with the objective 'binary:logistic' was changed from 'error' to 'logloss'. Explicitly set eval_metric if you'd like to restore the old behavior.\n",
      "Classification report:\n",
      "              precision    recall  f1-score   support\n",
      "\n",
      "         0.0       1.00      1.00      1.00         9\n",
      "         1.0       1.00      1.00      1.00        11\n",
      "\n",
      "    accuracy                           1.00        20\n",
      "   macro avg       1.00      1.00      1.00        20\n",
      "weighted avg       1.00      1.00      1.00        20\n",
      "\n"
     ]
    },
    {
     "data": {
      "image/png": "[encoded data removed]",
      "text/plain": [
       "<Figure size 432x288 with 2 Axes>"
      ]
     },
     "metadata": {
      "needs_background": "light"
     },
     "output_type": "display_data"
    },
    {
     "data": {
      "text/plain": [
       "<Figure size 432x288 with 0 Axes>"
      ]
     },
     "metadata": {},
     "output_type": "display_data"
    }
   ],
   "source": [
    "entrenamiento_and_report_simple(eardata,y,5,XGBClassifier)"
   ]
  },
  {
   "cell_type": "markdown",
   "id": "0bae0542",
   "metadata": {},
   "source": [
    "## Adabost"
   ]
  },
  {
   "cell_type": "code",
   "execution_count": 136,
   "id": "70be9eeb",
   "metadata": {},
   "outputs": [
    {
     "name": "stdout",
     "output_type": "stream",
     "text": [
      "Classification report:\n",
      "              precision    recall  f1-score   support\n",
      "\n",
      "         0.0       1.00      1.00      1.00         9\n",
      "         1.0       1.00      1.00      1.00        11\n",
      "\n",
      "    accuracy                           1.00        20\n",
      "   macro avg       1.00      1.00      1.00        20\n",
      "weighted avg       1.00      1.00      1.00        20\n",
      "\n"
     ]
    },
    {
     "data": {
      "image/png": "[encoded data removed]",
      "text/plain": [
       "<Figure size 432x288 with 2 Axes>"
      ]
     },
     "metadata": {
      "needs_background": "light"
     },
     "output_type": "display_data"
    },
    {
     "data": {
      "text/plain": [
       "<Figure size 432x288 with 0 Axes>"
      ]
     },
     "metadata": {},
     "output_type": "display_data"
    }
   ],
   "source": [
    "entrenamiento_and_report_simple(eardata,y,5,ada_clf)"
   ]
  },
  {
   "cell_type": "markdown",
   "id": "8efa38a1",
   "metadata": {},
   "source": [
    "## Random Forest"
   ]
  },
  {
   "cell_type": "code",
   "execution_count": 137,
   "id": "68c2b894",
   "metadata": {},
   "outputs": [
    {
     "name": "stdout",
     "output_type": "stream",
     "text": [
      "Classification report:\n",
      "              precision    recall  f1-score   support\n",
      "\n",
      "         0.0       1.00      1.00      1.00         9\n",
      "         1.0       1.00      1.00      1.00        11\n",
      "\n",
      "    accuracy                           1.00        20\n",
      "   macro avg       1.00      1.00      1.00        20\n",
      "weighted avg       1.00      1.00      1.00        20\n",
      "\n"
     ]
    },
    {
     "data": {
      "image/png": "[encoded data removed]",
      "text/plain": [
       "<Figure size 432x288 with 2 Axes>"
      ]
     },
     "metadata": {
      "needs_background": "light"
     },
     "output_type": "display_data"
    },
    {
     "data": {
      "text/plain": [
       "<Figure size 432x288 with 0 Axes>"
      ]
     },
     "metadata": {},
     "output_type": "display_data"
    }
   ],
   "source": [
    "entrenamiento_and_report_simple(eardata,y,5,RandomForestClassifier)"
   ]
  },
  {
   "cell_type": "markdown",
   "id": "46237325",
   "metadata": {},
   "source": [
    "## SVM"
   ]
  },
  {
   "cell_type": "code",
   "execution_count": 138,
   "id": "96678afe",
   "metadata": {},
   "outputs": [
    {
     "name": "stdout",
     "output_type": "stream",
     "text": [
      "Classification report:\n",
      "              precision    recall  f1-score   support\n",
      "\n",
      "         0.0       1.00      1.00      1.00         9\n",
      "         1.0       1.00      1.00      1.00        11\n",
      "\n",
      "    accuracy                           1.00        20\n",
      "   macro avg       1.00      1.00      1.00        20\n",
      "weighted avg       1.00      1.00      1.00        20\n",
      "\n"
     ]
    },
    {
     "data": {
      "image/png": "[encoded data removed]",
      "text/plain": [
       "<Figure size 432x288 with 2 Axes>"
      ]
     },
     "metadata": {
      "needs_background": "light"
     },
     "output_type": "display_data"
    },
    {
     "data": {
      "text/plain": [
       "<Figure size 432x288 with 0 Axes>"
      ]
     },
     "metadata": {},
     "output_type": "display_data"
    }
   ],
   "source": [
    "entrenamiento_and_report_simple(eardata,y,5,svc)"
   ]
  },
  {
   "cell_type": "markdown",
   "id": "2582e3d2",
   "metadata": {},
   "source": [
    "## Red neuronal"
   ]
  },
  {
   "cell_type": "code",
   "execution_count": 139,
   "id": "f12fb413",
   "metadata": {},
   "outputs": [
    {
     "name": "stdout",
     "output_type": "stream",
     "text": [
      "Model: \"sequential_8\"\n",
      "_________________________________________________________________\n",
      "Layer (type)                 Output Shape              Param #   \n",
      "=================================================================\n",
      "dense_24 (Dense)             (None, 16)                96        \n",
      "_________________________________________________________________\n",
      "dense_25 (Dense)             (None, 16)                272       \n",
      "_________________________________________________________________\n",
      "dense_26 (Dense)             (None, 1)                 17        \n",
      "=================================================================\n",
      "Total params: 385\n",
      "Trainable params: 385\n",
      "Non-trainable params: 0\n",
      "_________________________________________________________________\n",
      "WARNING:tensorflow:9 out of the last 11 calls to <function Model.make_predict_function.<locals>.predict_function at 0x000001E9B56CB550> triggered tf.function retracing. Tracing is expensive and the excessive number of tracings could be due to (1) creating @tf.function repeatedly in a loop, (2) passing tensors with different shapes, (3) passing Python objects instead of tensors. For (1), please define your @tf.function outside of the loop. For (2), @tf.function has experimental_relax_shapes=True option that relaxes argument shapes that can avoid unnecessary retracing. For (3), please refer to https://www.tensorflow.org/guide/function#controlling_retracing and https://www.tensorflow.org/api_docs/python/tf/function for  more details.\n",
      "[0, 0, 0, 0]\n",
      "Classification report:\n",
      "              precision    recall  f1-score   support\n",
      "\n",
      "         0.0       1.00      0.50      0.67         4\n",
      "         1.0       0.00      0.00      0.00         0\n",
      "\n",
      "    accuracy                           0.50         4\n",
      "   macro avg       0.50      0.25      0.33         4\n",
      "weighted avg       1.00      0.50      0.67         4\n",
      "\n"
     ]
    },
    {
     "data": {
      "image/png": "[encoded data removed]",
      "text/plain": [
       "<Figure size 432x288 with 2 Axes>"
      ]
     },
     "metadata": {
      "needs_background": "light"
     },
     "output_type": "display_data"
    },
    {
     "data": {
      "text/plain": [
       "<Figure size 432x288 with 0 Axes>"
      ]
     },
     "metadata": {},
     "output_type": "display_data"
    }
   ],
   "source": [
    "import tensorflow as tf\n",
    "from numpy import argmax\n",
    "from keras.utils.np_utils import to_categorical\n",
    "from keras.models import Sequential\n",
    "from keras import layers\n",
    "\n",
    "max_features = eardata.shape[1]\n",
    "\n",
    "model = Sequential()\n",
    "model.add(layers.Dense(16, activation='relu', input_shape=(max_features,)))\n",
    "model.add(layers.Dense(16, activation='relu'))\n",
    "model.add(layers.Dense(1, activation='sigmoid'))\n",
    "model.summary()\n",
    "model.compile(loss='binary_crossentropy', # Cross-entropy\n",
    "                    optimizer='rmsprop', # Root Mean Square Propagation\n",
    "                    metrics=['accuracy'])\n",
    "\n",
    "\n",
    "X_train, X_Test, y_train, y_test = train_test_split(eardata,y, test_size = 0.2,random_state=42)\n",
    "model.fit(X_train,\n",
    "          y_train,batch_size=512,\n",
    "          epochs=200,\n",
    "          verbose=0,\n",
    "          validation_split=0.2)\n",
    "\n",
    "\n",
    "predict_list=model.predict(X_Test)\n",
    "objetivo = argmax(predict_list, axis=-1).astype('int')\n",
    "y_classes = [np.argmax(y, axis=None, out=None) for y in predict_list]\n",
    "print(y_classes)\n",
    "\n",
    "\n",
    "\n",
    "matriz_confusion = confusion_matrix(y_test, objetivo)\n",
    "heatmap(matriz_confusion, annot=True, fmt=\"g\",cmap=\"YlGnBu\", yticklabels=[\"Healthy\", \"Diabetes tipo 2\"] ,xticklabels=[\"Healthy\", \"Diabetes tipo 2\"])\n",
    "plt.title(\"Confusion matrix\")\n",
    "plt.xlabel(\"Predicted\")\n",
    "plt.ylabel(\"Expected\")\n",
    "plt.figure()\n",
    "print(f\"Classification report:\\n{classification_report(objetivo, y_test)}\")"
   ]
  },
  {
   "cell_type": "markdown",
   "id": "41e9f987",
   "metadata": {},
   "source": [
    "# Spectograma sin Filtro vancouver"
   ]
  },
  {
   "cell_type": "code",
   "execution_count": 140,
   "id": "02034f4c",
   "metadata": {},
   "outputs": [],
   "source": [
    "path_dataset = 'archive/earLobe.csv'\n",
    "eardata = pd.read_csv(path_dataset)\n",
    "eardata = ear.iloc[0:]\n",
    "y = eardata['has_DM2']\n",
    "eardata = eardata.drop('patientID', axis=1)\n",
    "eardata = eardata.drop('has_DM2', axis=1)"
   ]
  },
  {
   "cell_type": "markdown",
   "id": "7b791cc4",
   "metadata": {},
   "source": [
    "## XGBClassifier"
   ]
  },
  {
   "cell_type": "code",
   "execution_count": 141,
   "id": "cee3a176",
   "metadata": {},
   "outputs": [
    {
     "name": "stdout",
     "output_type": "stream",
     "text": [
      "[21:33:51] WARNING: C:/Users/Administrator/workspace/xgboost-win64_release_1.4.0/src/learner.cc:1095: Starting in XGBoost 1.3.0, the default evaluation metric used with the objective 'binary:logistic' was changed from 'error' to 'logloss'. Explicitly set eval_metric if you'd like to restore the old behavior.\n",
      "[21:33:56] WARNING: C:/Users/Administrator/workspace/xgboost-win64_release_1.4.0/src/learner.cc:1095: Starting in XGBoost 1.3.0, the default evaluation metric used with the objective 'binary:logistic' was changed from 'error' to 'logloss'. Explicitly set eval_metric if you'd like to restore the old behavior.\n",
      "[21:34:00] WARNING: C:/Users/Administrator/workspace/xgboost-win64_release_1.4.0/src/learner.cc:1095: Starting in XGBoost 1.3.0, the default evaluation metric used with the objective 'binary:logistic' was changed from 'error' to 'logloss'. Explicitly set eval_metric if you'd like to restore the old behavior.\n",
      "[21:34:06] WARNING: C:/Users/Administrator/workspace/xgboost-win64_release_1.4.0/src/learner.cc:1095: Starting in XGBoost 1.3.0, the default evaluation metric used with the objective 'binary:logistic' was changed from 'error' to 'logloss'. Explicitly set eval_metric if you'd like to restore the old behavior.\n",
      "[21:34:11] WARNING: C:/Users/Administrator/workspace/xgboost-win64_release_1.4.0/src/learner.cc:1095: Starting in XGBoost 1.3.0, the default evaluation metric used with the objective 'binary:logistic' was changed from 'error' to 'logloss'. Explicitly set eval_metric if you'd like to restore the old behavior.\n",
      "Classification report:\n",
      "              precision    recall  f1-score   support\n",
      "\n",
      "         0.0       0.44      0.50      0.47         8\n",
      "         1.0       0.64      0.58      0.61        12\n",
      "\n",
      "    accuracy                           0.55        20\n",
      "   macro avg       0.54      0.54      0.54        20\n",
      "weighted avg       0.56      0.55      0.55        20\n",
      "\n"
     ]
    },
    {
     "data": {
      "image/png": "[encoded data removed]",
      "text/plain": [
       "<Figure size 432x288 with 2 Axes>"
      ]
     },
     "metadata": {
      "needs_background": "light"
     },
     "output_type": "display_data"
    },
    {
     "data": {
      "text/plain": [
       "<Figure size 432x288 with 0 Axes>"
      ]
     },
     "metadata": {},
     "output_type": "display_data"
    }
   ],
   "source": [
    "entrenamiento_and_report_simple(eardata,y,5,XGBClassifier)"
   ]
  },
  {
   "cell_type": "markdown",
   "id": "41205f7d",
   "metadata": {},
   "source": [
    "## Adabost"
   ]
  },
  {
   "cell_type": "code",
   "execution_count": 142,
   "id": "b12aaefc",
   "metadata": {},
   "outputs": [
    {
     "name": "stdout",
     "output_type": "stream",
     "text": [
      "Classification report:\n",
      "              precision    recall  f1-score   support\n",
      "\n",
      "         0.0       0.44      0.44      0.44         9\n",
      "         1.0       0.55      0.55      0.55        11\n",
      "\n",
      "    accuracy                           0.50        20\n",
      "   macro avg       0.49      0.49      0.49        20\n",
      "weighted avg       0.50      0.50      0.50        20\n",
      "\n"
     ]
    },
    {
     "data": {
      "image/png": "[encoded data removed]",
      "text/plain": [
       "<Figure size 432x288 with 2 Axes>"
      ]
     },
     "metadata": {
      "needs_background": "light"
     },
     "output_type": "display_data"
    },
    {
     "data": {
      "text/plain": [
       "<Figure size 432x288 with 0 Axes>"
      ]
     },
     "metadata": {},
     "output_type": "display_data"
    }
   ],
   "source": [
    "entrenamiento_and_report_simple(eardata,y,5,ada_clf)"
   ]
  },
  {
   "cell_type": "markdown",
   "id": "b49d94b9",
   "metadata": {},
   "source": [
    "## Random Forest"
   ]
  },
  {
   "cell_type": "code",
   "execution_count": 143,
   "id": "dbef18ae",
   "metadata": {},
   "outputs": [
    {
     "name": "stdout",
     "output_type": "stream",
     "text": [
      "Classification report:\n",
      "              precision    recall  f1-score   support\n",
      "\n",
      "         0.0       0.56      0.56      0.56         9\n",
      "         1.0       0.64      0.64      0.64        11\n",
      "\n",
      "    accuracy                           0.60        20\n",
      "   macro avg       0.60      0.60      0.60        20\n",
      "weighted avg       0.60      0.60      0.60        20\n",
      "\n"
     ]
    },
    {
     "data": {
      "image/png": "[encoded data removed]",
      "text/plain": [
       "<Figure size 432x288 with 2 Axes>"
      ]
     },
     "metadata": {
      "needs_background": "light"
     },
     "output_type": "display_data"
    },
    {
     "data": {
      "text/plain": [
       "<Figure size 432x288 with 0 Axes>"
      ]
     },
     "metadata": {},
     "output_type": "display_data"
    }
   ],
   "source": [
    "entrenamiento_and_report_simple(eardata,y,5,RandomForestClassifier)"
   ]
  },
  {
   "cell_type": "markdown",
   "id": "155a8b05",
   "metadata": {},
   "source": [
    "## SVM"
   ]
  },
  {
   "cell_type": "code",
   "execution_count": 144,
   "id": "3d360306",
   "metadata": {},
   "outputs": [
    {
     "name": "stdout",
     "output_type": "stream",
     "text": [
      "Classification report:\n",
      "              precision    recall  f1-score   support\n",
      "\n",
      "         0.0       0.11      0.33      0.17         3\n",
      "         1.0       0.82      0.53      0.64        17\n",
      "\n",
      "    accuracy                           0.50        20\n",
      "   macro avg       0.46      0.43      0.40        20\n",
      "weighted avg       0.71      0.50      0.57        20\n",
      "\n"
     ]
    },
    {
     "data": {
      "image/png": "[encoded data removed]",
      "text/plain": [
       "<Figure size 432x288 with 2 Axes>"
      ]
     },
     "metadata": {
      "needs_background": "light"
     },
     "output_type": "display_data"
    },
    {
     "data": {
      "text/plain": [
       "<Figure size 432x288 with 0 Axes>"
      ]
     },
     "metadata": {},
     "output_type": "display_data"
    }
   ],
   "source": [
    "entrenamiento_and_report_simple(eardata,y,5,svc)"
   ]
  },
  {
   "cell_type": "markdown",
   "id": "a9d2f6ac",
   "metadata": {},
   "source": [
    "## Red neuronal"
   ]
  },
  {
   "cell_type": "code",
   "execution_count": 145,
   "id": "0c3c1227",
   "metadata": {},
   "outputs": [
    {
     "name": "stdout",
     "output_type": "stream",
     "text": [
      "Model: \"sequential_9\"\n",
      "_________________________________________________________________\n",
      "Layer (type)                 Output Shape              Param #   \n",
      "=================================================================\n",
      "dense_27 (Dense)             (None, 16)                50576     \n",
      "_________________________________________________________________\n",
      "dense_28 (Dense)             (None, 16)                272       \n",
      "_________________________________________________________________\n",
      "dense_29 (Dense)             (None, 1)                 17        \n",
      "=================================================================\n",
      "Total params: 50,865\n",
      "Trainable params: 50,865\n",
      "Non-trainable params: 0\n",
      "_________________________________________________________________\n",
      "WARNING:tensorflow:10 out of the last 12 calls to <function Model.make_predict_function.<locals>.predict_function at 0x000001E9B94EB670> triggered tf.function retracing. Tracing is expensive and the excessive number of tracings could be due to (1) creating @tf.function repeatedly in a loop, (2) passing tensors with different shapes, (3) passing Python objects instead of tensors. For (1), please define your @tf.function outside of the loop. For (2), @tf.function has experimental_relax_shapes=True option that relaxes argument shapes that can avoid unnecessary retracing. For (3), please refer to https://www.tensorflow.org/guide/function#controlling_retracing and https://www.tensorflow.org/api_docs/python/tf/function for  more details.\n",
      "[0, 0, 0, 0]\n",
      "Classification report:\n",
      "              precision    recall  f1-score   support\n",
      "\n",
      "         0.0       1.00      0.50      0.67         4\n",
      "         1.0       0.00      0.00      0.00         0\n",
      "\n",
      "    accuracy                           0.50         4\n",
      "   macro avg       0.50      0.25      0.33         4\n",
      "weighted avg       1.00      0.50      0.67         4\n",
      "\n"
     ]
    },
    {
     "data": {
      "image/png": "[encoded data removed]",
      "text/plain": [
       "<Figure size 432x288 with 2 Axes>"
      ]
     },
     "metadata": {
      "needs_background": "light"
     },
     "output_type": "display_data"
    },
    {
     "data": {
      "text/plain": [
       "<Figure size 432x288 with 0 Axes>"
      ]
     },
     "metadata": {},
     "output_type": "display_data"
    }
   ],
   "source": [
    "import tensorflow as tf\n",
    "from numpy import argmax\n",
    "from keras.utils.np_utils import to_categorical\n",
    "from keras.models import Sequential\n",
    "from keras import layers\n",
    "\n",
    "max_features = eardata.shape[1]\n",
    "\n",
    "model = Sequential()\n",
    "model.add(layers.Dense(16, activation='relu', input_shape=(max_features,)))\n",
    "model.add(layers.Dense(16, activation='relu'))\n",
    "model.add(layers.Dense(1, activation='sigmoid'))\n",
    "model.summary()\n",
    "model.compile(loss='binary_crossentropy', # Cross-entropy\n",
    "                    optimizer='rmsprop', # Root Mean Square Propagation\n",
    "                    metrics=['accuracy'])\n",
    "\n",
    "X_train, X_Test, y_train, y_test = train_test_split(eardata,y, test_size = 0.2,random_state=42)\n",
    "model.fit(X_train,\n",
    "          y_train,batch_size=512,\n",
    "          epochs=200,\n",
    "          verbose=0,\n",
    "          validation_split=0.2)\n",
    "\n",
    "\n",
    "predict_list=model.predict(X_Test)\n",
    "objetivo = argmax(predict_list, axis=-1).astype('int')\n",
    "y_classes = [np.argmax(y, axis=None, out=None) for y in predict_list]\n",
    "print(y_classes)\n",
    "\n",
    "\n",
    "\n",
    "matriz_confusion = confusion_matrix(y_test, objetivo)\n",
    "heatmap(matriz_confusion, annot=True, fmt=\"g\",cmap=\"YlGnBu\", yticklabels=[\"Healthy\", \"Diabetes tipo 2\"] ,xticklabels=[\"Healthy\", \"Diabetes tipo 2\"])\n",
    "plt.title(\"Confusion matrix\")\n",
    "plt.xlabel(\"Predicted\")\n",
    "plt.ylabel(\"Expected\")\n",
    "plt.figure()\n",
    "print(f\"Classification report:\\n{classification_report(objetivo, y_test)}\")"
   ]
  },
  {
   "cell_type": "markdown",
   "id": "b4d7477e",
   "metadata": {},
   "source": [
    "# Spectograma sin Filtro vancouver con PCA"
   ]
  },
  {
   "cell_type": "code",
   "execution_count": 146,
   "id": "b735f71e",
   "metadata": {},
   "outputs": [
    {
     "name": "stdout",
     "output_type": "stream",
     "text": [
      "shape of X_pca (20, 5)\n",
      "[0.77687972 0.17437493 0.01292235 0.00880072 0.00340806]\n",
      "suma: 0.9763857840665575\n",
      "shape of X_pca (20, 5)\n",
      "[0.77687972 0.17437493 0.01292235 0.00880072 0.00340806]\n",
      "suma: 0.9763857840665575\n"
     ]
    },
    {
     "data": {
      "image/png": "[encoded data removed]",
      "text/plain": [
       "<Figure size 432x288 with 1 Axes>"
      ]
     },
     "metadata": {
      "needs_background": "light"
     },
     "output_type": "display_data"
    }
   ],
   "source": [
    "eardata = PCA_conversion(eardata,5,\"Ear\")"
   ]
  },
  {
   "cell_type": "markdown",
   "id": "3a287baf",
   "metadata": {},
   "source": [
    "## XGBClassifier"
   ]
  },
  {
   "cell_type": "code",
   "execution_count": 147,
   "id": "8b9524dd",
   "metadata": {},
   "outputs": [
    {
     "name": "stdout",
     "output_type": "stream",
     "text": [
      "[21:34:23] WARNING: C:/Users/Administrator/workspace/xgboost-win64_release_1.4.0/src/learner.cc:1095: Starting in XGBoost 1.3.0, the default evaluation metric used with the objective 'binary:logistic' was changed from 'error' to 'logloss'. Explicitly set eval_metric if you'd like to restore the old behavior.\n",
      "[21:34:24] WARNING: C:/Users/Administrator/workspace/xgboost-win64_release_1.4.0/src/learner.cc:1095: Starting in XGBoost 1.3.0, the default evaluation metric used with the objective 'binary:logistic' was changed from 'error' to 'logloss'. Explicitly set eval_metric if you'd like to restore the old behavior.\n",
      "[21:34:24] WARNING: C:/Users/Administrator/workspace/xgboost-win64_release_1.4.0/src/learner.cc:1095: Starting in XGBoost 1.3.0, the default evaluation metric used with the objective 'binary:logistic' was changed from 'error' to 'logloss'. Explicitly set eval_metric if you'd like to restore the old behavior.\n",
      "[21:34:24] WARNING: C:/Users/Administrator/workspace/xgboost-win64_release_1.4.0/src/learner.cc:1095: Starting in XGBoost 1.3.0, the default evaluation metric used with the objective 'binary:logistic' was changed from 'error' to 'logloss'. Explicitly set eval_metric if you'd like to restore the old behavior.\n",
      "[21:34:24] WARNING: C:/Users/Administrator/workspace/xgboost-win64_release_1.4.0/src/learner.cc:1095: Starting in XGBoost 1.3.0, the default evaluation metric used with the objective 'binary:logistic' was changed from 'error' to 'logloss'. Explicitly set eval_metric if you'd like to restore the old behavior.\n",
      "Classification report:\n",
      "              precision    recall  f1-score   support\n",
      "\n",
      "         0.0       0.44      0.44      0.44         9\n",
      "         1.0       0.55      0.55      0.55        11\n",
      "\n",
      "    accuracy                           0.50        20\n",
      "   macro avg       0.49      0.49      0.49        20\n",
      "weighted avg       0.50      0.50      0.50        20\n",
      "\n"
     ]
    },
    {
     "data": {
      "image/png": "[encoded data removed]",
      "text/plain": [
       "<Figure size 432x288 with 2 Axes>"
      ]
     },
     "metadata": {
      "needs_background": "light"
     },
     "output_type": "display_data"
    },
    {
     "data": {
      "text/plain": [
       "<Figure size 432x288 with 0 Axes>"
      ]
     },
     "metadata": {},
     "output_type": "display_data"
    }
   ],
   "source": [
    "entrenamiento_and_report_simple(eardata,y,5,XGBClassifier)"
   ]
  },
  {
   "cell_type": "markdown",
   "id": "a8e3987f",
   "metadata": {},
   "source": [
    "## Adabost"
   ]
  },
  {
   "cell_type": "code",
   "execution_count": 148,
   "id": "3bdf21da",
   "metadata": {},
   "outputs": [
    {
     "name": "stdout",
     "output_type": "stream",
     "text": [
      "Classification report:\n",
      "              precision    recall  f1-score   support\n",
      "\n",
      "         0.0       0.33      0.43      0.38         7\n",
      "         1.0       0.64      0.54      0.58        13\n",
      "\n",
      "    accuracy                           0.50        20\n",
      "   macro avg       0.48      0.48      0.48        20\n",
      "weighted avg       0.53      0.50      0.51        20\n",
      "\n"
     ]
    },
    {
     "data": {
      "image/png": "[encoded data removed]",
      "text/plain": [
       "<Figure size 432x288 with 2 Axes>"
      ]
     },
     "metadata": {
      "needs_background": "light"
     },
     "output_type": "display_data"
    },
    {
     "data": {
      "text/plain": [
       "<Figure size 432x288 with 0 Axes>"
      ]
     },
     "metadata": {},
     "output_type": "display_data"
    }
   ],
   "source": [
    "entrenamiento_and_report_simple(eardata,y,5,ada_clf)"
   ]
  },
  {
   "cell_type": "markdown",
   "id": "8ee74970",
   "metadata": {},
   "source": [
    "## Random Forest"
   ]
  },
  {
   "cell_type": "code",
   "execution_count": 149,
   "id": "622a27b0",
   "metadata": {},
   "outputs": [
    {
     "name": "stdout",
     "output_type": "stream",
     "text": [
      "Classification report:\n",
      "              precision    recall  f1-score   support\n",
      "\n",
      "         0.0       0.67      0.60      0.63        10\n",
      "         1.0       0.64      0.70      0.67        10\n",
      "\n",
      "    accuracy                           0.65        20\n",
      "   macro avg       0.65      0.65      0.65        20\n",
      "weighted avg       0.65      0.65      0.65        20\n",
      "\n"
     ]
    },
    {
     "data": {
      "image/png": "[encoded data removed]",
      "text/plain": [
       "<Figure size 432x288 with 2 Axes>"
      ]
     },
     "metadata": {
      "needs_background": "light"
     },
     "output_type": "display_data"
    },
    {
     "data": {
      "text/plain": [
       "<Figure size 432x288 with 0 Axes>"
      ]
     },
     "metadata": {},
     "output_type": "display_data"
    }
   ],
   "source": [
    "entrenamiento_and_report_simple(eardata,y,5,RandomForestClassifier)"
   ]
  },
  {
   "cell_type": "markdown",
   "id": "e7b511bb",
   "metadata": {},
   "source": [
    "## SVM"
   ]
  },
  {
   "cell_type": "code",
   "execution_count": 150,
   "id": "149261e3",
   "metadata": {},
   "outputs": [
    {
     "name": "stdout",
     "output_type": "stream",
     "text": [
      "Classification report:\n",
      "              precision    recall  f1-score   support\n",
      "\n",
      "         0.0       0.11      0.33      0.17         3\n",
      "         1.0       0.82      0.53      0.64        17\n",
      "\n",
      "    accuracy                           0.50        20\n",
      "   macro avg       0.46      0.43      0.40        20\n",
      "weighted avg       0.71      0.50      0.57        20\n",
      "\n"
     ]
    },
    {
     "data": {
      "image/png": "[encoded data removed]",
      "text/plain": [
       "<Figure size 432x288 with 2 Axes>"
      ]
     },
     "metadata": {
      "needs_background": "light"
     },
     "output_type": "display_data"
    },
    {
     "data": {
      "text/plain": [
       "<Figure size 432x288 with 0 Axes>"
      ]
     },
     "metadata": {},
     "output_type": "display_data"
    }
   ],
   "source": [
    "entrenamiento_and_report_simple(eardata,y,5,svc)"
   ]
  },
  {
   "cell_type": "markdown",
   "id": "1724c000",
   "metadata": {},
   "source": [
    "## Red neuronal"
   ]
  },
  {
   "cell_type": "code",
   "execution_count": 151,
   "id": "037c56fb",
   "metadata": {},
   "outputs": [
    {
     "name": "stdout",
     "output_type": "stream",
     "text": [
      "Model: \"sequential_10\"\n",
      "_________________________________________________________________\n",
      "Layer (type)                 Output Shape              Param #   \n",
      "=================================================================\n",
      "dense_30 (Dense)             (None, 16)                96        \n",
      "_________________________________________________________________\n",
      "dense_31 (Dense)             (None, 16)                272       \n",
      "_________________________________________________________________\n",
      "dense_32 (Dense)             (None, 1)                 17        \n",
      "=================================================================\n",
      "Total params: 385\n",
      "Trainable params: 385\n",
      "Non-trainable params: 0\n",
      "_________________________________________________________________\n",
      "WARNING:tensorflow:10 out of the last 11 calls to <function Model.make_predict_function.<locals>.predict_function at 0x000001E9B919D9D0> triggered tf.function retracing. Tracing is expensive and the excessive number of tracings could be due to (1) creating @tf.function repeatedly in a loop, (2) passing tensors with different shapes, (3) passing Python objects instead of tensors. For (1), please define your @tf.function outside of the loop. For (2), @tf.function has experimental_relax_shapes=True option that relaxes argument shapes that can avoid unnecessary retracing. For (3), please refer to https://www.tensorflow.org/guide/function#controlling_retracing and https://www.tensorflow.org/api_docs/python/tf/function for  more details.\n",
      "[0, 0, 0, 0]\n",
      "Classification report:\n",
      "              precision    recall  f1-score   support\n",
      "\n",
      "         0.0       1.00      0.50      0.67         4\n",
      "         1.0       0.00      0.00      0.00         0\n",
      "\n",
      "    accuracy                           0.50         4\n",
      "   macro avg       0.50      0.25      0.33         4\n",
      "weighted avg       1.00      0.50      0.67         4\n",
      "\n"
     ]
    },
    {
     "data": {
      "image/png": "[encoded data removed]",
      "text/plain": [
       "<Figure size 432x288 with 2 Axes>"
      ]
     },
     "metadata": {
      "needs_background": "light"
     },
     "output_type": "display_data"
    },
    {
     "data": {
      "text/plain": [
       "<Figure size 432x288 with 0 Axes>"
      ]
     },
     "metadata": {},
     "output_type": "display_data"
    }
   ],
   "source": [
    "import tensorflow as tf\n",
    "from numpy import argmax\n",
    "from keras.utils.np_utils import to_categorical\n",
    "from keras.models import Sequential\n",
    "from keras import layers\n",
    "\n",
    "max_features = eardata.shape[1]\n",
    "\n",
    "model = Sequential()\n",
    "model.add(layers.Dense(16, activation='relu', input_shape=(max_features,)))\n",
    "model.add(layers.Dense(16, activation='relu'))\n",
    "model.add(layers.Dense(1, activation='sigmoid'))\n",
    "model.summary()\n",
    "model.compile(loss='binary_crossentropy', # Cross-entropy\n",
    "                    optimizer='rmsprop', # Root Mean Square Propagation\n",
    "                    metrics=['accuracy'])\n",
    "\n",
    "X_train, X_Test, y_train, y_test = train_test_split(eardata,y, test_size = 0.2,random_state=42)\n",
    "model.fit(X_train,\n",
    "          y_train,batch_size=512,\n",
    "          epochs=200,\n",
    "          verbose=0,\n",
    "          validation_split=0.2)\n",
    "\n",
    "\n",
    "predict_list=model.predict(X_Test)\n",
    "objetivo = argmax(predict_list, axis=-1).astype('int')\n",
    "y_classes = [np.argmax(y, axis=None, out=None) for y in predict_list]\n",
    "print(y_classes)\n",
    "\n",
    "\n",
    "\n",
    "matriz_confusion = confusion_matrix(y_test, objetivo)\n",
    "heatmap(matriz_confusion, annot=True, fmt=\"g\",cmap=\"YlGnBu\", yticklabels=[\"Healthy\", \"Diabetes tipo 2\"] ,xticklabels=[\"Healthy\", \"Diabetes tipo 2\"])\n",
    "plt.title(\"Confusion matrix\")\n",
    "plt.xlabel(\"Predicted\")\n",
    "plt.ylabel(\"Expected\")\n",
    "plt.figure()\n",
    "print(f\"Classification report:\\n{classification_report(objetivo, y_test)}\")"
   ]
  },
  {
   "cell_type": "markdown",
   "id": "54c4be3e",
   "metadata": {},
   "source": [
    "# Spectograma recortado sin Filtro vancouver  "
   ]
  },
  {
   "cell_type": "code",
   "execution_count": 152,
   "id": "1b8f6528",
   "metadata": {},
   "outputs": [],
   "source": [
    "path_dataset = 'archive/earLobe.csv'\n",
    "eardata = pd.read_csv(path_dataset)\n",
    "eardata = ear.iloc[0:]\n",
    "y = eardata['has_DM2']\n",
    "eardata = eardata.drop('patientID', axis=1)\n",
    "eardata = eardata.drop('has_DM2', axis=1)\n",
    "eardata = eardata.iloc[: , 800:]\n",
    "eardata = eardata.iloc[: , :1000]"
   ]
  },
  {
   "cell_type": "markdown",
   "id": "09cda2a6",
   "metadata": {},
   "source": [
    "## XGBClassifier"
   ]
  },
  {
   "cell_type": "code",
   "execution_count": 153,
   "id": "eb8047d9",
   "metadata": {},
   "outputs": [
    {
     "name": "stdout",
     "output_type": "stream",
     "text": [
      "[21:34:31] WARNING: C:/Users/Administrator/workspace/xgboost-win64_release_1.4.0/src/learner.cc:1095: Starting in XGBoost 1.3.0, the default evaluation metric used with the objective 'binary:logistic' was changed from 'error' to 'logloss'. Explicitly set eval_metric if you'd like to restore the old behavior.\n",
      "[21:34:33] WARNING: C:/Users/Administrator/workspace/xgboost-win64_release_1.4.0/src/learner.cc:1095: Starting in XGBoost 1.3.0, the default evaluation metric used with the objective 'binary:logistic' was changed from 'error' to 'logloss'. Explicitly set eval_metric if you'd like to restore the old behavior.\n",
      "[21:34:34] WARNING: C:/Users/Administrator/workspace/xgboost-win64_release_1.4.0/src/learner.cc:1095: Starting in XGBoost 1.3.0, the default evaluation metric used with the objective 'binary:logistic' was changed from 'error' to 'logloss'. Explicitly set eval_metric if you'd like to restore the old behavior.\n",
      "[21:34:36] WARNING: C:/Users/Administrator/workspace/xgboost-win64_release_1.4.0/src/learner.cc:1095: Starting in XGBoost 1.3.0, the default evaluation metric used with the objective 'binary:logistic' was changed from 'error' to 'logloss'. Explicitly set eval_metric if you'd like to restore the old behavior.\n",
      "[21:34:37] WARNING: C:/Users/Administrator/workspace/xgboost-win64_release_1.4.0/src/learner.cc:1095: Starting in XGBoost 1.3.0, the default evaluation metric used with the objective 'binary:logistic' was changed from 'error' to 'logloss'. Explicitly set eval_metric if you'd like to restore the old behavior.\n",
      "Classification report:\n",
      "              precision    recall  f1-score   support\n",
      "\n",
      "         0.0       0.22      0.25      0.24         8\n",
      "         1.0       0.45      0.42      0.43        12\n",
      "\n",
      "    accuracy                           0.35        20\n",
      "   macro avg       0.34      0.33      0.34        20\n",
      "weighted avg       0.36      0.35      0.35        20\n",
      "\n"
     ]
    },
    {
     "data": {
      "image/png": "[encoded data removed]",
      "text/plain": [
       "<Figure size 432x288 with 2 Axes>"
      ]
     },
     "metadata": {
      "needs_background": "light"
     },
     "output_type": "display_data"
    },
    {
     "data": {
      "text/plain": [
       "<Figure size 432x288 with 0 Axes>"
      ]
     },
     "metadata": {},
     "output_type": "display_data"
    }
   ],
   "source": [
    "entrenamiento_and_report_simple(eardata,y,5,XGBClassifier)"
   ]
  },
  {
   "cell_type": "markdown",
   "id": "703c04ec",
   "metadata": {},
   "source": [
    "## Adabost"
   ]
  },
  {
   "cell_type": "code",
   "execution_count": 154,
   "id": "a840e239",
   "metadata": {},
   "outputs": [
    {
     "name": "stdout",
     "output_type": "stream",
     "text": [
      "Classification report:\n",
      "              precision    recall  f1-score   support\n",
      "\n",
      "         0.0       0.44      0.57      0.50         7\n",
      "         1.0       0.73      0.62      0.67        13\n",
      "\n",
      "    accuracy                           0.60        20\n",
      "   macro avg       0.59      0.59      0.58        20\n",
      "weighted avg       0.63      0.60      0.61        20\n",
      "\n"
     ]
    },
    {
     "data": {
      "image/png": "[encoded data removed]",
      "text/plain": [
       "<Figure size 432x288 with 2 Axes>"
      ]
     },
     "metadata": {
      "needs_background": "light"
     },
     "output_type": "display_data"
    },
    {
     "data": {
      "text/plain": [
       "<Figure size 432x288 with 0 Axes>"
      ]
     },
     "metadata": {},
     "output_type": "display_data"
    }
   ],
   "source": [
    "entrenamiento_and_report_simple(eardata,y,5,ada_clf)"
   ]
  },
  {
   "cell_type": "markdown",
   "id": "0749a92c",
   "metadata": {},
   "source": [
    "## Random Forest"
   ]
  },
  {
   "cell_type": "code",
   "execution_count": 155,
   "id": "3d32ce55",
   "metadata": {},
   "outputs": [
    {
     "name": "stdout",
     "output_type": "stream",
     "text": [
      "Classification report:\n",
      "              precision    recall  f1-score   support\n",
      "\n",
      "         0.0       0.44      0.50      0.47         8\n",
      "         1.0       0.64      0.58      0.61        12\n",
      "\n",
      "    accuracy                           0.55        20\n",
      "   macro avg       0.54      0.54      0.54        20\n",
      "weighted avg       0.56      0.55      0.55        20\n",
      "\n"
     ]
    },
    {
     "data": {
      "image/png": "[encoded data removed]",
      "text/plain": [
       "<Figure size 432x288 with 2 Axes>"
      ]
     },
     "metadata": {
      "needs_background": "light"
     },
     "output_type": "display_data"
    },
    {
     "data": {
      "text/plain": [
       "<Figure size 432x288 with 0 Axes>"
      ]
     },
     "metadata": {},
     "output_type": "display_data"
    }
   ],
   "source": [
    "entrenamiento_and_report_simple(eardata,y,5,RandomForestClassifier)"
   ]
  },
  {
   "cell_type": "markdown",
   "id": "920e5272",
   "metadata": {},
   "source": [
    "## SVM"
   ]
  },
  {
   "cell_type": "code",
   "execution_count": 156,
   "id": "d5bf331d",
   "metadata": {},
   "outputs": [
    {
     "name": "stdout",
     "output_type": "stream",
     "text": [
      "Classification report:\n",
      "              precision    recall  f1-score   support\n",
      "\n",
      "         0.0       0.11      1.00      0.20         1\n",
      "         1.0       1.00      0.58      0.73        19\n",
      "\n",
      "    accuracy                           0.60        20\n",
      "   macro avg       0.56      0.79      0.47        20\n",
      "weighted avg       0.96      0.60      0.71        20\n",
      "\n"
     ]
    },
    {
     "data": {
      "image/png": "[encoded data removed]",
      "text/plain": [
       "<Figure size 432x288 with 2 Axes>"
      ]
     },
     "metadata": {
      "needs_background": "light"
     },
     "output_type": "display_data"
    },
    {
     "data": {
      "text/plain": [
       "<Figure size 432x288 with 0 Axes>"
      ]
     },
     "metadata": {},
     "output_type": "display_data"
    }
   ],
   "source": [
    "entrenamiento_and_report_simple(eardata,y,5,svc)"
   ]
  },
  {
   "cell_type": "markdown",
   "id": "ef08fdb0",
   "metadata": {},
   "source": [
    "## Red neuronal"
   ]
  },
  {
   "cell_type": "code",
   "execution_count": 157,
   "id": "10ede2ff",
   "metadata": {},
   "outputs": [
    {
     "name": "stdout",
     "output_type": "stream",
     "text": [
      "Model: \"sequential_11\"\n",
      "_________________________________________________________________\n",
      "Layer (type)                 Output Shape              Param #   \n",
      "=================================================================\n",
      "dense_33 (Dense)             (None, 16)                16016     \n",
      "_________________________________________________________________\n",
      "dense_34 (Dense)             (None, 16)                272       \n",
      "_________________________________________________________________\n",
      "dense_35 (Dense)             (None, 1)                 17        \n",
      "=================================================================\n",
      "Total params: 16,305\n",
      "Trainable params: 16,305\n",
      "Non-trainable params: 0\n",
      "_________________________________________________________________\n",
      "WARNING:tensorflow:11 out of the last 12 calls to <function Model.make_predict_function.<locals>.predict_function at 0x000001E9B7F67CA0> triggered tf.function retracing. Tracing is expensive and the excessive number of tracings could be due to (1) creating @tf.function repeatedly in a loop, (2) passing tensors with different shapes, (3) passing Python objects instead of tensors. For (1), please define your @tf.function outside of the loop. For (2), @tf.function has experimental_relax_shapes=True option that relaxes argument shapes that can avoid unnecessary retracing. For (3), please refer to https://www.tensorflow.org/guide/function#controlling_retracing and https://www.tensorflow.org/api_docs/python/tf/function for  more details.\n",
      "[0, 0, 0, 0]\n",
      "Classification report:\n",
      "              precision    recall  f1-score   support\n",
      "\n",
      "         0.0       1.00      0.50      0.67         4\n",
      "         1.0       0.00      0.00      0.00         0\n",
      "\n",
      "    accuracy                           0.50         4\n",
      "   macro avg       0.50      0.25      0.33         4\n",
      "weighted avg       1.00      0.50      0.67         4\n",
      "\n"
     ]
    },
    {
     "data": {
      "image/png": "[encoded data removed]",
      "text/plain": [
       "<Figure size 432x288 with 2 Axes>"
      ]
     },
     "metadata": {
      "needs_background": "light"
     },
     "output_type": "display_data"
    },
    {
     "data": {
      "text/plain": [
       "<Figure size 432x288 with 0 Axes>"
      ]
     },
     "metadata": {},
     "output_type": "display_data"
    }
   ],
   "source": [
    "import tensorflow as tf\n",
    "from numpy import argmax\n",
    "from keras.utils.np_utils import to_categorical\n",
    "from keras.models import Sequential\n",
    "from keras import layers\n",
    "\n",
    "max_features = eardata.shape[1]\n",
    "\n",
    "model = Sequential()\n",
    "model.add(layers.Dense(16, activation='relu', input_shape=(max_features,)))\n",
    "model.add(layers.Dense(16, activation='relu'))\n",
    "model.add(layers.Dense(1, activation='sigmoid'))\n",
    "model.summary()\n",
    "model.compile(loss='binary_crossentropy', # Cross-entropy\n",
    "                    optimizer='rmsprop', # Root Mean Square Propagation\n",
    "                    metrics=['accuracy'])\n",
    "\n",
    "X_train, X_Test, y_train, y_test = train_test_split(eardata,y, test_size = 0.2,random_state=42)\n",
    "model.fit(X_train,\n",
    "          y_train,batch_size=512,\n",
    "          epochs=200,\n",
    "          verbose=0,\n",
    "          validation_split=0.2)\n",
    "\n",
    "\n",
    "predict_list=model.predict(X_Test)\n",
    "objetivo = argmax(predict_list, axis=-1).astype('int')\n",
    "y_classes = [np.argmax(y, axis=None, out=None) for y in predict_list]\n",
    "print(y_classes)\n",
    "\n",
    "\n",
    "\n",
    "matriz_confusion = confusion_matrix(y_test, objetivo)\n",
    "heatmap(matriz_confusion, annot=True, fmt=\"g\",cmap=\"YlGnBu\", yticklabels=[\"Healthy\", \"Diabetes tipo 2\"] ,xticklabels=[\"Healthy\", \"Diabetes tipo 2\"])\n",
    "plt.title(\"Confusion matrix\")\n",
    "plt.xlabel(\"Predicted\")\n",
    "plt.ylabel(\"Expected\")\n",
    "plt.figure()\n",
    "print(f\"Classification report:\\n{classification_report(objetivo, y_test)}\")"
   ]
  },
  {
   "cell_type": "markdown",
   "id": "82f1dfb4",
   "metadata": {},
   "source": [
    "# Spectograma recortado sin Filtro vancouver   con PCA"
   ]
  },
  {
   "cell_type": "code",
   "execution_count": 158,
   "id": "c77d0038",
   "metadata": {},
   "outputs": [
    {
     "name": "stdout",
     "output_type": "stream",
     "text": [
      "shape of X_pca (20, 5)\n",
      "[0.9585326  0.02189024 0.00662545 0.00312444 0.00177617]\n",
      "suma: 0.9919489084097732\n",
      "shape of X_pca (20, 5)\n",
      "[0.9585326  0.02189024 0.00662545 0.00312444 0.00177617]\n",
      "suma: 0.9919489084097732\n"
     ]
    },
    {
     "data": {
      "image/png": "[encoded data removed]",
      "text/plain": [
       "<Figure size 432x288 with 1 Axes>"
      ]
     },
     "metadata": {
      "needs_background": "light"
     },
     "output_type": "display_data"
    }
   ],
   "source": [
    "eardata = PCA_conversion(eardata,5,\"Ear\")"
   ]
  },
  {
   "cell_type": "markdown",
   "id": "c13648d2",
   "metadata": {},
   "source": [
    "## XGBClassifier"
   ]
  },
  {
   "cell_type": "code",
   "execution_count": 159,
   "id": "d685ee4f",
   "metadata": {},
   "outputs": [
    {
     "name": "stdout",
     "output_type": "stream",
     "text": [
      "[21:34:46] WARNING: C:/Users/Administrator/workspace/xgboost-win64_release_1.4.0/src/learner.cc:1095: Starting in XGBoost 1.3.0, the default evaluation metric used with the objective 'binary:logistic' was changed from 'error' to 'logloss'. Explicitly set eval_metric if you'd like to restore the old behavior.\n",
      "[21:34:46] WARNING: C:/Users/Administrator/workspace/xgboost-win64_release_1.4.0/src/learner.cc:1095: Starting in XGBoost 1.3.0, the default evaluation metric used with the objective 'binary:logistic' was changed from 'error' to 'logloss'. Explicitly set eval_metric if you'd like to restore the old behavior.\n",
      "[21:34:46] WARNING: C:/Users/Administrator/workspace/xgboost-win64_release_1.4.0/src/learner.cc:1095: Starting in XGBoost 1.3.0, the default evaluation metric used with the objective 'binary:logistic' was changed from 'error' to 'logloss'. Explicitly set eval_metric if you'd like to restore the old behavior.\n",
      "[21:34:46] WARNING: C:/Users/Administrator/workspace/xgboost-win64_release_1.4.0/src/learner.cc:1095: Starting in XGBoost 1.3.0, the default evaluation metric used with the objective 'binary:logistic' was changed from 'error' to 'logloss'. Explicitly set eval_metric if you'd like to restore the old behavior.\n",
      "[21:34:46] WARNING: C:/Users/Administrator/workspace/xgboost-win64_release_1.4.0/src/learner.cc:1095: Starting in XGBoost 1.3.0, the default evaluation metric used with the objective 'binary:logistic' was changed from 'error' to 'logloss'. Explicitly set eval_metric if you'd like to restore the old behavior.\n",
      "Classification report:\n",
      "              precision    recall  f1-score   support\n",
      "\n",
      "         0.0       0.56      0.56      0.56         9\n",
      "         1.0       0.64      0.64      0.64        11\n",
      "\n",
      "    accuracy                           0.60        20\n",
      "   macro avg       0.60      0.60      0.60        20\n",
      "weighted avg       0.60      0.60      0.60        20\n",
      "\n"
     ]
    },
    {
     "data": {
      "image/png": "[encoded data removed]",
      "text/plain": [
       "<Figure size 432x288 with 2 Axes>"
      ]
     },
     "metadata": {
      "needs_background": "light"
     },
     "output_type": "display_data"
    },
    {
     "data": {
      "text/plain": [
       "<Figure size 432x288 with 0 Axes>"
      ]
     },
     "metadata": {},
     "output_type": "display_data"
    }
   ],
   "source": [
    "entrenamiento_and_report_simple(eardata,y,5,XGBClassifier)"
   ]
  },
  {
   "cell_type": "markdown",
   "id": "d820b53c",
   "metadata": {},
   "source": [
    "## Adabost"
   ]
  },
  {
   "cell_type": "code",
   "execution_count": 160,
   "id": "5a3e864d",
   "metadata": {},
   "outputs": [
    {
     "name": "stdout",
     "output_type": "stream",
     "text": [
      "Classification report:\n",
      "              precision    recall  f1-score   support\n",
      "\n",
      "         0.0       0.56      0.71      0.63         7\n",
      "         1.0       0.82      0.69      0.75        13\n",
      "\n",
      "    accuracy                           0.70        20\n",
      "   macro avg       0.69      0.70      0.69        20\n",
      "weighted avg       0.73      0.70      0.71        20\n",
      "\n"
     ]
    },
    {
     "data": {
      "image/png": "[encoded data removed]",
      "text/plain": [
       "<Figure size 432x288 with 2 Axes>"
      ]
     },
     "metadata": {
      "needs_background": "light"
     },
     "output_type": "display_data"
    },
    {
     "data": {
      "text/plain": [
       "<Figure size 432x288 with 0 Axes>"
      ]
     },
     "metadata": {},
     "output_type": "display_data"
    }
   ],
   "source": [
    "entrenamiento_and_report_simple(eardata,y,5,ada_clf)"
   ]
  },
  {
   "cell_type": "markdown",
   "id": "fa696bed",
   "metadata": {},
   "source": [
    "## Random Forest"
   ]
  },
  {
   "cell_type": "code",
   "execution_count": 161,
   "id": "fb50d84e",
   "metadata": {},
   "outputs": [
    {
     "name": "stdout",
     "output_type": "stream",
     "text": [
      "Classification report:\n",
      "              precision    recall  f1-score   support\n",
      "\n",
      "         0.0       0.56      0.56      0.56         9\n",
      "         1.0       0.64      0.64      0.64        11\n",
      "\n",
      "    accuracy                           0.60        20\n",
      "   macro avg       0.60      0.60      0.60        20\n",
      "weighted avg       0.60      0.60      0.60        20\n",
      "\n"
     ]
    },
    {
     "data": {
      "image/png": "[encoded data removed]",
      "text/plain": [
       "<Figure size 432x288 with 2 Axes>"
      ]
     },
     "metadata": {
      "needs_background": "light"
     },
     "output_type": "display_data"
    },
    {
     "data": {
      "text/plain": [
       "<Figure size 432x288 with 0 Axes>"
      ]
     },
     "metadata": {},
     "output_type": "display_data"
    }
   ],
   "source": [
    "entrenamiento_and_report_simple(eardata,y,5,RandomForestClassifier)"
   ]
  },
  {
   "cell_type": "markdown",
   "id": "18af7ada",
   "metadata": {},
   "source": [
    "## SVM"
   ]
  },
  {
   "cell_type": "code",
   "execution_count": 162,
   "id": "435ffc0b",
   "metadata": {},
   "outputs": [
    {
     "name": "stdout",
     "output_type": "stream",
     "text": [
      "Classification report:\n",
      "              precision    recall  f1-score   support\n",
      "\n",
      "         0.0       0.00      0.00      0.00         0\n",
      "         1.0       1.00      0.55      0.71        20\n",
      "\n",
      "    accuracy                           0.55        20\n",
      "   macro avg       0.50      0.28      0.35        20\n",
      "weighted avg       1.00      0.55      0.71        20\n",
      "\n"
     ]
    },
    {
     "data": {
      "image/png": "[encoded data removed]",
      "text/plain": [
       "<Figure size 432x288 with 2 Axes>"
      ]
     },
     "metadata": {
      "needs_background": "light"
     },
     "output_type": "display_data"
    },
    {
     "data": {
      "text/plain": [
       "<Figure size 432x288 with 0 Axes>"
      ]
     },
     "metadata": {},
     "output_type": "display_data"
    }
   ],
   "source": [
    "entrenamiento_and_report_simple(eardata,y,5,svc)"
   ]
  },
  {
   "cell_type": "markdown",
   "id": "c1527927",
   "metadata": {},
   "source": [
    "## Red neuronal"
   ]
  },
  {
   "cell_type": "code",
   "execution_count": 163,
   "id": "5ef2af45",
   "metadata": {},
   "outputs": [
    {
     "name": "stdout",
     "output_type": "stream",
     "text": [
      "Model: \"sequential_12\"\n",
      "_________________________________________________________________\n",
      "Layer (type)                 Output Shape              Param #   \n",
      "=================================================================\n",
      "dense_36 (Dense)             (None, 16)                96        \n",
      "_________________________________________________________________\n",
      "dense_37 (Dense)             (None, 16)                272       \n",
      "_________________________________________________________________\n",
      "dense_38 (Dense)             (None, 1)                 17        \n",
      "=================================================================\n",
      "Total params: 385\n",
      "Trainable params: 385\n",
      "Non-trainable params: 0\n",
      "_________________________________________________________________\n",
      "WARNING:tensorflow:11 out of the last 11 calls to <function Model.make_predict_function.<locals>.predict_function at 0x000001E9B950F670> triggered tf.function retracing. Tracing is expensive and the excessive number of tracings could be due to (1) creating @tf.function repeatedly in a loop, (2) passing tensors with different shapes, (3) passing Python objects instead of tensors. For (1), please define your @tf.function outside of the loop. For (2), @tf.function has experimental_relax_shapes=True option that relaxes argument shapes that can avoid unnecessary retracing. For (3), please refer to https://www.tensorflow.org/guide/function#controlling_retracing and https://www.tensorflow.org/api_docs/python/tf/function for  more details.\n",
      "[0, 0, 0, 0]\n",
      "Classification report:\n",
      "              precision    recall  f1-score   support\n",
      "\n",
      "         0.0       1.00      0.50      0.67         4\n",
      "         1.0       0.00      0.00      0.00         0\n",
      "\n",
      "    accuracy                           0.50         4\n",
      "   macro avg       0.50      0.25      0.33         4\n",
      "weighted avg       1.00      0.50      0.67         4\n",
      "\n"
     ]
    },
    {
     "data": {
      "image/png": "[encoded data removed]",
      "text/plain": [
       "<Figure size 432x288 with 2 Axes>"
      ]
     },
     "metadata": {
      "needs_background": "light"
     },
     "output_type": "display_data"
    },
    {
     "data": {
      "text/plain": [
       "<Figure size 432x288 with 0 Axes>"
      ]
     },
     "metadata": {},
     "output_type": "display_data"
    }
   ],
   "source": [
    "import tensorflow as tf\n",
    "from numpy import argmax\n",
    "from keras.utils.np_utils import to_categorical\n",
    "from keras.models import Sequential\n",
    "from keras import layers\n",
    "\n",
    "max_features = eardata.shape[1]\n",
    "\n",
    "model = Sequential()\n",
    "model.add(layers.Dense(16, activation='relu', input_shape=(max_features,)))\n",
    "model.add(layers.Dense(16, activation='relu'))\n",
    "model.add(layers.Dense(1, activation='sigmoid'))\n",
    "model.summary()\n",
    "model.compile(loss='binary_crossentropy', # Cross-entropy\n",
    "                    optimizer='rmsprop', # Root Mean Square Propagation\n",
    "                    metrics=['accuracy'])\n",
    "\n",
    "X_train, X_Test, y_train, y_test = train_test_split(eardata,y, test_size = 0.2,random_state=42)\n",
    "model.fit(X_train,\n",
    "          y_train,batch_size=512,\n",
    "          epochs=200,\n",
    "          verbose=0,\n",
    "          validation_split=0.2)\n",
    "\n",
    "\n",
    "predict_list=model.predict(X_Test)\n",
    "objetivo = argmax(predict_list, axis=-1).astype('int')\n",
    "y_classes = [np.argmax(y, axis=None, out=None) for y in predict_list]\n",
    "print(y_classes)\n",
    "\n",
    "\n",
    "\n",
    "matriz_confusion = confusion_matrix(y_test, objetivo)\n",
    "heatmap(matriz_confusion, annot=True, fmt=\"g\",cmap=\"YlGnBu\", yticklabels=[\"Healthy\", \"Diabetes tipo 2\"] ,xticklabels=[\"Healthy\", \"Diabetes tipo 2\"])\n",
    "plt.title(\"Confusion matrix\")\n",
    "plt.xlabel(\"Predicted\")\n",
    "plt.ylabel(\"Expected\")\n",
    "plt.figure()\n",
    "print(f\"Classification report:\\n{classification_report(objetivo, y_test)}\")"
   ]
  },
  {
   "cell_type": "code",
   "execution_count": null,
   "id": "73812814",
   "metadata": {},
   "outputs": [],
   "source": []
  }
 ],
 "metadata": {
  "kernelspec": {
   "display_name": "Python 3",
   "language": "python",
   "name": "python3"
  },
  "language_info": {
   "codemirror_mode": {
    "name": "ipython",
    "version": 3
   },
   "file_extension": ".py",
   "mimetype": "text/x-python",
   "name": "python",
   "nbconvert_exporter": "python",
   "pygments_lexer": "ipython3",
   "version": "3.8.5"
  }
 },
 "nbformat": 4,
 "nbformat_minor": 5
}
